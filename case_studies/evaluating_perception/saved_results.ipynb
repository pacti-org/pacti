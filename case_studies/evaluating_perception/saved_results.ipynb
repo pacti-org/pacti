{
 "cells": [
  {
   "cell_type": "markdown",
   "id": "d2750f96",
   "metadata": {},
   "source": [
    "# Simulating saved results\n",
    "This Jupyter notebook describes the case study for the the autonomous systems case study."
   ]
  },
  {
   "cell_type": "code",
   "execution_count": 5,
   "id": "96976a93",
   "metadata": {},
   "outputs": [
    {
     "ename": "ModuleNotFoundError",
     "evalue": "No module named 'pacti.iocontract.utils'",
     "output_type": "error",
     "traceback": [
      "\u001b[0;31m---------------------------------------------------------------------------\u001b[0m",
      "\u001b[0;31mModuleNotFoundError\u001b[0m                       Traceback (most recent call last)",
      "Cell \u001b[0;32mIn[5], line 2\u001b[0m\n\u001b[1;32m      1\u001b[0m \u001b[38;5;66;03m# Import libraries\u001b[39;00m\n\u001b[0;32m----> 2\u001b[0m \u001b[38;5;28;01mfrom\u001b[39;00m \u001b[38;5;21;01mpacti\u001b[39;00m\u001b[38;5;21;01m.\u001b[39;00m\u001b[38;5;21;01miocontract\u001b[39;00m\u001b[38;5;21;01m.\u001b[39;00m\u001b[38;5;21;01mutils\u001b[39;00m \u001b[38;5;28;01mimport\u001b[39;00m getVarlist\n\u001b[1;32m      3\u001b[0m \u001b[38;5;28;01mfrom\u001b[39;00m \u001b[38;5;21;01mPIL\u001b[39;00m \u001b[38;5;28;01mimport\u001b[39;00m Image\n\u001b[1;32m      4\u001b[0m \u001b[38;5;28;01mfrom\u001b[39;00m \u001b[38;5;21;01mpacti\u001b[39;00m\u001b[38;5;21;01m.\u001b[39;00m\u001b[38;5;21;01mterms\u001b[39;00m\u001b[38;5;21;01m.\u001b[39;00m\u001b[38;5;21;01mpolyhedra\u001b[39;00m \u001b[38;5;28;01mimport\u001b[39;00m PolyhedralContract\n",
      "\u001b[0;31mModuleNotFoundError\u001b[0m: No module named 'pacti.iocontract.utils'"
     ]
    }
   ],
   "source": [
    "# Import libraries\n",
    "from pacti.iocontract.utils import getVarlist\n",
    "from PIL import Image\n",
    "from pacti.terms.polyhedra import PolyhedralContract\n",
    "import pdb\n",
    "import random\n",
    "import pickle as pkl\n",
    "import numpy as np\n",
    "import collections\n",
    "from IPython.display import display, Image\n",
    "from IPython.display import Latex\n",
    "import matplotlib.pyplot as plt\n",
    "import matplotlib.image as mpimg"
   ]
  },
  {
   "cell_type": "markdown",
   "id": "d5aac64b",
   "metadata": {},
   "source": [
    "## Part 1: Example"
   ]
  },
  {
   "cell_type": "markdown",
   "id": "804c97c7",
   "metadata": {},
   "source": [
    "In this case study, we illustrate constructing lower bounds for elements of the confusion matrix. Consider the car pedestrian example examined in this case study. For the purposes of this jupyter notebook, the pedestrian is located 4 cells away from the car, which is starting at cell $C_1$ with an initial speed of 1 cell/step and a maximum possible speed of 2 cells/step."
   ]
  },
  {
   "cell_type": "code",
   "execution_count": 6,
   "id": "eb702061",
   "metadata": {},
   "outputs": [
    {
     "ename": "NameError",
     "evalue": "name 'Image' is not defined",
     "output_type": "error",
     "traceback": [
      "\u001b[0;31m---------------------------------------------------------------------------\u001b[0m",
      "\u001b[0;31mNameError\u001b[0m                                 Traceback (most recent call last)",
      "Cell \u001b[0;32mIn[6], line 1\u001b[0m\n\u001b[0;32m----> 1\u001b[0m \u001b[43mImage\u001b[49m(\u001b[38;5;124m\"\u001b[39m\u001b[38;5;124mimglib/autonomy-stack.png\u001b[39m\u001b[38;5;124m\"\u001b[39m)\n",
      "\u001b[0;31mNameError\u001b[0m: name 'Image' is not defined"
     ]
    }
   ],
   "source": [
    "Image(\"imglib/autonomy-stack.png\")"
   ]
  },
  {
   "cell_type": "markdown",
   "id": "994a7541",
   "metadata": {},
   "source": [
    "## Part 2: Getting probability points for ped, obj, empty:"
   ]
  },
  {
   "cell_type": "markdown",
   "id": "3a5080f5",
   "metadata": {},
   "source": [
    "Now, we illustrate the construction of controller contracts for the specific car pedestrain example given above. Suppose $c$ is the object class of the true environment. Since the probability of satisfaction of formula $\\varphi_c$ is a nonlinear function of the elements of the confusion matrix, we compute an affine lower bound of this function via sampling. For each true positive rate, $\\mathtt{TP}_{c}$, for a environment object type $c$, we generate 15 random instantiations of the false negative rates, $\\mathtt{FN}_{(c',c)}$ and $\\mathtt{FN}_{(c'',c)}$, where $c \\notin \\{c',c''\\}$. For each instantiation of the confusion matrix, we construct the corresponding Markov chain $M(\\mathtt{TP}_{c}, \\mathtt{FN}_{(c',c)}, \\mathtt{FN}_{(c'',c)})$ and compute the satisfaction probability accordingly. For all the probability samples, we then use linear programming to compute a lower bound as a function of the true positive rate."
   ]
  },
  {
   "cell_type": "code",
   "execution_count": 4,
   "id": "ffedcf10",
   "metadata": {},
   "outputs": [
    {
     "ename": "NameError",
     "evalue": "name 'pkl' is not defined",
     "output_type": "error",
     "traceback": [
      "\u001b[0;31m---------------------------------------------------------------------------\u001b[0m",
      "\u001b[0;31mNameError\u001b[0m                                 Traceback (most recent call last)",
      "Cell \u001b[0;32mIn[4], line 4\u001b[0m\n\u001b[1;32m      1\u001b[0m \u001b[38;5;66;03m# Here we load probability points from saved pickle files. To fully recompute the results, see recompute.ipynb\u001b[39;00m\n\u001b[1;32m      3\u001b[0m \u001b[38;5;28;01mwith\u001b[39;00m \u001b[38;5;28mopen\u001b[39m(\u001b[38;5;124m\"\u001b[39m\u001b[38;5;124mlb.pkl\u001b[39m\u001b[38;5;124m\"\u001b[39m, \u001b[38;5;124m\"\u001b[39m\u001b[38;5;124mrb\u001b[39m\u001b[38;5;124m\"\u001b[39m) \u001b[38;5;28;01mas\u001b[39;00m f:\n\u001b[0;32m----> 4\u001b[0m     lbounds_ped, points_ped, tpped_vals \u001b[38;5;241m=\u001b[39m \u001b[43mpkl\u001b[49m\u001b[38;5;241m.\u001b[39mload(f)\n\u001b[1;32m      5\u001b[0m f\u001b[38;5;241m.\u001b[39mclose()\n\u001b[1;32m      7\u001b[0m \u001b[38;5;28;01mwith\u001b[39;00m \u001b[38;5;28mopen\u001b[39m(\u001b[38;5;124m\"\u001b[39m\u001b[38;5;124mlbobj.pkl\u001b[39m\u001b[38;5;124m\"\u001b[39m, \u001b[38;5;124m\"\u001b[39m\u001b[38;5;124mrb\u001b[39m\u001b[38;5;124m\"\u001b[39m) \u001b[38;5;28;01mas\u001b[39;00m f:\n",
      "\u001b[0;31mNameError\u001b[0m: name 'pkl' is not defined"
     ]
    }
   ],
   "source": [
    "# Here we load probability points from saved pickle files. To fully recompute the results, see recompute.ipynb\n",
    "\n",
    "with open(\"lb.pkl\", \"rb\") as f:\n",
    "    lbounds_ped, points_ped, tpped_vals = pkl.load(f)\n",
    "f.close()\n",
    "\n",
    "with open(\"lbobj.pkl\", \"rb\") as f:\n",
    "    lbounds_obj, points_obj, tpobj_vals = pkl.load(f)\n",
    "f.close()\n",
    "\n",
    "with open(\"lbempty.pkl\", \"rb\") as f:\n",
    "    lbounds_emp, points_emp, tpemp_vals = pkl.load(f)\n",
    "f.close()"
   ]
  },
  {
   "cell_type": "code",
   "execution_count": 3,
   "id": "ecf0e6a1",
   "metadata": {},
   "outputs": [
    {
     "ename": "NameError",
     "evalue": "name 'points_ped' is not defined",
     "output_type": "error",
     "traceback": [
      "\u001b[0;31m---------------------------------------------------------------------------\u001b[0m",
      "\u001b[0;31mNameError\u001b[0m                                 Traceback (most recent call last)",
      "Cell \u001b[0;32mIn[3], line 22\u001b[0m\n\u001b[1;32m     19\u001b[0m     plt\u001b[38;5;241m.\u001b[39mylabel(\u001b[38;5;124m'\u001b[39m\u001b[38;5;124m$\u001b[39m\u001b[38;5;124m\\\u001b[39m\u001b[38;5;124mmathbb\u001b[39m\u001b[38;5;132;01m{P}\u001b[39;00m\u001b[38;5;124m_\u001b[39m\u001b[38;5;124m{\u001b[39m\u001b[38;5;124m'\u001b[39m\u001b[38;5;241m+\u001b[39mtrue_env\u001b[38;5;241m+\u001b[39m\u001b[38;5;124m'\u001b[39m\u001b[38;5;124m}$\u001b[39m\u001b[38;5;124m'\u001b[39m)\n\u001b[1;32m     20\u001b[0m     plt\u001b[38;5;241m.\u001b[39mxlabel(\u001b[38;5;124m'\u001b[39m\u001b[38;5;124m$\u001b[39m\u001b[38;5;124m\\\u001b[39m\u001b[38;5;124mmathtt\u001b[39m\u001b[38;5;132;01m{TP}\u001b[39;00m\u001b[38;5;124m_\u001b[39m\u001b[38;5;124m{\u001b[39m\u001b[38;5;124m'\u001b[39m\u001b[38;5;241m+\u001b[39mtrue_env\u001b[38;5;241m+\u001b[39m\u001b[38;5;124m'\u001b[39m\u001b[38;5;124m}$\u001b[39m\u001b[38;5;124m'\u001b[39m)\n\u001b[0;32m---> 22\u001b[0m plot_probabilities_bounds(\u001b[43mpoints_ped\u001b[49m, tpped_vals, [], lbounds_ped, \u001b[38;5;124m\"\u001b[39m\u001b[38;5;124mped\u001b[39m\u001b[38;5;124m\"\u001b[39m)\n\u001b[1;32m     23\u001b[0m plot_probabilities_bounds(points_obj, tpobj_vals, [], lbounds_obj, \u001b[38;5;124m\"\u001b[39m\u001b[38;5;124mobj\u001b[39m\u001b[38;5;124m\"\u001b[39m)\n\u001b[1;32m     24\u001b[0m plot_probabilities_bounds(points_emp, tpemp_vals, [], lbounds_emp, \u001b[38;5;124m\"\u001b[39m\u001b[38;5;124memp\u001b[39m\u001b[38;5;124m\"\u001b[39m)\n",
      "\u001b[0;31mNameError\u001b[0m: name 'points_ped' is not defined"
     ]
    }
   ],
   "source": [
    "# Plotting Probabilities:\n",
    "def plot_probabilities_bounds(points, tp_vals, ubounds, lbounds, true_env):\n",
    "    fig, ax = plt.subplots()\n",
    "    ax.tick_params(axis='both', which='major', labelsize=10)\n",
    "    plt.plot(tp_vals, points, 'b*',label='sampled')\n",
    "    if ubounds != []:\n",
    "        ub_m, ub_c = ubounds\n",
    "        y_ub = ub_m*np.array(tp_vals) + ub_c\n",
    "        plt.plot(tp_vals, y_ub, 'r')\n",
    "        \n",
    "    lb_m, lb_c = lbounds\n",
    "    y_lb = lb_m*np.array(tp_vals) + lb_c\n",
    "    plt.plot(tp_vals, y_lb, 'k',label='lower bound',linewidth=4)\n",
    "    lb = min(tp_vals)\n",
    "    ub = max(tp_vals)\n",
    "    plt.legend(prop={'size': 10})\n",
    "    \n",
    "    plt.title('Lower bound of $\\mathbb{P}_{'+true_env+'}$ as a function of $\\mathtt{TP}_{'+true_env+'}$.')\n",
    "    plt.ylabel('$\\mathbb{P}_{'+true_env+'}$')\n",
    "    plt.xlabel('$\\mathtt{TP}_{'+true_env+'}$')\n",
    "\n",
    "plot_probabilities_bounds(points_ped, tpped_vals, [], lbounds_ped, \"ped\")\n",
    "plot_probabilities_bounds(points_obj, tpobj_vals, [], lbounds_obj, \"obj\")\n",
    "plot_probabilities_bounds(points_emp, tpemp_vals, [], lbounds_emp, \"emp\")"
   ]
  },
  {
   "cell_type": "markdown",
   "id": "e3189819",
   "metadata": {},
   "source": [
    "## Part 3: Controller Contracts"
   ]
  },
  {
   "cell_type": "code",
   "execution_count": 6,
   "id": "d1d53bc7",
   "metadata": {},
   "outputs": [
    {
     "name": "stdout",
     "output_type": "stream",
     "text": [
      "Controller Contract for pedestrian class:\n",
      "InVars: [tp_ped]\n",
      "OutVars:[P_ped]\n",
      "A: [\n",
      "  tp_ped <= 1.0\n",
      "  -tp_ped <= -0.6\n",
      "]\n",
      "G: [\n",
      "  -P_ped + 1.5801256015029996 tp_ped <= 0.6220524909016469\n",
      "]\n",
      "\n",
      "Controller Contract for object class:\n",
      "InVars: [tp_obj]\n",
      "OutVars:[P_obj]\n",
      "A: [\n",
      "  tp_obj <= 1.0\n",
      "  -tp_obj <= -0.3\n",
      "]\n",
      "G: [\n",
      "  -P_obj + 0.06834814849496082 tp_obj <= -0.9288940771532732\n",
      "]\n",
      "\n",
      "Controller Contract for empty class:\n",
      "InVars: [tp_emp]\n",
      "OutVars:[P_emp]\n",
      "A: [\n",
      "  tp_emp <= 1.0\n",
      "  -tp_emp <= -0.6\n",
      "]\n",
      "G: [\n",
      "  -P_emp + 0.20049999999999998 tp_emp <= -0.7996999999999667\n",
      "]\n",
      "\n"
     ]
    }
   ],
   "source": [
    "# First we construct each contract individually, and then merge the controller contract:\n",
    "## Control contract for pedestrian class\n",
    "def control_contract_ped(lbounds_ped):\n",
    "    lb_m, lb_c = lbounds_ped\n",
    "    mc= dict()\n",
    "    mc = {\"input_vars\":[\"tp_ped\"],\n",
    "        \"output_vars\":[\n",
    "            \"P_ped\"\n",
    "        ],\n",
    "        \"assumptions\":\n",
    "        [\n",
    "            {\"coefficients\":{\"tp_ped\":1},\n",
    "            \"constant\":1},\n",
    "            {\"coefficients\":{\"tp_ped\":-1},\n",
    "            \"constant\":-0.6}\n",
    "        ],\n",
    "        \"guarantees\":\n",
    "        [\n",
    "          {\"coefficients\":{\"P_ped\":-1, \"tp_ped\":lb_m},\n",
    "          \"constant\":-1*lb_c}\n",
    "        ]}\n",
    "    return mc\n",
    "\n",
    "def control_contract_obj(lbounds_obj):\n",
    "    lb_m, lb_c = lbounds_obj\n",
    "    mc= dict()\n",
    "    mc = {\"input_vars\":[\"tp_obj\"],\n",
    "        \"output_vars\":[\n",
    "            \"P_obj\"\n",
    "        ],\n",
    "        \"assumptions\":\n",
    "        [\n",
    "            {\"coefficients\":{\"tp_obj\":1},\n",
    "            \"constant\":1},\n",
    "            {\"coefficients\":{\"tp_obj\":-1},\n",
    "            \"constant\":-0.3}\n",
    "        ],\n",
    "        \"guarantees\":\n",
    "        [\n",
    "          {\"coefficients\":{\"P_obj\":-1, \"tp_obj\":lb_m},\n",
    "          \"constant\":-1*lb_c}\n",
    "        ]}\n",
    "    return mc\n",
    "\n",
    "def control_contract_emp(lbounds_emp):\n",
    "    lb_m, lb_c = lbounds_emp\n",
    "    mc= dict()\n",
    "    mc = {\"input_vars\":[\"tp_emp\"],\n",
    "        \"output_vars\":[\n",
    "            \"P_emp\"\n",
    "        ],\n",
    "        \"assumptions\":\n",
    "        [\n",
    "            {\"coefficients\":{\"tp_emp\":1},\n",
    "            \"constant\":1},\n",
    "            {\"coefficients\":{\"tp_emp\":-1},\n",
    "            \"constant\":-0.6}\n",
    "        ],\n",
    "        \"guarantees\":\n",
    "        [\n",
    "          {\"coefficients\":{\"P_emp\":-1, \"tp_emp\":lb_m},\n",
    "          \"constant\":-1*lb_c}\n",
    "        ]}\n",
    "    return mc\n",
    "\n",
    "Cped = PolyhedralContract.from_dict(control_contract_ped(lbounds_ped))\n",
    "Cobj = PolyhedralContract.from_dict(control_contract_obj(lbounds_obj))\n",
    "Cemp = PolyhedralContract.from_dict(control_contract_emp(lbounds_emp))\n",
    "\n",
    "print(\"Controller Contract for pedestrian class:\\n\" + str(Cped) + \"\\n\")\n",
    "print(\"Controller Contract for object class:\\n\" + str(Cobj)+ \"\\n\")\n",
    "print(\"Controller Contract for empty class:\\n\" + str(Cemp)+ \"\\n\")"
   ]
  },
  {
   "cell_type": "code",
   "execution_count": 7,
   "id": "97e928b4",
   "metadata": {},
   "outputs": [
    {
     "name": "stdout",
     "output_type": "stream",
     "text": [
      "Merged Controller Contract for all object classes:\n",
      "InVars: [tp_ped, tp_obj, tp_emp]\n",
      "OutVars:[P_ped, P_obj, P_emp]\n",
      "A: [\n",
      "  tp_ped <= 1.0\n",
      "  -tp_ped <= -0.6\n",
      "  tp_obj <= 1.0\n",
      "  -tp_obj <= -0.3\n",
      "  tp_emp <= 1.0\n",
      "  -tp_emp <= -0.6\n",
      "]\n",
      "G: [\n",
      "  -P_ped + 1.5801256015029996 tp_ped <= 0.6220524909016469\n",
      "  -P_obj + 0.06834814849496082 tp_obj <= -0.9288940771532732\n",
      "  -P_emp + 0.20049999999999998 tp_emp <= -0.7996999999999667\n",
      "]\n",
      "\n"
     ]
    }
   ],
   "source": [
    "# Construct merger of contracts:\n",
    "C_controller = Cped.merge(Cobj) \n",
    "C_controller = C_controller.merge(Cemp)\n",
    "\n",
    "print(\"Merged Controller Contract for all object classes:\\n\" + str(C_controller) + \"\\n\")"
   ]
  },
  {
   "cell_type": "code",
   "execution_count": 8,
   "id": "4465a057",
   "metadata": {},
   "outputs": [
    {
     "name": "stdout",
     "output_type": "stream",
     "text": [
      "System Contract (distance bounds):\n",
      "InVars: [d]\n",
      "OutVars:[P_ped, P_obj, P_emp]\n",
      "A: [\n",
      "  -d <= 0.0\n",
      "  d <= 10.0\n",
      "]\n",
      "G: [\n",
      "  -P_ped - 0.099 d <= -0.99\n",
      "  -P_obj - 0.08 d <= -0.8\n",
      "  -P_emp - 0.095 d <= -0.95\n",
      "]\n",
      "\n"
     ]
    }
   ],
   "source": [
    "## System contract: P >= 0.99\n",
    "def system_contract_dist():\n",
    "    system_contract = {\n",
    "        \"input_vars\":[\n",
    "            \"d\"\n",
    "        ],\n",
    "        \"output_vars\":[\n",
    "            \"P_ped\", \"P_obj\", \"P_emp\"\n",
    "        ],\n",
    "        \"assumptions\":\n",
    "        [\n",
    "            {\"coefficients\":{\"d\":-1}, \"constant\":0},\n",
    "            {\"coefficients\":{\"d\":1}, \"constant\":10}\n",
    "        ],\n",
    "        \"guarantees\":\n",
    "        [\n",
    "            {\"coefficients\":{\"P_ped\":-1, \"d\":-0.099},\n",
    "            \"constant\":-0.99},\n",
    "            {\"coefficients\":{\"P_obj\":-1, \"d\":-0.08},\n",
    "            \"constant\":-0.8},\n",
    "            {\"coefficients\":{\"P_emp\":-1, \"d\":-0.095},\n",
    "            \"constant\":-0.95},\n",
    "        ]}\n",
    "    return system_contract\n",
    "\n",
    "Csys_dist = PolyhedralContract.from_dict(system_contract_dist())\n",
    "print(\"System Contract (distance bounds):\\n\" + str(Csys_dist) + \"\\n\")"
   ]
  },
  {
   "cell_type": "code",
   "execution_count": 2,
   "id": "996b09ff",
   "metadata": {},
   "outputs": [
    {
     "ename": "NameError",
     "evalue": "name 'Csys_dist' is not defined",
     "output_type": "error",
     "traceback": [
      "\u001b[0;31m---------------------------------------------------------------------------\u001b[0m",
      "\u001b[0;31mNameError\u001b[0m                                 Traceback (most recent call last)",
      "Cell \u001b[0;32mIn[2], line 2\u001b[0m\n\u001b[1;32m      1\u001b[0m \u001b[38;5;66;03m# Computing quotient contract:\u001b[39;00m\n\u001b[0;32m----> 2\u001b[0m C_dist \u001b[38;5;241m=\u001b[39m \u001b[43mCsys_dist\u001b[49m\u001b[38;5;241m.\u001b[39mquotient(C_controller)\n\u001b[1;32m      3\u001b[0m \u001b[38;5;28mprint\u001b[39m(\u001b[38;5;124m\"\u001b[39m\u001b[38;5;124mQuotient Contract with distance bounds on true positive rates:\u001b[39m\u001b[38;5;130;01m\\n\u001b[39;00m\u001b[38;5;124m\"\u001b[39m \u001b[38;5;241m+\u001b[39m \u001b[38;5;28mstr\u001b[39m(C_dist)\u001b[38;5;241m+\u001b[39m\u001b[38;5;124m\"\u001b[39m\u001b[38;5;130;01m\\n\u001b[39;00m\u001b[38;5;124m\"\u001b[39m)\n",
      "\u001b[0;31mNameError\u001b[0m: name 'Csys_dist' is not defined"
     ]
    }
   ],
   "source": [
    "# Computing quotient contract:\n",
    "C_dist = Csys_dist.quotient(C_controller)\n",
    "print(\"Quotient Contract with distance bounds on true positive rates:\\n\" + str(C_dist)+\"\\n\")"
   ]
  },
  {
   "cell_type": "markdown",
   "id": "8553d206",
   "metadata": {},
   "source": [
    "## References"
   ]
  },
  {
   "cell_type": "code",
   "execution_count": null,
   "id": "1546d9c2",
   "metadata": {},
   "outputs": [],
   "source": []
  }
 ],
 "metadata": {
  "kernelspec": {
   "display_name": "Python 3 (ipykernel)",
   "language": "python",
   "name": "python3"
  },
  "language_info": {
   "codemirror_mode": {
    "name": "ipython",
    "version": 3
   },
   "file_extension": ".py",
   "mimetype": "text/x-python",
   "name": "python",
   "nbconvert_exporter": "python",
   "pygments_lexer": "ipython3",
   "version": "3.10.8"
  },
  "vscode": {
   "interpreter": {
    "hash": "9ba88720be0f2492a1648db6294ad9efd59b2702c91a832c722726c0529c01e3"
   }
  }
 },
 "nbformat": 4,
 "nbformat_minor": 5
}
