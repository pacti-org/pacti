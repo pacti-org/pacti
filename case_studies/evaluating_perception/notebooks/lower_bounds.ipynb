{
 "cells": [
  {
   "cell_type": "markdown",
   "id": "d2750f96",
   "metadata": {},
   "source": [
    "# Overview\n",
    "This Jupyter notebook describes the case study for the the autonomous systems case study."
   ]
  },
  {
   "cell_type": "code",
   "execution_count": 1,
   "id": "96976a93",
   "metadata": {},
   "outputs": [
    {
     "name": "stderr",
     "output_type": "stream",
     "text": [
      "`polytope` failed to import `cvxopt.glpk`.\n",
      "will use `scipy.optimize.linprog`\n",
      "`omega.symbolic.symbolic` failed to import `dd.cudd`.\n",
      "Will use `dd.autoref`.\n",
      "`tulip` failed to import `cvxopt`.\n",
      "No quadratic cost for controller computation.\n"
     ]
    }
   ],
   "source": [
    "# Import libraries\n",
    "from case_study import *\n",
    "from PIL import Image\n",
    "\n",
    "from pacti.terms.polyhedra import PolyhedralContract"
   ]
  },
  {
   "cell_type": "markdown",
   "id": "d5aac64b",
   "metadata": {},
   "source": [
    "## Part 1: Example"
   ]
  },
  {
   "cell_type": "code",
   "execution_count": 2,
   "id": "35ae3ad1",
   "metadata": {},
   "outputs": [],
   "source": [
    "TILESIZE = 50\n",
    "ORIENTATIONS = {\"n\": 270, \"e\": 0, \"s\": 90, \"w\": 180, \"ne\": 315, \"nw\": 225, \"se\": 45, \"sw\": 135}\n",
    "START_CROSSWALK = -1\n",
    "END_CROSSWALK = 2\n",
    "CROSSWALK_V = 1\n",
    "CROSSWALK_LOCATIONS = dict()\n",
    "ped_loc = []\n",
    "for i, num in enumerate(range(2 * START_CROSSWALK, 2 * (END_CROSSWALK + 1))):\n",
    "    CROSSWALK_LOCATIONS.update({i: (num / 2, CROSSWALK_V)})\n",
    "    ped_loc.append(num / 2)"
   ]
  },
  {
   "cell_type": "code",
   "execution_count": 3,
   "id": "a45b28d4",
   "metadata": {},
   "outputs": [
    {
     "data": {
      "image/png": "[encoded data removed]",
      "text/plain": [
       "<Figure size 640x480 with 1 Axes>"
      ]
     },
     "metadata": {},
     "output_type": "display_data"
    },
    {
     "data": {
      "text/plain": [
       "<Figure size 640x480 with 0 Axes>"
      ]
     },
     "metadata": {},
     "output_type": "display_data"
    }
   ],
   "source": [
    "class GridCar:\n",
    "    def __init__(self):\n",
    "        self.xc_init = 0\n",
    "        self.vc_init = 0\n",
    "        self.ped = 1\n",
    "        self.N = 10\n",
    "        self.Vmax = 2\n",
    "        self.xped = 10 - CROSSWALK_V\n",
    "        self.main_dir = os.path.dirname(os.path.dirname(os.path.realpath(\"__file__\")))\n",
    "        self.car_fig = self.main_dir + \"/evaluating_perception/imglib/red_car.png\"\n",
    "        self.ped_fig = self.main_dir + \"/evaluating_perception/imglib/pedestrian_img.png\"\n",
    "        self.car_data = [9, 0]\n",
    "        if self.ped == 1:\n",
    "            self.ped_data = [CROSSWALK_V, min(ped_loc)]\n",
    "        else:\n",
    "            self.ped_data = None\n",
    "\n",
    "    def dynamics(self):\n",
    "        transitions = dict()\n",
    "        for x in range(0, self.N):\n",
    "            x_succ = []\n",
    "            for v in range(0, self.Vmax):\n",
    "                x_succ.append(x + v)\n",
    "            transitions[x] = x_succ\n",
    "        return transitions\n",
    "\n",
    "    def plot_grid(self):\n",
    "        size = [1, self.N]\n",
    "        x_min = 0\n",
    "        x_max = size[0] * TILESIZE\n",
    "        y_min = 0\n",
    "        y_max = size[1] * TILESIZE\n",
    "        # x_min, x_max, y_min, y_max = get_map_corners(map)\n",
    "\n",
    "        fig, ax = plt.subplots()\n",
    "        ax.axis(\"equal\")\n",
    "        ax.set_xlim(x_min, x_max)\n",
    "        ax.set_ylim(y_min, y_max)\n",
    "        ax.xaxis.set_visible(False)\n",
    "        ax.yaxis.set_visible(False)\n",
    "\n",
    "        # fill in the road regions\n",
    "        road_tiles = []\n",
    "        width_tiles = np.arange(0, size[0] + 1) * 2 * TILESIZE\n",
    "        lanes_tiles = np.arange(0, size[1] + 1) * TILESIZE\n",
    "\n",
    "        for i in np.arange(0, size[0]):\n",
    "            for k in np.arange(0, size[1] + 1):\n",
    "                tile = patches.Rectangle(\n",
    "                    (width_tiles[i], lanes_tiles[k]), 2 * TILESIZE, TILESIZE, linewidth=1, facecolor=\"k\", alpha=0.4\n",
    "                )\n",
    "                road_tiles.append(tile)\n",
    "        ax.add_collection(PatchCollection(road_tiles, match_original=True))\n",
    "\n",
    "        # now add crosswalk on top\n",
    "        crosswalk_tiles = []\n",
    "        for item in CROSSWALK_LOCATIONS.keys():\n",
    "            if item % 2 == 0:\n",
    "                color = \"silver\"\n",
    "                alpha = 0.5\n",
    "            else:\n",
    "                color = \"k\"\n",
    "                alpha = 0.5\n",
    "            width = CROSSWALK_LOCATIONS[item][0] * TILESIZE\n",
    "            lanes = CROSSWALK_LOCATIONS[item][1] * TILESIZE\n",
    "            tile = patches.Rectangle((width, lanes), TILESIZE / 2, TILESIZE, linewidth=1, facecolor=color, alpha=alpha)\n",
    "            crosswalk_tiles.append(tile)\n",
    "        ax.add_collection(PatchCollection(crosswalk_tiles, match_original=True))\n",
    "        # TODO: Add cross-walk tile names next to the cells\n",
    "        plt.gca().invert_yaxis()\n",
    "        return ax\n",
    "\n",
    "    def plot_car(self, ax):\n",
    "        y_tile, speed = self.car_data\n",
    "        theta_d = 270  # Rotate car to face north\n",
    "        x = (1) * TILESIZE / 2\n",
    "        y = (y_tile) * TILESIZE\n",
    "        car_fig = Image.open(self.car_fig)\n",
    "        car_fig = car_fig.rotate(theta_d, expand=False)\n",
    "        offset = 0.1\n",
    "        ax.imshow(\n",
    "            car_fig, zorder=1, interpolation=\"bilinear\", extent=[x + 2, x + TILESIZE - 2, y + 2, y + TILESIZE - 2]\n",
    "        )\n",
    "        return ax\n",
    "\n",
    "    def plot_ped(self, ax):\n",
    "        y_tile, x_tile = self.ped_data\n",
    "        x = (x_tile) * TILESIZE / 2\n",
    "        y = (y_tile) * TILESIZE\n",
    "        ped_fig = Image.open(self.ped_fig)\n",
    "        ped_fig = ped_fig.rotate(180, expand=False)\n",
    "        offset = 0.1\n",
    "        ax.imshow(\n",
    "            ped_fig, zorder=1, interpolation=\"bilinear\", extent=[x + 4, x + TILESIZE - 2, y + 2, y + TILESIZE - 2]\n",
    "        )\n",
    "        return ax\n",
    "\n",
    "    # Function to calculate all system states:\n",
    "    def construct_transitions(self):\n",
    "        T = dict()\n",
    "        for xcar in range(1, self.N + 1):\n",
    "            for vcar in range(0, self.Vmax + 1):\n",
    "                st = (xcar, vcar)\n",
    "                end_st = []\n",
    "                if xcar == self.N:\n",
    "                    end_st.append((xcar, vcar))\n",
    "                elif vcar == 0:\n",
    "                    xcar_p = min(self.N, xcar + 1)\n",
    "                    end_st.append((xcar, vcar))\n",
    "                    end_st.append((xcar_p, vcar + 1))\n",
    "                    end_st.append((xcar, vcar + 1))\n",
    "                else:\n",
    "                    xcar_p = min(self.N, xcar + vcar)\n",
    "                    end_st.append((xcar_p, vcar))\n",
    "                    end_st.append((xcar_p, vcar - 1))\n",
    "                    if vcar < Vhigh:\n",
    "                        end_st.append((xcar_p, vcar + 1))\n",
    "                T[st] = end_st\n",
    "        return T\n",
    "\n",
    "    # System states for pedestrian\n",
    "    def system_states_example_ped(self):\n",
    "        nS = self.N * (self.Vmax + 1)\n",
    "        state = lambda x, v: (self.Vmax + 1) * (x - 1) + v\n",
    "        state_to_S = dict()\n",
    "        S = set()\n",
    "        for xcar in range(1, self.N + 1):\n",
    "            for vcar in range(0, self.Vmax + 1):\n",
    "                st = \"S\" + str(state(xcar, vcar))\n",
    "                state_to_S[xcar, vcar] = st\n",
    "                S |= {st}\n",
    "        T = self.construct_transitions()\n",
    "        return S, state_to_S, T\n",
    "\n",
    "\n",
    "# Generate grid and figure:\n",
    "grid = GridCar()\n",
    "ax = grid.plot_grid()\n",
    "ax = grid.plot_car(ax)\n",
    "ax = grid.plot_ped(ax)\n",
    "\n",
    "plt.show()\n",
    "plt.savefig(grid.main_dir + \"/evaluating_perception/imglib/car_ped_ex.png\")"
   ]
  },
  {
   "cell_type": "markdown",
   "id": "994a7541",
   "metadata": {},
   "source": [
    "## Part 2: Getting probability points for ped, obj, empty:"
   ]
  },
  {
   "cell_type": "code",
   "execution_count": 5,
   "id": "ffedcf10",
   "metadata": {},
   "outputs": [],
   "source": [
    "# Here we load probability points from saved pickle files. To recompute the probabilities, then set recompute to True\n",
    "vmax = 2\n",
    "Ncar = 6\n",
    "Vlow = 0\n",
    "Vhigh = vmax\n",
    "recompute = False\n",
    "\n",
    "# Computing pedestrian prob points:\n",
    "true_env = \"ped\"\n",
    "if recompute:\n",
    "    xped, bad_states_ped, good_state_ped, formula = new_initialize_ped(vmax, Ncar, true_env)\n",
    "    points_ped, tpped_vals = gen_points(Ncar, Vlow, Vhigh, xped, bad_states_ped, good_state_ped, formula, vmax)\n",
    "    # Save results and plot:\n",
    "    plot_probabilities(points_ped, tpped_vals, true_env, vmax)\n",
    "    fn = save_result(points_ped, tpped_vals, true_env, vmax, Ncar)\n",
    "\n",
    "# Derive bounds and plot probability bounds:\n",
    "else:\n",
    "    fn = \"data/points_\" + true_env + \"_lb0.6_ub0.999_vmax2_N6rand.pkl\"\n",
    "\n",
    "ubounds_ped, lbounds_ped, points_ped, tpped_vals = derive_prob_bounds(fn, true_env)\n",
    "# plot_probabilities_bounds(points_ped, tpped_vals, true_env, vmax, Ncar, ubounds_ped, lbounds_ped, rand =True)\n",
    "\n",
    "# Computing object prob points:\n",
    "true_env = \"obj\"\n",
    "if recompute:\n",
    "    xped, bad_states_ped, good_state_ped, formula = new_initialize_ped(vmax, Ncar, true_env)\n",
    "    points_obj, tpobj_vals = gen_points_obj(Ncar, Vlow, Vhigh, xped, bad_states_ped, good_state_ped, formula, vmax)\n",
    "    # Save results and plot:\n",
    "    plot_probabilities(points_obj, tpobj_vals, true_env, vmax)\n",
    "    fn = save_result(points_obj, tpobj_vals, true_env, vmax, Ncar)\n",
    "\n",
    "# Derive bounds and plot probability bounds:\n",
    "else:\n",
    "    fn = \"data/points_\" + true_env + \"_lb0.6_ub0.999_vmax2_N6rand.pkl\"\n",
    "\n",
    "ubounds_obj, lbounds_obj, points_obj, tpobj_vals = derive_prob_bounds(fn, true_env)\n",
    "# plot_probabilities_bounds(points_obj, tpobj_vals, true_env, vmax, Ncar, ubounds_obj, lbounds_obj, rand =True)\n",
    "\n",
    "# Computing prob points for empty:\n",
    "true_env = \"empty\"\n",
    "if recompute:\n",
    "    xped, bad_states_ped, good_state_ped, formula = new_initialize_ped(vmax, Ncar, true_env)\n",
    "    points_rmp, tpemp_vals = gen_points_emp(Ncar, Vlow, Vhigh, xped, bad_states_ped, good_state_ped, formula, vmax)\n",
    "    # Save results and plot:\n",
    "    plot_probabilities(points_emp, tpemp_vals, true_env, vmax)\n",
    "    fn = save_result(points_emp, tpemp_vals, true_env, vmax, Ncar)\n",
    "\n",
    "# Derive bounds and plot probability bounds:\n",
    "else:\n",
    "    fn = \"data/points_\" + true_env + \"_lb0.6_ub0.999_vmax2_N6rand.pkl\"\n",
    "\n",
    "ubounds_emp, lbounds_emp, points_emp, tpemp_vals = derive_prob_bounds(fn, true_env)\n",
    "# plot_probabilities_bounds(points_emp, tpemp_vals, true_env, vmax, Ncar, ubounds_emp, lbounds_emp, rand =True)"
   ]
  },
  {
   "cell_type": "markdown",
   "id": "e3189819",
   "metadata": {},
   "source": [
    "## Part 3: Controller Contracts"
   ]
  },
  {
   "cell_type": "code",
   "execution_count": 7,
   "id": "9fc58078",
   "metadata": {},
   "outputs": [
    {
     "name": "stdout",
     "output_type": "stream",
     "text": [
      "Controller Contract for pedestrian class:\n",
      "InVars: [<Var tp_ped>]\n",
      "OutVars:[<Var P_ped>]\n",
      "A: 1*tp_ped <= 1.0, -1*tp_ped <= -0.6\n",
      "G: -1.0*P_ped + 1.7897800905324535*tp_ped <= 0.789889410441921\n",
      "\n",
      "Controller Contract for object class:\n",
      "InVars: [<Var tp_obj>]\n",
      "OutVars:[<Var P_obj>]\n",
      "A: 1*tp_obj <= 1.0, -1*tp_obj <= -0.3\n",
      "G: -1.0*P_obj + 0.06419368421050975*tp_obj <= -0.9322840694736975\n",
      "\n",
      "Controller Contract for empty class:\n",
      "InVars: [<Var tp_emp>]\n",
      "OutVars:[<Var P_emp>]\n",
      "A: 1*tp_emp <= 1.0, -1*tp_emp <= -0.6\n",
      "G: -1.0*P_emp + 0.20049999999999998*tp_emp <= -0.7997000000000001\n",
      "\n"
     ]
    }
   ],
   "source": [
    "# First we construct each contract individually, and then merge the controller contract:\n",
    "## Control contract for pedestrian class\n",
    "def control_contract_ped(lbounds_ped):\n",
    "    lb_m, lb_c = lbounds_ped\n",
    "    mc = dict()\n",
    "    mc = {\n",
    "        \"input_vars\": [\"tp_ped\"],\n",
    "        \"output_vars\": [\"P_ped\"],\n",
    "        \"assumptions\": [\n",
    "            {\"coefficients\": {\"tp_ped\": 1}, \"constant\": 1},\n",
    "            {\"coefficients\": {\"tp_ped\": -1}, \"constant\": -0.6},\n",
    "        ],\n",
    "        \"guarantees\": [{\"coefficients\": {\"P_ped\": -1, \"tp_ped\": lb_m}, \"constant\": -1 * lb_c}],\n",
    "    }\n",
    "    return mc\n",
    "\n",
    "\n",
    "def control_contract_obj(lbounds_obj):\n",
    "    lb_m, lb_c = lbounds_obj\n",
    "    mc = dict()\n",
    "    mc = {\n",
    "        \"input_vars\": [\"tp_obj\"],\n",
    "        \"output_vars\": [\"P_obj\"],\n",
    "        \"assumptions\": [\n",
    "            {\"coefficients\": {\"tp_obj\": 1}, \"constant\": 1},\n",
    "            {\"coefficients\": {\"tp_obj\": -1}, \"constant\": -0.3},\n",
    "        ],\n",
    "        \"guarantees\": [{\"coefficients\": {\"P_obj\": -1, \"tp_obj\": lb_m}, \"constant\": -1 * lb_c}],\n",
    "    }\n",
    "    return mc\n",
    "\n",
    "\n",
    "def control_contract_emp(lbounds_emp):\n",
    "    lb_m, lb_c = lbounds_emp\n",
    "    mc = dict()\n",
    "    mc = {\n",
    "        \"input_vars\": [\"tp_emp\"],\n",
    "        \"output_vars\": [\"P_emp\"],\n",
    "        \"assumptions\": [\n",
    "            {\"coefficients\": {\"tp_emp\": 1}, \"constant\": 1},\n",
    "            {\"coefficients\": {\"tp_emp\": -1}, \"constant\": -0.6},\n",
    "        ],\n",
    "        \"guarantees\": [{\"coefficients\": {\"P_emp\": -1, \"tp_emp\": lb_m}, \"constant\": -1 * lb_c}],\n",
    "    }\n",
    "    return mc\n",
    "\n",
    "\n",
    "Cped = PolyhedralContract.from_dict(control_contract_ped(lbounds_ped))\n",
    "Cobj = PolyhedralContract.from_dict(control_contract_obj(lbounds_obj))\n",
    "Cemp = PolyhedralContract.from_dict(control_contract_emp(lbounds_emp))\n",
    "\n",
    "print(\"Controller Contract for pedestrian class:\\n\" + str(Cped) + \"\\n\")\n",
    "print(\"Controller Contract for object class:\\n\" + str(Cobj) + \"\\n\")\n",
    "print(\"Controller Contract for empty class:\\n\" + str(Cemp) + \"\\n\")"
   ]
  },
  {
   "cell_type": "markdown",
   "id": "fd502b2f",
   "metadata": {},
   "source": [
    "## Part 4: Computing desired probabilities for Confusion Matrix"
   ]
  },
  {
   "cell_type": "code",
   "execution_count": 8,
   "id": "403c9393",
   "metadata": {},
   "outputs": [
    {
     "name": "stdout",
     "output_type": "stream",
     "text": [
      "Merged Controller Contract for all object classes:\n",
      "InVars: [<Var tp_ped>, <Var tp_obj>, <Var tp_emp>]\n",
      "OutVars:[<Var P_ped>, <Var P_obj>, <Var P_emp>]\n",
      "A: 1*tp_ped <= 1.0, -1*tp_ped <= -0.6, 1*tp_obj <= 1.0, -1*tp_obj <= -0.30000000000000004, 1*tp_emp <= 1.0, -1*tp_emp <= -0.6\n",
      "G: -1.0*P_ped + 1.7897800905324535*tp_ped <= 0.789889410441921, -1.0*P_obj + 0.06419368421050975*tp_obj <= -0.9322840694736975, -1.0*P_emp + 0.20049999999999998*tp_emp <= -0.7997000000000001\n",
      "\n"
     ]
    }
   ],
   "source": [
    "# Construct merger of contracts:\n",
    "C_controller = Cped.compose(Cobj)\n",
    "C_controller = C_controller.compose(Cemp)\n",
    "\n",
    "print(\"Merged Controller Contract for all object classes:\\n\" + str(C_controller) + \"\\n\")"
   ]
  },
  {
   "cell_type": "code",
   "execution_count": null,
   "id": "de528ed3",
   "metadata": {},
   "outputs": [],
   "source": []
  },
  {
   "cell_type": "markdown",
   "id": "7379e52b",
   "metadata": {},
   "source": [
    "## Part 4a: Numerical Bounds"
   ]
  },
  {
   "cell_type": "code",
   "execution_count": 15,
   "id": "2dbf302b",
   "metadata": {},
   "outputs": [
    {
     "name": "stdout",
     "output_type": "stream",
     "text": [
      "System Contract (numerical bounds):\n",
      "InVars: [<Var x_e>]\n",
      "OutVars:[<Var P_ped>, <Var P_obj>, <Var P_emp>]\n",
      "A: -1*x_e <= -1.0, 1*x_e <= 1.0\n",
      "G: -1*P_ped <= -0.99, -1*P_obj <= -0.8, -1*P_emp <= -0.95\n",
      "\n"
     ]
    }
   ],
   "source": [
    "## System contract: P >= 0.99 for each class\n",
    "def system_contract():\n",
    "    system_contract = {\n",
    "        \"input_vars\": [\"x_e\"],\n",
    "        \"output_vars\": [\"P_ped\", \"P_obj\", \"P_emp\"],\n",
    "        \"assumptions\": [{\"coefficients\": {\"x_e\": -1}, \"constant\": -1}, {\"coefficients\": {\"x_e\": 1}, \"constant\": 1}],\n",
    "        \"guarantees\": [\n",
    "            {\"coefficients\": {\"P_ped\": -1}, \"constant\": -0.99},\n",
    "            #             {\"coefficients\":{\"P_ped\":1},\n",
    "            #             \"constant\":1},\n",
    "            {\"coefficients\": {\"P_obj\": -1}, \"constant\": -0.80},\n",
    "            #             {\"coefficients\":{\"P_obj\":1},\n",
    "            #             \"constant\":1},\n",
    "            {\"coefficients\": {\"P_emp\": -1}, \"constant\": -0.95},\n",
    "            #             {\"coefficients\":{\"P_emp\":1},\n",
    "            #             \"constant\":1}\n",
    "        ],\n",
    "    }\n",
    "    return system_contract\n",
    "\n",
    "\n",
    "Csys = PolyhedralContract.from_dict(system_contract())\n",
    "print(\"System Contract (numerical bounds):\\n\" + str(Csys) + \"\\n\")"
   ]
  },
  {
   "cell_type": "code",
   "execution_count": 16,
   "id": "7c27d4c1",
   "metadata": {},
   "outputs": [
    {
     "name": "stdout",
     "output_type": "stream",
     "text": [
      "Quotient Contract with numerical bounds on true positive rates:\n",
      "InVars: [<Var x_e>]\n",
      "OutVars:[<Var tp_ped>, <Var tp_obj>, <Var tp_emp>]\n",
      "A: -1*x_e <= -1.0, 1*x_e <= 1.0\n",
      "G: -1.78978009053245*tp_ped <= -1.77988941044192, -0.200500000000000*tp_emp <= -0.150300000000000, 1*tp_ped <= 1.0, 1*tp_obj <= 1.0, -1*tp_obj <= -0.30000000000000004, 1*tp_emp <= 1.0\n",
      "\n"
     ]
    }
   ],
   "source": [
    "# Computing quotient contract:\n",
    "C_numerical = Csys.quotient(C_controller)\n",
    "print(\"Quotient Contract with numerical bounds on true positive rates:\\n\" + str(C_numerical) + \"\\n\")"
   ]
  },
  {
   "cell_type": "code",
   "execution_count": 18,
   "id": "35428871",
   "metadata": {},
   "outputs": [
    {
     "data": {
      "text/plain": [
       "0.7496259351620946"
      ]
     },
     "execution_count": 18,
     "metadata": {},
     "output_type": "execute_result"
    }
   ],
   "source": [
    "-0.150300000000000 / -0.200500000000000"
   ]
  },
  {
   "cell_type": "markdown",
   "id": "1098ad0e",
   "metadata": {},
   "source": [
    "## Part 4b: Bounds depending on distance"
   ]
  },
  {
   "cell_type": "code",
   "execution_count": 20,
   "id": "f41a9030",
   "metadata": {},
   "outputs": [
    {
     "name": "stdout",
     "output_type": "stream",
     "text": [
      "System Contract (distance bounds):\n",
      "InVars: [<Var d>]\n",
      "OutVars:[<Var P_ped>, <Var P_obj>, <Var P_emp>]\n",
      "A: -1*d <= 0.0, 1*d <= 10.0\n",
      "G: -1.0*P_ped + -0.099*d <= -0.99, -1.0*P_obj + -0.08*d <= -0.8, -1.0*P_emp + -0.095*d <= -0.95\n",
      "\n"
     ]
    }
   ],
   "source": [
    "## System contract: P >= 0.99\n",
    "def system_contract_dist():\n",
    "    system_contract = {\n",
    "        \"input_vars\": [\"d\"],\n",
    "        \"output_vars\": [\"P_ped\", \"P_obj\", \"P_emp\"],\n",
    "        \"assumptions\": [{\"coefficients\": {\"d\": -1}, \"constant\": 0}, {\"coefficients\": {\"d\": 1}, \"constant\": 10}],\n",
    "        \"guarantees\": [\n",
    "            {\"coefficients\": {\"P_ped\": -1, \"d\": -0.099}, \"constant\": -0.99},\n",
    "            #             {\"coefficients\":{\"P_ped\":1, \"d\":0.00},\n",
    "            #             \"constant\":1},\n",
    "            {\"coefficients\": {\"P_obj\": -1, \"d\": -0.08}, \"constant\": -0.8},\n",
    "            #             {\"coefficients\":{\"P_obj\":1, \"d\":0},\n",
    "            #             \"constant\":1},\n",
    "            {\"coefficients\": {\"P_emp\": -1, \"d\": -0.095}, \"constant\": -0.95},\n",
    "            #             {\"coefficients\":{\"P_emp\":1, \"d\":0.0},\n",
    "            #             \"constant\":1}\n",
    "        ],\n",
    "    }\n",
    "    return system_contract\n",
    "\n",
    "\n",
    "Csys_dist = PolyhedralContract.from_dict(system_contract_dist())\n",
    "print(\"System Contract (distance bounds):\\n\" + str(Csys_dist) + \"\\n\")"
   ]
  },
  {
   "cell_type": "code",
   "execution_count": 23,
   "id": "fe4ef1e6",
   "metadata": {},
   "outputs": [
    {
     "name": "stdout",
     "output_type": "stream",
     "text": [
      "Quotient Contract with distance bounds on true positive rates:\n",
      "InVars: [<Var d>]\n",
      "OutVars:[<Var tp_ped>, <Var tp_obj>, <Var tp_emp>]\n",
      "A: -1*d <= 0.0, 1*d <= 10.0\n",
      "G: -0.099*d + -1.78978009053245*tp_ped <= -1.77988941044192, -0.095*d + -0.200500000000000*tp_emp <= -0.150300000000000, 1*tp_ped <= 1.0, -1*tp_ped <= -0.6, 1*tp_obj <= 1.0, -1*tp_obj <= -0.30000000000000004, 1*tp_emp <= 1.0, -1*tp_emp <= -0.6\n",
      "\n"
     ]
    }
   ],
   "source": [
    "# Computing quotient contract:\n",
    "C_dist = Csys_dist.quotient(C_controller)\n",
    "print(\"Quotient Contract with distance bounds on true positive rates:\\n\" + str(C_dist) + \"\\n\")"
   ]
  },
  {
   "cell_type": "code",
   "execution_count": 26,
   "id": "7dbd09f2",
   "metadata": {},
   "outputs": [
    {
     "data": {
      "text/plain": [
       "0.7496259351620946"
      ]
     },
     "execution_count": 26,
     "metadata": {},
     "output_type": "execute_result"
    }
   ],
   "source": [
    "0.15030000000 / 0.200500000000000"
   ]
  },
  {
   "cell_type": "code",
   "execution_count": null,
   "id": "1d76051f",
   "metadata": {},
   "outputs": [],
   "source": []
  }
 ],
 "metadata": {
  "kernelspec": {
   "display_name": "Python 3 (ipykernel)",
   "language": "python",
   "name": "python3"
  },
  "language_info": {
   "codemirror_mode": {
    "name": "ipython",
    "version": 3
   },
   "file_extension": ".py",
   "mimetype": "text/x-python",
   "name": "python",
   "nbconvert_exporter": "python",
   "pygments_lexer": "ipython3",
   "version": "3.10.8"
  },
  "vscode": {
   "interpreter": {
    "hash": "b282b3e35ff361393169c4f355db145ffcb63e574f57c9818c827b7c99ca9fc3"
   }
  }
 },
 "nbformat": 4,
 "nbformat_minor": 5
}
