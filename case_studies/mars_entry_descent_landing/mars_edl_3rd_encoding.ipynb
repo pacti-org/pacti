{
 "cells": [
  {
   "attachments": {},
   "cell_type": "markdown",
   "metadata": {},
   "source": [
    "# Mars Entry-Descent-Landing Mission Scenario (2nd encoding attempt)"
   ]
  },
  {
   "attachments": {},
   "cell_type": "markdown",
   "metadata": {},
   "source": [
    "This case study demonstrates using Pacti for formalizing a simplified version of a Mars Entry-Descent-Landing mission scenario based on the following paper: [R. Prakash et al. 2008](#ref1)\n",
    "and the Mars 2020 EDL timeline from https://mars.nasa.gov/mars2020/timeline/landing/entry-descent-landing/\n",
    "\n",
    "![](https://mars.nasa.gov/internal_resources/961/)\n",
    "\n",
    "For this case study, we have segmented the overall Mars 2020 EDL timeline into 4 segments -- S1, S2, S3, and S4 -- as shown below:\n",
    "\n",
    "![](figures/m2020-edl-timeline-segmented.png)\n",
    "\n",
    "EDL engineers at JPL characterize these segments in terms of entry and exit conditions, some of which are included in the diagram above, others in the narrative explanations at https://mars.nasa.gov/mars2020/timeline/landing/entry-descent-landing/."
   ]
  },
  {
   "cell_type": "code",
   "execution_count": 1,
   "metadata": {},
   "outputs": [],
   "source": [
    "# The following Python imports provide access to the Pacti API \n",
    "# and to the plotting libraries for visualizing algebraic contracts.\n",
    "\n",
    "%matplotlib widget\n",
    "\n",
    "from pacti.iocontract import *\n",
    "from pacti.terms.polyhedra import *\n",
    "import matplotlib.pyplot as plt\n",
    "\n",
    "from edl import *"
   ]
  },
  {
   "attachments": {},
   "cell_type": "markdown",
   "metadata": {},
   "source": [
    "# Segment S1: parachute Entry\n",
    "\n",
    "For explanations, see: https://mars.nasa.gov/resources/25445/perseverance-rover-decelerating-in-the-martian-atmosphere-illustration/\n",
    "\n",
    "![](https://mars.nasa.gov/system/resources/detail_files/25445_04_PeakHeating-1200.jpg)"
   ]
  },
  {
   "attachments": {},
   "cell_type": "markdown",
   "metadata": {},
   "source": [
    "For the contract below, it would be tempting to add an output variable, `t1`, with a guarantee: `t1 = t0 + dt0`. "
   ]
  },
  {
   "cell_type": "code",
   "execution_count": 2,
   "metadata": {},
   "outputs": [
    {
     "name": "stdout",
     "output_type": "stream",
     "text": [
      "atmospheric_v_entry = 20000.0\n",
      "atmospheric_v_exit = 1600.0\n",
      "atmospheric_t_entry = 0.0\n",
      "atmospheric_t_exit = 90.0\n",
      "atmospheric_deacceleration=204.44444444444446\n",
      "atmospheric_min_deacceleration=192.17777777777778\n",
      "atmospheric_max_deacceleration=210.57777777777778\n",
      "InVars: [t0, dt0, v0]\n",
      "OutVars:[t1, v1]\n",
      "A: [\n",
      "  t0 = 0.0\n",
      "  v0 = 20000.0\n",
      "]\n",
      "G: [\n",
      "  -dt0 - t0 + t1 = 0.0\n",
      "  -v1 <= -1000.0\n",
      "  -210.57777777777778 dt0 + v0 - v1 <= 0.0\n",
      "  192.17777777777778 dt0 - v0 + v1 <= 0.0\n",
      "]\n"
     ]
    }
   ],
   "source": [
    "\n",
    "# EDL begins when the spacecraft reaches the top of the Martian atmosphere, travelling nearly 20,000 kilometers per hour (kph).\n",
    "print(f\"atmospheric_v_entry = {atmospheric_v_entry}\")\n",
    "\n",
    "# The heat shield slows the spacecraft to under 1,600 kph.\n",
    "# This point marks be the exit of the atmospheric entry segment\n",
    "# and the entry of the parachute deployment segment.\n",
    "print(f\"atmospheric_v_exit = {atmospheric_v_exit}\")\n",
    "\n",
    "print(f\"atmospheric_t_entry = {atmospheric_t_entry}\")\n",
    "print(f\"atmospheric_t_exit = {atmospheric_t_exit}\")\n",
    "\n",
    "atmospheric_t_duration = atmospheric_t_exit - atmospheric_t_entry\n",
    "atmospheric_t_duration_min = atmospheric_t_duration*0.96\n",
    "atmospheric_t_duration_max = atmospheric_t_duration*1.03\n",
    "\n",
    "atmospheric_deacceleration = abs((atmospheric_v_entry - atmospheric_v_exit) / (atmospheric_t_entry - atmospheric_t_exit))\n",
    "print(f\"atmospheric_deacceleration={atmospheric_deacceleration}\")\n",
    "\n",
    "atmospheric_min_deacceleration = atmospheric_deacceleration*0.94\n",
    "print(f\"atmospheric_min_deacceleration={atmospheric_min_deacceleration}\")\n",
    "\n",
    "atmospheric_max_deacceleration = atmospheric_deacceleration*1.03\n",
    "print(f\"atmospheric_max_deacceleration={atmospheric_max_deacceleration}\")\n",
    "\n",
    "S1 = PolyhedralContract.from_string(\n",
    "    input_vars=[\n",
    "      \"t0\",           # time @ entry\n",
    "      \"dt0\",          # time duration for the atmospheric segment from entry to exit.\n",
    "      \"v0\"            # velocity @ entry\n",
    "    ],\n",
    "    output_vars=[\n",
    "      \"t1\",\n",
    "      \"v1\"            # velocity @ exit\n",
    "    ],\n",
    "    assumptions=[\n",
    "      # time @ entry\n",
    "      f\"t0 = {atmospheric_t_entry}\",\n",
    "\n",
    "      # velocity @ entry\n",
    "      f\"v0 = {atmospheric_v_entry}\"\n",
    "    ],\n",
    "    guarantees=[\n",
    "      \"t1 - t0 - dt0 = 0\",\n",
    "\n",
    "      # validity bounds on minimum exit velocity\n",
    "      # 1000 <= v1\n",
    "      \"-v1 <= -1000\",\n",
    "      \n",
    "      # atmospheric_min_deacceleration * dt0 <= v0 - v1 <= atmospheric_max_deacceleration * dt0\n",
    "      # v0 - v1 <= atmospheric_max_deacceleration * dt0\n",
    "      f\" v0 - v1 - {atmospheric_max_deacceleration} dt0 <= 0\",\n",
    "\n",
    "      # atmospheric_min_deacceleration * dt0 <= v0 - v1\n",
    "      f\"-v0 + v1 + {atmospheric_min_deacceleration} dt0 <= 0\"\n",
    "    ])\n",
    "\n",
    "print(S1)"
   ]
  },
  {
   "cell_type": "code",
   "execution_count": 3,
   "metadata": {},
   "outputs": [],
   "source": [
    "# S1P = S1.dropGuarantees([0])\n",
    "# _ = plot_guarantees(\n",
    "#     contract=S1p,\n",
    "#     x_var=Var(\"dt0\"),\n",
    "#     y_var=Var(\"v1\"),\n",
    "#     var_values={\n",
    "#         Var(\"t0\"):atmospheric_t_entry,\n",
    "#         Var(\"v0\"):atmospheric_v_entry\n",
    "#     },\n",
    "#     x_lims=(0, 120),\n",
    "#     y_lims=(800, 21000)\n",
    "# )\n"
   ]
  },
  {
   "cell_type": "code",
   "execution_count": 4,
   "metadata": {},
   "outputs": [],
   "source": [
    "# _ = plot_guarantees(\n",
    "#     contract=S1,\n",
    "#     x_var=Var(\"dt0\"),\n",
    "#     y_var=Var(\"v1\"),\n",
    "#     var_values={\n",
    "#         Var(\"t0\"):atmospheric_t_entry,\n",
    "#         # Var(\"t1\"):atmospheric_t_exit,\n",
    "#         Var(\"v0\"):atmospheric_v_entry\n",
    "#     },\n",
    "#     x_lims=(80, 120),\n",
    "#     y_lims=(800, 1800)\n",
    "# )"
   ]
  },
  {
   "cell_type": "markdown",
   "metadata": {},
   "source": [
    "# Segment S2: Parachute Deployment"
   ]
  },
  {
   "cell_type": "code",
   "execution_count": 5,
   "metadata": {},
   "outputs": [
    {
     "name": "stdout",
     "output_type": "stream",
     "text": [
      "parachute_deacceleration=4.923076923076923\n",
      "parachute_min_deacceleration=4.627692307692308\n",
      "parachute_max_deacceleration=5.070769230769232\n",
      "InVars: [t1, dt1, v1]\n",
      "OutVars:[t2, v2]\n",
      "A: [\n",
      "  v1 <= 1600.0\n",
      "]\n",
      "G: [\n",
      "  -dt1 - t1 + t2 = 0.0\n",
      "  -v2 <= -320.0\n",
      "  -5.070769230769232 dt1 + v1 - v2 <= 0.0\n",
      "  4.627692307692308 dt1 - v1 + v2 <= 0.0\n",
      "]\n"
     ]
    }
   ],
   "source": [
    "# The parachute can be safely deployed when the velocity is less than 1,600 kph.\n",
    "parachute_v_entry = 1600.0\n",
    "\n",
    "# The parachute maximum deceleration capability is 320 kph.\n",
    "parachute_v_exit = 320.0\n",
    "\n",
    "parachute_t_entry = 90.0\n",
    "parachute_t_exit = 350.0\n",
    "parachute_t_duration = parachute_t_exit - parachute_t_entry\n",
    "parachute_t_duration_min = parachute_t_duration*0.96\n",
    "parachute_t_duration_max = parachute_t_duration*1.03\n",
    "\n",
    "parachute_deacceleration = abs((parachute_v_entry - parachute_v_exit) / (parachute_t_entry - parachute_t_exit))\n",
    "print(f\"parachute_deacceleration={parachute_deacceleration}\")\n",
    "\n",
    "parachute_min_deacceleration = parachute_deacceleration*0.94\n",
    "print(f\"parachute_min_deacceleration={parachute_min_deacceleration}\")\n",
    "\n",
    "parachute_max_deacceleration = parachute_deacceleration*1.03\n",
    "print(f\"parachute_max_deacceleration={parachute_max_deacceleration}\")\n",
    "\n",
    "\n",
    "S2 = PolyhedralContract.from_string(\n",
    "    input_vars=[\n",
    "      \"t1\",\n",
    "      \"dt1\",          # time duration for the parachute deployment segment from entry to exit.\n",
    "      \"v1\"            # entry velocity\n",
    "    ],\n",
    "    output_vars=[\n",
    "      \"t2\",\n",
    "      \"v2\"            # exit velocity\n",
    "    ],\n",
    "    assumptions=[\n",
    "      # velocity @ entry\n",
    "      f\"v1 <= {parachute_v_entry}\"\n",
    "    ],\n",
    "    guarantees=[\n",
    "      \"t2 - t1 - dt1 = 0\",\n",
    "      \n",
    "      # # parachute effectiveness is limited to v2 >= 320\n",
    "      f\"-v2 <= -{parachute_v_exit}\",\n",
    "      \n",
    "      # parachute_min_deacceleration * dt1 <= v1 - v2 <= parachute_max_deacceleration * dt1\n",
    "      # v1 - v2 <= parachute_max_deacceleration * dt1\n",
    "      f\" v1 - v2 - {parachute_max_deacceleration} dt1 <= 0\",\n",
    "\n",
    "      # parachutec_min_deacceleration * dt1 <= v1 - v2\n",
    "      f\"-v1 + v2 + {parachute_min_deacceleration} dt1 <= 0\"\n",
    "   ])\n",
    "\n",
    "print(S2)"
   ]
  },
  {
   "cell_type": "code",
   "execution_count": 6,
   "metadata": {},
   "outputs": [],
   "source": [
    "# _ = plot_guarantees(\n",
    "#     contract=S2,\n",
    "#     x_var=Var(\"dt1\"),\n",
    "#     y_var=Var(\"v2\"),\n",
    "#     var_values={\n",
    "#         Var(\"v1\"):parachute_v_entry\n",
    "#     },\n",
    "#     x_lims=(0, 300),\n",
    "#     y_lims=(250, 1800)\n",
    "# )"
   ]
  },
  {
   "cell_type": "code",
   "execution_count": 7,
   "metadata": {},
   "outputs": [],
   "source": [
    "# _ = plot_guarantees(\n",
    "#     contract=S2,\n",
    "#     x_var=Var(\"dt1\"),\n",
    "#     y_var=Var(\"v2\"),\n",
    "#     var_values={\n",
    "#         Var(\"v1\"):parachute_v_entry\n",
    "#     },\n",
    "#     x_lims=(200, 300),\n",
    "#     y_lims=(250, 400)\n",
    "# )"
   ]
  },
  {
   "attachments": {},
   "cell_type": "markdown",
   "metadata": {},
   "source": [
    "# Compose S1 and S2\n"
   ]
  },
  {
   "cell_type": "code",
   "execution_count": 8,
   "metadata": {},
   "outputs": [
    {
     "name": "stdout",
     "output_type": "stream",
     "text": [
      "InVars: [t0, dt0, v0, dt1]\n",
      "OutVars:[t2, v2]\n",
      "A: [\n",
      "  -192.177777777778 dt0 + v0 <= 1600.0\n",
      "  t0 = 0.0\n",
      "  v0 = 20000.0\n",
      "]\n",
      "G: [\n",
      "  -dt0 - dt1 - t0 + t2 = 0.0\n",
      "  -5.07076923076923 dt1 - v2 <= -1000.0\n",
      "  -v2 <= -320.0\n",
      "  192.177777777778 dt0 + 4.627692307692308 dt1 - v0 + v2 <= 0.0\n",
      "]\n"
     ]
    }
   ],
   "source": [
    "S12 = S1.compose(S2)\n",
    "\n",
    "print(S12)"
   ]
  },
  {
   "attachments": {},
   "cell_type": "markdown",
   "metadata": {},
   "source": [
    "Plotting the guarantees for the nominal entry conditions (i.e., `t0=atmospheric_t_entry, v0=atmospheric_v_entry`) requires using a value of `dt0` that is compatible with the constraints. In the example below, we use `dt0=98`."
   ]
  },
  {
   "cell_type": "code",
   "execution_count": 9,
   "metadata": {},
   "outputs": [],
   "source": [
    "# _ = plot_guarantees(\n",
    "#     contract=S12,\n",
    "#     x_var=Var(\"dt1\"),\n",
    "#     y_var=Var(\"v2\"),\n",
    "#     var_values={\n",
    "#         Var(\"t0\"):atmospheric_t_entry,\n",
    "#         Var(\"v0\"):atmospheric_v_entry,\n",
    "#         Var(\"dt0\"):98\n",
    "#     },\n",
    "#     x_lims=(60, 180),\n",
    "#     y_lims=(200, 1000)\n",
    "# )"
   ]
  },
  {
   "attachments": {},
   "cell_type": "markdown",
   "metadata": {},
   "source": [
    "# Segment S3: Powered Descent\n",
    "\n",
    "![](https://mars.nasa.gov/system/resources/detail_files/25449_08_PoweredDescent-1200.jpg)"
   ]
  },
  {
   "cell_type": "code",
   "execution_count": 10,
   "metadata": {},
   "outputs": [
    {
     "name": "stdout",
     "output_type": "stream",
     "text": [
      "powered_descent_deacceleration=12.44375\n",
      "powered_descent_min_deacceleration=11.697125\n",
      "powered_descent_max_deacceleration=12.8170625\n",
      "InVars: [t2, dt2, v2]\n",
      "OutVars:[t3, v3]\n",
      "A: [\n",
      "  v2 <= 600.0\n",
      "]\n",
      "G: [\n",
      "  -dt2 - t2 + t3 = 0.0\n",
      "  -v3 <= 0.0\n",
      "  -12.8170625 dt2 + v2 - v3 <= 0.0\n",
      "  11.697125 dt2 - v2 + v3 <= 0.0\n",
      "]\n"
     ]
    }
   ],
   "source": [
    "powered_descent_v_entry = 600.0\n",
    "powered_descent_v_exit = 2.7\n",
    "\n",
    "powered_descent_t_entry = 350.0\n",
    "powered_descent_t_exit = 398.0\n",
    "powered_descent_t_duration =powered_descent_t_exit - powered_descent_t_entry\n",
    "powered_descent_t_duration_min = powered_descent_t_duration*0.96\n",
    "powered_descent_t_duration_max = powered_descent_t_duration*1.03\n",
    "\n",
    "powered_descent_deacceleration = abs((powered_descent_v_entry - powered_descent_v_exit) / (powered_descent_t_entry - powered_descent_t_exit))\n",
    "print(f\"powered_descent_deacceleration={powered_descent_deacceleration}\")\n",
    "\n",
    "powered_descent_min_deacceleration = powered_descent_deacceleration*0.94\n",
    "print(f\"powered_descent_min_deacceleration={powered_descent_min_deacceleration}\")\n",
    "\n",
    "powered_descent_max_deacceleration = powered_descent_deacceleration*1.03\n",
    "print(f\"powered_descent_max_deacceleration={powered_descent_max_deacceleration}\")\n",
    "\n",
    "S3 = PolyhedralContract.from_string(\n",
    "    input_vars=[\n",
    "      \"t2\",\n",
    "      \"dt2\",          # time duration for the powered descent from entry to exit.\n",
    "      \"v2\"            # entry velocity\n",
    "    ],\n",
    "    output_vars=[\n",
    "      \"t3\",\n",
    "      \"v3\"            # exit velocity\n",
    "    ],\n",
    "    assumptions=[\n",
    "      # velocity @ entry\n",
    "      f\"v2 <= {powered_descent_v_entry}\",\n",
    "    ],\n",
    "    guarantees=[\n",
    "      \"t3 - t2 - dt2 = 0\",\n",
    "      \n",
    "      # velocity @ exit\n",
    "      \"-v3 <= 0\",\n",
    "      \n",
    "      # powered_descent_min_deacceleration * dt2 <= v2 - v3 <= powered_descent_max_deacceleration * dt1\n",
    "      # v2 - v3 <= powered_descent_max_deacceleration * dt2\n",
    "      f\" v2 - v3 - {powered_descent_max_deacceleration} dt2 <= 0\",\n",
    "\n",
    "      # powered_descent_min_deacceleration * dt2 <= v2 - v3\n",
    "      f\"-v2 + v3 + {powered_descent_min_deacceleration} dt2 <= 0\"\n",
    "    ])\n",
    "\n",
    "print(S3)\n",
    "\n"
   ]
  },
  {
   "cell_type": "code",
   "execution_count": 11,
   "metadata": {},
   "outputs": [],
   "source": [
    "# _ = plot_guarantees(\n",
    "#     contract=S3,\n",
    "#     x_var=Var(\"dt2\"),\n",
    "#     y_var=Var(\"v3\"),\n",
    "#     var_values={\n",
    "#         Var(\"v2\"):powered_descent_v_entry\n",
    "#     },\n",
    "#     x_lims=(20, 60),\n",
    "#     y_lims=(0, 400)\n",
    "# )"
   ]
  },
  {
   "attachments": {},
   "cell_type": "markdown",
   "metadata": {},
   "source": [
    "# Compose S1 and S2 and S3"
   ]
  },
  {
   "cell_type": "code",
   "execution_count": 12,
   "metadata": {},
   "outputs": [
    {
     "name": "stdout",
     "output_type": "stream",
     "text": [
      "InVars: [t0, dt0, v0, dt1, dt2]\n",
      "OutVars:[t3, v3]\n",
      "A: [\n",
      "  -192.177777777778 dt0 - 4.62769230769231 dt1 + v0 <= 600.0\n",
      "  -192.177777777778 dt0 + v0 <= 1600.0\n",
      "  t0 = 0.0\n",
      "  v0 = 20000.0\n",
      "]\n",
      "G: [\n",
      "  -dt0 - dt1 - dt2 - t0 + t3 = 0.0\n",
      "  -5.07076923076923 dt1 - 12.8170625 dt2 - v3 <= -1000.0\n",
      "  -12.8170625 dt2 - v3 <= -320.0\n",
      "  -v3 <= 0.0\n",
      "  192.177777777778 dt0 + 4.62769230769231 dt1 + 11.697125 dt2 - v0 + v3 <= 0.0\n",
      "]\n"
     ]
    }
   ],
   "source": [
    "S123 = S12.compose(S3)\n",
    "print(S123)"
   ]
  },
  {
   "cell_type": "code",
   "execution_count": 13,
   "metadata": {},
   "outputs": [],
   "source": [
    "# _ = plot_guarantees(\n",
    "#     contract=S123,\n",
    "#     x_var=Var(\"dt2\"),\n",
    "#     y_var=Var(\"v3\"),\n",
    "#     var_values={\n",
    "#         Var(\"t0\"):atmospheric_t_entry,\n",
    "#         Var(\"v0\"):atmospheric_v_entry,\n",
    "#         Var(\"dt0\"):98,\n",
    "#         Var(\"dt1\"):130,\n",
    "#     },\n",
    "#     x_lims=(40, 60),\n",
    "#     y_lims=(0, 10)\n",
    "# )"
   ]
  },
  {
   "attachments": {},
   "cell_type": "markdown",
   "metadata": {},
   "source": [
    "# Segment S4: Sky Crane\n",
    "\n",
    "![](https://mars.nasa.gov/system/resources/detail_files/3650_PIA14839-full2.jpg)"
   ]
  },
  {
   "cell_type": "code",
   "execution_count": 14,
   "metadata": {},
   "outputs": [
    {
     "name": "stdout",
     "output_type": "stream",
     "text": [
      "skycrane_v_entry = 2.7\n",
      "skycrane_v_exit = 0\n",
      "skycrane_t_entry = 398.0\n",
      "skycrane_t_exit = 410.0\n",
      "skycrane_deacceleration=0.225\n",
      "skycrane_min_deacceleration=0.2115\n",
      "skycrane_max_deacceleration=0.23175\n",
      "InVars: [t3, dt3, v3]\n",
      "OutVars:[t4, v4]\n",
      "A: [\n",
      "  v3 <= 2.7\n",
      "]\n",
      "G: [\n",
      "  -dt3 - t3 + t4 = 0.0\n",
      "  -v4 <= 0.0\n",
      "  -0.23175 dt3 + v3 - v4 <= 0.0\n",
      "  0.2115 dt3 - v3 + v4 <= 0.0\n",
      "]\n"
     ]
    }
   ],
   "source": [
    "# The sky crane maneuver initiates at a velocity less than 2.7 kph.\n",
    "print(f\"skycrane_v_entry = {skycrane_v_entry}\")\n",
    "\n",
    "# The sky crane maneuver ends when the rover velocity reaches 0 kph.\n",
    "print(f\"skycrane_v_exit = {skycrane_v_exit}\")\n",
    "\n",
    "print(f\"skycrane_t_entry = {skycrane_t_entry}\")\n",
    "print(f\"skycrane_t_exit = {skycrane_t_exit}\")\n",
    "\n",
    "skycrane_t_duration = skycrane_t_exit - skycrane_t_entry\n",
    "skycrane_t_duration_min = skycrane_t_duration*0.96\n",
    "skycrane_t_duration_max = skycrane_t_duration*1.03\n",
    "\n",
    "skycrane_deacceleration = abs((skycrane_v_entry - skycrane_v_exit) / (skycrane_t_entry - skycrane_t_exit))\n",
    "print(f\"skycrane_deacceleration={skycrane_deacceleration}\")\n",
    "\n",
    "skycrane_min_deacceleration = skycrane_deacceleration*0.94\n",
    "print(f\"skycrane_min_deacceleration={skycrane_min_deacceleration}\")\n",
    "\n",
    "skycrane_max_deacceleration = skycrane_deacceleration*1.03\n",
    "print(f\"skycrane_max_deacceleration={skycrane_max_deacceleration}\")\n",
    "\n",
    "S4 = PolyhedralContract.from_string(\n",
    "    input_vars=[\n",
    "      \"t3\",\n",
    "      \"dt3\",          # time duration for the powered descent from entry to exit.\n",
    "      \"v3\"            # entry velocity\n",
    "    ],\n",
    "    output_vars=[\n",
    "      \"t4\",\n",
    "      \"v4\"            # exit velocity\n",
    "    ],\n",
    "    assumptions=[\n",
    "      # velocity @ entry\n",
    "      f\"v3 <= {skycrane_v_entry}\"\n",
    "    ],\n",
    "    guarantees=[\n",
    "      \"t4 - t3 - dt3 = 0\",\n",
    "      \n",
    "      # velocity @ exit\n",
    "      \"-v4 <= 0\",\n",
    "\n",
    "      # skycrane_min_deacceleration * dt3 <= v3 - v4 <= skycrane_max_deacceleration * dt1\n",
    "      # v3 - v4 <= skycrane_max_deacceleration * dt3\n",
    "      f\" v3 - v4 - {skycrane_max_deacceleration} dt3 <= 0\",\n",
    "\n",
    "      # skycrane_min_deacceleration * dt3 <= v3 - v4\n",
    "      f\"-v3 + v4 + {skycrane_min_deacceleration} dt3 <= 0\"\n",
    "    ])\n",
    "\n",
    "print(S4)"
   ]
  },
  {
   "cell_type": "code",
   "execution_count": 15,
   "metadata": {},
   "outputs": [],
   "source": [
    "# _ = plot_guarantees(\n",
    "#     contract=S4,\n",
    "#     x_var=Var(\"dt3\"),\n",
    "#     y_var=Var(\"v4\"),\n",
    "#     var_values={\n",
    "#         Var(\"v3\"):skycrane_v_entry\n",
    "#     },\n",
    "#     x_lims=(0, 15),\n",
    "#     y_lims=(0, 3)\n",
    "# )"
   ]
  },
  {
   "attachments": {},
   "cell_type": "markdown",
   "metadata": {},
   "source": [
    "# Compose all EDL phase segment contracts (S1, S2, S3, S4)"
   ]
  },
  {
   "cell_type": "code",
   "execution_count": 16,
   "metadata": {},
   "outputs": [
    {
     "name": "stdout",
     "output_type": "stream",
     "text": [
      "InVars: [t0, dt0, v0, dt1, dt2, dt3]\n",
      "OutVars:[t4, v4]\n",
      "A: [\n",
      "  -192.177777777778 dt0 - 4.62769230769231 dt1 - 11.697125 dt2 + v0 <= 2.7\n",
      "  -192.177777777778 dt0 - 4.62769230769231 dt1 + v0 <= 600.0\n",
      "  -192.177777777778 dt0 + v0 <= 1600.0\n",
      "  t0 = 0.0\n",
      "  v0 = 20000.0\n",
      "]\n",
      "G: [\n",
      "  -dt0 - dt1 - dt2 - dt3 - t0 + t4 = 0.0\n",
      "  -5.07076923076923 dt1 - 12.8170625 dt2 - 0.23175 dt3 - v4 <= -1000.0\n",
      "  -12.8170625 dt2 - 0.23175 dt3 - v4 <= -320.0\n",
      "  192.177777777778 dt0 + 4.62769230769231 dt1 + 11.697125 dt2 + 0.2115 dt3 - v0 + v4 <= 0.0\n",
      "  -v4 <= 0.0\n",
      "]\n"
     ]
    }
   ],
   "source": [
    "S1234 = S123.compose(S4)\n",
    "print(S1234)"
   ]
  },
  {
   "cell_type": "code",
   "execution_count": 17,
   "metadata": {},
   "outputs": [],
   "source": [
    "# _ = plot_guarantees(\n",
    "#     contract=S1234,\n",
    "#     x_var=Var(\"dt3\"),\n",
    "#     y_var=Var(\"v4\"),\n",
    "#     var_values={\n",
    "#         Var(\"t0\"):atmospheric_t_entry,\n",
    "#         Var(\"v0\"):atmospheric_v_entry,\n",
    "#         Var(\"dt0\"):98,\n",
    "#         Var(\"dt1\"):128,\n",
    "#         Var(\"dt2\"):49\n",
    "#     },\n",
    "#     x_lims=(0, 10),\n",
    "#     y_lims=(0, 2)\n",
    "# )"
   ]
  },
  {
   "attachments": {},
   "cell_type": "markdown",
   "metadata": {},
   "source": [
    "# Using contract algebra for manipulating contracts\n",
    "\n",
    "Pacti provides 3 algebraic operations on contracts:\n",
    "- composition as shown above\n",
    "- quotient, which computes a kind of difference operation\n",
    "- refinement, which verifies that a detailed contract conforms with an abstract contract.\n",
    "\n",
    "Here, we want to demonstrates two applications of the quotient operation for calculating a missing contract and for characterizing the gap between contracts that cannot be composed.\n",
    "Before we go into these details, we need to write a specification for the toplevel EDL phase itself, which is very simple: \n",
    "- assume the entry conditions are as given\n",
    "- guarantee the desired exit conditions are as given."
   ]
  },
  {
   "cell_type": "code",
   "execution_count": 18,
   "metadata": {},
   "outputs": [
    {
     "name": "stdout",
     "output_type": "stream",
     "text": [
      "InVars: [t0, v0]\n",
      "OutVars:[t4, v4]\n",
      "A: [\n",
      "  t0 = 0.0\n",
      "  v0 = 20000.0\n",
      "]\n",
      "G: [\n",
      "  t4 <= 500.0\n",
      "  -t4 <= 0.0\n",
      "  v4 <= 2.7\n",
      "  -v4 <= 0.0\n",
      "]\n"
     ]
    }
   ],
   "source": [
    "EDL0 = PolyhedralContract.from_string(\n",
    "    input_vars=[\n",
    "      \"t0\",          # time @ entry\n",
    "      \"v0\"           # velocity @ entry\n",
    "    ],\n",
    "    output_vars=[\n",
    "      \"t4\",\n",
    "      \"v4\"            # velocity @ exit\n",
    "    ],\n",
    "    assumptions=[\n",
    "      # time @ entry\n",
    "      f\"t0 = {atmospheric_t_entry}\",\n",
    "\n",
    "      # velocity @ entry\n",
    "      f\"v0 = {atmospheric_v_entry}\",\n",
    "    ],\n",
    "    guarantees=[\n",
    "      # bound for time @ exit\n",
    "      \"t4 <= 500\",\n",
    "      \"-t4 <= 0\",\n",
    "\n",
    "      # bound for velocity @ exit\n",
    "      \"v4 <= 2.7\",\n",
    "      f\"-v4 <= {skycrane_v_exit}\"\n",
    "    ])\n",
    "print(EDL0)"
   ]
  },
  {
   "cell_type": "code",
   "execution_count": 19,
   "metadata": {},
   "outputs": [
    {
     "name": "stdout",
     "output_type": "stream",
     "text": [
      "InVars: []\n",
      "OutVars:[dt0, dt1, dt2, dt3]\n",
      "A: [\n",
      "]\n",
      "G: [\n",
      "  -dt0 - dt1 - dt2 - dt3 <= 0.0\n",
      "  -192.177777777778 dt0 - 4.62769230769231 dt1 - 11.697125 dt2 - 0.2115 dt3 <= -19997.3\n",
      "  -192.177777777778 dt0 - 4.62769230769231 dt1 - 11.697125 dt2 <= -19997.3\n",
      "  -192.177777777778 dt0 - 4.62769230769231 dt1 <= -19400.0\n",
      "  -192.177777777778 dt0 <= -18400.0\n",
      "]\n"
     ]
    }
   ],
   "source": [
    "DTconstraints = EDL0.quotient(S1234)\n",
    "print(DTconstraints)"
   ]
  },
  {
   "cell_type": "code",
   "execution_count": 20,
   "metadata": {},
   "outputs": [
    {
     "name": "stdout",
     "output_type": "stream",
     "text": [
      "InVars: [t0, dt0, dt1, dt2, dt3, v0]\n",
      "OutVars:[t4, v4]\n",
      "A: [\n",
      "  t0 = 0.0\n",
      "  v0 = 20000.0\n",
      "  -dt0 <= 100.0\n",
      "  -dt0 <= -96.0\n",
      "  dt1 <= 130.0\n",
      "  -dt1 <= -126.0\n",
      "  dt2 <= 52.0\n",
      "  -dt2 <= -47.0\n",
      "  dt3 <= 5.1\n",
      "  -dt3 <= -4.9\n",
      "]\n",
      "G: [\n",
      "  v4 <= 2.7\n",
      "  -v4 <= 0.0\n",
      "]\n"
     ]
    }
   ],
   "source": [
    "EDL1 = PolyhedralContract.from_string(\n",
    "    input_vars=[\n",
    "      \"t0\",          # time @ entry\n",
    "      \"dt0\",         # duration of S1\n",
    "      \"dt1\",         # duration of S2\n",
    "      \"dt2\",         # duration of S3\n",
    "      \"dt3\",         # duration of S4\n",
    "      \"v0\"           # velocity @ entry\n",
    "    ],\n",
    "    output_vars=[\n",
    "      \"t4\",           # time @ exit\n",
    "      \"v4\"            # velocity @ exit\n",
    "    ],\n",
    "    assumptions=[\n",
    "      # time @ entry\n",
    "      f\"t0 = {atmospheric_t_entry}\",\n",
    "\n",
    "      # velocity @ entry\n",
    "      f\"v0 = {atmospheric_v_entry}\",\n",
    "\n",
    "      \"-dt0 <= 100\",\n",
    "      \"-dt0 <= -96\",\n",
    "      \"dt1 <= 130\",\n",
    "      \"-dt1 <= -126\",\n",
    "      \"dt2 <= 52\",\n",
    "      \"-dt2 <= -47\",\n",
    "      \"dt3 <= 5.1\",\n",
    "      \"-dt3 <= -4.9\",\n",
    "    ],\n",
    "    guarantees=[\n",
    "      # time @ exit\n",
    "      # f\"t4 - t0 - dt0 - dt1 - dt2 - dt3 = 0\",\n",
    "\n",
    "      # velocity @ exit\n",
    "      \"v4 <= 2.7\",\n",
    "      f\"-v4 <= {skycrane_v_exit}\"\n",
    "    ])\n",
    "print(EDL1)"
   ]
  },
  {
   "attachments": {},
   "cell_type": "markdown",
   "metadata": {},
   "source": [
    "## Calculating missing contracts using quotient\n",
    "\n",
    "In the EDL scenario described above, suppose we have contracts for a subset of the EDL segments, e.g.: `S1`, `S2`, and `S4`. Can we characterize the missing contract for `S3`?"
   ]
  },
  {
   "cell_type": "code",
   "execution_count": 21,
   "metadata": {},
   "outputs": [
    {
     "name": "stdout",
     "output_type": "stream",
     "text": [
      "InVars: [t0, dt0, v0, dt1, t3, dt3, v3]\n",
      "OutVars:[t2, v2, t4, v4]\n",
      "A: [\n",
      "  -192.177777777778 dt0 + v0 <= 1600.0\n",
      "  t0 = 0.0\n",
      "  v0 = 20000.0\n",
      "  v3 <= 2.7\n",
      "]\n",
      "G: [\n",
      "  -dt0 - dt1 - t0 + t2 = 0.0\n",
      "  -5.07076923076923 dt1 - v2 <= -1000.0\n",
      "  -v2 <= -320.0\n",
      "  192.177777777778 dt0 + 4.627692307692308 dt1 - v0 + v2 <= 0.0\n",
      "  -dt3 - t3 + t4 = 0.0\n",
      "  -v4 <= 0.0\n",
      "  -0.23175 dt3 + v3 - v4 <= 0.0\n",
      "  0.2115 dt3 - v3 + v4 <= 0.0\n",
      "]\n"
     ]
    }
   ],
   "source": [
    "# First, compose the contracts we have: S1, S2, and S4.\n",
    "S124 = S12.compose(S4)\n",
    "print(S124)\n"
   ]
  },
  {
   "cell_type": "code",
   "execution_count": 22,
   "metadata": {},
   "outputs": [
    {
     "name": "stdout",
     "output_type": "stream",
     "text": [
      "InVars: [dt2, t2, v2]\n",
      "OutVars:[t3, v3]\n",
      "A: [\n",
      "  dt2 <= 52.0\n",
      "  -dt2 <= -47.0\n",
      "]\n",
      "G: [\n",
      "  v3 <= 2.7\n",
      "]\n"
     ]
    }
   ],
   "source": [
    "# Next, define the missing S3 as the quotient of toplevel contract w.r.t. what we have.\n",
    "missingS3 = EDL1.quotient(S124)\n",
    "print(missingS3)"
   ]
  },
  {
   "cell_type": "code",
   "execution_count": 23,
   "metadata": {},
   "outputs": [
    {
     "name": "stdout",
     "output_type": "stream",
     "text": [
      "InVars: [t0, dt0, v0, dt1, dt2]\n",
      "OutVars:[t3, v3]\n",
      "A: [\n",
      "  dt2 <= 52.0\n",
      "  -dt2 <= -47.0\n",
      "  -192.177777777778 dt0 + v0 <= 1600.0\n",
      "  t0 = 0.0\n",
      "  v0 = 20000.0\n",
      "]\n",
      "G: [\n",
      "  192.177777777778 dt0 - 0.44307692307691937 dt1 - v0 <= -1000.0\n",
      "  192.177777777778 dt0 + 4.62769230769231 dt1 - v0 <= -320.0\n",
      "  v3 <= 2.7\n",
      "]\n"
     ]
    }
   ],
   "source": [
    "S123_implied = S12.compose(missingS3)\n",
    "print(S123_implied)\n"
   ]
  },
  {
   "cell_type": "code",
   "execution_count": 24,
   "metadata": {},
   "outputs": [
    {
     "name": "stdout",
     "output_type": "stream",
     "text": [
      "InVars: [t0, dt0, v0, dt1, dt2, dt3]\n",
      "OutVars:[t4, v4]\n",
      "A: [\n",
      "  dt2 <= 52.0\n",
      "  -dt2 <= -47.0\n",
      "  -192.177777777778 dt0 + v0 <= 1600.0\n",
      "  t0 = 0.0\n",
      "  v0 = 20000.0\n",
      "]\n",
      "G: [\n",
      "  192.177777777778 dt0 - 0.44307692307691937 dt1 - v0 <= -1000.0\n",
      "  192.177777777778 dt0 + 4.62769230769231 dt1 - v0 <= -320.0\n",
      "  0.2115 dt3 + v4 <= 2.7\n",
      "  -v4 <= 0.0\n",
      "  -0.020250000000000018 dt3 <= 0.0\n",
      "]\n"
     ]
    }
   ],
   "source": [
    "S1234_implied = S123_implied.compose(S4)\n",
    "print(S1234_implied)"
   ]
  },
  {
   "cell_type": "code",
   "execution_count": 25,
   "metadata": {},
   "outputs": [
    {
     "name": "stdout",
     "output_type": "stream",
     "text": [
      "True\n"
     ]
    }
   ],
   "source": [
    "print(S1234_implied.refines(EDL1))"
   ]
  },
  {
   "attachments": {},
   "cell_type": "markdown",
   "metadata": {},
   "source": [
    "## Characterizing a composition mismatch as a quotient gap"
   ]
  },
  {
   "attachments": {},
   "cell_type": "markdown",
   "metadata": {},
   "source": [
    "## References\n",
    "\n",
    "<a id=\"ref1\"></a> __[R. Prakash et al. 2008](https://ieeexplore.ieee.org/abstract/document/4526283)__\n",
    "\n",
    "R. Prakash et al., \"Mars Science Laboratory Entry, Descent, and Landing System Overview,\" 2008 IEEE Aerospace Conference, Big Sky, MT, USA, 2008, pp. 1-18, doi: 10.1109/AERO.2008.4526283.\n"
   ]
  }
 ],
 "metadata": {
  "kernelspec": {
   "display_name": ".venv",
   "language": "python",
   "name": "python3"
  },
  "language_info": {
   "codemirror_mode": {
    "name": "ipython",
    "version": 3
   },
   "file_extension": ".py",
   "mimetype": "text/x-python",
   "name": "python",
   "nbconvert_exporter": "python",
   "pygments_lexer": "ipython3",
   "version": "3.9.16"
  },
  "orig_nbformat": 4,
  "vscode": {
   "interpreter": {
    "hash": "ce03960f10b489fec96a3dcc1c1ea5720541297ff0f91bb8136b413ca54ddaad"
   }
  }
 },
 "nbformat": 4,
 "nbformat_minor": 2
}
