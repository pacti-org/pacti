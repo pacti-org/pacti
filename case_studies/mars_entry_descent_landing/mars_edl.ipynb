{
 "cells": [
  {
   "attachments": {},
   "cell_type": "markdown",
   "metadata": {},
   "source": [
    "# Mars Entry-Descent-Landing Mission Scenario"
   ]
  },
  {
   "attachments": {},
   "cell_type": "markdown",
   "metadata": {},
   "source": [
    "This case study demonstrates using Pacti for formalizing a simplified version of a Mars Entry-Descent-Landing mission scenario based on the following paper: [R. Prakash et al. 2008](#ref1)\n",
    "and the EDL timeline from https://mars.nasa.gov/internal_resources/961/"
   ]
  },
  {
   "cell_type": "code",
   "execution_count": 1,
   "metadata": {},
   "outputs": [],
   "source": [
    "from pacti.iocontract import *\n",
    "from pacti.terms.polyhedra import *\n"
   ]
  },
  {
   "attachments": {},
   "cell_type": "markdown",
   "metadata": {},
   "source": [
    "https://mars.nasa.gov/mars2020/timeline/landing/entry-descent-landing/\n",
    "\n",
    "Section: Atmospheric Entry\n",
    "\n",
    "https://mars.nasa.gov/resources/25445/perseverance-rover-decelerating-in-the-martian-atmosphere-illustration/"
   ]
  },
  {
   "cell_type": "code",
   "execution_count": 2,
   "metadata": {},
   "outputs": [
    {
     "name": "stdout",
     "output_type": "stream",
     "text": [
      "InVars: [t0, v0]\n",
      "OutVars:[t1, v1]\n",
      "A: [\n",
      "  v0 <= 20000.0\n",
      "]\n",
      "G: [\n",
      "  t0 - t1 <= -90.0\n",
      "  v1 <= 1600.0\n",
      "]\n"
     ]
    }
   ],
   "source": [
    "AtmosphericEntry = PolyhedralContract.from_string(\n",
    "    InputVars=[\n",
    "      \"t0\",           # entry time\n",
    "      \"v0\"            # entry velocity\n",
    "    ],\n",
    "    OutputVars=[\n",
    "      \"t1\",           # exit time\n",
    "      \"v1\"            # exit velocity\n",
    "    ],\n",
    "    assumptions=[\n",
    "      # EDL begings when S/C travels at about 20,000 kph\n",
    "      \"v0 <= 20000\"\n",
    "    ],\n",
    "    guarantees=[\n",
    "      # Entry ends 90 seconds after start\n",
    "      \"t0 - t1 <= -90\",\n",
    "\n",
    "      # Exit exit velocity is below 1,600 kph\n",
    "      \"v1 <= 1600\"\n",
    "    ])\n",
    "\n",
    "print(AtmosphericEntry)"
   ]
  },
  {
   "cell_type": "code",
   "execution_count": 3,
   "metadata": {},
   "outputs": [],
   "source": [
    "# plot_guarantees(\n",
    "#     contract=AtmosphericEntry,\n",
    "#     x_var=Var(\"t1\"),\n",
    "#     y_var=Var(\"v1\"),\n",
    "#     var_values={\n",
    "#         Var(\"t0\"):0,\n",
    "#         Var(\"v0\"):20000.0\n",
    "#     },\n",
    "#     x_lims=(-10,100),\n",
    "#     y_lims=(1000, 21000)\n",
    "# )"
   ]
  },
  {
   "cell_type": "code",
   "execution_count": 4,
   "metadata": {},
   "outputs": [
    {
     "name": "stdout",
     "output_type": "stream",
     "text": [
      "InVars: [t0, v0]\n",
      "OutVars:[t1, v1]\n",
      "A: [\n",
      "  v0 <= 20000.0\n",
      "]\n",
      "G: [\n",
      "  t0 - t1 <= -90.0\n",
      "  v1 <= 1600.0\n",
      "]\n"
     ]
    }
   ],
   "source": [
    "print(AtmosphericEntry)"
   ]
  },
  {
   "cell_type": "code",
   "execution_count": 5,
   "metadata": {},
   "outputs": [
    {
     "name": "stdout",
     "output_type": "stream",
     "text": [
      "[  -5. 1005.]\n"
     ]
    },
    {
     "data": {
      "image/png": "[encoded data removed]",
      "text/plain": [
       "<Figure size 640x480 with 1 Axes>"
      ]
     },
     "execution_count": 5,
     "metadata": {},
     "output_type": "execute_result"
    },
    {
     "data": {
      "image/png": "[encoded data removed]",
      "text/plain": [
       "<Figure size 640x480 with 1 Axes>"
      ]
     },
     "metadata": {},
     "output_type": "display_data"
    }
   ],
   "source": [
    "plot_guarantees(\n",
    "    contract=AtmosphericEntry,\n",
    "    x_var=Var(\"t0\"),\n",
    "    y_var=Var(\"v1\"),\n",
    "    var_values={\n",
    "        Var(\"t1\"):90,\n",
    "        Var(\"v0\"):20000.0\n",
    "    },\n",
    "    x_lims=(-10,100),\n",
    "    y_lims=(1000, 21000)\n",
    ")"
   ]
  },
  {
   "attachments": {},
   "cell_type": "markdown",
   "metadata": {},
   "source": [
    "## References\n",
    "\n",
    "<a id=\"ref1\"></a> __[R. Prakash et al. 2008](https://ieeexplore.ieee.org/abstract/document/4526283)__\n",
    "\n",
    "R. Prakash et al., \"Mars Science Laboratory Entry, Descent, and Landing System Overview,\" 2008 IEEE Aerospace Conference, Big Sky, MT, USA, 2008, pp. 1-18, doi: 10.1109/AERO.2008.4526283.\n"
   ]
  }
 ],
 "metadata": {
  "kernelspec": {
   "display_name": ".venv",
   "language": "python",
   "name": "python3"
  },
  "language_info": {
   "codemirror_mode": {
    "name": "ipython",
    "version": 3
   },
   "file_extension": ".py",
   "mimetype": "text/x-python",
   "name": "python",
   "nbconvert_exporter": "python",
   "pygments_lexer": "ipython3",
   "version": "3.9.16"
  },
  "orig_nbformat": 4,
  "vscode": {
   "interpreter": {
    "hash": "ce03960f10b489fec96a3dcc1c1ea5720541297ff0f91bb8136b413ca54ddaad"
   }
  }
 },
 "nbformat": 4,
 "nbformat_minor": 2
}
