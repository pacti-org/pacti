{
 "cells": [
  {
   "attachments": {},
   "cell_type": "markdown",
   "metadata": {},
   "source": [
    "# Mars Entry-Descent-Landing Mission Scenario"
   ]
  },
  {
   "attachments": {},
   "cell_type": "markdown",
   "metadata": {},
   "source": [
    "This case study demonstrates using Pacti for formalizing a simplified version of a Mars Entry-Descent-Landing mission scenario based on the following paper: [R. Prakash et al. 2008](#ref1)\n",
    "and the EDL timeline from https://mars.nasa.gov/internal_resources/961/"
   ]
  },
  {
   "cell_type": "code",
   "execution_count": 6,
   "metadata": {},
   "outputs": [],
   "source": [
    "from pacti.iocontract import *\n",
    "from pacti.terms.polyhedra import *\n"
   ]
  },
  {
   "attachments": {},
   "cell_type": "markdown",
   "metadata": {},
   "source": [
    "https://mars.nasa.gov/mars2020/timeline/landing/entry-descent-landing/\n",
    "\n",
    "Section: Atmospheric Entry\n",
    "\n",
    "https://mars.nasa.gov/resources/25445/perseverance-rover-decelerating-in-the-martian-atmosphere-illustration/"
   ]
  },
  {
   "cell_type": "code",
   "execution_count": 7,
   "metadata": {},
   "outputs": [
    {
     "name": "stdout",
     "output_type": "stream",
     "text": [
      "InVars: [t0, v0]\n",
      "OutVars:[t1, v1]\n",
      "A: [\n",
      "  v0 <= 20000.0\n",
      "]\n",
      "G: [\n",
      "  t0 - t1 <= -90.0\n",
      "  v1 <= 1600.0\n",
      "]\n"
     ]
    }
   ],
   "source": [
    "AtmosphericEntry = PolyhedralContract.from_string(\n",
    "    InputVars=[\n",
    "      \"t0\",           # entry time\n",
    "      \"v0\"            # entry velocity\n",
    "    ],\n",
    "    OutputVars=[\n",
    "      \"t1\",           # exit time\n",
    "      \"v1\"            # exit velocity\n",
    "    ],\n",
    "    assumptions=[\n",
    "      # EDL begings when S/C travels at about 20,000 kph\n",
    "      \"v0 <= 20000\"\n",
    "    ],\n",
    "    guarantees=[\n",
    "      # Entry ends 90 seconds after start\n",
    "      \"t0 - t1 <= -90\",\n",
    "\n",
    "      # Exit exit velocity is below 1,600 kph\n",
    "      \"v1 <= 1600\"\n",
    "    ])\n",
    "\n",
    "print(AtmosphericEntry)"
   ]
  },
  {
   "cell_type": "code",
   "execution_count": 8,
   "metadata": {},
   "outputs": [
    {
     "name": "stdout",
     "output_type": "stream",
     "text": [
      "[  95. 1005.]\n"
     ]
    },
    {
     "data": {
      "image/png": "[encoded data removed]",
      "text/plain": [
       "<Figure size 640x480 with 1 Axes>"
      ]
     },
     "execution_count": 8,
     "metadata": {},
     "output_type": "execute_result"
    },
    {
     "data": {
      "image/png": "[encoded data removed]",
      "text/plain": [
       "<Figure size 640x480 with 1 Axes>"
      ]
     },
     "metadata": {},
     "output_type": "display_data"
    }
   ],
   "source": [
    "plot_guarantees(\n",
    "    contract=AtmosphericEntry,\n",
    "    x_var=Var(\"t1\"),\n",
    "    y_var=Var(\"v1\"),\n",
    "    var_values={\n",
    "        Var(\"t0\"):0,\n",
    "        Var(\"v0\"):20000.0\n",
    "    },\n",
    "    x_lims=(-10,100),\n",
    "    y_lims=(1000, 21000)\n",
    ")"
   ]
  },
  {
   "cell_type": "code",
   "execution_count": 9,
   "metadata": {},
   "outputs": [
    {
     "name": "stdout",
     "output_type": "stream",
     "text": [
      "InVars: [t0, v0]\n",
      "OutVars:[t1, v1]\n",
      "A: [\n",
      "  v0 <= 20000.0\n",
      "]\n",
      "G: [\n",
      "  -t1 <= -90.0\n",
      "  v1 <= 1600.0\n",
      "]\n"
     ]
    }
   ],
   "source": [
    "print(AtmosphericEntry)"
   ]
  },
  {
   "cell_type": "code",
   "execution_count": 10,
   "metadata": {},
   "outputs": [
    {
     "ename": "ValueError",
     "evalue": "Variable t0 is not in an input or output variable of contract.",
     "output_type": "error",
     "traceback": [
      "\u001b[0;31m---------------------------------------------------------------------------\u001b[0m",
      "\u001b[0;31mValueError\u001b[0m                                Traceback (most recent call last)",
      "Cell \u001b[0;32mIn[10], line 1\u001b[0m\n\u001b[0;32m----> 1\u001b[0m plot_guarantees(\n\u001b[1;32m      2\u001b[0m     contract\u001b[39m=\u001b[39;49mAtmosphericEntry,\n\u001b[1;32m      3\u001b[0m     x_var\u001b[39m=\u001b[39;49mVar(\u001b[39m\"\u001b[39;49m\u001b[39mt0\u001b[39;49m\u001b[39m\"\u001b[39;49m),\n\u001b[1;32m      4\u001b[0m     y_var\u001b[39m=\u001b[39;49mVar(\u001b[39m\"\u001b[39;49m\u001b[39mv1\u001b[39;49m\u001b[39m\"\u001b[39;49m),\n\u001b[1;32m      5\u001b[0m     var_values\u001b[39m=\u001b[39;49m{\n\u001b[1;32m      6\u001b[0m         Var(\u001b[39m\"\u001b[39;49m\u001b[39mt1\u001b[39;49m\u001b[39m\"\u001b[39;49m):\u001b[39m90\u001b[39;49m,\n\u001b[1;32m      7\u001b[0m         Var(\u001b[39m\"\u001b[39;49m\u001b[39mv0\u001b[39;49m\u001b[39m\"\u001b[39;49m):\u001b[39m20000.0\u001b[39;49m\n\u001b[1;32m      8\u001b[0m     },\n\u001b[1;32m      9\u001b[0m     x_lims\u001b[39m=\u001b[39;49m(\u001b[39m-\u001b[39;49m\u001b[39m10\u001b[39;49m,\u001b[39m100\u001b[39;49m),\n\u001b[1;32m     10\u001b[0m     y_lims\u001b[39m=\u001b[39;49m(\u001b[39m1000\u001b[39;49m, \u001b[39m21000\u001b[39;49m)\n\u001b[1;32m     11\u001b[0m )\n",
      "File \u001b[0;32m/opt/local/github.formalsystems/pacti/src/pacti/terms/polyhedra/plots.py:64\u001b[0m, in \u001b[0;36mplot_guarantees\u001b[0;34m(contract, x_var, y_var, var_values, x_lims, y_lims)\u001b[0m\n\u001b[1;32m     49\u001b[0m \u001b[39m\u001b[39m\u001b[39m\"\"\"\u001b[39;00m\n\u001b[1;32m     50\u001b[0m \u001b[39mPlots the guarantees and assumptions of an IoContract with polyhedral terms.\u001b[39;00m\n\u001b[1;32m     51\u001b[0m \n\u001b[0;32m   (...)\u001b[0m\n\u001b[1;32m     61\u001b[0m \u001b[39m    Figure element with a single \"axes\" object showing the feasible region for the assumptions & guarantees.\u001b[39;00m\n\u001b[1;32m     62\u001b[0m \u001b[39m\"\"\"\u001b[39;00m\n\u001b[1;32m     63\u001b[0m \u001b[39mif\u001b[39;00m \u001b[39mnot\u001b[39;00m(x_var \u001b[39min\u001b[39;00m contract\u001b[39m.\u001b[39mvars):\n\u001b[0;32m---> 64\u001b[0m     \u001b[39mraise\u001b[39;00m \u001b[39mValueError\u001b[39;00m(\u001b[39m\"\u001b[39m\u001b[39mVariable \u001b[39m\u001b[39m%s\u001b[39;00m\u001b[39m is not in an input or output variable of contract.\u001b[39m\u001b[39m\"\u001b[39m \u001b[39m%\u001b[39m (x_var))\n\u001b[1;32m     65\u001b[0m \u001b[39mif\u001b[39;00m \u001b[39mnot\u001b[39;00m(y_var \u001b[39min\u001b[39;00m contract\u001b[39m.\u001b[39mvars):\n\u001b[1;32m     66\u001b[0m     \u001b[39mraise\u001b[39;00m \u001b[39mValueError\u001b[39;00m(\u001b[39m\"\u001b[39m\u001b[39mVariable \u001b[39m\u001b[39m%s\u001b[39;00m\u001b[39m is not in an input or output variable of contract.\u001b[39m\u001b[39m\"\u001b[39m \u001b[39m%\u001b[39m (y_var))\n",
      "\u001b[0;31mValueError\u001b[0m: Variable t0 is not in an input or output variable of contract."
     ]
    }
   ],
   "source": [
    "plot_guarantees(\n",
    "    contract=AtmosphericEntry,\n",
    "    x_var=Var(\"t0\"),\n",
    "    y_var=Var(\"v1\"),\n",
    "    var_values={\n",
    "        Var(\"t1\"):90,\n",
    "        Var(\"v0\"):20000.0\n",
    "    },\n",
    "    x_lims=(-10,100),\n",
    "    y_lims=(1000, 21000)\n",
    ")"
   ]
  },
  {
   "attachments": {},
   "cell_type": "markdown",
   "metadata": {},
   "source": [
    "## References\n",
    "\n",
    "<a id=\"ref1\"></a> __[R. Prakash et al. 2008](https://ieeexplore.ieee.org/abstract/document/4526283)__\n",
    "\n",
    "R. Prakash et al., \"Mars Science Laboratory Entry, Descent, and Landing System Overview,\" 2008 IEEE Aerospace Conference, Big Sky, MT, USA, 2008, pp. 1-18, doi: 10.1109/AERO.2008.4526283.\n"
   ]
  }
 ],
 "metadata": {
  "kernelspec": {
   "display_name": ".venv",
   "language": "python",
   "name": "python3"
  },
  "language_info": {
   "codemirror_mode": {
    "name": "ipython",
    "version": 3
   },
   "file_extension": ".py",
   "mimetype": "text/x-python",
   "name": "python",
   "nbconvert_exporter": "python",
   "pygments_lexer": "ipython3",
   "version": "3.9.16"
  },
  "orig_nbformat": 4,
  "vscode": {
   "interpreter": {
    "hash": "ce03960f10b489fec96a3dcc1c1ea5720541297ff0f91bb8136b413ca54ddaad"
   }
  }
 },
 "nbformat": 4,
 "nbformat_minor": 2
}
