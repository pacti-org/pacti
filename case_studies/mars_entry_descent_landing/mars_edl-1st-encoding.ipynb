{
 "cells": [
  {
   "attachments": {},
   "cell_type": "markdown",
   "metadata": {},
   "source": [
    "# Mars Entry-Descent-Landing Mission Scenario (initial encoding attempt)"
   ]
  },
  {
   "attachments": {},
   "cell_type": "markdown",
   "metadata": {},
   "source": [
    "This case study demonstrates using Pacti for formalizing a simplified version of a Mars Entry-Descent-Landing mission scenario based on the following paper: [R. Prakash et al. 2008](#ref1)\n",
    "and the Mars 2020 EDL timeline from https://mars.nasa.gov/mars2020/timeline/landing/entry-descent-landing/\n",
    "\n",
    "![](https://mars.nasa.gov/internal_resources/961/)\n",
    "\n",
    "For this case study, we have segmented the overall Mars 2020 EDL timeline into 4 segments -- S1, S2, S3, and S4 -- as shown below:\n",
    "\n",
    "![](figures/m2020-edl-timeline-segmented.png)\n",
    "\n",
    "EDL engineers at JPL characterize these segments in terms of entry and exit conditions, some of which are included in the diagram above, others in the narrative explanations at https://mars.nasa.gov/mars2020/timeline/landing/entry-descent-landing/."
   ]
  },
  {
   "cell_type": "code",
   "execution_count": 1,
   "metadata": {},
   "outputs": [],
   "source": [
    "# The following Python imports provide access to the Pacti API \n",
    "# and to the plotting libraries for visualizing algebraic contracts.\n",
    "\n",
    "from pacti.iocontract import *\n",
    "from pacti.terms.polyhedra import *\n",
    "import matplotlib.pyplot as plt"
   ]
  },
  {
   "attachments": {},
   "cell_type": "markdown",
   "metadata": {},
   "source": [
    "# Segment S1: Atmospheric Entry\n",
    "\n",
    "For explanations, see: https://mars.nasa.gov/resources/25445/perseverance-rover-decelerating-in-the-martian-atmosphere-illustration/\n",
    "\n",
    "![](https://mars.nasa.gov/system/resources/detail_files/25445_04_PeakHeating-1200.jpg)"
   ]
  },
  {
   "cell_type": "code",
   "execution_count": 2,
   "metadata": {},
   "outputs": [
    {
     "name": "stdout",
     "output_type": "stream",
     "text": [
      "atmospheric_deacceleration=204.44444444444446\n",
      "atmospheric_min_deacceleration=192.17777777777778\n",
      "atmospheric_max_deacceleration=210.57777777777778\n",
      "InVars: [t0, v0]\n",
      "OutVars:[t1, v1]\n",
      "A: [\n",
      "  t0 = 0.0\n",
      "  v0 = 20000.0\n",
      "]\n",
      "G: [\n",
      "  -t0 + t1 <= 92.7\n",
      "  t0 - t1 <= -86.39999999999999\n",
      "  210.57777777777778 t0 - 210.57777777777778 t1 + v0 - v1 <= 0.0\n",
      "  -192.17777777777778 t0 + 192.17777777777778 t1 - v0 + v1 <= 0.0\n",
      "]\n"
     ]
    }
   ],
   "source": [
    "\n",
    "# EDL begins when the spacecraft reaches the top of the Martian atmosphere, travelling nearly 20,000 kilometers per hour (kph).\n",
    "atmospheric_v_entry = 20000.0\n",
    "\n",
    "# The heat shield slows the spacecraft to under 1,600 kph.\n",
    "# This point marks be the exit of the atmospheric entry segment\n",
    "# and the entry of the parachute deployment segment.\n",
    "atmospheric_v_exit = 1600.0 \n",
    "\n",
    "atmospheric_t_entry = 0.0\n",
    "atmospheric_t_exit = 90.0\n",
    "atmospheric_t_duration = atmospheric_t_exit - atmospheric_t_entry\n",
    "atmospheric_t_duration_min = atmospheric_t_duration*0.96\n",
    "atmospheric_t_duration_max = atmospheric_t_duration*1.03\n",
    "\n",
    "atmospheric_deacceleration = abs((atmospheric_v_entry - atmospheric_v_exit) / (atmospheric_t_entry - atmospheric_t_exit))\n",
    "print(f\"atmospheric_deacceleration={atmospheric_deacceleration}\")\n",
    "\n",
    "atmospheric_min_deacceleration = atmospheric_deacceleration*0.94\n",
    "print(f\"atmospheric_min_deacceleration={atmospheric_min_deacceleration}\")\n",
    "\n",
    "atmospheric_max_deacceleration = atmospheric_deacceleration*1.03\n",
    "print(f\"atmospheric_max_deacceleration={atmospheric_max_deacceleration}\")\n",
    "\n",
    "atmospheric_entry_contract = PolyhedralContract.from_string(\n",
    "    input_vars=[\n",
    "      \"t0\",           # time @ entry\n",
    "      \"v0\"            # velocity @ entry\n",
    "    ],\n",
    "    output_vars=[\n",
    "      \"t1\",           # time @ exit\n",
    "      \"v1\"            # velocity @ exit\n",
    "    ],\n",
    "    assumptions=[\n",
    "      # time @ entry\n",
    "      f\"t0 = {atmospheric_t_entry}\",\n",
    "\n",
    "      # velocity @ entry\n",
    "      f\"v0 = {atmospheric_v_entry}\"\n",
    "    ],\n",
    "    guarantees=[\n",
    "      # range bound on atmospheric entry duration\n",
    "      f\"t1 - t0 <= {atmospheric_t_duration_max}\",\n",
    "      f\"-t1 + t0 <= -{atmospheric_t_duration_min}\",\n",
    "\n",
    "      # v0 - v1 <= atmospheric_max_deacceleration * (t1 - t0)\n",
    "      f\" v0 - v1 - {atmospheric_max_deacceleration} t1 + {atmospheric_max_deacceleration} t0 <= 0\",\n",
    "\n",
    "      # atmospheric_min_deacceleration * (t1 - t0) <= v0 - v1\n",
    "      f\"-v0 + v1 + {atmospheric_min_deacceleration} t1 - {atmospheric_min_deacceleration} t0 <= 0\"\n",
    "    ])\n",
    "\n",
    "print(atmospheric_entry_contract)"
   ]
  },
  {
   "cell_type": "code",
   "execution_count": 3,
   "metadata": {},
   "outputs": [
    {
     "data": {
      "image/png": "[encoded data removed]",
      "text/plain": [
       "<Figure size 640x480 with 1 Axes>"
      ]
     },
     "metadata": {},
     "output_type": "display_data"
    }
   ],
   "source": [
    "_ = plot_guarantees(\n",
    "    contract=atmospheric_entry_contract,\n",
    "    x_var=Var(\"t1\"),\n",
    "    y_var=Var(\"v1\"),\n",
    "    var_values={\n",
    "        Var(\"t0\"):atmospheric_t_entry,\n",
    "        Var(\"v0\"):atmospheric_v_entry\n",
    "    },\n",
    "    x_lims=(atmospheric_t_exit*0.9, atmospheric_t_exit*1.1),\n",
    "    y_lims=(atmospheric_v_exit*0, atmospheric_v_exit*3)\n",
    ")"
   ]
  },
  {
   "attachments": {},
   "cell_type": "markdown",
   "metadata": {},
   "source": [
    "## References\n",
    "\n",
    "<a id=\"ref1\"></a> __[R. Prakash et al. 2008](https://ieeexplore.ieee.org/abstract/document/4526283)__\n",
    "\n",
    "R. Prakash et al., \"Mars Science Laboratory Entry, Descent, and Landing System Overview,\" 2008 IEEE Aerospace Conference, Big Sky, MT, USA, 2008, pp. 1-18, doi: 10.1109/AERO.2008.4526283.\n"
   ]
  }
 ],
 "metadata": {
  "kernelspec": {
   "display_name": ".venv",
   "language": "python",
   "name": "python3"
  },
  "language_info": {
   "codemirror_mode": {
    "name": "ipython",
    "version": 3
   },
   "file_extension": ".py",
   "mimetype": "text/x-python",
   "name": "python",
   "nbconvert_exporter": "python",
   "pygments_lexer": "ipython3",
   "version": "3.9.16"
  },
  "orig_nbformat": 4,
  "vscode": {
   "interpreter": {
    "hash": "ce03960f10b489fec96a3dcc1c1ea5720541297ff0f91bb8136b413ca54ddaad"
   }
  }
 },
 "nbformat": 4,
 "nbformat_minor": 2
}
