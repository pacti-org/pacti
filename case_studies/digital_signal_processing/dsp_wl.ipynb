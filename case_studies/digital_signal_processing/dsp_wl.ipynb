{
 "cells": [
  {
   "attachments": {},
   "cell_type": "markdown",
   "id": "37d4b21e",
   "metadata": {},
   "source": [
    "## Introduction\n",
    "In this example, we show that how gear can be applied to find the bounds of error of a digital signal processing circuit throught the fixed-number lengths of the internal calculation.\n",
    "\n",
    "The errors of computation of a digital signal processing circuit come from three sources: truncation error, quantization error, and inaccurate source.\n",
    "1.  Truncation Error:\n",
    "The truncation error is the error when a fixed-point number is converted from a longer representation to a shorter representation, which means the bits are not sufficient to represent the number, and thus the number must be truncated.\n",
    "The truncation error occur when the result of an operation is connect to a signal with different word length.\n",
    "2. Quantization Error:\n",
    "The quantization error occurs when the an analog signal is converted into a digital signal, or an algorithm requires real numbers as its coefficients. As the fixed number cannot represent any real number with infinite precision. The number has to be quantized and thus are not as the exact value as the analog signal.\n",
    "\n",
    "3. Inaccurate Source:\n",
    "This error comes from the measurement in the analog signal because of noise and non-ideal effect on the sensor, and could be seen as a random noise on the analog signal.\n",
    "\n",
    "The determination of the number of bits for fixed-point number requires tradeoff between the accuracy and the performance of the circuit.\n",
    "Power, timing, and area of the circuit can benefit from reducing the number of bits for representation of fixed-point number as the gate count can be reduced, which results in shorter critical path length for optimization and smaller core footprint.\n",
    "However, the accuracy of the signal processing decreases as more error is introduced in the computation and propagated to the output of the circuit.\n",
    "\n",
    "Therefore, in digital signal processing circuit design. Exploration of the word lengths for all fixed-point number is a crucial stage from algorithm design to circuit implementation for optimizing the circuit performance while satisfying the system requirements.\n"
   ]
  },
  {
   "attachments": {},
   "cell_type": "markdown",
   "id": "5d6da13b",
   "metadata": {},
   "source": [
    "## Preliminaries\n",
    "#### Representation of Fixed-point Number\n",
    "\n",
    "A word length of a fixed-point number can be described as a tuple $(n, p)$, where $n$ denotes the number of bits, and $p$ is the position of the binary point, with 0 position means the position before the most significant bit.\n",
    "\n",
    "For example, A fixed-point number with word length $(5,2)$ with bit value \"11011\" means the binary number $11.011$, which is equivalent to $3.375$ in decimal."
   ]
  },
  {
   "attachments": {},
   "cell_type": "markdown",
   "id": "0cc1ddb8",
   "metadata": {},
   "source": [
    "First, we import some data structure for holding the wordlength, and the apis of gear."
   ]
  },
  {
   "cell_type": "code",
   "execution_count": 1,
   "id": "aa002743",
   "metadata": {},
   "outputs": [],
   "source": [
    "from gear.terms.polyhedra.loaders import readContract, writeContract\n",
    "from tool import PortWordLength"
   ]
  },
  {
   "cell_type": "code",
   "execution_count": 2,
   "id": "9659ebc0",
   "metadata": {},
   "outputs": [
    {
     "name": "stdout",
     "output_type": "stream",
     "text": [
      "The word length (n = 5, p = 2) of the bits \"11011\" is: \n",
      "3.375\n"
     ]
    }
   ],
   "source": [
    "# Definition of value_num method in PortWordLength class\n",
    "#    def value_num(self):\n",
    "#        return int(self.value, base=2) * 2 ** (- (self.n - self.p))\n",
    "\n",
    "\n",
    "port = PortWordLength(n=5, p=2, value=\"11011\")\n",
    "print(f\"The word length (n = {port.n}, p = {port.p}) of the bits \\\"{port.value}\\\" is: \")\n",
    "print(port.value_num())"
   ]
  },
  {
   "attachments": {},
   "cell_type": "markdown",
   "id": "78846570",
   "metadata": {},
   "source": [
    "## Forming contract for capturing error of fixed-point number\n",
    "\n",
    "Here we introduce how to form the contract for the fixed-point number operation.\n",
    "First, we need to model how the error is generated.\n",
    "Then we consider the propagation of the error.\n",
    "We formulate the contract by combining the generation of error and propagation of the error."
   ]
  },
  {
   "attachments": {},
   "cell_type": "markdown",
   "id": "af36060d",
   "metadata": {},
   "source": [
    "#### Error Modeling\n",
    "Each operation can be seen as a two-staged process.\n",
    "First, an ideal output with certian wordlength is generated without losing any information, given the word lengths of all input ports.\n",
    "Then the ideal output is truncated to the actual output port and could result in truncation error.\n",
    "Therefore, the modeling of the ideal output wordlength and the truncation error is required to formulate the contract."
   ]
  },
  {
   "attachments": {},
   "cell_type": "markdown",
   "id": "f07d53c1",
   "metadata": {},
   "source": [
    "#### Truncation Error Modeling\n",
    "In the following, we details how to model the truncation error.\n",
    "\n",
    "##### Case 1. Binary Point Position Unchanged\n",
    "In this case the change of word length only result in losing the lowest significant bits.\n",
    "The maximal truncation error from the word length $(n_1, p)$ to the word length $(n_2, p)$ is $2^{p}(2^{-n_2}-2^{-n_1})$, when $n_1 > n_2$.\n",
    "If $n_1 <= n_2$, there is no truncation and therefore the error is exactly $0$."
   ]
  },
  {
   "attachments": {},
   "cell_type": "markdown",
   "id": "dc165ff9",
   "metadata": {},
   "source": [
    "The following example shows how the error is bounded:"
   ]
  },
  {
   "cell_type": "code",
   "execution_count": 24,
   "id": "cd58d386",
   "metadata": {},
   "outputs": [],
   "source": [
    "def truncation_error_same_position(pi, po):\n",
    "    assert(pi.p == po.p)\n",
    "    if pi.n > po.n:\n",
    "        return 2 ** po.p * (2 ** (-po.n) - 2 ** (-pi.n))\n",
    "    else :\n",
    "        return 0\n",
    "\n",
    "def truncate(pi, po):\n",
    "    # separate the bits into two parts, before binary point and after binary point\n",
    "    bits_before_point = pi.value[:pi.p]\n",
    "    bits_after_point = pi.value[pi.p:]\n",
    "    \n",
    "    # truncate or appending 0 \n",
    "    if po.p >= pi.p:\n",
    "        bits_before_point = (\"0\" * (po.p - pi.p)) + bits_before_point\n",
    "    else:\n",
    "        bits_before_point = bits_before_point[pi.p - po.p:]\n",
    "\n",
    "    if po.n - po.p >= pi.n - pi.p:\n",
    "        bits_after_point = bits_after_point + \"0\" * (po.n - po.p - pi.n + pi.p)\n",
    "    else:\n",
    "        bits_after_point = bits_after_point[:(po.n - po.p)]\n",
    "\n",
    "    # combine the both parts\n",
    "    ret = bits_before_point + bits_after_point\n",
    "    po.set_value(value = ret)\n",
    "    return po.value"
   ]
  },
  {
   "cell_type": "code",
   "execution_count": 29,
   "id": "13bee31b",
   "metadata": {},
   "outputs": [
    {
     "name": "stdout",
     "output_type": "stream",
     "text": [
      "Truncation Error: \n",
      "0.09375\n",
      "Example Value to produce the error\n",
      "p1 = 3.96875, bits: 1111111\n",
      "p2 = 3.875, bits: 11111\n",
      "p1 - p2 =  0.09375\n"
     ]
    }
   ],
   "source": [
    "p1 = PortWordLength(n=7, p=2, name=\"p1\", value = \"1111111\")\n",
    "p2 = PortWordLength(n=5, p=2, name=\"p2\")\n",
    "\n",
    "print(\"Truncation Error: \")\n",
    "print(truncation_error_same_position(p1, p2))\n",
    "print(\"Example Value to produce the error\")\n",
    "\n",
    "truncate(p1, p2)\n",
    "print(f\"p1 = {p1.value_num()}, bits: {p1.value}\")\n",
    "print(f\"p2 = {p2.value_num()}, bits: {p2.value}\")\n",
    "print(f\"p1 - p2 = \", p1.value_num() - p2.value_num())"
   ]
  },
  {
   "attachments": {},
   "cell_type": "markdown",
   "id": "1ba6de6f",
   "metadata": {},
   "source": [
    "Then let's see what happen if the binary point position is changed\n",
    "##### Case 2. Binary Point Position Change\n",
    "Consider the case when $(n_1, p_1)$ to the word length $(n_2, p_2)$\n",
    "If the binary point position is change and result in less bits before the binary point ($p_1 > p_2$), the significant bits in the initial representation will be lost. \n",
    "Therefore, it is reasonable to assume that we know exactly the maximum number of the initial number should not set bits that cannot be included in $2^{p_2}$, which sets an assumption that the initial number must be strictly less than $2^{p_2}$.\n",
    "Then, we can see the fixed-point number as if the those uneccesary most significant bits ($p_1 - p_2$) can be discarded.\n",
    "$(n_1, p_1)$ can be seen as $(n_1 - p_1 + p_2, p_2)$. \n",
    "Then it become the case one, only with the additional assumption."
   ]
  },
  {
   "attachments": {},
   "cell_type": "markdown",
   "id": "489baea4",
   "metadata": {},
   "source": [
    "The following example shows how the error can be calculated."
   ]
  },
  {
   "cell_type": "code",
   "execution_count": 56,
   "id": "478aec9d",
   "metadata": {},
   "outputs": [],
   "source": [
    "def truncation_error(pi, po):\n",
    "    # remove uneccesary most significant bits\n",
    "    # Remider: The assumption must hold!!\n",
    "    pi_adjusted = PortWordLength(n=pi.n - pi.p + po.p, p=po.p)\n",
    "    # return the truncation error as in case 1\n",
    "    return truncation_error_same_position(pi=pi_adjusted, po=po)\n",
    "\n",
    "def get_assumption_value(pi, po):\n",
    "    if pi.p > po.p:\n",
    "        return 2 ** po.p\n",
    "    else:\n",
    "        return float(\"inf\") # no additional assumption needed\n",
    "\n",
    "def check_assumption_value(pi, po):\n",
    "    assumption_value = get_assumption_value(pi, po)\n",
    "    print(f\"Assumption: {pi.name} < {assumption_value}\")\n",
    "    if not pi.value_num() < assumption_value:\n",
    "        print(\"Assumption failed, truncation of MSB occurs\")\n",
    "        return False\n",
    "    else:\n",
    "        print(f\"Assumption Satisfied ({pi.name} = {pi.value_num()} < {assumption_value})\")\n",
    "        return True\n",
    "        \n"
   ]
  },
  {
   "cell_type": "code",
   "execution_count": 59,
   "id": "9a24f2bb",
   "metadata": {},
   "outputs": [
    {
     "name": "stdout",
     "output_type": "stream",
     "text": [
      "Assumption: p1 < 4\n",
      "Assumption Satisfied (p1 = 2.4375 < 4)\n",
      "Truncation Error: \n",
      "0.0625\n",
      "Example Value to produce the error\n",
      "p1 = 2.4375, bits: 0100111\n",
      "p2 = 2.375, bits: 10011\n",
      "p1 - p2 =  0.0625\n"
     ]
    }
   ],
   "source": [
    "p1 = PortWordLength(n=7, p=3, name=\"p1\", value = \"0100111\")\n",
    "p2 = PortWordLength(n=5, p=2, name=\"p2\")\n",
    "\n",
    "assert(check_assumption_value(pi=p1, po=p2))\n",
    "\n",
    "print(\"Truncation Error: \")\n",
    "print(truncation_error(p1, p2))\n",
    "print(\"Example Value to produce the error\")\n",
    "\n",
    "truncate(p1, p2)\n",
    "print(f\"p1 = {p1.value_num()}, bits: {p1.value}\")\n",
    "print(f\"p2 = {p2.value_num()}, bits: {p2.value}\")\n",
    "print(f\"p1 - p2 = \", p1.value_num() - p2.value_num())"
   ]
  },
  {
   "attachments": {},
   "cell_type": "markdown",
   "id": "2bfb710e",
   "metadata": {},
   "source": [
    "#### Ideal Output Wordlength\n",
    "After we analyze the truncation error, the next problem is what is the wordlength before truncation?\n",
    "Each operation requires an minimal ideal output wordlength to fully hold the resulting value without losing any information.\n",
    "We represent the ideal output wordlength using $(n^*, p^*)$.\n",
    "This is the wordlength truncated before sending to the output port.\n",
    "And $(n_1, p_1), (n_2, n_2)$ denotes the wordlength of two inputs.\n",
    "\n",
    "The ideal output wordlength depends on the type of operation\n",
    "Let's first examine the addition and then the multiplication"
   ]
  },
  {
   "attachments": {},
   "cell_type": "markdown",
   "id": "7397b1b8",
   "metadata": {},
   "source": [
    "##### Addition\n",
    "The following equations show the ideal output wordlnegth for addition.\n",
    "\n",
    "$n^* = \\max(n_1, n_2 - p_2 + p_1) + \\min(0, p_1 - p_2) + 1$,\n",
    "\n",
    "$p* = \\max(p_1, p_2) + 1$.\n",
    "\n",
    "The rationale behind the equations is to keep every bits in both inputs and add an additional one bits in the front of the output to handle the carry.\n",
    "\n",
    "Using the ideal output wordlength and the above truncation error. We can calculate the error induced by addition"
   ]
  },
  {
   "cell_type": "code",
   "execution_count": 72,
   "id": "b0bc548f",
   "metadata": {},
   "outputs": [],
   "source": [
    "def compute_required_word_length_add(in1: PortWordLength, in2:PortWordLength) -> PortWordLength:\n",
    "    new_n = max(in1.n, in2.n - in2.p + in1.p) - min(0, in1.p - in2.p) + 1\n",
    "    new_p = max(in1.p, in2.p) + 1\n",
    "    return PortWordLength(n=new_n, p=new_p)\n",
    "\n",
    "def error_add(p1, p2, po):\n",
    "    print(f\"Input {p1.name}: (n={p1.n}, p={p1.p})\")\n",
    "    print(f\"Input {p2.name}: (n={p2.n}, p={p2.p})\")\n",
    "    p_ideal = compute_required_word_length_add(in1=p1, in2=p2)\n",
    "    print(f\"Ideal Output: (n={p_ideal.n}, p={p_ideal.p})\")\n",
    "    print(f\"Actual Output ({po.name}): (n={po.n}, p={po.p})\")\n",
    "\n",
    "    assumption_value = get_assumption_value(pi=p_ideal, po=po)\n",
    "    print(f\"Assumption: {p1.name} + {p2.name} < {assumption_value}\")\n",
    "    return truncation_error(pi=p_ideal, po=po)\n",
    "    "
   ]
  },
  {
   "cell_type": "code",
   "execution_count": 75,
   "id": "2f36d06c",
   "metadata": {},
   "outputs": [
    {
     "name": "stdout",
     "output_type": "stream",
     "text": [
      "Input p1: (n=7, p=3)\n",
      "Input p2: (n=5, p=2)\n",
      "Ideal Output: (n=8, p=4)\n",
      "Actual Output (p3): (n=5, p=3)\n",
      "Assumption: p1 + p2 < 8\n",
      "Error of the addition calculation: 0.1875\n"
     ]
    }
   ],
   "source": [
    "p1 = PortWordLength(n=7, p=3, name=\"p1\", value = \"0100111\")\n",
    "p2 = PortWordLength(n=5, p=2, name=\"p2\")\n",
    "p3 = PortWordLength(n=5, p=3, name = \"p3\")\n",
    "\n",
    "err = error_add(p1=p1, p2=p2, po=p3)\n",
    "\n",
    "print(f\"Error of the addition calculation: {err}\")"
   ]
  },
  {
   "attachments": {},
   "cell_type": "markdown",
   "id": "50d6572b",
   "metadata": {},
   "source": [
    "\n",
    "##### Multiplication\n",
    "The following equations show the ideal output wordlnegth for multiplication.\n",
    "$n^* = n_1 + n_2$,\n",
    "$p* = p_1, p_2$."
   ]
  },
  {
   "cell_type": "code",
   "execution_count": 78,
   "id": "dea9ad92",
   "metadata": {},
   "outputs": [],
   "source": [
    "def compute_required_word_length_mult(in1: PortWordLength, in2:PortWordLength) -> PortWordLength:\n",
    "    new_n = in1.n + in2.n\n",
    "    new_p = in1.p + in2.p\n",
    "    return PortWordLength(n=new_n, p=new_p)\n",
    "\n",
    "def error_mult(p1, p2, po):\n",
    "    print(f\"Input {p1.name}: (n={p1.n}, p={p1.p})\")\n",
    "    print(f\"Input {p2.name}: (n={p2.n}, p={p2.p})\")\n",
    "    p_ideal = compute_required_word_length_mult(in1=p1, in2=p2)\n",
    "    print(f\"Ideal Output: (n={p_ideal.n}, p={p_ideal.p})\")\n",
    "    print(f\"Actual Output ({po.name}): (n={po.n}, p={po.p})\")\n",
    "\n",
    "    assumption_value = get_assumption_value(pi=p_ideal, po=po)\n",
    "    print(f\"Assumption: {p1.name} * {p2.name} < {assumption_value}\")\n",
    "    return truncation_error(pi=p_ideal, po=po)"
   ]
  },
  {
   "cell_type": "code",
   "execution_count": 79,
   "id": "ba1a5db7",
   "metadata": {},
   "outputs": [
    {
     "name": "stdout",
     "output_type": "stream",
     "text": [
      "Input p1: (n=7, p=3)\n",
      "Input p2: (n=5, p=2)\n",
      "Ideal Output: (n=12, p=5)\n",
      "Actual Output (p3): (n=5, p=3)\n",
      "Assumption: p1 * p2 < 8\n",
      "Error of the multiplication calculation: 0.2421875\n"
     ]
    }
   ],
   "source": [
    "p1 = PortWordLength(n=7, p=3, name=\"p1\", value = \"0100111\")\n",
    "p2 = PortWordLength(n=5, p=2, name=\"p2\")\n",
    "p3 = PortWordLength(n=5, p=3, name = \"p3\")\n",
    "\n",
    "err = error_mult(p1=p1, p2=p2, po=p3)\n",
    "\n",
    "print(f\"Error of the multiplication calculation: {err}\")"
   ]
  },
  {
   "attachments": {},
   "cell_type": "markdown",
   "id": "c5b0fd1f",
   "metadata": {},
   "source": [
    "#### Propagation of Error\n",
    "\n",
    "The error $e$ already presents in a signal to the port $p$ will propagate to the final output.\n",
    "Such error including error from the previus operation, quantization error and known inaccuracies of the input.\n",
    "This error is independent to the error of truncation error, as truncation error compares the value of the output to the nominal value of the input signal.\n",
    "As a result, the error can be represented as the sum of the propagation error and the truncation error in the stage: \n",
    "\n",
    "$e = e_p + e_t$\n",
    "\n",
    ", where $e_p$ is the propagtion error from inputs regardless of how many bits we have in the output, and $e_t$ denotes the truncation error that occurs due to the descrepancy between the wordlength of the ideal output and that of the actual output.\n",
    "Thus, it is important to explore differnet word length in the circuit, as one change to the word length affect the accuracy of the output.\n",
    "\n",
    "Let's now see how the error is propagated in different operation"
   ]
  },
  {
   "attachments": {},
   "cell_type": "markdown",
   "id": "eee89085",
   "metadata": {},
   "source": [
    "##### Propagation of Error in Addition\n",
    "The error is exactly the sum of error from both inputs.\n",
    "$e_p = e_1 + e_2$\n"
   ]
  },
  {
   "cell_type": "code",
   "execution_count": null,
   "id": "36582cb6",
   "metadata": {},
   "outputs": [],
   "source": []
  },
  {
   "cell_type": "code",
   "execution_count": null,
   "id": "3719ba6f",
   "metadata": {},
   "outputs": [],
   "source": [
    "p1 = PortWordLength(n=7, p=3, e=0.5, name=\"p1\", value = \"0100111\")\n",
    "p2 = PortWordLength(n=5, p=2, e=0.2, name=\"p2\")\n",
    "p3 = PortWordLength(n=5, p=3, name = \"p3\")\n",
    "\n",
    "err = error_add(p1=p1, p2=p2, po=p3)\n",
    "\n",
    "print(f\"Error of the addition calculation: {err}\")"
   ]
  },
  {
   "attachments": {},
   "cell_type": "markdown",
   "id": "a90f8c44",
   "metadata": {},
   "source": [
    "##### General operation\n",
    "Using the above analysis, we now formulate the contract for different operation."
   ]
  },
  {
   "attachments": {},
   "cell_type": "markdown",
   "id": "39f37c61",
   "metadata": {},
   "source": [
    "In the following, we import the tools for calculating the value for each operation given the word length of the input and output."
   ]
  },
  {
   "attachments": {},
   "cell_type": "markdown",
   "id": "74fcae6e",
   "metadata": {},
   "source": [
    "We use the class PortWordLength to represent the word length.\n",
    "It also contains the known error of the number for propagating the error."
   ]
  },
  {
   "cell_type": "code",
   "execution_count": null,
   "id": "be4a1820",
   "metadata": {},
   "outputs": [],
   "source": []
  },
  {
   "attachments": {},
   "cell_type": "markdown",
   "id": "9756b6c2",
   "metadata": {},
   "source": [
    "#### Example 1\n",
    "Consider the following system with only two adder.\n",
    "TODO: put figure"
   ]
  },
  {
   "attachments": {},
   "cell_type": "markdown",
   "id": "bdf80553",
   "metadata": {},
   "source": [
    "The following function is used to generate contracts, considering all error types."
   ]
  },
  {
   "cell_type": "code",
   "execution_count": null,
   "id": "4430213e",
   "metadata": {},
   "outputs": [],
   "source": [
    "def form_contract(in_port1, in_port2, out_port, operation):\n",
    "    ret_contract = {}\n",
    "    ret_contract[\"InputVars\"] = [f\"{in_port1.name}_a\", f\"{in_port1.name}_e\",\n",
    "                                 f\"{in_port2.name}_a\", f\"{in_port2.name}_e\"]\n",
    "    ret_contract[\"OutputVars\"] = [f\"{out_port.name}_a\", f\"{out_port.name}_e\"]\n",
    "    a_bound = get_assumption_bound(in_port_1=in_port1, in_port_2=in_port2, out_port=out_port, operation_length_fn=operation)\n",
    "    ret_contract[\"assumptions\"] =  [{\"coefficients\":{f\"{in_port1.name}_a\":1, f\"{in_port2.name}_a\":1},\n",
    "                                   \"constant\":a_bound}]\n",
    "    if operation == \"add\":\n",
    "        error_bound = get_guarantee_bound(in_port_1=in_port1, in_port_2=in_port2, out_port=out_port, operation_length_fn=operation)\n",
    "        actual_val_bound = get_actual_possible_value(in_port=out_port)\n",
    "        ret_contract[\"guarantees\"] =  [{\"coefficients\":{f\"{in_port1.name}_e\":-1, f\"{in_port2.name}_e\":-1, f\"{out_port.name}_e\": 1},\n",
    "                                    \"constant\":error_bound},\n",
    "                                    {\"coefficients\":{f\"{out_port.name}_a\": 1}, \"constant\":actual_val_bound},\n",
    "                                    ]\n",
    "    elif operation == \"mult\":\n",
    "        pass\n",
    "\n",
    "    return ret_contract"
   ]
  },
  {
   "cell_type": "code",
   "execution_count": null,
   "id": "690cd39b",
   "metadata": {},
   "outputs": [],
   "source": [
    "    contracts = []\n",
    "    p1 = PortWordLength(n=5, p=2, name = \"p1\")\n",
    "    p2 = PortWordLength(n=5, p=3, name = \"p2\")\n",
    "    p3 = PortWordLength(n=5, p=3, name = \"p3\")\n",
    "    c1 = form_contract(in_port1=p1, in_port2=p2, out_port=p3, operation=\"add\")\n",
    "    contracts.append(c1)\n",
    "    p4 = PortWordLength(n=7, p=3, name = \"p4\")\n",
    "    p5 = PortWordLength(n=6, p=3, name = \"p5\")\n",
    "    c2 = form_contract(in_port1=p3, in_port2=p4, out_port=p5, operation=\"add\")"
   ]
  },
  {
   "cell_type": "code",
   "execution_count": null,
   "id": "c7e3c06a",
   "metadata": {},
   "outputs": [],
   "source": [
    "contract1 = readContract(c1)\n",
    "contract2 = readContract(c2)\n"
   ]
  },
  {
   "cell_type": "code",
   "execution_count": null,
   "id": "77f069b1",
   "metadata": {},
   "outputs": [],
   "source": [
    "print(\"Contract 1:\\n\" + str(contract1))\n",
    "print(\"Contract 2:\\n\" + str(contract2))"
   ]
  },
  {
   "cell_type": "code",
   "execution_count": null,
   "id": "bd19b796",
   "metadata": {},
   "outputs": [],
   "source": [
    "contract_sys = contract1.compose(contract2)\n",
    "print(\"Contract Sys:\\n\" + str(contract_sys))"
   ]
  }
 ],
 "metadata": {
  "kernelspec": {
   "display_name": ".venv",
   "language": "python",
   "name": "python3"
  },
  "language_info": {
   "codemirror_mode": {
    "name": "ipython",
    "version": 3
   },
   "file_extension": ".py",
   "mimetype": "text/x-python",
   "name": "python",
   "nbconvert_exporter": "python",
   "pygments_lexer": "ipython3",
   "version": "3.10.8"
  },
  "vscode": {
   "interpreter": {
    "hash": "22c87ad3ec53eb9b276e0813a9dca175e0f1c6992b6f6007d9c6365c38e3654b"
   }
  }
 },
 "nbformat": 4,
 "nbformat_minor": 5
}
