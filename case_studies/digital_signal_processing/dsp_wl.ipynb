{
 "cells": [
  {
   "attachments": {},
   "cell_type": "markdown",
   "id": "37d4b21e",
   "metadata": {},
   "source": [
    "## Introduction\n",
    "In this case study, we show Pacti can work with a contract-based methodology to aid word-length optimization of digital signal processing integrated circuit design.\n",
    "\n",
    "A digital signal processing system takes digital signals as inputs and generates the output signals by applying digital filters.\n",
    "The input signals are usually obtained through an analog-to-digital converter(ADC) from analog signals acquired from the environment by sensors.\n",
    "The impulse response of the digital filter is a set of coefficients that multiply with the input signals. The result is summed up to get the output signals.\n",
    "\n",
    "Implementation of a digital filter in hardware is a time-consuming and error-prone process.\n",
    "To push the power, performance, and area to their limits, the floating-point operations are converted to fixed-point ones to reduce hardware costs and improve efficiency.\n",
    "However, the conversion incurs challenges, including the risk of overflow and lower accuracy.\n",
    "As a fixed-point number can represent smaller range than a floating-point one with the same number of bits, overflow might occur after the conversion.\n",
    "The fixed-point number with fewer bits tends to have lower accuracy as all bits in the fractional parts exceeding its fractional bits have to be discarded.\n",
    "\n",
    "The following figure shows a multiplication operation using fixed-point numbers.\n",
    "![Data_Path](./figures/digital_data_path_example.png)\n",
    "\n",
    "As a result, verifying and optimizing word length for fixed-point implementation is crucial for integrated circuit implementations.\n",
    "To prevent overflow and ensure the inaccuracy is acceptable, we need to bound the error of the system given the wordlength. \n",
    "In this case study, we apply contracts to compute the bounds of error of fixed-point arithmetic implementation."
   ]
  },
  {
   "attachments": {},
   "cell_type": "markdown",
   "id": "5d6da13b",
   "metadata": {},
   "source": [
    "## Preliminaries\n",
    "\n",
    "First, we introduce the fixed-point number.\n",
    "#### Representation of Fixed-point Number\n",
    "\n",
    "A word length of a fixed-point variable $x$ can denoted as a tuple $(x_n, x_p)$, where $x_n$ denotes the number of bits, and $x_p$ is number of bits for the integer parts.\n",
    "For example, A fixed-point number with word length $(5,2)$ with bit value \"11011\" means the binary number $11.011$, equivalent to $3.375$ in decimal."
   ]
  },
  {
   "attachments": {},
   "cell_type": "markdown",
   "id": "0cc1ddb8",
   "metadata": {},
   "source": [
    "First, we import some data structure for holding the wordlength, and the APIs of Pacti."
   ]
  },
  {
   "cell_type": "code",
   "execution_count": 1,
   "id": "aa002743",
   "metadata": {},
   "outputs": [],
   "source": [
    "from pacti.terms.polyhedra.loaders import read_contract, write_contract\n",
    "from tool import *\n",
    "import numpy as np"
   ]
  },
  {
   "cell_type": "code",
   "execution_count": 2,
   "id": "9659ebc0",
   "metadata": {},
   "outputs": [
    {
     "name": "stdout",
     "output_type": "stream",
     "text": [
      "The word length (n = 5, p = 2) of the bits \"11011\" is: \n",
      "3.375\n"
     ]
    }
   ],
   "source": [
    "# Definition of value_num method in PortWordLength class\n",
    "#    def value_num(self):\n",
    "#        return int(self.value, base=2) * 2 ** (- (self.n - self.p))\n",
    "\n",
    "port = PortWordLength(n=5, p=2, value=\"11011\")\n",
    "print(f\"The word length (n = {port.n}, p = {port.p}) of the bits \\\"{port.value}\\\" is: \")\n",
    "print(port.value_num())"
   ]
  },
  {
   "attachments": {},
   "cell_type": "markdown",
   "id": "d7df9dbe",
   "metadata": {},
   "source": [
    "#### Error Sources in Fixed-point Arithmetic\n",
    "The error of Fixed-point arithmetic comes from the following sources:\n",
    "1. Truncation Errors:\n",
    "A truncation error occurs when a fixed-point number is converted from a longer representation to a shorter one.\n",
    "As the number of bits is insufficient to represent the number perfectly, the least significant bits are truncated to match the word length.\n",
    "Truncation errors occur in fixed-point operations when the word length of the output variable is smaller than the ideal result.\n",
    "2. Quantization Error:\n",
    "The quantization error occurs when an analog signal is converted into a digital one or when the coefficients are encoded into digital formats. As fixed-point number cannot represent any real number with infinite precision, the signals and coefficients have to be quantized, and errors are introduced in the process.\n",
    "3. Inaccurate Source:\n",
    "This error comes from the measurement in the analog signal because of noise and non-ideal effect on the sensor and could be seen as a random noise on the analog signal.\n",
    "\n",
    "The following figure shows the three types of error in the example.\n",
    "![Error_Type](./figures/type_of_error.png)\n",
    "\n",
    "Given a input analog signal, the input signal and filter coefficients are first quantized into fixed-point numbers.\n",
    "Then the arithmetic operations, based on the algorithm or filter design, are performed on these fixed-point numbers.\n",
    "The results of the operations are truncated to fit into the fixed-point numbers of the output of the arithmetic operations.\n",
    "\n",
    "During the process, differences between the fixed-point numbers representation and the ideal numbers result in errors.\n",
    "These errors propagate through the operations and thus affect the accuracy of the output signal."
   ]
  },
  {
   "attachments": {},
   "cell_type": "markdown",
   "id": "78846570",
   "metadata": {},
   "source": [
    "## Forming contract for capturing error of fixed-point number\n",
    "\n",
    "Here we introduce how to form the contract for finding error bounds of the fixed-point number operation.\n",
    "First, we model the truncation errors and investigate how an operation result in the truncation errors.\n",
    "Then we consider the propagation of the error in different operations.\n",
    "We formulate the contract by combining the truncation errors and propagation of the error."
   ]
  },
  {
   "attachments": {},
   "cell_type": "markdown",
   "id": "af36060d",
   "metadata": {},
   "source": [
    "#### Modeling of Error from Operations\n",
    "Each operation can be seen as a two-staged process.\n",
    "First, an ideal output with certain wordlength is generated without losing any accuracy, given the word lengths of all input ports.\n",
    "Then the ideal output is truncated to the actual output port.\n",
    "Therefore, the modeling of the ideal output wordlength and the truncation error is required to formulate the contract."
   ]
  },
  {
   "attachments": {},
   "cell_type": "markdown",
   "id": "f07d53c1",
   "metadata": {},
   "source": [
    "#### Operation Error Modeling\n",
    "In the following, we detail how to model the truncation error.\n",
    "We divide the truncation error into two cases according to the number of bits for integer part.\n",
    "\n",
    "##### Case 1: Identical Number of Bits in Integer Part\n",
    "As the integer part has the same number of bits, overflow does not occur in this case. The least significant bits are truncated if the resulting word length is shorter. The maximal truncation error from the word length $(x_n, x_p)$ to the word length $(x_n', x_p)$ is $2^{x_p}(2^{-x_n'}-2^{-x_n})$, when $x_n > x_n'$. If $x_n < x_n'$, there is no truncation, and thus the truncation error is exactly $0$."
   ]
  },
  {
   "attachments": {},
   "cell_type": "markdown",
   "id": "dc165ff9",
   "metadata": {},
   "source": [
    "The following example shows how the error is bounded:"
   ]
  },
  {
   "cell_type": "code",
   "execution_count": 3,
   "id": "cd58d386",
   "metadata": {},
   "outputs": [],
   "source": [
    "def truncation_error_same_position(pi, po):\n",
    "    assert(pi.p == po.p)\n",
    "    if pi.n > po.n:\n",
    "        return 2 ** po.p * (2 ** (-po.n) - 2 ** (-pi.n))\n",
    "    else :\n",
    "        return 0\n",
    "\n",
    "def truncate(pi, po):\n",
    "    # separate the bits into two parts, before binary point and after binary point\n",
    "    bits_before_point = pi.value[:pi.p]\n",
    "    bits_after_point = pi.value[pi.p:]\n",
    "    \n",
    "    # truncate or appending 0 \n",
    "    if po.p >= pi.p:\n",
    "        bits_before_point = (\"0\" * (po.p - pi.p)) + bits_before_point\n",
    "    else:\n",
    "        bits_before_point = bits_before_point[pi.p - po.p:]\n",
    "\n",
    "    if po.n - po.p >= pi.n - pi.p:\n",
    "        bits_after_point = bits_after_point + \"0\" * (po.n - po.p - pi.n + pi.p)\n",
    "    else:\n",
    "        bits_after_point = bits_after_point[:(po.n - po.p)]\n",
    "\n",
    "    # combine the both parts\n",
    "    ret = bits_before_point + bits_after_point\n",
    "    po.set_value(value = ret)\n",
    "    return po.value"
   ]
  },
  {
   "cell_type": "code",
   "execution_count": 4,
   "id": "13bee31b",
   "metadata": {},
   "outputs": [
    {
     "name": "stdout",
     "output_type": "stream",
     "text": [
      "Truncation Error: \n",
      "0.09375\n",
      "Example Value to produce the error\n",
      "p1 = 3.96875, bits: 1111111\n",
      "p2 = 3.875, bits: 11111\n",
      "p1 - p2 =  0.09375\n"
     ]
    }
   ],
   "source": [
    "p1 = PortWordLength(n=7, p=2, name=\"p1\", value = \"1111111\")\n",
    "p2 = PortWordLength(n=5, p=2, name=\"p2\")\n",
    "\n",
    "print(\"Truncation Error: \")\n",
    "print(truncation_error_same_position(p1, p2))\n",
    "print(\"Example Value to produce the error\")\n",
    "\n",
    "truncate(p1, p2)\n",
    "print(f\"p1 = {p1.value_num()}, bits: {p1.value}\")\n",
    "print(f\"p2 = {p2.value_num()}, bits: {p2.value}\")\n",
    "print(f\"p1 - p2 = \", p1.value_num() - p2.value_num())"
   ]
  },
  {
   "attachments": {},
   "cell_type": "markdown",
   "id": "1ba6de6f",
   "metadata": {},
   "source": [
    "Then let's see what happens if the integer parts have different numbers of bits.\n",
    "##### Case 2. Different Number of Bits in Integer Part \n",
    "As the integer parts have different numbers of bits, overflow could occur if the resulting number cannot hold the original integer values.\n",
    "If an overflow occurs, the result deviates from the ideal value, and thus we expect no overflow occurs during the computation.\n",
    "This expectation will be applied as the assumption in subsequent parts when we formulate contracts.\n",
    "\n",
    "Consider the case when converting a variable $x$ with word length $(x_n, x_p)$ to the variable $x'$ with word length $(x_n', x_p')$.\n",
    "We have to ensure that the value of $x$ does not incur overflow in $x'$.\n",
    "Therefore, it is reasonable to assume that we know that $x$ is bounded by $2^{x_p'}$ so that $x'$ can represent the number without overflows. \n",
    "\n",
    "Then, we can ignore the unnecessary most significant bits ($x_p - x_p'$), as they are always $0$s under the assumption.\n",
    "As a result, $(x_n, x_p)$ can be seen as $(x_n - x_p + x_p', x_p')$. \n",
    "The two numbers now have identical numbers of bits in their integer parts, and thus we can apply case 1 to get the truncation errors under the assumption."
   ]
  },
  {
   "attachments": {},
   "cell_type": "markdown",
   "id": "489baea4",
   "metadata": {},
   "source": [
    "The following example shows how the error can be calculated."
   ]
  },
  {
   "cell_type": "code",
   "execution_count": 5,
   "id": "478aec9d",
   "metadata": {},
   "outputs": [],
   "source": [
    "def truncation_error(pi, po):\n",
    "    # remove uneccesary most significant bits\n",
    "    # Remider: The assumption must hold!!\n",
    "    pi_adjusted = PortWordLength(n=pi.n - pi.p + po.p, p=po.p)\n",
    "    # return the truncation error as in case 1\n",
    "    return truncation_error_same_position(pi=pi_adjusted, po=po)\n",
    "\n",
    "def get_assumption_value(pi, po):\n",
    "    if pi.p > po.p:\n",
    "        return 2 ** po.p\n",
    "    else:\n",
    "        return float(\"inf\") # no additional assumption needed\n",
    "\n",
    "def check_assumption_value(pi, po):\n",
    "    assumption_value = get_assumption_value(pi, po)\n",
    "    print(f\"Assumption: {pi.name} < {assumption_value}\")\n",
    "    if not pi.value_num() < assumption_value:\n",
    "        print(\"Assumption failed, truncation of MSB occurs\")\n",
    "        return False\n",
    "    else:\n",
    "        print(f\"Assumption Satisfied ({pi.name} = {pi.value_num()} < {assumption_value})\")\n",
    "        return True\n",
    "        \n"
   ]
  },
  {
   "cell_type": "code",
   "execution_count": 6,
   "id": "9a24f2bb",
   "metadata": {},
   "outputs": [
    {
     "name": "stdout",
     "output_type": "stream",
     "text": [
      "Assumption: p1 < 4\n",
      "Assumption Satisfied (p1 = 2.4375 < 4)\n",
      "Truncation Error: \n",
      "0.0625\n",
      "Example Value to produce the error\n",
      "p1 = 2.4375, bits: 0100111\n",
      "p2 = 2.375, bits: 10011\n",
      "p1 - p2 =  0.0625\n"
     ]
    }
   ],
   "source": [
    "p1 = PortWordLength(n=7, p=3, name=\"p1\", value = \"0100111\")\n",
    "p2 = PortWordLength(n=5, p=2, name=\"p2\")\n",
    "\n",
    "assert(check_assumption_value(pi=p1, po=p2))\n",
    "\n",
    "print(\"Truncation Error: \")\n",
    "print(truncation_error(p1, p2))\n",
    "print(\"Example Value to produce the error\")\n",
    "\n",
    "truncate(p1, p2)\n",
    "print(f\"p1 = {p1.value_num()}, bits: {p1.value}\")\n",
    "print(f\"p2 = {p2.value_num()}, bits: {p2.value}\")\n",
    "print(f\"p1 - p2 = \", p1.value_num() - p2.value_num())"
   ]
  },
  {
   "attachments": {},
   "cell_type": "markdown",
   "id": "2bfb710e",
   "metadata": {},
   "source": [
    "#### Ideal Output Wordlength\n",
    "Now we know how to get the truncation errors given the word length of two numbers, but what is the word length truncated in operations?\n",
    "\n",
    "Each operation requires a minimum ideal output word length to fully hold the resulting value without losing any information.\n",
    "Assuming a binary operator, with inputs being $x$ and $y$ and output being $z$, we represent the ideal output word length using $(z_n^*, z_p^*)$.\n",
    "The ideal output word length is then truncated to fit the output port.\n",
    "\n",
    "Therefore, we need to know the ideal output word length for the operations.\n",
    "Let's first examine the addition and then the multiplication."
   ]
  },
  {
   "attachments": {},
   "cell_type": "markdown",
   "id": "7397b1b8",
   "metadata": {},
   "source": [
    "##### Addition\n",
    "The following equations show the ideal output word length for addition.\n",
    "\n",
    "$z_n^* = \\max(x_n, y_n - y_p + x_p) + \\min(0, x_p - y_p) + 1$,\n",
    "\n",
    "$z_p^* = \\max(x_p, y_p) + 1$.\n",
    "\n",
    "The rationale behind the equations is to keep every bit from both inputs and include an additional bit for the carry."
   ]
  },
  {
   "cell_type": "code",
   "execution_count": 7,
   "id": "b0bc548f",
   "metadata": {},
   "outputs": [],
   "source": [
    "def compute_required_word_length_add(in1: PortWordLength, in2:PortWordLength) -> PortWordLength:\n",
    "    new_n = max(in1.n, in2.n - in2.p + in1.p) - min(0, in1.p - in2.p) + 1\n",
    "    new_p = max(in1.p, in2.p) + 1\n",
    "    return PortWordLength(n=new_n, p=new_p)\n",
    "\n",
    "def error_truncation_add(p1, p2, po):\n",
    "    print(f\"Input {p1.name}: (n={p1.n}, p={p1.p})\")\n",
    "    print(f\"Input {p2.name}: (n={p2.n}, p={p2.p})\")\n",
    "    p_ideal = compute_required_word_length_add(in1=p1, in2=p2)\n",
    "    print(f\"Ideal Output: (n={p_ideal.n}, p={p_ideal.p})\")\n",
    "    print(f\"Actual Output ({po.name}): (n={po.n}, p={po.p})\")\n",
    "\n",
    "    assumption_value = get_assumption_value(pi=p_ideal, po=po)\n",
    "    print(f\"Assumption: {p1.name} + {p2.name} < {assumption_value}\")\n",
    "    return truncation_error(pi=p_ideal, po=po)\n",
    "    "
   ]
  },
  {
   "cell_type": "code",
   "execution_count": 8,
   "id": "2f36d06c",
   "metadata": {},
   "outputs": [
    {
     "name": "stdout",
     "output_type": "stream",
     "text": [
      "Input p1: (n=7, p=3)\n",
      "Input p2: (n=5, p=2)\n",
      "Ideal Output: (n=8, p=4)\n",
      "Actual Output (p3): (n=5, p=3)\n",
      "Assumption: p1 + p2 < 8\n",
      "Error of the addition calculation: 0.1875\n"
     ]
    }
   ],
   "source": [
    "p1 = PortWordLength(n=7, p=3, name=\"p1\", value = \"0100111\")\n",
    "p2 = PortWordLength(n=5, p=2, name=\"p2\")\n",
    "p3 = PortWordLength(n=5, p=3, name = \"p3\")\n",
    "\n",
    "err = error_truncation_add(p1=p1, p2=p2, po=p3)\n",
    "\n",
    "print(f\"Error of the addition calculation: {err}\")"
   ]
  },
  {
   "attachments": {},
   "cell_type": "markdown",
   "id": "50d6572b",
   "metadata": {},
   "source": [
    "##### Multiplication\n",
    "The following equations show the ideal output word length for multiplication.\n",
    "\n",
    "$z_n^* = x_n + y_n$,\n",
    "\n",
    "$z_p* = x_p, y_p$."
   ]
  },
  {
   "cell_type": "code",
   "execution_count": 9,
   "id": "dea9ad92",
   "metadata": {},
   "outputs": [],
   "source": [
    "def compute_required_word_length_mult(in1: PortWordLength, in2:PortWordLength) -> PortWordLength:\n",
    "    new_n = in1.n + in2.n\n",
    "    new_p = in1.p + in2.p\n",
    "    return PortWordLength(n=new_n, p=new_p)\n",
    "\n",
    "def error_truncation_mult(p1, p2, po):\n",
    "    print(f\"Input {p1.name}: (n={p1.n}, p={p1.p})\")\n",
    "    print(f\"Input {p2.name}: (n={p2.n}, p={p2.p})\")\n",
    "    p_ideal = compute_required_word_length_mult(in1=p1, in2=p2)\n",
    "    print(f\"Ideal Output: (n={p_ideal.n}, p={p_ideal.p})\")\n",
    "    print(f\"Actual Output ({po.name}): (n={po.n}, p={po.p})\")\n",
    "\n",
    "    assumption_value = get_assumption_value(pi=p_ideal, po=po)\n",
    "    print(f\"Assumption: {p1.name} * {p2.name} < {assumption_value}\")\n",
    "    return truncation_error(pi=p_ideal, po=po)"
   ]
  },
  {
   "cell_type": "code",
   "execution_count": 10,
   "id": "ba1a5db7",
   "metadata": {},
   "outputs": [
    {
     "name": "stdout",
     "output_type": "stream",
     "text": [
      "Input p1: (n=7, p=3)\n",
      "Input p2: (n=5, p=2)\n",
      "Ideal Output: (n=12, p=5)\n",
      "Actual Output (p3): (n=5, p=3)\n",
      "Assumption: p1 * p2 < 8\n",
      "Error of the multiplication calculation: 0.2421875\n"
     ]
    }
   ],
   "source": [
    "p1 = PortWordLength(n=7, p=3, name=\"p1\", value = \"0100111\")\n",
    "p2 = PortWordLength(n=5, p=2, name=\"p2\")\n",
    "p3 = PortWordLength(n=5, p=3, name = \"p3\")\n",
    "\n",
    "err = error_truncation_mult(p1=p1, p2=p2, po=p3)\n",
    "\n",
    "print(f\"Error of the multiplication calculation: {err}\")"
   ]
  },
  {
   "attachments": {},
   "cell_type": "markdown",
   "id": "c5b0fd1f",
   "metadata": {},
   "source": [
    "#### Propagation of Error\n",
    "Since fixed-point arithmetic incurs errors, the error could propagate through the previous operation to the final output.\n",
    "This error can be seen as independent of truncation error, as truncation errors are applied to the actual input numbers, which already contain the propagation errors.\n",
    "As a result, the error in the output variable $z$, denoted as $z_e$, can be represented as the sum of the propagation error and the truncation error in the stage: \n",
    "\n",
    "$z_e = z_{et} + z_{ep}$,\n",
    "\n",
    "where $z_{ep}$ is the propagation error from inputs, and $z_{et}$ denotes the truncation error occurs in the operation.\n",
    "\n",
    "Let's now see how the error is propagated in different operations."
   ]
  },
  {
   "attachments": {},
   "cell_type": "markdown",
   "id": "ab92cea9",
   "metadata": {},
   "source": [
    "##### General Operation\n",
    "The propagation error is bounded by the maximum differences between the ideal value and the actual values.\n",
    "Therefore, the propagation errors can be modeled as follows: \n",
    "\n",
    "$z_{ep} = \\max_{0<=x<=x_a, 0<=y<=y_a}(f(x, y)) - f(x-x_e, y-y_e))$,\n",
    "\n",
    "where $x_{a}$ and $y_{a}$ is the upper bound of input variables $x$ and $y$, respectively.\n",
    "\n",
    "According to this equation, we can derive the propagation error for addition and multiplication operations."
   ]
  },
  {
   "attachments": {},
   "cell_type": "markdown",
   "id": "eee89085",
   "metadata": {},
   "source": [
    "##### Propagation of Error in Addition\n",
    "The error is exactly the sum of error from both inputs.\n",
    "$z_{ep} = x_{e} + y_{e}$"
   ]
  },
  {
   "cell_type": "code",
   "execution_count": 11,
   "id": "36582cb6",
   "metadata": {},
   "outputs": [],
   "source": [
    "def error_propagation_add(p1, p2, po):\n",
    "    return p1.e + p2.e"
   ]
  },
  {
   "cell_type": "code",
   "execution_count": 12,
   "id": "3719ba6f",
   "metadata": {},
   "outputs": [
    {
     "name": "stdout",
     "output_type": "stream",
     "text": [
      "Input p1: (n=7, p=3)\n",
      "Input p2: (n=5, p=2)\n",
      "Ideal Output: (n=8, p=4)\n",
      "Actual Output (p3): (n=5, p=3)\n",
      "Assumption: p1 + p2 < 8\n",
      "Propagation error: 0.7\n",
      "Truncation error: 0.1875\n",
      "Error bound of the addition calculation: 0.8875\n"
     ]
    }
   ],
   "source": [
    "p1 = PortWordLength(n=7, p=3, e=0.5, name=\"p1\", value = \"0100111\")\n",
    "p2 = PortWordLength(n=5, p=2, e=0.2, name=\"p2\")\n",
    "p3 = PortWordLength(n=5, p=3, name = \"p3\")\n",
    "\n",
    "e_p = error_propagation_add(p1=p1, p2=p2, po=p3)\n",
    "e_t = error_truncation_add(p1=p1, p2=p2, po=p3)\n",
    "\n",
    "err = e_p + e_t\n",
    "print(f\"Propagation error: {e_p}\")\n",
    "print(f\"Truncation error: {e_t}\")\n",
    "print(f\"Error bound of the addition calculation: {err}\")"
   ]
  },
  {
   "attachments": {},
   "cell_type": "markdown",
   "id": "d25836eb",
   "metadata": {},
   "source": [
    "##### Propagation of Error in Multiplication\n",
    "The error is as follows:\n",
    "\n",
    "$z_{ep} = x_{a}*y_{e} + y_{a}*x_{e} - x_{e} * y_{e}$, \n",
    "\n"
   ]
  },
  {
   "cell_type": "code",
   "execution_count": 13,
   "id": "5613e607",
   "metadata": {},
   "outputs": [],
   "source": [
    "def get_actual_possible_value(in_port: PortWordLength):\n",
    "    return (1 - (2 ** -in_port.n) )* 2 ** in_port.p\n",
    "\n",
    "def error_propagation_mult(p1, p2, po):\n",
    "    return p1.a * p2.e + p2.a * p1.e + p1.e * p2.e"
   ]
  },
  {
   "cell_type": "code",
   "execution_count": 14,
   "id": "6497f4b4",
   "metadata": {},
   "outputs": [
    {
     "name": "stdout",
     "output_type": "stream",
     "text": [
      "Input p1: (n=7, p=3)\n",
      "Input p2: (n=5, p=2)\n",
      "Ideal Output: (n=12, p=5)\n",
      "Actual Output (p3): (n=5, p=3)\n",
      "Assumption: p1 * p2 < 8\n",
      "Propagation error: 2.81875\n",
      "Truncation error: 0.2421875\n",
      "Error bound of the multiplication calculation: 3.0609375\n"
     ]
    }
   ],
   "source": [
    "p1 = PortWordLength(n=7, p=3, e=0.5, name=\"p1\", value = \"0100111\")\n",
    "p2 = PortWordLength(n=5, p=2, e=0.3, name=\"p2\")\n",
    "p3 = PortWordLength(n=5, p=3, name = \"p3\")\n",
    "\n",
    "e_p = error_propagation_mult(p1=p1, p2=p2, po=p3)\n",
    "e_t = error_truncation_mult(p1=p1, p2=p2, po=p3)\n",
    "\n",
    "err = e_p + e_t\n",
    "print(f\"Propagation error: {e_p}\")\n",
    "print(f\"Truncation error: {e_t}\")\n",
    "print(f\"Error bound of the multiplication calculation: {err}\")"
   ]
  },
  {
   "attachments": {},
   "cell_type": "markdown",
   "id": "84358426",
   "metadata": {},
   "source": [
    "#### Contract Formulation\n",
    "we can formulate contracts for each operation by combining the modeling of error bounds from propagation and truncation.\n",
    "A contract is a pair of an assumption and a guarantee $C = (A, G)$, where $C$ represents the contract, $A$ denotes its assumption, and $G$ is the guarantee.\n",
    "In the following, we shall introduce the contract formulation for different operations.\n",
    "\n",
    "##### Ports in Contract\n",
    "\n",
    "Contracts specify system behaviors by describing the assignment of values in ports. \n",
    "For our case study, we see a variable $x$ as a combination of two ports: the upper bound value port and the upper bound error port. \n",
    "The upper bound value port $x_a$ tells the connected component the maximum value the variable can be, and the upper bound error port $x_e$   passes the maximum error to the connected component.\n",
    "\n",
    "##### Assumption\n",
    "The assumption ensures no overflow occurs during the truncation, which has been introduced in the case where truncation involves two variables with different numbers of bits in the integer parts.\n",
    "\n",
    "##### Guarantee\n",
    "The guarantee of the contract includes two parts. The first part describes the upper bound value, and the second states the upper bound error."
   ]
  },
  {
   "attachments": {},
   "cell_type": "markdown",
   "id": "f6001d88",
   "metadata": {},
   "source": [
    "The following functions show how we form contract for arbitrary length of input ports and output ports.\n",
    "The \"_a\" variables are used as the variable for the actual value going through the port."
   ]
  },
  {
   "cell_type": "code",
   "execution_count": 15,
   "id": "7ec7baf9",
   "metadata": {},
   "outputs": [],
   "source": [
    "def form_contract_add(in_port1, in_port2, out_port):\n",
    "    ret_contract = {}\n",
    "    # define input/output vars\n",
    "    ret_contract[\"InputVars\"] = [f\"{in_port1.name}_a\", f\"{in_port1.name}_e\",\n",
    "                                 f\"{in_port2.name}_a\", f\"{in_port2.name}_e\"]\n",
    "    ret_contract[\"OutputVars\"] = [f\"{out_port.name}_a\", f\"{out_port.name}_e\"]\n",
    "    # get assumption\n",
    "    ideal_out_port = compute_required_word_length_add(in1=in_port1, in2=in_port2)\n",
    "    assumption_value = get_assumption_value(pi=ideal_out_port, po=out_port)\n",
    "    # write assumption in the contract\n",
    "    if assumption_value != float(\"inf\"):\n",
    "        ret_contract[\"assumptions\"] =  [{\"coefficients\":{f\"{in_port1.name}_a\":1, f\"{in_port2.name}_a\":1},\n",
    "                                    \"constant\":assumption_value}]\n",
    "    else:\n",
    "        ret_contract[\"assumptions\"] = []\n",
    "    # get guarantee\n",
    "    e_t = truncation_error(pi=ideal_out_port, po=out_port)\n",
    "\n",
    "    # write guarantee in the contract, note the propagation is encoded in the polyhedral constraints\n",
    "    ret_contract[\"guarantees\"] =  [{\"coefficients\":{f\"{in_port1.name}_e\":-1, f\"{in_port2.name}_e\":-1, f\"{out_port.name}_e\": 1},\n",
    "                                \"constant\":e_t},\n",
    "                                {\"coefficients\":{f\"{out_port.name}_a\": 1}, \"constant\":out_port.a},\n",
    "                                #{\"coefficients\":{f\"{out_port.name}_a\": 1}, \"constant\":in_port1.a + in_port2.a},\n",
    "                                {\"coefficients\":{f\"{out_port.name}_a\": 1, f\"{in_port1.name}_a\": -1, f\"{in_port2.name}_a\": -1}, \"constant\":0}\n",
    "                                ]\n",
    "    return ret_contract\n",
    "\n",
    "\n",
    "def form_contract_mult_const(in_port1, in_port_const, out_port):\n",
    "    ret_contract = {}\n",
    "    # define input/output vars\n",
    "    ret_contract[\"InputVars\"] = [f\"{in_port1.name}_a\", f\"{in_port1.name}_e\"]\n",
    "    ret_contract[\"OutputVars\"] = [f\"{out_port.name}_a\", f\"{out_port.name}_e\"]\n",
    "    # get assumption\n",
    "    ideal_out_port = compute_required_word_length_mult(in1=in_port1, in2=in_port_const)\n",
    "    assumption_value = get_assumption_value(pi=ideal_out_port, po=out_port)\n",
    "    # write assumption in the contract\n",
    "    if assumption_value != float(\"inf\"):\n",
    "        print(assumption_value)\n",
    "        ret_contract[\"assumptions\"] =  [{\"coefficients\":{f\"{in_port1.name}_a\": in_port_const.a},\n",
    "                                    \"constant\":assumption_value}]\n",
    "    else:\n",
    "        ret_contract[\"assumptions\"] = []\n",
    "    # get guarantee\n",
    "    print(ideal_out_port.to_string())\n",
    "    e_t = truncation_error(pi=ideal_out_port, po=out_port)\n",
    "\n",
    "    # write guarantee in the contract, note the propagation is encoded in the polyhedral constraints\n",
    "    ret_contract[\"guarantees\"] =  [{\"coefficients\":\n",
    "                                    {   f\"{in_port1.name}_e\":-in_port_const.a+in_port_const.e, \n",
    "                                        f\"{in_port1.name}_a\":-in_port_const.e,\n",
    "                                        f\"{out_port.name}_e\": 1},\n",
    "                                    \"constant\":e_t},\n",
    "                                    {\"coefficients\":{f\"{out_port.name}_a\": 1}, \"constant\":out_port.a},\n",
    "                                    #{\"coefficients\":{f\"{out_port.name}_a\": 1}, \"constant\":in_port_const.a * in_port1.a},\n",
    "                                    {\"coefficients\":{f\"{out_port.name}_a\": 1, f\"{in_port1.name}_a\": -in_port_const.a}, \"constant\":0}\n",
    "                                    ]\n",
    "    return ret_contract"
   ]
  },
  {
   "cell_type": "code",
   "execution_count": 16,
   "id": "a2684ccb",
   "metadata": {},
   "outputs": [
    {
     "name": "stdout",
     "output_type": "stream",
     "text": [
      "{'InputVars': ['p1_a', 'p1_e', 'p2_a', 'p2_e'], 'OutputVars': ['p3_a', 'p3_e'], 'assumptions': [{'coefficients': {'p1_a': 1, 'p2_a': 1}, 'constant': 8}], 'guarantees': [{'coefficients': {'p1_e': -1, 'p2_e': -1, 'p3_e': 1}, 'constant': 0.1875}, {'coefficients': {'p3_a': 1}, 'constant': 7.75}, {'coefficients': {'p3_a': 1, 'p1_a': -1, 'p2_a': -1}, 'constant': 0}]}\n",
      "InVars: [<Var p1_a>, <Var p1_e>, <Var p2_a>, <Var p2_e>]\n",
      "OutVars:[<Var p3_a>, <Var p3_e>]\n",
      "A: 1*p1_a + 1*p2_a <= 8.0\n",
      "G: -1*p1_e + -1*p2_e + 1*p3_e <= 0.1875, 1*p3_a <= 7.75, -1*p1_a + -1*p2_a + 1*p3_a <= 0.0\n",
      "8\n",
      "Port: , (n, p) = (12, 5), e = 0, a = 31.9921875\n",
      "InVars: [<Var p4_a>, <Var p4_e>]\n",
      "OutVars:[<Var p6_a>, <Var p6_e>]\n",
      "A: 3.375*p4_a <= 8.0\n",
      "G: -0.03*p4_a + -3.345*p4_e + 1.0*p6_e <= 0.2421875, 1.0*p6_a <= 7.75, -3.375*p4_a + 1.0*p6_a <= 0.0\n"
     ]
    }
   ],
   "source": [
    "p1 = PortWordLength(n=7, p=3, name=\"p1\")\n",
    "p2 = PortWordLength(n=5, p=2, name=\"p2\")\n",
    "p3 = PortWordLength(n=5, p=3, name=\"p3\")\n",
    "c1 = form_contract_add(in_port1=p1, in_port2=p2, out_port=p3)\n",
    "print(c1)\n",
    "contract1 = read_contract(c1)\n",
    "print(str(contract1))\n",
    "\n",
    "\n",
    "p4 = PortWordLength(n=7, p=3, name=\"p4\")\n",
    "p5 = PortWordLength(n=5, p=2, e=0.03, value=\"11011\", name=\"p5\") # const\n",
    "p6 = PortWordLength(n=5, p=3, name=\"p6\")\n",
    "c2 = form_contract_mult_const(in_port1=p4, in_port_const=p5, out_port=p6)\n",
    "contract2 = read_contract(c2)\n",
    "print(str(contract2))"
   ]
  },
  {
   "attachments": {},
   "cell_type": "markdown",
   "id": "9756b6c2",
   "metadata": {},
   "source": [
    "#### Example 1\n",
    "Consider the following simple system with only two adder.\n",
    "\n",
    "![Example 1](./figures/example1.png)\n",
    "\n",
    "We will show that how Pacti can be applied to get the system errors."
   ]
  },
  {
   "attachments": {},
   "cell_type": "markdown",
   "id": "43122d15",
   "metadata": {},
   "source": [
    "First, we express each port using the PortWordLength class, and then form the contracts for the operations."
   ]
  },
  {
   "cell_type": "code",
   "execution_count": 17,
   "id": "690cd39b",
   "metadata": {},
   "outputs": [
    {
     "name": "stdout",
     "output_type": "stream",
     "text": [
      "Contract 1:\n",
      "InVars: [<Var p1_a>, <Var p1_e>, <Var p2_a>, <Var p2_e>]\n",
      "OutVars:[<Var p3_a>, <Var p3_e>]\n",
      "A: 1*p1_a + 1*p2_a <= 8.0\n",
      "G: -1*p1_e + -1*p2_e + 1*p3_e <= 0.125, 1*p3_a <= 7.75, -1*p1_a + -1*p2_a + 1*p3_a <= 0.0\n",
      "Contract 2:\n",
      "InVars: [<Var p3_a>, <Var p3_e>, <Var p4_a>, <Var p4_e>]\n",
      "OutVars:[<Var p5_a>, <Var p5_e>]\n",
      "A: 1*p3_a + 1*p4_a <= 8.0\n",
      "G: -1*p3_e + -1*p4_e + 1*p5_e <= 0.0625, 1*p5_a <= 7.875, -1*p3_a + -1*p4_a + 1*p5_a <= 0.0\n"
     ]
    }
   ],
   "source": [
    "def create_example1():\n",
    "    p1 = PortWordLength(n=5, p=2, name = \"p1\")\n",
    "    p2 = PortWordLength(n=5, p=3, name = \"p2\")\n",
    "    p3 = PortWordLength(n=5, p=3, name = \"p3\")\n",
    "    c1 = form_contract_add(in_port1=p1, in_port2=p2, out_port=p3)\n",
    "\n",
    "    p4 = PortWordLength(n=7, p=3, name = \"p4\")\n",
    "    p5 = PortWordLength(n=6, p=3, name = \"p5\")\n",
    "    c2 = form_contract_add(in_port1=p3, in_port2=p4, out_port=p5)\n",
    "\n",
    "    contract1 = read_contract(c1)\n",
    "    contract2 = read_contract(c2)\n",
    "    print(\"Contract 1:\\n\" + str(contract1))\n",
    "    print(\"Contract 2:\\n\" + str(contract2))\n",
    "    return contract1, contract2, p1, p2, p3, p4, p5\n",
    "    \n",
    "contract1, contract2, p1, p2, p3, p4, p5 = create_example1()"
   ]
  },
  {
   "attachments": {},
   "cell_type": "markdown",
   "id": "67058ba5",
   "metadata": {},
   "source": [
    "We then use the composition to get the system contract."
   ]
  },
  {
   "cell_type": "code",
   "execution_count": 18,
   "id": "bd19b796",
   "metadata": {},
   "outputs": [
    {
     "name": "stdout",
     "output_type": "stream",
     "text": [
      "Contract Sys:\n",
      "InVars: [<Var p1_a>, <Var p1_e>, <Var p2_a>, <Var p2_e>, <Var p4_a>, <Var p4_e>]\n",
      "OutVars:[<Var p5_a>, <Var p5_e>]\n",
      "A: 1*p4_a <= 0.250000000000000, 1*p1_a + 1*p2_a <= 8.0\n",
      "G: -1*p1_e + -1*p2_e + -1*p4_e + 1*p5_e <= 0.187500000000000, -1*p4_a + 1*p5_a <= 7.75, -1*p1_a + -1*p2_a + -1*p4_a + 1*p5_a <= 0.0, 1*p5_a <= 7.875\n"
     ]
    }
   ],
   "source": [
    "contract_sys = contract1.compose(contract2)\n",
    "print(\"Contract Sys:\\n\" + str(contract_sys))"
   ]
  },
  {
   "attachments": {},
   "cell_type": "markdown",
   "id": "07cfc78b",
   "metadata": {},
   "source": [
    "The system contracts show the relation between the actual value and error bounds in input values.\n",
    "\n",
    "If the designers know the context how the system is used, they can includes additional contracts to constrain the input:\n",
    "\n",
    "First, we try an example that has no additional contraint on the input, meaning that it can take arbitrary value for the fixed-point number."
   ]
  },
  {
   "cell_type": "code",
   "execution_count": 19,
   "id": "e166f72a",
   "metadata": {},
   "outputs": [],
   "source": [
    "def form_contract_input(in_port):\n",
    "    ret_contract = {}\n",
    "    # define input/output vars\n",
    "    ret_contract[\"InputVars\"] = []\n",
    "    ret_contract[\"OutputVars\"] = [f\"{in_port.name}_a\", f\"{in_port.name}_e\"]\n",
    "    # get assumption\n",
    "    ret_contract[\"assumptions\"] = []\n",
    "    ret_contract[\"guarantees\"] =  [ {\"coefficients\": {f\"{in_port.name}_a\": 1}, \"constant\": in_port.a},\n",
    "                                    {\"coefficients\": {f\"{in_port.name}_a\": -1}, \"constant\": 0},\n",
    "                                    {\"coefficients\": {f\"{in_port.name}_e\": 1}, \"constant\": in_port.e},\n",
    "                                    {\"coefficients\": {f\"{in_port.name}_e\": -1}, \"constant\": -in_port.e}]\n",
    "    return ret_contract"
   ]
  },
  {
   "cell_type": "code",
   "execution_count": 20,
   "id": "286e38e8",
   "metadata": {},
   "outputs": [
    {
     "name": "stdout",
     "output_type": "stream",
     "text": [
      "Composition Error\n",
      "The guarantees \n",
      "1*p2_a <= 7.75, -1*p2_a <= 0.0, 1*p2_e <= 0.0, -1*p2_e <= 0.0\n",
      "were insufficient to abduce the assumptions \n",
      "1*p4_a <= 0.250000000000000, 1*p2_a <= 4.12500000000000\n",
      "by eliminating the variables \n",
      "[<Var p2_a>, <Var p2_e>, <Var p5_a>, <Var p5_e>]\n"
     ]
    }
   ],
   "source": [
    "def test_example_1():\n",
    "    c_p1 = form_contract_input(in_port=p1)\n",
    "    c_p2 = form_contract_input(in_port=p2)\n",
    "    c_p4 = form_contract_input(in_port=p4)\n",
    "\n",
    "    contract_p1 = read_contract(c_p1)\n",
    "    contract_p2 = read_contract(c_p2)\n",
    "    contract_p4 = read_contract(c_p4)\n",
    "    \n",
    "    try: \n",
    "        contract_sys = contract1.compose(contract2)\n",
    "        contract_sys = contract_p1.compose(contract_sys)\n",
    "        contract_sys = contract_p2.compose(contract_sys)\n",
    "        contract_sys = contract_p4.compose(contract_sys)\n",
    "        print(\"Contract Sys:\\n\" + str(contract_sys))\n",
    "        return contract_sys\n",
    "    except ValueError as e:\n",
    "        print(\"Composition Error\")\n",
    "        print(e)\n",
    "\n",
    "contract_sys = test_example_1()"
   ]
  },
  {
   "attachments": {},
   "cell_type": "markdown",
   "id": "67da6d8f",
   "metadata": {},
   "source": [
    "The result shows that the guarantees are not sufficient to abduce the assumption.\n",
    "\n",
    "It can be observed easily that the input value of `p2_a` = 7.75 would violate the required assumption to prevent MSB from truncated.\n"
   ]
  },
  {
   "attachments": {},
   "cell_type": "markdown",
   "id": "303b6882",
   "metadata": {},
   "source": [
    "Then we consider the case where certain constraints are known for the inputs:"
   ]
  },
  {
   "cell_type": "code",
   "execution_count": 21,
   "id": "7620625b",
   "metadata": {},
   "outputs": [
    {
     "name": "stdout",
     "output_type": "stream",
     "text": [
      "Contract Sys:\n",
      "InVars: []\n",
      "OutVars:[<Var p5_a>, <Var p5_e>]\n",
      "A: true\n",
      "G: 1*p5_a <= 5.81250000000000, 1*p5_e <= 0.187500000000000\n"
     ]
    }
   ],
   "source": [
    "p1.set_value(\"10000\")\n",
    "p2.set_value(\"01111\")\n",
    "p4.set_value(\"0000001\")\n",
    "contract_sys = test_example_1()"
   ]
  },
  {
   "attachments": {},
   "cell_type": "markdown",
   "id": "97fc7bd1",
   "metadata": {},
   "source": [
    "Under these sets of constraints on the input, the system is compatible with the environment and thus we obtain the bounds on the actual output and the error bounds to an ideal output. "
   ]
  },
  {
   "attachments": {},
   "cell_type": "markdown",
   "id": "b156f32a",
   "metadata": {},
   "source": [
    "The contract bring us the benefits of performing more operations on the system.\n",
    "\n",
    "For example, we can apply the quotient to find word length for a certain signal.\n",
    "\n",
    "Take the system as an example again. If we want to reduce the wordlength of the intermediate signal $P_3$, we can use quotient to get the required wordlength.\n",
    "\n",
    "![Example 1](./figures/example1.png)"
   ]
  },
  {
   "attachments": {},
   "cell_type": "markdown",
   "id": "fbd47751",
   "metadata": {},
   "source": [
    "To use quotient, we starts from the system contract.\n",
    "The system contract describes what the system looks like without knowing the underlying components.\n",
    "Let's say we can tolerate an error of the output by 0.1 given the same input constraints for the previous refined one.\n",
    "\n",
    "The system contract should be like this:\n",
    "```\n",
    "A: True\n",
    "G: 1*p5_e <= 0.1\n",
    "```\n",
    "\n",
    "We can invoke contract quotient to get the desired system contract:"
   ]
  },
  {
   "cell_type": "code",
   "execution_count": 22,
   "id": "9c168335",
   "metadata": {},
   "outputs": [
    {
     "name": "stdout",
     "output_type": "stream",
     "text": [
      "Top Level Specification:\n",
      "InVars: []\n",
      "OutVars:[<Var p5_a>, <Var p5_e>]\n",
      "A: true\n",
      "G: 1*p5_e <= 0.1\n"
     ]
    }
   ],
   "source": [
    "def get_desired_system_contract():\n",
    "    ret_contract = {}\n",
    "    ret_contract[\"InputVars\"] = []\n",
    "    ret_contract[\"OutputVars\"] = [\"p5_a\", \"p5_e\"]\n",
    "    ret_contract[\"assumptions\"] = []\n",
    "    ret_contract[\"guarantees\"] = [\n",
    "                                  {\"coefficients\": {f\"p5_e\": 1}, \"constant\": 0.1}]\n",
    "    return read_contract(ret_contract)\n",
    "\n",
    "contract_spec = get_desired_system_contract()\n",
    "print(\"Top Level Specification:\")\n",
    "print(str(contract_spec))"
   ]
  },
  {
   "cell_type": "code",
   "execution_count": 23,
   "id": "874e95da",
   "metadata": {},
   "outputs": [
    {
     "name": "stdout",
     "output_type": "stream",
     "text": [
      "Quotient of the Spec:\n",
      "InVars: [<Var p1_a>, <Var p1_e>, <Var p2_a>, <Var p2_e>, <Var p4_a>, <Var p4_e>]\n",
      "OutVars:[<Var p5_a>, <Var p5_e>]\n",
      "A: 1*p1_a <= 2.0, -1*p1_a <= 0.0, 1*p1_e <= 0.0, -1*p1_e <= 0.0, 1*p2_a <= 3.75, -1*p2_a <= 0.0, 1*p2_e <= 0.0, -1*p2_e <= 0.0, 1*p4_a <= 0.0625, -1*p4_a <= 0.0, 1*p4_e <= 0.0, -1*p4_e <= 0.0\n",
      "G: 1*p5_e <= 0.10000000000000009\n"
     ]
    }
   ],
   "source": [
    "def quotient_example1():\n",
    "    c_p1 = form_contract_input(in_port=p1)\n",
    "    c_p2 = form_contract_input(in_port=p2)\n",
    "    c_p4 = form_contract_input(in_port=p4)\n",
    "\n",
    "    contract_p1 = read_contract(c_p1)\n",
    "    contract_p2 = read_contract(c_p2)\n",
    "    contract_p4 = read_contract(c_p4)\n",
    "\n",
    "    tmp_c1 = contract_spec.quotient(contract_p1)\n",
    "\n",
    "    tmp_c2 = tmp_c1.quotient(contract_p2)\n",
    "    tmp_c3 = tmp_c2.quotient(contract_p4)\n",
    "    return tmp_c3\n",
    "\n",
    "quotient_ret = quotient_example1()\n",
    "print(\"Quotient of the Spec:\")\n",
    "print(str(quotient_ret))\n"
   ]
  },
  {
   "attachments": {},
   "cell_type": "markdown",
   "id": "8e4ae76c",
   "metadata": {},
   "source": [
    "The benefits of using contract is that we can focus on local information of the contract, and thus reduce the problem size.\n",
    "As a result, we can perform exhaustive search on finding the wordlength that satisfy the goal."
   ]
  },
  {
   "cell_type": "code",
   "execution_count": 24,
   "id": "a4015339",
   "metadata": {},
   "outputs": [
    {
     "name": "stdout",
     "output_type": "stream",
     "text": [
      "Wordlength for P3 to satisfy the spec is n = 6\n"
     ]
    }
   ],
   "source": [
    "def create_example1_by_p3(p3_n, p3_p):\n",
    "    p1 = PortWordLength(n=5, p=2, name = \"p1\")\n",
    "    p2 = PortWordLength(n=5, p=3, name = \"p2\")\n",
    "    p3 = PortWordLength(n=p3_n, p=p3_p, name = \"p3\")\n",
    "    c1 = form_contract_add(in_port1=p1, in_port2=p2, out_port=p3)\n",
    "\n",
    "    p4 = PortWordLength(n=7, p=3, name = \"p4\")\n",
    "    p5 = PortWordLength(n=6, p=3, name = \"p5\")\n",
    "    c2 = form_contract_add(in_port1=p3, in_port2=p4, out_port=p5)\n",
    "\n",
    "    p1.set_value(\"10000\")\n",
    "    p2.set_value(\"01111\")\n",
    "    p4.set_value(\"0000000\")\n",
    "\n",
    "    contract1 = read_contract(c1)\n",
    "    contract2 = read_contract(c2)\n",
    "    #print(\"Contract 1:\\n\" + str(contract1))\n",
    "    #print(\"Contract 2:\\n\" + str(contract2))\n",
    "    return contract1, contract2, p1, p2, p3, p4, p5\n",
    "\n",
    "def compose_all(contract1, contract2, p1, p2, p3, p4, p5):\n",
    "    c_p1 = form_contract_input(in_port=p1)\n",
    "    c_p2 = form_contract_input(in_port=p2)\n",
    "    c_p4 = form_contract_input(in_port=p4)\n",
    "\n",
    "    contract_p1 = read_contract(c_p1)\n",
    "    contract_p2 = read_contract(c_p2)\n",
    "    contract_p4 = read_contract(c_p4)\n",
    "    \n",
    "    try: \n",
    "        contract_sys = contract1.compose(contract2)\n",
    "        contract_sys = contract_p1.compose(contract_sys)\n",
    "        contract_sys = contract_p2.compose(contract_sys)\n",
    "        contract_sys = contract_p4.compose(contract_sys)\n",
    "        print(\"Contract Sys:\\n\" + str(contract_sys))\n",
    "        return contract_sys\n",
    "    except ValueError as e:\n",
    "        print(\"Composition Error\")\n",
    "        print(e)\n",
    "        raise ValueError(\"Composition Fails\")\n",
    "\n",
    "#contract_sys = test_example_1()\n",
    "\n",
    "def exhaustive_search():\n",
    "    for n in range(5, 10):\n",
    "        #print(n)\n",
    "        p = 3 # keep the same number of bits (2) before binary point\n",
    "        contract1, contract2, p1, p2, p3, p4, p5 = create_example1_by_p3(p3_n=n, p3_p=p)\n",
    "        try:\n",
    "            contract_sys = contract1.compose(contract2)\n",
    "            #contract_sys = compose_all(contract1, contract2, p1, p2, p3, p4, p5)\n",
    "            #print(str(contract_sys))\n",
    "        except ValueError as e:\n",
    "            continue\n",
    "\n",
    "        if contract_sys.refines(quotient_ret):\n",
    "            return n\n",
    "n = exhaustive_search()\n",
    "print(f\"Wordlength for P3 to satisfy the spec is n = {n}\")\n",
    "\n",
    "    "
   ]
  },
  {
   "attachments": {},
   "cell_type": "markdown",
   "id": "830ca81b",
   "metadata": {},
   "source": [
    "#### Example 2: Filter Design\n",
    "\n",
    "We apply the contract to a simple filter that computes the moving average of the signal\n",
    "\n",
    "![Example2](./figures/digital_filter_flow.png)\n",
    "\n",
    "$y[n] = 0.2 \\times x[n-2] + 0.6 \\times x[n-1] + 0.2 \\times x[n] $\n",
    "\n",
    "And the following function perform the filter on the signal"
   ]
  },
  {
   "cell_type": "code",
   "execution_count": 25,
   "id": "b6dbabf4",
   "metadata": {},
   "outputs": [
    {
     "name": "stdout",
     "output_type": "stream",
     "text": [
      "[0.25 1.2  2.34 3.97 4.94 2.2  0.3 ]\n"
     ]
    }
   ],
   "source": [
    "\n",
    "def example2_filter(x):\n",
    "    v = np.array([0.2, 0.6, 0.2])\n",
    "    return np.convolve(x, v)\n",
    "\n",
    "print(example2_filter([1.25, 2.25, 3.7, 6.5, 1.5]))\n"
   ]
  },
  {
   "attachments": {},
   "cell_type": "markdown",
   "id": "b32d9868",
   "metadata": {},
   "source": [
    "We can use contract to evaluate the abstracted performance of a datapath for the filter.\n",
    "\n",
    "In the following, we examine the design of using 6 bits for all signal in a transpose form digital filter design."
   ]
  },
  {
   "cell_type": "code",
   "execution_count": 26,
   "id": "062572a4",
   "metadata": {},
   "outputs": [
    {
     "name": "stdout",
     "output_type": "stream",
     "text": [
      "truncated coefficient: 0.2 to 0.1875\n",
      "truncated coefficient: 0.6 to 0.59375\n",
      "truncated coefficient: 0.2 to 0.1875\n",
      "Port: , (n, p) = (12, 0), e = 0, a = 0.999755859375\n",
      "Port: , (n, p) = (12, 0), e = 0, a = 0.999755859375\n",
      "Port: , (n, p) = (12, 0), e = 0, a = 0.999755859375\n",
      "InVars: []\n",
      "OutVars:[<Var add_out2_a>, <Var add_out2_e>]\n",
      "A: true\n",
      "G: 1*add_out2_e <= 0.0769042968750000, 1*add_out2_a <= 0.953613281250000\n"
     ]
    }
   ],
   "source": [
    "in1 = PortWordLength(n=6, p=0, e=0, name=\"in1\")\n",
    "in2 = PortWordLength(n=6, p=0, e=0, name=\"in2\")\n",
    "in3 = PortWordLength(n=6, p=0, e=0, name=\"in3\")\n",
    "const1 = PortWordLength(n=6, p=0, name=\"const1\")\n",
    "const2 = PortWordLength(n=6, p=0, name=\"const2\")\n",
    "const3 = PortWordLength(n=6, p=0, name=\"const3\")\n",
    "mult_out1 = PortWordLength(n=6, p=0, name=\"mult_out1\")\n",
    "mult_out2 = PortWordLength(n=6, p=0, name=\"mult_out2\")\n",
    "mult_out3 = PortWordLength(n=6, p=0, name=\"mult_out3\")\n",
    "add_out1 = PortWordLength(n=6, p=0, name=\"add_out1\")\n",
    "add_out2 = PortWordLength(n=6, p=0, name=\"add_out2\")\n",
    "\n",
    "const1.set_value(float_to_bin(0.2, const1))\n",
    "const2.set_value(float_to_bin(0.6, const2))\n",
    "const3.set_value(float_to_bin(0.2, const3))\n",
    "const1.set_e(0.2 - const1.value_num())\n",
    "const2.set_e(0.6 - const2.value_num())\n",
    "const3.set_e(0.2 - const3.value_num())\n",
    "\n",
    "print(f\"truncated coefficient: 0.2 to {const1.value_num()}\")\n",
    "print(f\"truncated coefficient: 0.6 to {const2.value_num()}\")\n",
    "print(f\"truncated coefficient: 0.2 to {const3.value_num()}\")\n",
    "\n",
    "c1 = form_contract_mult_const(in_port1=in1, in_port_const=const1, out_port=mult_out1)\n",
    "c2 = form_contract_mult_const(in_port1=in2, in_port_const=const2, out_port=mult_out2)\n",
    "c3 = form_contract_mult_const(in_port1=in3, in_port_const=const3, out_port=mult_out3)\n",
    "\n",
    "ci1 = form_contract_input(in_port=in1)\n",
    "ci2 = form_contract_input(in_port=in2)\n",
    "ci3 = form_contract_input(in_port=in3)\n",
    "\n",
    "contract1 = read_contract(c1)\n",
    "contract2 = read_contract(c2)\n",
    "contract3 = read_contract(c3)\n",
    "contract_i1 = read_contract(ci1)\n",
    "contract_i2 = read_contract(ci2)\n",
    "contract_i3 = read_contract(ci3)\n",
    "c4 = form_contract_add(in_port1 = mult_out1, in_port2=mult_out2, out_port=add_out1)\n",
    "c5 = form_contract_add(in_port1 = add_out1, in_port2=mult_out3, out_port=add_out2)\n",
    "contract4 = read_contract(c4)\n",
    "contract5 = read_contract(c5)\n",
    "\n",
    "contract_system = contract_i1.compose(contract1)\n",
    "contract_system = contract_system.compose(contract_i2)\n",
    "contract_system = contract_system.compose(contract2)\n",
    "contract_system = contract_system.compose(contract_i3)\n",
    "contract_system = contract_system.compose(contract3)\n",
    "contract_system = contract_system.compose(contract4)\n",
    "contract_system = contract_system.compose(contract5)\n",
    "print(str(contract_system))\n"
   ]
  },
  {
   "attachments": {},
   "cell_type": "markdown",
   "id": "6a546be1",
   "metadata": {},
   "source": [
    "The result shows that we can get an upper bound on the error of the output `add_out_e` is bounded by about 0.07690.\n",
    "And this is the extreme case when the input is the following case:\n",
    "\n",
    "Note that this is always an upper bound to the actual errors as we abstract the calculation and considers the worse case truncation error for each operation.\n",
    "\n",
    "If the obtained error is smaller than the specification, we can rest assure that the design already satisfy the goal and we can either submit the design or change some wordlength and see if we can use smaller wordlength to achieve the same specification.\n",
    "\n",
    "If the obtained error is larger than the specification, the level of abstraction is not sufficient to prove the correctness of the design.\n",
    "Refinement of the error model or extensive verfication is therefore needed to verify the design.\n",
    " "
   ]
  },
  {
   "attachments": {},
   "cell_type": "markdown",
   "id": "cd0558b3",
   "metadata": {},
   "source": [
    "To see the actual errors for this specific case, we can enumerate all input sequence.\n"
   ]
  },
  {
   "cell_type": "code",
   "execution_count": 27,
   "id": "4e0031d7",
   "metadata": {},
   "outputs": [
    {
     "name": "stdout",
     "output_type": "stream",
     "text": [
      "0.06874999999999998 0.828125 0.578125 0.828125 0.921875\n"
     ]
    }
   ],
   "source": [
    "def enumerate_error():\n",
    "    diff_max = 0\n",
    "    a_max = 0\n",
    "    i1_max=0\n",
    "    i2_max=0\n",
    "    i3_max=0\n",
    "    for i1 in range(0, 2**6):\n",
    "        i1_float = i1/2**6\n",
    "        in1_a = float_to_bin(i1_float, in1)\n",
    "        in1.set_value(in1_a)\n",
    "        for i2 in range(0, 2**6):\n",
    "            i2_float = i2/2**6\n",
    "            in2_a = float_to_bin(i2_float, in2)\n",
    "            in2.set_value(in2_a)\n",
    "            for i3 in range(0, 2**6):\n",
    "                i3_float = i3/2**6\n",
    "                in3_a = float_to_bin(i3_float, in3)\n",
    "                in3.set_value(in3_a)\n",
    "\n",
    "                port_mult(in1, const1, mult_out1)\n",
    "                port_mult(in2, const2, mult_out2)\n",
    "                port_mult(in3, const3, mult_out3)\n",
    "                port_add(mult_out1, mult_out2, add_out1)\n",
    "                port_add(add_out1, mult_out3, add_out2)\n",
    "                actual_result = add_out2.value_num()\n",
    "                ideal_result = i1_float * 0.2 + i2_float * 0.6 + i3_float * 0.2\n",
    "                diff = ideal_result - actual_result\n",
    "\n",
    "                if diff > diff_max:\n",
    "                    diff_max = diff\n",
    "                    i1_max = i1_float\n",
    "                    i2_max = i2_float\n",
    "                    i3_max = i3_float\n",
    "                if actual_result > a_max:\n",
    "                    a_max = actual_result\n",
    "    return diff_max, i1_max, i2_max, i3_max, a_max\n",
    "\n",
    "diff_max, i1_max, i2_max, i3_max, a_max = enumerate_error()\n",
    "print(diff_max, i1_max, i2_max, i3_max, a_max)"
   ]
  },
  {
   "attachments": {},
   "cell_type": "markdown",
   "id": "5e4f03ee",
   "metadata": {},
   "source": [
    "This verifies that our abstracted error bound is indeed an upper bound for all possible input values."
   ]
  }
 ],
 "metadata": {
  "kernelspec": {
   "display_name": ".venv",
   "language": "python",
   "name": "python3"
  },
  "language_info": {
   "codemirror_mode": {
    "name": "ipython",
    "version": 3
   },
   "file_extension": ".py",
   "mimetype": "text/x-python",
   "name": "python",
   "nbconvert_exporter": "python",
   "pygments_lexer": "ipython3",
   "version": "3.10.8"
  },
  "vscode": {
   "interpreter": {
    "hash": "78dc007b53ef20b8c3a2948aee301f63e114313002845a9d4f0a7039ee0943cf"
   }
  }
 },
 "nbformat": 4,
 "nbformat_minor": 5
}
