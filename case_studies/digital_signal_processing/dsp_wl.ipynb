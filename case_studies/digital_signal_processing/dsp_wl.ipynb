{
 "cells": [
  {
   "attachments": {},
   "cell_type": "markdown",
   "id": "37d4b21e",
   "metadata": {},
   "source": [
    "## Introduction\n",
    "In this example, we show how contracts can be applied to find the bounds of error of a digital signal processing circuit with Gear.\n",
    "\n",
    "A digital signal processing circuit takes inputs from a digital signal and applies a digital filter to the input signal to generate the output signal.\n",
    "The input digital signal is usually obtained through an analog-to-digital converter(ADC) from an anolog signal, which is acquired by sensor from the environment.\n",
    "The impulse response of the filter is a set of coefficients that are multiplied to the input signal and summed up to get the output signal.\n",
    "\n",
    "One problem with the implementation of an digital filter in hardware is the precision of representation.\n",
    "Ideally, if the precision of the representation is perfect, meaning that we can store and compute any numbers accurately, the resulting signal can be the same as what we expected when design the filter in real numbers.\n",
    "However, as digital circuits encode number in limited number of bits, infinite precision is impossible to achieve for all real numbers.\n",
    "Furthermore, the number of bits for representation affects the circuit design as well as the performance of the hardware, and thus exploring and determining the representations of number is crucial for the design of a digital signal processing circuit.\n",
    "\n",
    "Fixed-point number and floating-point number are common representations to encode a number.\n",
    "The floating-point number exploits an exponent as part of the encoding to increase the range that the representation can cover.\n",
    "However, the operation for floating number, such as addition and multiplication, leads to higher hardware resources for implementation.\n",
    "On the other hand, a fixed-point number treats its binary point at a fixed location in the encoding, and thus having smaller range for the representation.\n",
    "The benefits of fixed-point number include much more compact and energy-efficient implementation of the operations than the floating-point number.\n",
    "As a result, the digital signal processing circuit design might choose the fixed-point representation to achieve higher performance, with carefully selected word length, the number of bits for the fixed-point number, to encode the number to attain required precision in the output.\n",
    "\n",
    "The following figure shows a multiplication operation using fixed-point number in signal processing.\n",
    "\n",
    "![Example 1](figures/digital_data_path_example.png)\n",
    "\n",
    "The input signal and filter coefficients are first quantized into fixed-point numbers.\n",
    "Then the arithmetic operations, based on the algorithm or filter design, are performed on these fixed-point numbers.\n",
    "The results of the operations are truncated to fit into the fixed-point numbers of the output of the arithemetic operations.\n",
    "\n",
    "During the process, differences between the fixed-point numbers representation and the ideal numbers create errors.\n",
    "These errors propagate through the operations and thus affect the accuracy of the output signal.\n",
    "The errors of computation of a digital signal processing circuit come from three sources: truncation error, quantization error, and inaccurate source.\n",
    "\n",
    "1.  Truncation Error:\n",
    "The truncation error is the error when a fixed-point number is converted from a longer representation to a shorter representation, which means the bits are not sufficient to represent the number, and thus the number must be truncated.\n",
    "The truncation error occur when the result of an operation is connect to a signal with different word length.\n",
    "2. Quantization Error:\n",
    "The quantization error occurs when the an analog signal is converted into a digital signal, or an algorithm requires real numbers as its coefficients. As the fixed number cannot represent any real number with infinite precision. The number has to be quantized and thus are not as the exact value as the analog signal.\n",
    "\n",
    "3. Inaccurate Source:\n",
    "This error comes from the measurement in the analog signal because of noise and non-ideal effect on the sensor, and could be seen as a random noise on the analog signal.\n",
    "\n",
    "The following figure shows the three types of error in the example.\n",
    "\n",
    "![Example 1](figures/type_of_error.png)\n",
    "\n",
    "In this case study, we would like to use contracts to compute the bounds of error of a digital circuit to show that contracts are capable of verifying the satisfaction of the accuracy requirement for the design, and that contracts-based method can be applied to help optimizing the word length of the fixed-point number.\n",
    "The determination of the number of bits for fixed-point number requires tradeoff between the accuracy and the performance of the circuit.\n",
    "Power, timing, and area of the circuit can benefit from reducing the number of bits for representation of fixed-point number as the gate count can be reduced, which results in shorter critical path length for optimization and smaller core footprint.\n",
    "\n"
   ]
  },
  {
   "attachments": {},
   "cell_type": "markdown",
   "id": "5d6da13b",
   "metadata": {},
   "source": [
    "## Preliminaries\n",
    "\n",
    "First, we introduce the fixed-point number.\n",
    "#### Representation of Fixed-point Number\n",
    "\n",
    "A word length of a fixed-point number can be described as a tuple $(n, p)$, where $n$ denotes the number of bits, and $p$ is the position of the binary point, with 0 position means the position before the most significant bit.\n",
    "\n",
    "For example, A fixed-point number with word length $(5,2)$ with bit value \"11011\" means the binary number $11.011$, which is equivalent to $3.375$ in decimal."
   ]
  },
  {
   "attachments": {},
   "cell_type": "markdown",
   "id": "0cc1ddb8",
   "metadata": {},
   "source": [
    "First, we import some data structure for holding the wordlength, and the apis of gear."
   ]
  },
  {
   "cell_type": "code",
   "execution_count": 1,
   "id": "aa002743",
   "metadata": {},
   "outputs": [],
   "source": [
    "from gear.terms.polyhedra.loaders import readContract, writeContract\n",
    "from tool import *\n",
    "import numpy as np"
   ]
  },
  {
   "cell_type": "code",
   "execution_count": 2,
   "id": "9659ebc0",
   "metadata": {},
   "outputs": [
    {
     "name": "stdout",
     "output_type": "stream",
     "text": [
      "The word length (n = 5, p = 2) of the bits \"11011\" is: \n",
      "3.375\n"
     ]
    }
   ],
   "source": [
    "# Definition of value_num method in PortWordLength class\n",
    "#    def value_num(self):\n",
    "#        return int(self.value, base=2) * 2 ** (- (self.n - self.p))\n",
    "\n",
    "port = PortWordLength(n=5, p=2, value=\"11011\")\n",
    "print(f\"The word length (n = {port.n}, p = {port.p}) of the bits \\\"{port.value}\\\" is: \")\n",
    "print(port.value_num())"
   ]
  },
  {
   "attachments": {},
   "cell_type": "markdown",
   "id": "78846570",
   "metadata": {},
   "source": [
    "## Forming contract for capturing error of fixed-point number\n",
    "\n",
    "Here we introduce how to form the contract for the fixed-point number operation.\n",
    "First, we need to model how the error is generated.\n",
    "Then we consider the propagation of the error.\n",
    "We formulate the contract by combining the generation of error and propagation of the error."
   ]
  },
  {
   "attachments": {},
   "cell_type": "markdown",
   "id": "af36060d",
   "metadata": {},
   "source": [
    "#### Error Modeling\n",
    "Each operation can be seen as a two-staged process.\n",
    "First, an ideal output with certian wordlength is generated without losing any information, given the word lengths of all input ports.\n",
    "Then the ideal output is truncated to the actual output port and could result in truncation error.\n",
    "Therefore, the modeling of the ideal output wordlength and the truncation error is required to formulate the contract."
   ]
  },
  {
   "attachments": {},
   "cell_type": "markdown",
   "id": "f07d53c1",
   "metadata": {},
   "source": [
    "#### Truncation Error Modeling\n",
    "In the following, we details how to model the truncation error.\n",
    "\n",
    "##### Case 1. Binary Point Position Unchanged\n",
    "In this case the change of word length only result in losing the lowest significant bits.\n",
    "The maximal truncation error from the word length $(n_1, p)$ to the word length $(n_2, p)$ is $2^{p}(2^{-n_2}-2^{-n_1})$, when $n_1 > n_2$.\n",
    "If $n_1 <= n_2$, there is no truncation and therefore the error is exactly $0$."
   ]
  },
  {
   "attachments": {},
   "cell_type": "markdown",
   "id": "dc165ff9",
   "metadata": {},
   "source": [
    "The following example shows how the error is bounded:"
   ]
  },
  {
   "cell_type": "code",
   "execution_count": 3,
   "id": "cd58d386",
   "metadata": {},
   "outputs": [],
   "source": [
    "def truncation_error_same_position(pi, po):\n",
    "    assert(pi.p == po.p)\n",
    "    if pi.n > po.n:\n",
    "        return 2 ** po.p * (2 ** (-po.n) - 2 ** (-pi.n))\n",
    "    else :\n",
    "        return 0\n",
    "\n",
    "def truncate(pi, po):\n",
    "    # separate the bits into two parts, before binary point and after binary point\n",
    "    bits_before_point = pi.value[:pi.p]\n",
    "    bits_after_point = pi.value[pi.p:]\n",
    "    \n",
    "    # truncate or appending 0 \n",
    "    if po.p >= pi.p:\n",
    "        bits_before_point = (\"0\" * (po.p - pi.p)) + bits_before_point\n",
    "    else:\n",
    "        bits_before_point = bits_before_point[pi.p - po.p:]\n",
    "\n",
    "    if po.n - po.p >= pi.n - pi.p:\n",
    "        bits_after_point = bits_after_point + \"0\" * (po.n - po.p - pi.n + pi.p)\n",
    "    else:\n",
    "        bits_after_point = bits_after_point[:(po.n - po.p)]\n",
    "\n",
    "    # combine the both parts\n",
    "    ret = bits_before_point + bits_after_point\n",
    "    po.set_value(value = ret)\n",
    "    return po.value"
   ]
  },
  {
   "cell_type": "code",
   "execution_count": 4,
   "id": "13bee31b",
   "metadata": {},
   "outputs": [
    {
     "name": "stdout",
     "output_type": "stream",
     "text": [
      "Truncation Error: \n",
      "0.09375\n",
      "Example Value to produce the error\n",
      "p1 = 3.96875, bits: 1111111\n",
      "p2 = 3.875, bits: 11111\n",
      "p1 - p2 =  0.09375\n"
     ]
    }
   ],
   "source": [
    "p1 = PortWordLength(n=7, p=2, name=\"p1\", value = \"1111111\")\n",
    "p2 = PortWordLength(n=5, p=2, name=\"p2\")\n",
    "\n",
    "print(\"Truncation Error: \")\n",
    "print(truncation_error_same_position(p1, p2))\n",
    "print(\"Example Value to produce the error\")\n",
    "\n",
    "truncate(p1, p2)\n",
    "print(f\"p1 = {p1.value_num()}, bits: {p1.value}\")\n",
    "print(f\"p2 = {p2.value_num()}, bits: {p2.value}\")\n",
    "print(f\"p1 - p2 = \", p1.value_num() - p2.value_num())"
   ]
  },
  {
   "attachments": {},
   "cell_type": "markdown",
   "id": "1ba6de6f",
   "metadata": {},
   "source": [
    "Then let's see what happen if the binary point position is changed\n",
    "##### Case 2. Binary Point Position Change\n",
    "Consider the case when $(n_1, p_1)$ to the word length $(n_2, p_2)$\n",
    "If the binary point position is change and result in less bits before the binary point ($p_1 > p_2$), the significant bits in the initial representation will be lost. \n",
    "Therefore, it is reasonable to assume that we know exactly the maximum number of the initial number should not set bits that cannot be included in $2^{p_2}$, which sets an assumption that the initial number must be strictly less than $2^{p_2}$.\n",
    "Then, we can see the fixed-point number as if the those uneccesary most significant bits ($p_1 - p_2$) can be discarded.\n",
    "$(n_1, p_1)$ can be seen as $(n_1 - p_1 + p_2, p_2)$. \n",
    "Then it become the case one, only with the additional assumption."
   ]
  },
  {
   "attachments": {},
   "cell_type": "markdown",
   "id": "489baea4",
   "metadata": {},
   "source": [
    "The following example shows how the error can be calculated."
   ]
  },
  {
   "cell_type": "code",
   "execution_count": 5,
   "id": "478aec9d",
   "metadata": {},
   "outputs": [],
   "source": [
    "def truncation_error(pi, po):\n",
    "    # remove uneccesary most significant bits\n",
    "    # Remider: The assumption must hold!!\n",
    "    pi_adjusted = PortWordLength(n=pi.n - pi.p + po.p, p=po.p)\n",
    "    # return the truncation error as in case 1\n",
    "    return truncation_error_same_position(pi=pi_adjusted, po=po)\n",
    "\n",
    "def get_assumption_value(pi, po):\n",
    "    if pi.p > po.p:\n",
    "        return 2 ** po.p\n",
    "    else:\n",
    "        return float(\"inf\") # no additional assumption needed\n",
    "\n",
    "def check_assumption_value(pi, po):\n",
    "    assumption_value = get_assumption_value(pi, po)\n",
    "    print(f\"Assumption: {pi.name} < {assumption_value}\")\n",
    "    if not pi.value_num() < assumption_value:\n",
    "        print(\"Assumption failed, truncation of MSB occurs\")\n",
    "        return False\n",
    "    else:\n",
    "        print(f\"Assumption Satisfied ({pi.name} = {pi.value_num()} < {assumption_value})\")\n",
    "        return True\n",
    "        \n"
   ]
  },
  {
   "cell_type": "code",
   "execution_count": 6,
   "id": "9a24f2bb",
   "metadata": {},
   "outputs": [
    {
     "name": "stdout",
     "output_type": "stream",
     "text": [
      "Assumption: p1 < 4\n",
      "Assumption Satisfied (p1 = 2.4375 < 4)\n",
      "Truncation Error: \n",
      "0.0625\n",
      "Example Value to produce the error\n",
      "p1 = 2.4375, bits: 0100111\n",
      "p2 = 2.375, bits: 10011\n",
      "p1 - p2 =  0.0625\n"
     ]
    }
   ],
   "source": [
    "p1 = PortWordLength(n=7, p=3, name=\"p1\", value = \"0100111\")\n",
    "p2 = PortWordLength(n=5, p=2, name=\"p2\")\n",
    "\n",
    "assert(check_assumption_value(pi=p1, po=p2))\n",
    "\n",
    "print(\"Truncation Error: \")\n",
    "print(truncation_error(p1, p2))\n",
    "print(\"Example Value to produce the error\")\n",
    "\n",
    "truncate(p1, p2)\n",
    "print(f\"p1 = {p1.value_num()}, bits: {p1.value}\")\n",
    "print(f\"p2 = {p2.value_num()}, bits: {p2.value}\")\n",
    "print(f\"p1 - p2 = \", p1.value_num() - p2.value_num())"
   ]
  },
  {
   "attachments": {},
   "cell_type": "markdown",
   "id": "2bfb710e",
   "metadata": {},
   "source": [
    "#### Ideal Output Wordlength\n",
    "After we analyze the truncation error, the next problem is what is the wordlength before truncation?\n",
    "Each operation requires an minimal ideal output wordlength to fully hold the resulting value without losing any information.\n",
    "We represent the ideal output wordlength using $(n^*, p^*)$.\n",
    "This is the wordlength truncated before sending to the output port.\n",
    "And $(n_1, p_1), (n_2, n_2)$ denotes the wordlength of two inputs.\n",
    "\n",
    "The ideal output wordlength depends on the type of operation\n",
    "Let's first examine the addition and then the multiplication"
   ]
  },
  {
   "attachments": {},
   "cell_type": "markdown",
   "id": "7397b1b8",
   "metadata": {},
   "source": [
    "##### Addition\n",
    "The following equations show the ideal output wordlnegth for addition.\n",
    "\n",
    "$n^* = \\max(n_1, n_2 - p_2 + p_1) + \\min(0, p_1 - p_2) + 1$,\n",
    "\n",
    "$p* = \\max(p_1, p_2) + 1$.\n",
    "\n",
    "The rationale behind the equations is to keep every bits in both inputs and add an additional one bits in the front of the output to handle the carry.\n",
    "\n",
    "Using the ideal output wordlength and the above truncation error. We can calculate the error induced by addition"
   ]
  },
  {
   "cell_type": "code",
   "execution_count": 7,
   "id": "b0bc548f",
   "metadata": {},
   "outputs": [],
   "source": [
    "def compute_required_word_length_add(in1: PortWordLength, in2:PortWordLength) -> PortWordLength:\n",
    "    new_n = max(in1.n, in2.n - in2.p + in1.p) - min(0, in1.p - in2.p) + 1\n",
    "    new_p = max(in1.p, in2.p) + 1\n",
    "    return PortWordLength(n=new_n, p=new_p)\n",
    "\n",
    "def error_truncation_add(p1, p2, po):\n",
    "    print(f\"Input {p1.name}: (n={p1.n}, p={p1.p})\")\n",
    "    print(f\"Input {p2.name}: (n={p2.n}, p={p2.p})\")\n",
    "    p_ideal = compute_required_word_length_add(in1=p1, in2=p2)\n",
    "    print(f\"Ideal Output: (n={p_ideal.n}, p={p_ideal.p})\")\n",
    "    print(f\"Actual Output ({po.name}): (n={po.n}, p={po.p})\")\n",
    "\n",
    "    assumption_value = get_assumption_value(pi=p_ideal, po=po)\n",
    "    print(f\"Assumption: {p1.name} + {p2.name} < {assumption_value}\")\n",
    "    return truncation_error(pi=p_ideal, po=po)\n",
    "    "
   ]
  },
  {
   "cell_type": "code",
   "execution_count": 8,
   "id": "2f36d06c",
   "metadata": {},
   "outputs": [
    {
     "name": "stdout",
     "output_type": "stream",
     "text": [
      "Input p1: (n=7, p=3)\n",
      "Input p2: (n=5, p=2)\n",
      "Ideal Output: (n=8, p=4)\n",
      "Actual Output (p3): (n=5, p=3)\n",
      "Assumption: p1 + p2 < 8\n",
      "Error of the addition calculation: 0.1875\n"
     ]
    }
   ],
   "source": [
    "p1 = PortWordLength(n=7, p=3, name=\"p1\", value = \"0100111\")\n",
    "p2 = PortWordLength(n=5, p=2, name=\"p2\")\n",
    "p3 = PortWordLength(n=5, p=3, name = \"p3\")\n",
    "\n",
    "err = error_truncation_add(p1=p1, p2=p2, po=p3)\n",
    "\n",
    "print(f\"Error of the addition calculation: {err}\")"
   ]
  },
  {
   "attachments": {},
   "cell_type": "markdown",
   "id": "50d6572b",
   "metadata": {},
   "source": [
    "\n",
    "##### Multiplication\n",
    "The following equations show the ideal output wordlnegth for multiplication.\n",
    "$n^* = n_1 + n_2$,\n",
    "$p* = p_1, p_2$."
   ]
  },
  {
   "cell_type": "code",
   "execution_count": 9,
   "id": "dea9ad92",
   "metadata": {},
   "outputs": [],
   "source": [
    "def compute_required_word_length_mult(in1: PortWordLength, in2:PortWordLength) -> PortWordLength:\n",
    "    new_n = in1.n + in2.n\n",
    "    new_p = in1.p + in2.p\n",
    "    return PortWordLength(n=new_n, p=new_p)\n",
    "\n",
    "def error_truncation_mult(p1, p2, po):\n",
    "    print(f\"Input {p1.name}: (n={p1.n}, p={p1.p})\")\n",
    "    print(f\"Input {p2.name}: (n={p2.n}, p={p2.p})\")\n",
    "    p_ideal = compute_required_word_length_mult(in1=p1, in2=p2)\n",
    "    print(f\"Ideal Output: (n={p_ideal.n}, p={p_ideal.p})\")\n",
    "    print(f\"Actual Output ({po.name}): (n={po.n}, p={po.p})\")\n",
    "\n",
    "    assumption_value = get_assumption_value(pi=p_ideal, po=po)\n",
    "    print(f\"Assumption: {p1.name} * {p2.name} < {assumption_value}\")\n",
    "    return truncation_error(pi=p_ideal, po=po)"
   ]
  },
  {
   "cell_type": "code",
   "execution_count": 10,
   "id": "ba1a5db7",
   "metadata": {},
   "outputs": [
    {
     "name": "stdout",
     "output_type": "stream",
     "text": [
      "Input p1: (n=7, p=3)\n",
      "Input p2: (n=5, p=2)\n",
      "Ideal Output: (n=12, p=5)\n",
      "Actual Output (p3): (n=5, p=3)\n",
      "Assumption: p1 * p2 < 8\n",
      "Error of the multiplication calculation: 0.2421875\n"
     ]
    }
   ],
   "source": [
    "p1 = PortWordLength(n=7, p=3, name=\"p1\", value = \"0100111\")\n",
    "p2 = PortWordLength(n=5, p=2, name=\"p2\")\n",
    "p3 = PortWordLength(n=5, p=3, name = \"p3\")\n",
    "\n",
    "err = error_truncation_mult(p1=p1, p2=p2, po=p3)\n",
    "\n",
    "print(f\"Error of the multiplication calculation: {err}\")"
   ]
  },
  {
   "attachments": {},
   "cell_type": "markdown",
   "id": "c5b0fd1f",
   "metadata": {},
   "source": [
    "#### Propagation of Error\n",
    "\n",
    "The error $e$ already presents in a signal to the port $p$ will propagate to the final output.\n",
    "Such error including error from the previus operation, quantization error and known inaccuracies of the input.\n",
    "This error is independent to the error of truncation error, as truncation error compares the value of the output to the nominal value of the input signal.\n",
    "As a result, the error can be represented as the sum of the propagation error and the truncation error in the stage: \n",
    "\n",
    "$e = e_p + e_t$,\n",
    "\n",
    "where $e_p$ is the propagtion error from inputs regardless of how many bits we have in the output, and $e_t$ denotes the truncation error that occurs due to the descrepancy between the wordlength of the ideal output and that of the actual output.\n",
    "Thus, it is important to explore differnet word length in the circuit, as one change to the word length affect the accuracy of the output.\n",
    "\n",
    "Let's now see how the error is propagated in different operation"
   ]
  },
  {
   "attachments": {},
   "cell_type": "markdown",
   "id": "eee89085",
   "metadata": {},
   "source": [
    "##### Propagation of Error in Addition\n",
    "The error is exactly the sum of error from both inputs.\n",
    "$e_p = e_1 + e_2$\n"
   ]
  },
  {
   "cell_type": "code",
   "execution_count": 11,
   "id": "36582cb6",
   "metadata": {},
   "outputs": [],
   "source": [
    "def error_propagation_add(p1, p2, po):\n",
    "    return p1.e + p2.e"
   ]
  },
  {
   "cell_type": "code",
   "execution_count": 12,
   "id": "3719ba6f",
   "metadata": {},
   "outputs": [
    {
     "name": "stdout",
     "output_type": "stream",
     "text": [
      "Input p1: (n=7, p=3)\n",
      "Input p2: (n=5, p=2)\n",
      "Ideal Output: (n=8, p=4)\n",
      "Actual Output (p3): (n=5, p=3)\n",
      "Assumption: p1 + p2 < 8\n",
      "Propagation error: 0.7\n",
      "Truncation error: 0.1875\n",
      "Error bound of the addition calculation: 0.8875\n"
     ]
    }
   ],
   "source": [
    "p1 = PortWordLength(n=7, p=3, e=0.5, name=\"p1\", value = \"0100111\")\n",
    "p2 = PortWordLength(n=5, p=2, e=0.2, name=\"p2\")\n",
    "p3 = PortWordLength(n=5, p=3, name = \"p3\")\n",
    "\n",
    "e_p = error_propagation_add(p1=p1, p2=p2, po=p3)\n",
    "e_t = error_truncation_add(p1=p1, p2=p2, po=p3)\n",
    "\n",
    "err = e_p + e_t\n",
    "print(f\"Propagation error: {e_p}\")\n",
    "print(f\"Truncation error: {e_t}\")\n",
    "print(f\"Error bound of the addition calculation: {err}\")"
   ]
  },
  {
   "attachments": {},
   "cell_type": "markdown",
   "id": "d25836eb",
   "metadata": {},
   "source": [
    "##### Propagation of Error in Multiplication\n",
    "The error is as follows:\n",
    "\n",
    "$e_p = a_1*e_2 + a_2*e_1 - e_1 * e_2$, \n",
    "\n",
    "where $a_1$ is the maximal possible value from input $1$, $a_2$ is the maximum possible value from input $2$.\n"
   ]
  },
  {
   "cell_type": "code",
   "execution_count": 13,
   "id": "5613e607",
   "metadata": {},
   "outputs": [],
   "source": [
    "def get_actual_possible_value(in_port: PortWordLength):\n",
    "    return (1 - (2 ** -in_port.n) )* 2 ** in_port.p\n",
    "\n",
    "def error_propagation_mult(p1, p2, po):\n",
    "    return p1.a * p2.e + p2.a * p1.e + p1.e * p2.e"
   ]
  },
  {
   "cell_type": "code",
   "execution_count": 14,
   "id": "6497f4b4",
   "metadata": {},
   "outputs": [
    {
     "name": "stdout",
     "output_type": "stream",
     "text": [
      "Input p1: (n=7, p=3)\n",
      "Input p2: (n=5, p=2)\n",
      "Ideal Output: (n=12, p=5)\n",
      "Actual Output (p3): (n=5, p=3)\n",
      "Assumption: p1 * p2 < 8\n",
      "Propagation error: 2.81875\n",
      "Truncation error: 0.2421875\n",
      "Error bound of the multiplication calculation: 3.0609375\n"
     ]
    }
   ],
   "source": [
    "p1 = PortWordLength(n=7, p=3, e=0.5, name=\"p1\", value = \"0100111\")\n",
    "p2 = PortWordLength(n=5, p=2, e=0.3, name=\"p2\")\n",
    "p3 = PortWordLength(n=5, p=3, name = \"p3\")\n",
    "\n",
    "e_p = error_propagation_mult(p1=p1, p2=p2, po=p3)\n",
    "e_t = error_truncation_mult(p1=p1, p2=p2, po=p3)\n",
    "\n",
    "err = e_p + e_t\n",
    "print(f\"Propagation error: {e_p}\")\n",
    "print(f\"Truncation error: {e_t}\")\n",
    "print(f\"Error bound of the multiplication calculation: {err}\")"
   ]
  },
  {
   "attachments": {},
   "cell_type": "markdown",
   "id": "a90f8c44",
   "metadata": {},
   "source": [
    "##### General operation\n",
    "Using the above analysis, we now formulate the contract for different operation.\n",
    "The error of any general operations with arity n, denoted by $f(x_1, x_2,..., x_n)$ is as follows:\n",
    "\n",
    "$e_p = f(x_1, x_2,..., x_n)) - f(x_1 - e_1, x_2 - e_2,..., x_n - e_n)$ "
   ]
  },
  {
   "attachments": {},
   "cell_type": "markdown",
   "id": "84358426",
   "metadata": {},
   "source": [
    "#### Contract Formulation\n",
    "Combining the error bound modeling from propagation and truncation. We can formalte contracts for each operation.\n",
    "A contract is a pair of assumption and guarantee, denoted by $C = (A, G)$, where $C$ represents the contract, $A$ denotes its assumption, and $G$ is the guarantee.\n",
    "In the following, we introduce how the contract is formulated for addition and multiplication.\n",
    "\n",
    "##### Variables in the contract\n",
    "To describe the behavior of the operations, we encode two variables for each port: the actual value and the error.\n",
    "The actual value means the nominal value appears at the port instead of the ideal value we hope to use in the signal processing algorithm.\n",
    "The error is the deviation of the nominal value to the ideal value in the signal processing algorithm.\n",
    "\n",
    "##### Assumption\n",
    "The only source of assumption is the assumption in truncation to prevent losing significant bits when the binary point positions of the ideal output and the truncated output is different.\n",
    "\n",
    "##### Guarantee\n",
    "The guarantee of the contract includees two part. The first part describes the error of the output port, and the second part ensures the range of the actual value in the output port."
   ]
  },
  {
   "attachments": {},
   "cell_type": "markdown",
   "id": "f6001d88",
   "metadata": {},
   "source": [
    "The following functions show how we form contract for arbitrary length of input ports and output ports.\n",
    "The \"_a\" variables are used as the variable for the actual value going through the port."
   ]
  },
  {
   "cell_type": "code",
   "execution_count": 15,
   "id": "7ec7baf9",
   "metadata": {},
   "outputs": [],
   "source": [
    "def form_contract_add(in_port1, in_port2, out_port):\n",
    "    ret_contract = {}\n",
    "    # define input/output vars\n",
    "    ret_contract[\"InputVars\"] = [f\"{in_port1.name}_a\", f\"{in_port1.name}_e\",\n",
    "                                 f\"{in_port2.name}_a\", f\"{in_port2.name}_e\"]\n",
    "    ret_contract[\"OutputVars\"] = [f\"{out_port.name}_a\", f\"{out_port.name}_e\"]\n",
    "    # get assumption\n",
    "    ideal_out_port = compute_required_word_length_add(in1=in_port1, in2=in_port2)\n",
    "    assumption_value = get_assumption_value(pi=ideal_out_port, po=out_port)\n",
    "    # write assumption in the contract\n",
    "    if assumption_value != float(\"inf\"):\n",
    "        ret_contract[\"assumptions\"] =  [{\"coefficients\":{f\"{in_port1.name}_a\":1, f\"{in_port2.name}_a\":1},\n",
    "                                    \"constant\":assumption_value}]\n",
    "    else:\n",
    "        ret_contract[\"assumptions\"] = []\n",
    "    # get guarantee\n",
    "    e_t = truncation_error(pi=ideal_out_port, po=out_port)\n",
    "\n",
    "    # write guarantee in the contract, note the propagation is encoded in the polyhedral constraints\n",
    "    ret_contract[\"guarantees\"] =  [{\"coefficients\":{f\"{in_port1.name}_e\":-1, f\"{in_port2.name}_e\":-1, f\"{out_port.name}_e\": 1},\n",
    "                                \"constant\":e_t},\n",
    "                                {\"coefficients\":{f\"{out_port.name}_a\": 1}, \"constant\":out_port.a},\n",
    "                                {\"coefficients\":{f\"{out_port.name}_a\": 1}, \"constant\":in_port1.a + in_port2.a},\n",
    "                                {\"coefficients\":{f\"{out_port.name}_a\": 1, f\"{in_port1.name}_a\": -1, f\"{in_port2.name}_a\": -1}, \"constant\":0}\n",
    "                                ]\n",
    "    return ret_contract\n",
    "\n",
    "\n",
    "def form_contract_mult_const(in_port1, in_port_const, out_port):\n",
    "    ret_contract = {}\n",
    "    # define input/output vars\n",
    "    ret_contract[\"InputVars\"] = [f\"{in_port1.name}_a\", f\"{in_port1.name}_e\"]\n",
    "    ret_contract[\"OutputVars\"] = [f\"{out_port.name}_a\", f\"{out_port.name}_e\"]\n",
    "    # get assumption\n",
    "    ideal_out_port = compute_required_word_length_mult(in1=in_port1, in2=in_port_const)\n",
    "    assumption_value = get_assumption_value(pi=ideal_out_port, po=out_port)\n",
    "    # write assumption in the contract\n",
    "    if assumption_value != float(\"inf\"):\n",
    "        print(assumption_value)\n",
    "        ret_contract[\"assumptions\"] =  [{\"coefficients\":{f\"{in_port1.name}_a\": in_port_const.a},\n",
    "                                    \"constant\":assumption_value}]\n",
    "    else:\n",
    "        ret_contract[\"assumptions\"] = []\n",
    "    # get guarantee\n",
    "    print(ideal_out_port.to_string())\n",
    "    e_t = truncation_error(pi=ideal_out_port, po=out_port)\n",
    "\n",
    "    # write guarantee in the contract, note the propagation is encoded in the polyhedral constraints\n",
    "    ret_contract[\"guarantees\"] =  [{\"coefficients\":\n",
    "                                    {   f\"{in_port1.name}_e\":-in_port_const.a+in_port_const.e, \n",
    "                                        f\"{in_port1.name}_a\":-in_port_const.e,\n",
    "                                        f\"{out_port.name}_e\": 1},\n",
    "                                    \"constant\":e_t},\n",
    "                                    {\"coefficients\":{f\"{out_port.name}_a\": 1}, \"constant\":out_port.a},\n",
    "                                    {\"coefficients\":{f\"{out_port.name}_a\": 1}, \"constant\":in_port_const.a * in_port1.a},\n",
    "                                    {\"coefficients\":{f\"{out_port.name}_a\": 1, f\"{in_port1.name}_a\": -in_port_const.a}, \"constant\":0}\n",
    "                                    ]\n",
    "    return ret_contract"
   ]
  },
  {
   "cell_type": "code",
   "execution_count": 16,
   "id": "a2684ccb",
   "metadata": {},
   "outputs": [
    {
     "name": "stdout",
     "output_type": "stream",
     "text": [
      "{'InputVars': ['p1_a', 'p1_e', 'p2_a', 'p2_e'], 'OutputVars': ['p3_a', 'p3_e'], 'assumptions': [{'coefficients': {'p1_a': 1, 'p2_a': 1}, 'constant': 8}], 'guarantees': [{'coefficients': {'p1_e': -1, 'p2_e': -1, 'p3_e': 1}, 'constant': 0.1875}, {'coefficients': {'p3_a': 1}, 'constant': 7.75}, {'coefficients': {'p3_a': 1}, 'constant': 11.8125}, {'coefficients': {'p3_a': 1, 'p1_a': -1, 'p2_a': -1}, 'constant': 0}]}\n",
      "InVars: [<Var p1_a>, <Var p1_e>, <Var p2_a>, <Var p2_e>]\n",
      "OutVars:[<Var p3_a>, <Var p3_e>]\n",
      "A: 1*p1_a + 1*p2_a <= 8\n",
      "G: -1*p1_e + -1*p2_e + 1*p3_e <= 0.1875, 1*p3_a <= 7.75, -1*p1_a + -1*p2_a + 1*p3_a <= 0.0\n",
      "8\n",
      "Port: , (n, p) = (12, 5), e = 0, a = 31.9921875\n",
      "InVars: [<Var p4_a>, <Var p4_e>]\n",
      "OutVars:[<Var p6_a>, <Var p6_e>]\n",
      "A: 3.375*p4_a <= 8\n",
      "G: -0.03*p4_a + -3.345*p4_e + 1.0*p6_e <= 0.2421875, 1.0*p6_a <= 7.75, -3.375*p4_a + 1.0*p6_a <= 0.0\n"
     ]
    }
   ],
   "source": [
    "p1 = PortWordLength(n=7, p=3, name=\"p1\")\n",
    "p2 = PortWordLength(n=5, p=2, name=\"p2\")\n",
    "p3 = PortWordLength(n=5, p=3, name=\"p3\")\n",
    "c1 = form_contract_add(in_port1=p1, in_port2=p2, out_port=p3)\n",
    "print(c1)\n",
    "contract1 = readContract(c1)\n",
    "print(str(contract1))\n",
    "\n",
    "\n",
    "p4 = PortWordLength(n=7, p=3, name=\"p4\")\n",
    "p5 = PortWordLength(n=5, p=2, e=0.03, value=\"11011\", name=\"p5\") # const\n",
    "p6 = PortWordLength(n=5, p=3, name=\"p6\")\n",
    "c2 = form_contract_mult_const(in_port1=p4, in_port_const=p5, out_port=p6)\n",
    "contract2 = readContract(c2)\n",
    "print(str(contract2))"
   ]
  },
  {
   "attachments": {},
   "cell_type": "markdown",
   "id": "9756b6c2",
   "metadata": {},
   "source": [
    "#### Example 1\n",
    "Consider the following simple system with only two adder.\n",
    "\n",
    "![Example 1](figures/example1.png)\n",
    "\n",
    "We will show that how gear can be applied to get the system errors."
   ]
  },
  {
   "attachments": {},
   "cell_type": "markdown",
   "id": "43122d15",
   "metadata": {},
   "source": [
    "First, we express each port using the PortWordLength class, and then form the contracts for the operations."
   ]
  },
  {
   "cell_type": "code",
   "execution_count": 36,
   "id": "690cd39b",
   "metadata": {},
   "outputs": [
    {
     "name": "stdout",
     "output_type": "stream",
     "text": [
      "Contract 1:\n",
      "InVars: [<Var p1_a>, <Var p1_e>, <Var p2_a>, <Var p2_e>]\n",
      "OutVars:[<Var p3_a>, <Var p3_e>]\n",
      "A: 1*p1_a + 1*p2_a <= 8\n",
      "G: -1*p1_e + -1*p2_e + 1*p3_e <= 0.125, 1*p3_a <= 7.75, -1*p1_a + -1*p2_a + 1*p3_a <= 0.0\n",
      "Contract 2:\n",
      "InVars: [<Var p3_a>, <Var p3_e>, <Var p4_a>, <Var p4_e>]\n",
      "OutVars:[<Var p5_a>, <Var p5_e>]\n",
      "A: 1*p3_a + 1*p4_a <= 8\n",
      "G: -1*p3_e + -1*p4_e + 1*p5_e <= 0.0625, 1*p5_a <= 7.875, -1*p3_a + -1*p4_a + 1*p5_a <= 0.0\n"
     ]
    }
   ],
   "source": [
    "def create_example1():\n",
    "    p1 = PortWordLength(n=5, p=2, name = \"p1\")\n",
    "    p2 = PortWordLength(n=5, p=3, name = \"p2\")\n",
    "    p3 = PortWordLength(n=5, p=3, name = \"p3\")\n",
    "    c1 = form_contract_add(in_port1=p1, in_port2=p2, out_port=p3)\n",
    "\n",
    "    p4 = PortWordLength(n=7, p=3, name = \"p4\")\n",
    "    p5 = PortWordLength(n=6, p=3, name = \"p5\")\n",
    "    c2 = form_contract_add(in_port1=p3, in_port2=p4, out_port=p5)\n",
    "\n",
    "    contract1 = readContract(c1)\n",
    "    contract2 = readContract(c2)\n",
    "    print(\"Contract 1:\\n\" + str(contract1))\n",
    "    print(\"Contract 2:\\n\" + str(contract2))\n",
    "    return contract1, contract2, p1, p2, p3, p4, p5\n",
    "    \n",
    "contract1, contract2, p1, p2, p3, p4, p5 = create_example1()"
   ]
  },
  {
   "attachments": {},
   "cell_type": "markdown",
   "id": "67058ba5",
   "metadata": {},
   "source": [
    "We then use the composition to get the system contract."
   ]
  },
  {
   "cell_type": "code",
   "execution_count": 37,
   "id": "bd19b796",
   "metadata": {},
   "outputs": [
    {
     "name": "stdout",
     "output_type": "stream",
     "text": [
      "Contract Sys:\n",
      "InVars: [<Var p1_a>, <Var p1_e>, <Var p2_a>, <Var p2_e>, <Var p4_a>, <Var p4_e>]\n",
      "OutVars:[<Var p5_a>, <Var p5_e>]\n",
      "A: 1*p4_a <= 0.250000000000000, 1*p1_a + 1*p2_a <= 8\n",
      "G: -1*p1_e + -1*p2_e + -1*p4_e + 1*p5_e <= 0.187500000000000, -1*p4_a + 1*p5_a <= 7.75, -1*p1_a + -1*p2_a + -1*p4_a + 1*p5_a <= 0.0, 1*p5_a <= 7.875\n"
     ]
    }
   ],
   "source": [
    "contract_sys = contract1.compose(contract2)\n",
    "print(\"Contract Sys:\\n\" + str(contract_sys))"
   ]
  },
  {
   "attachments": {},
   "cell_type": "markdown",
   "id": "07cfc78b",
   "metadata": {},
   "source": [
    "The system contracts show the relation between the actual value and error bounds in input values.\n",
    "\n",
    "If the designers know the context how the system is used, they can includes additional contracts to constrain the input:\n",
    "\n",
    "First, we try an example that has no additional contraint on the input, meaning that it can take arbitrary value for the fixed-point number."
   ]
  },
  {
   "cell_type": "code",
   "execution_count": 38,
   "id": "e166f72a",
   "metadata": {},
   "outputs": [],
   "source": [
    "def form_contract_input(in_port):\n",
    "    ret_contract = {}\n",
    "    # define input/output vars\n",
    "    ret_contract[\"InputVars\"] = []\n",
    "    ret_contract[\"OutputVars\"] = [f\"{in_port.name}_a\", f\"{in_port.name}_e\"]\n",
    "    # get assumption\n",
    "    ret_contract[\"assumptions\"] = []\n",
    "    ret_contract[\"guarantees\"] =  [ {\"coefficients\": {f\"{in_port.name}_a\": 1}, \"constant\": in_port.a},\n",
    "                                    {\"coefficients\": {f\"{in_port.name}_a\": -1}, \"constant\": 0},\n",
    "                                    {\"coefficients\": {f\"{in_port.name}_e\": 1}, \"constant\": in_port.e},\n",
    "                                    {\"coefficients\": {f\"{in_port.name}_e\": -1}, \"constant\": -in_port.e}]\n",
    "    return ret_contract"
   ]
  },
  {
   "cell_type": "code",
   "execution_count": 39,
   "id": "286e38e8",
   "metadata": {},
   "outputs": [
    {
     "name": "stdout",
     "output_type": "stream",
     "text": [
      "Composition Error\n",
      "The guarantees \n",
      "1*p2_a <= 7.75, -1*p2_a <= 0.0, 1*p2_e <= 0.0, -1*p2_e <= 0.0\n",
      "were insufficient to abduce the assumptions \n",
      "1*p4_a <= 0.250000000000000, 1*p2_a <= 4.12500000000000\n",
      "by eliminating the variables \n",
      "[<Var p2_a>, <Var p2_e>, <Var p5_a>, <Var p5_e>]\n"
     ]
    }
   ],
   "source": [
    "def test_example_1():\n",
    "    c_p1 = form_contract_input(in_port=p1)\n",
    "    c_p2 = form_contract_input(in_port=p2)\n",
    "    c_p4 = form_contract_input(in_port=p4)\n",
    "\n",
    "    contract_p1 = readContract(c_p1)\n",
    "    contract_p2 = readContract(c_p2)\n",
    "    contract_p4 = readContract(c_p4)\n",
    "    \n",
    "    try: \n",
    "        contract_sys = contract1.compose(contract2)\n",
    "        contract_sys = contract_p1.compose(contract_sys)\n",
    "        contract_sys = contract_p2.compose(contract_sys)\n",
    "        contract_sys = contract_p4.compose(contract_sys)\n",
    "        print(\"Contract Sys:\\n\" + str(contract_sys))\n",
    "        return contract_sys\n",
    "    except ValueError as e:\n",
    "        print(\"Composition Error\")\n",
    "        print(e)\n",
    "\n",
    "contract_sys = test_example_1()"
   ]
  },
  {
   "attachments": {},
   "cell_type": "markdown",
   "id": "67da6d8f",
   "metadata": {},
   "source": [
    "The result shows that the guarantees are not sufficient to abduce the assumption.\n",
    "\n",
    "It can be observed easily that the input value of `p2_a` = 7.75 would violate the required assumption to prevent MSB from truncated.\n"
   ]
  },
  {
   "attachments": {},
   "cell_type": "markdown",
   "id": "303b6882",
   "metadata": {},
   "source": [
    "Then we consider the case where certain constraints are known for the inputs:"
   ]
  },
  {
   "cell_type": "code",
   "execution_count": 40,
   "id": "7620625b",
   "metadata": {},
   "outputs": [
    {
     "name": "stdout",
     "output_type": "stream",
     "text": [
      "Contract Sys:\n",
      "InVars: []\n",
      "OutVars:[<Var p5_a>, <Var p5_e>]\n",
      "A: true\n",
      "G: 1*p5_a <= 6.00000000000000, 1*p5_e <= 0.187500000000000\n"
     ]
    }
   ],
   "source": [
    "p1.set_value(\"10000\")\n",
    "p2.set_value(\"01111\")\n",
    "p4.set_value(\"0000100\")\n",
    "contract_sys = test_example_1()"
   ]
  },
  {
   "attachments": {},
   "cell_type": "markdown",
   "id": "97fc7bd1",
   "metadata": {},
   "source": [
    "Under these sets of constraints on the input, the system is compatible with the environment and thus we obtain the bounds on the actual output and the error bounds to an ideal output. "
   ]
  },
  {
   "attachments": {},
   "cell_type": "markdown",
   "id": "b156f32a",
   "metadata": {},
   "source": [
    "The contract bring us the benefits of performing more operations on the system.\n",
    "\n",
    "For example, we can apply the quotient to find word length for a certain signal.\n",
    "\n",
    "Take the system as an example again. If we want to reduce the wordlength of the intermediate signal $P_3$, we can use quotient to get the required wordlength.\n",
    "\n",
    "![Example 1](figures/example1.png)"
   ]
  },
  {
   "attachments": {},
   "cell_type": "markdown",
   "id": "fbd47751",
   "metadata": {},
   "source": [
    "To use quotient, we starts from the system contract.\n",
    "The system contract describes what the system looks like without knowing the underlying components.\n",
    "Let's say we can tolerate an error of the output by 0.1 given the same input constraints for the previous refined one.\n",
    "\n",
    "The system contract should be like this:\n",
    "```\n",
    "A: True\n",
    "G: 1*p5_a <= 6.00000000000000, 1*p5_e <= 0.1\n",
    "```\n",
    "\n",
    "We can invoke contract quotient to get the desired system contract:"
   ]
  },
  {
   "cell_type": "code",
   "execution_count": 43,
   "id": "9c168335",
   "metadata": {},
   "outputs": [
    {
     "name": "stdout",
     "output_type": "stream",
     "text": [
      "{'InputVars': [], 'OutputVars': ['p5_a', 'p5_e'], 'assumptions': [], 'guarantees': [{'coefficients': {'p5_a': 1}, 'constant': 6.0}, {'coefficients': {'p5_e': 1}, 'constant': 0.1}]}\n",
      "InVars: []\n",
      "OutVars:[<Var p5_a>, <Var p5_e>]\n",
      "A: true\n",
      "G: 1*p5_a <= 6.0, 1*p5_e <= 0.10000000000000009\n"
     ]
    }
   ],
   "source": [
    "def get_desired_system_contract():\n",
    "    ret_contract = {}\n",
    "    ret_contract[\"InputVars\"] = []\n",
    "    ret_contract[\"OutputVars\"] = [\"p5_a\", \"p5_e\"]\n",
    "    ret_contract[\"assumptions\"] = []\n",
    "    ret_contract[\"guarantees\"] = [{\"coefficients\": {f\"p5_a\": 1}, \"constant\": 6.00},\n",
    "                                  {\"coefficients\": {f\"p5_e\": 1}, \"constant\": 0.1}]\n",
    "    print(ret_contract)\n",
    "    return readContract(ret_contract)\n",
    "\n",
    "contract_spec = get_desired_system_contract()\n",
    "print(str(contract_spec))"
   ]
  },
  {
   "cell_type": "code",
   "execution_count": 45,
   "id": "874e95da",
   "metadata": {},
   "outputs": [
    {
     "name": "stdout",
     "output_type": "stream",
     "text": [
      "{'InputVars': [], 'OutputVars': ['p1_a', 'p1_e'], 'assumptions': [], 'guarantees': [{'coefficients': {'p1_a': 1}, 'constant': 2.0}, {'coefficients': {'p1_a': -1}, 'constant': 0}, {'coefficients': {'p1_e': 1}, 'constant': 0}, {'coefficients': {'p1_e': -1}, 'constant': 0}]}\n",
      "InVars: []\n",
      "OutVars:[<Var p1_a>, <Var p1_e>]\n",
      "A: true\n",
      "G: 1*p1_a <= 2.0, -1*p1_a <= 0.0, 1*p1_e <= 0.0, -1*p1_e <= 0.0\n",
      "InVars: []\n",
      "OutVars:[<Var p5_a>, <Var p5_e>]\n",
      "A: true\n",
      "G: 1*p5_a <= 6.0, 1*p5_e <= 0.10000000000000009\n"
     ]
    },
    {
     "ename": "ValueError",
     "evalue": "not enough values to unpack (expected 2, got 1)",
     "output_type": "error",
     "traceback": [
      "\u001b[0;31m---------------------------------------------------------------------------\u001b[0m",
      "\u001b[0;31mValueError\u001b[0m                                Traceback (most recent call last)",
      "Cell \u001b[0;32mIn[45], line 18\u001b[0m\n\u001b[1;32m     15\u001b[0m     tmp_c2 \u001b[39m=\u001b[39m tmp_c1\u001b[39m.\u001b[39mquotient(contract_p2)\n\u001b[1;32m     16\u001b[0m     tmp_c3 \u001b[39m=\u001b[39m tmp_c2\u001b[39m.\u001b[39mquotient(contract_p4)\n\u001b[0;32m---> 18\u001b[0m quotient_example1()\n",
      "Cell \u001b[0;32mIn[45], line 13\u001b[0m, in \u001b[0;36mquotient_example1\u001b[0;34m()\u001b[0m\n\u001b[1;32m     11\u001b[0m \u001b[39mprint\u001b[39m(\u001b[39mstr\u001b[39m(contract_p1))\n\u001b[1;32m     12\u001b[0m \u001b[39mprint\u001b[39m(\u001b[39mstr\u001b[39m(contract_spec))\n\u001b[0;32m---> 13\u001b[0m tmp_c1 \u001b[39m=\u001b[39m contract_spec\u001b[39m.\u001b[39;49mquotient(contract_p1)\n\u001b[1;32m     15\u001b[0m tmp_c2 \u001b[39m=\u001b[39m tmp_c1\u001b[39m.\u001b[39mquotient(contract_p2)\n\u001b[1;32m     16\u001b[0m tmp_c3 \u001b[39m=\u001b[39m tmp_c2\u001b[39m.\u001b[39mquotient(contract_p4)\n",
      "File \u001b[0;32m~/shengjungyu/Research/UC_Berkeley/Research/DesignSpecification/Contract/Tools/Contract/gear/src/gear/iocontract/iocontract.py:457\u001b[0m, in \u001b[0;36mIoContract.quotient\u001b[0;34m(self, other)\u001b[0m\n\u001b[1;32m    455\u001b[0m assumptions \u001b[39m=\u001b[39m copy\u001b[39m.\u001b[39mdeepcopy(\u001b[39mself\u001b[39m\u001b[39m.\u001b[39ma)\n\u001b[1;32m    456\u001b[0m empty_context \u001b[39m=\u001b[39m \u001b[39mtype\u001b[39m(assumptions)(\u001b[39mlist\u001b[39m())\n\u001b[0;32m--> 457\u001b[0m \u001b[39mif\u001b[39;00m assumptions\u001b[39m.\u001b[39;49mrefines(other\u001b[39m.\u001b[39;49ma):\n\u001b[1;32m    458\u001b[0m     assumptions \u001b[39m=\u001b[39m assumptions \u001b[39m|\u001b[39m other\u001b[39m.\u001b[39mg\n\u001b[1;32m    459\u001b[0m assumptions \u001b[39m=\u001b[39m assumptions\u001b[39m.\u001b[39mdeduce_with_context(empty_context, list_union(intvars, outputvars))\n",
      "File \u001b[0;32m~/shengjungyu/Research/UC_Berkeley/Research/DesignSpecification/Contract/Tools/Contract/gear/src/gear/terms/polyhedra/polyhedra.py:651\u001b[0m, in \u001b[0;36mPolyhedralTermList.refines\u001b[0;34m(self, other)\u001b[0m\n\u001b[1;32m    649\u001b[0m variables, self_mat, self_cons, ctx_mat, ctx_cons \u001b[39m=\u001b[39m PolyhedralTermList\u001b[39m.\u001b[39mtermlist_to_polytope(\u001b[39mself\u001b[39m, other)\n\u001b[1;32m    650\u001b[0m logging\u001b[39m.\u001b[39mdebug(\u001b[39m\"\u001b[39m\u001b[39mPolytope is \u001b[39m\u001b[39m\\n\u001b[39;00m\u001b[39m%s\u001b[39;00m\u001b[39m\"\u001b[39m, self_mat)\n\u001b[0;32m--> 651\u001b[0m result \u001b[39m=\u001b[39m PolyhedralTermList\u001b[39m.\u001b[39;49mverify_polytope_containment(self_mat, self_cons, ctx_mat, ctx_cons)\n\u001b[1;32m    652\u001b[0m \u001b[39mreturn\u001b[39;00m result\n",
      "File \u001b[0;32m~/shengjungyu/Research/UC_Berkeley/Research/DesignSpecification/Contract/Tools/Contract/gear/src/gear/terms/polyhedra/polyhedra.py:831\u001b[0m, in \u001b[0;36mPolyhedralTermList.verify_polytope_containment\u001b[0;34m(a_l, b_l, a_r, b_r)\u001b[0m\n\u001b[1;32m    816\u001b[0m \u001b[39m\"\"\"\u001b[39;00m\n\u001b[1;32m    817\u001b[0m \u001b[39mSay whether a polytope is contained in another. Both are given in their\u001b[39;00m\n\u001b[1;32m    818\u001b[0m \u001b[39mH-representation.\u001b[39;00m\n\u001b[0;32m   (...)\u001b[0m\n\u001b[1;32m    828\u001b[0m \u001b[39m        Vector of H-representation of polytope on RHS of inequality.\u001b[39;00m\n\u001b[1;32m    829\u001b[0m \u001b[39m\"\"\"\u001b[39;00m\n\u001b[1;32m    830\u001b[0m \u001b[39m# If the LHS is empty, it is a refinement\u001b[39;00m\n\u001b[0;32m--> 831\u001b[0m \u001b[39mif\u001b[39;00m PolyhedralTermList\u001b[39m.\u001b[39;49mis_polytope_empty(a_l, b_l):\n\u001b[1;32m    832\u001b[0m     \u001b[39mreturn\u001b[39;00m \u001b[39mTrue\u001b[39;00m\n\u001b[1;32m    833\u001b[0m \u001b[39m# If the RHS is empty, but not the LHS, not a refinement\u001b[39;00m\n",
      "File \u001b[0;32m~/shengjungyu/Research/UC_Berkeley/Research/DesignSpecification/Contract/Tools/Contract/gear/src/gear/terms/polyhedra/polyhedra.py:881\u001b[0m, in \u001b[0;36mPolyhedralTermList.is_polytope_empty\u001b[0;34m(a, b)\u001b[0m\n\u001b[1;32m    870\u001b[0m \u001b[39m@staticmethod\u001b[39m\n\u001b[1;32m    871\u001b[0m \u001b[39mdef\u001b[39;00m \u001b[39mis_polytope_empty\u001b[39m(a: np\u001b[39m.\u001b[39marray, b: np\u001b[39m.\u001b[39marray) \u001b[39m-\u001b[39m\u001b[39m>\u001b[39m \u001b[39mbool\u001b[39m:\n\u001b[1;32m    872\u001b[0m     \u001b[39m\"\"\"\u001b[39;00m\n\u001b[1;32m    873\u001b[0m \u001b[39m    Say whether a polytope is empty.\u001b[39;00m\n\u001b[1;32m    874\u001b[0m \n\u001b[0;32m   (...)\u001b[0m\n\u001b[1;32m    879\u001b[0m \u001b[39m            Vector of H-representation of polytope to verify.\u001b[39;00m\n\u001b[1;32m    880\u001b[0m \u001b[39m    \"\"\"\u001b[39;00m\n\u001b[0;32m--> 881\u001b[0m     n, m \u001b[39m=\u001b[39m a\u001b[39m.\u001b[39mshape\n\u001b[1;32m    882\u001b[0m     \u001b[39massert\u001b[39;00m n \u001b[39m==\u001b[39m \u001b[39mlen\u001b[39m(b)\n\u001b[1;32m    883\u001b[0m     \u001b[39mif\u001b[39;00m n \u001b[39m*\u001b[39m m \u001b[39m==\u001b[39m \u001b[39m0\u001b[39m:\n",
      "\u001b[0;31mValueError\u001b[0m: not enough values to unpack (expected 2, got 1)"
     ]
    }
   ],
   "source": [
    "def quotient_example1():\n",
    "    c_p1 = form_contract_input(in_port=p1)\n",
    "    c_p2 = form_contract_input(in_port=p2)\n",
    "    c_p4 = form_contract_input(in_port=p4)\n",
    "\n",
    "    print(c_p1)\n",
    "    contract_p1 = readContract(c_p1)\n",
    "    contract_p2 = readContract(c_p2)\n",
    "    contract_p4 = readContract(c_p4)\n",
    "\n",
    "    print(str(contract_p1))\n",
    "    print(str(contract_spec))\n",
    "    tmp_c1 = contract_spec.quotient(contract_p1)\n",
    "\n",
    "    tmp_c2 = tmp_c1.quotient(contract_p2)\n",
    "    tmp_c3 = tmp_c2.quotient(contract_p4)\n",
    "\n",
    "quotient_example1()\n"
   ]
  },
  {
   "attachments": {},
   "cell_type": "markdown",
   "id": "830ca81b",
   "metadata": {},
   "source": [
    "#### Example 2: Filter Design\n",
    "\n",
    "We apply the contract to a simple filter that computes the moving average of the signal\n",
    "\n",
    "![Example2](figures/digital_filter_flow.png)\n",
    "\n",
    "$y[n] = 0.2 \\times x[n-2] + 0.6 \\times x[n-1] + 0.2 \\times x[n] $\n",
    "\n",
    "And the following function perform the filter on the signal"
   ]
  },
  {
   "cell_type": "code",
   "execution_count": 24,
   "id": "b6dbabf4",
   "metadata": {},
   "outputs": [
    {
     "name": "stdout",
     "output_type": "stream",
     "text": [
      "[0.25 1.2  2.34 3.97 4.94 2.2  0.3 ]\n"
     ]
    }
   ],
   "source": [
    "\n",
    "def example2_filter(x):\n",
    "    v = np.array([0.2, 0.6, 0.2])\n",
    "    return np.convolve(x, v)\n",
    "\n",
    "print(example2_filter([1.25, 2.25, 3.7, 6.5, 1.5]))\n"
   ]
  },
  {
   "attachments": {},
   "cell_type": "markdown",
   "id": "b32d9868",
   "metadata": {},
   "source": [
    "We can use contract to evaluate the abstracted performance of a datapath for the filter.\n",
    "\n",
    "In the following, we examine the design of using 6 bits for all signal in a transpose form digital filter design."
   ]
  },
  {
   "cell_type": "code",
   "execution_count": 35,
   "id": "062572a4",
   "metadata": {},
   "outputs": [
    {
     "name": "stdout",
     "output_type": "stream",
     "text": [
      "truncated coefficient: 0.2 to 0.1875\n",
      "truncated coefficient: 0.6 to 0.59375\n",
      "truncated coefficient: 0.2 to 0.1875\n",
      "Port: , (n, p) = (12, 0), e = 0, a = 0.999755859375\n",
      "Port: , (n, p) = (12, 0), e = 0, a = 0.999755859375\n",
      "Port: , (n, p) = (12, 0), e = 0, a = 0.999755859375\n",
      "InVars: []\n",
      "OutVars:[<Var add_out2_a>, <Var add_out2_e>]\n",
      "A: true\n",
      "G: 1*add_out2_e <= 0.0769042968749998, 1*add_out2_a <= 0.953613281250000\n"
     ]
    }
   ],
   "source": [
    "in1 = PortWordLength(n=6, p=0, e=0, name=\"in1\")\n",
    "in2 = PortWordLength(n=6, p=0, e=0, name=\"in2\")\n",
    "in3 = PortWordLength(n=6, p=0, e=0, name=\"in3\")\n",
    "const1 = PortWordLength(n=6, p=0, name=\"const1\")\n",
    "const2 = PortWordLength(n=6, p=0, name=\"const2\")\n",
    "const3 = PortWordLength(n=6, p=0, name=\"const3\")\n",
    "mult_out1 = PortWordLength(n=6, p=0, name=\"mult_out1\")\n",
    "mult_out2 = PortWordLength(n=6, p=0, name=\"mult_out2\")\n",
    "mult_out3 = PortWordLength(n=6, p=0, name=\"mult_out3\")\n",
    "add_out1 = PortWordLength(n=6, p=0, name=\"add_out1\")\n",
    "add_out2 = PortWordLength(n=6, p=0, name=\"add_out2\")\n",
    "\n",
    "const1.set_value(float_to_bin(0.2, const1))\n",
    "const2.set_value(float_to_bin(0.6, const2))\n",
    "const3.set_value(float_to_bin(0.2, const3))\n",
    "const1.set_e(0.2 - const1.value_num())\n",
    "const2.set_e(0.6 - const2.value_num())\n",
    "const3.set_e(0.2 - const3.value_num())\n",
    "\n",
    "print(f\"truncated coefficient: 0.2 to {const1.value_num()}\")\n",
    "print(f\"truncated coefficient: 0.6 to {const2.value_num()}\")\n",
    "print(f\"truncated coefficient: 0.2 to {const3.value_num()}\")\n",
    "\n",
    "c1 = form_contract_mult_const(in_port1=in1, in_port_const=const1, out_port=mult_out1)\n",
    "c2 = form_contract_mult_const(in_port1=in2, in_port_const=const2, out_port=mult_out2)\n",
    "c3 = form_contract_mult_const(in_port1=in3, in_port_const=const3, out_port=mult_out3)\n",
    "\n",
    "ci1 = form_contract_input(in_port=in1)\n",
    "ci2 = form_contract_input(in_port=in2)\n",
    "ci3 = form_contract_input(in_port=in3)\n",
    "\n",
    "contract1 = readContract(c1)\n",
    "contract2 = readContract(c2)\n",
    "contract3 = readContract(c3)\n",
    "contract_i1 = readContract(ci1)\n",
    "contract_i2 = readContract(ci2)\n",
    "contract_i3 = readContract(ci3)\n",
    "c4 = form_contract_add(in_port1 = mult_out1, in_port2=mult_out2, out_port=add_out1)\n",
    "c5 = form_contract_add(in_port1 = add_out1, in_port2=mult_out3, out_port=add_out2)\n",
    "contract4 = readContract(c4)\n",
    "contract5 = readContract(c5)\n",
    "\n",
    "contract_system = contract1.compose(contract2)\n",
    "contract_system = contract_system.compose(contract3)\n",
    "contract_system = contract_system.compose(contract4)\n",
    "contract_system = contract_system.compose(contract5)\n",
    "contract_system = contract_i1.compose(contract_system)\n",
    "contract_system = contract_i2.compose(contract_system)\n",
    "contract_system = contract_i3.compose(contract_system)\n",
    "print(str(contract_system))\n"
   ]
  },
  {
   "attachments": {},
   "cell_type": "markdown",
   "id": "6a546be1",
   "metadata": {},
   "source": [
    "The result shows that we can get an upper bound on the error of the output `add_out_e` is bounded by about 0.07690.\n",
    "And this is the extreme case when the input is the following case:\n",
    "\n",
    "Note that this is always an upper bound to the actual errors as we abstract the calculation and considers the worse case truncation error for each operation.\n",
    "\n",
    "If the obtained error is smaller than the specification, we can rest assure that the design already satisfy the goal and we can either submit the design or change some wordlength and see if we can use smaller wordlength to achieve the same specification.\n",
    "\n",
    "If the obtained error is larger than the specification, the level of abstraction is not sufficient to prove the correctness of the design.\n",
    "Refinement of the error model or extensive verfication is therefore needed to verify the design.\n",
    " "
   ]
  },
  {
   "attachments": {},
   "cell_type": "markdown",
   "id": "cd0558b3",
   "metadata": {},
   "source": [
    "To see the actual errors for this specific case, we can enumerate all input sequence.\n"
   ]
  },
  {
   "cell_type": "code",
   "execution_count": 33,
   "id": "4e0031d7",
   "metadata": {},
   "outputs": [
    {
     "name": "stdout",
     "output_type": "stream",
     "text": [
      "0.06874999999999998 0.828125 0.578125 0.828125 0.921875\n"
     ]
    }
   ],
   "source": [
    "def enumerate_error():\n",
    "    diff_max = 0\n",
    "    a_max = 0\n",
    "    i1_max=0\n",
    "    i2_max=0\n",
    "    i3_max=0\n",
    "    for i1 in range(0, 2**6):\n",
    "        i1_float = i1/2**6\n",
    "        in1_a = float_to_bin(i1_float, in1)\n",
    "        in1.set_value(in1_a)\n",
    "        for i2 in range(0, 2**6):\n",
    "            i2_float = i2/2**6\n",
    "            in2_a = float_to_bin(i2_float, in2)\n",
    "            in2.set_value(in2_a)\n",
    "            for i3 in range(0, 2**6):\n",
    "                i3_float = i3/2**6\n",
    "                in3_a = float_to_bin(i3_float, in3)\n",
    "                in3.set_value(in3_a)\n",
    "\n",
    "                port_mult(in1, const1, mult_out1)\n",
    "                port_mult(in2, const2, mult_out2)\n",
    "                port_mult(in3, const3, mult_out3)\n",
    "                port_add(mult_out1, mult_out2, add_out1)\n",
    "                port_add(add_out1, mult_out3, add_out2)\n",
    "                actual_result = add_out2.value_num()\n",
    "                ideal_result = i1_float * 0.2 + i2_float * 0.6 + i3_float * 0.2\n",
    "                diff = ideal_result - actual_result\n",
    "\n",
    "                if diff > diff_max:\n",
    "                    diff_max = diff\n",
    "                    i1_max = i1_float\n",
    "                    i2_max = i2_float\n",
    "                    i3_max = i3_float\n",
    "                if actual_result > a_max:\n",
    "                    a_max = actual_result\n",
    "    return diff_max, i1_max, i2_max, i3_max, a_max\n",
    "\n",
    "diff_max, i1_max, i2_max, i3_max, a_max = enumerate_error()\n",
    "print(diff_max, i1_max, i2_max, i3_max, a_max)"
   ]
  },
  {
   "attachments": {},
   "cell_type": "markdown",
   "id": "5e4f03ee",
   "metadata": {},
   "source": [
    "This verifies that our abstracted error bound is indeed an upper bound for all possible input values."
   ]
  }
 ],
 "metadata": {
  "kernelspec": {
   "display_name": ".venv",
   "language": "python",
   "name": "python3"
  },
  "language_info": {
   "codemirror_mode": {
    "name": "ipython",
    "version": 3
   },
   "file_extension": ".py",
   "mimetype": "text/x-python",
   "name": "python",
   "nbconvert_exporter": "python",
   "pygments_lexer": "ipython3",
   "version": "3.10.8"
  },
  "vscode": {
   "interpreter": {
    "hash": "22c87ad3ec53eb9b276e0813a9dca175e0f1c6992b6f6007d9c6365c38e3654b"
   }
  }
 },
 "nbformat": 4,
 "nbformat_minor": 5
}
