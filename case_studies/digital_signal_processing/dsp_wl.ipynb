{
 "cells": [
  {
   "attachments": {},
   "cell_type": "markdown",
   "id": "37d4b21e",
   "metadata": {},
   "source": [
    "## Introduction\n",
    "In this example, we show that how gear can be applied to find the bounds of error of a digital signal processing circuit throught the fixed-number lengths of the internal calculation.\n",
    "\n",
    "The errors of computation of a digital signal processing circuit come from three sources: truncation error, quantization error, and inaccurate source.\n",
    "1.  Truncation Error:\n",
    "The truncation error is the error when a fixed-point number is converted from a longer representation to a shorter representation, which means the bits are not sufficient to represent the number, and thus the number must be truncated.\n",
    "The \n",
    "2. Quantization Error:\n",
    "The quantization error occurs when the an analog signal is converted into a digital signal, or an algorithm requires real numbers as its coefficients. As the fixed number cannot represent any real number with infinite precision. The number has to be quantized and thus are not as the exact value as the analog signal.\n",
    "3. Inaccurate Source:\n",
    "This error comes from the measurement in the analog signal because of noise and non-ideal effect on the sensor, and could be seen as a random noise on the analog signal.\n",
    "\n",
    "The determination of the number of bits for fixed-point number requires tradeoff between the accuracy and the performance of the circuit.\n",
    "Power, timing, and area of the circuit can benefit from reducing the number of bits for representation of fixed-point number as the gate count can be reduced, which results in shorter critical path length for optimization and smaller core footprint.\n",
    "However, the accuracy of the signal processing decreases as more error is introduced in the computation and propagated to the output of the circuit.\n",
    "\n",
    "Therefore, in digital signal processing circuit design. Exploration of the word lengths for all fixed-point number is a crucial stage from algorithm design to circuit implementation for optimizing the circuit performance while satisfying the system requirements.\n"
   ]
  },
  {
   "attachments": {},
   "cell_type": "markdown",
   "id": "5d6da13b",
   "metadata": {},
   "source": [
    "## Preliminaries\n",
    "#### Representation of Fixed-point Number\n",
    "\n",
    "A word length of a fixed-point number can be described as a tuple $(n, p)$, where $n$ denotes the number of bits, and $p$ is the position of the binary point, with 0 position means the position before the most significant bit.\n",
    "\n",
    "For example, A fixed-point number with word length $(5,2)$ with bit value \"11011\" means the binary number $11.011$, which is equivalent to $3.375$ in decimal."
   ]
  },
  {
   "cell_type": "code",
   "execution_count": 1,
   "id": "aa002743",
   "metadata": {},
   "outputs": [],
   "source": [
    "from gear.terms.polyhedra.loaders import readContract, writeContract"
   ]
  },
  {
   "attachments": {},
   "cell_type": "markdown",
   "id": "78846570",
   "metadata": {},
   "source": [
    "### Forming contract for capturing error of fixed-point number\n",
    "\n",
    "Here we introduce how to form the contract for the fixed-point number operation.\n",
    "\n",
    "##### General operation\n",
    "TODO\n",
    "##### Addition\n",
    "TODO\n",
    "##### Multiplication\n",
    "TODO"
   ]
  },
  {
   "attachments": {},
   "cell_type": "markdown",
   "id": "39f37c61",
   "metadata": {},
   "source": [
    "In the following, we import the tools for calculating the value for each operation given the word length of the input and output."
   ]
  },
  {
   "cell_type": "code",
   "execution_count": 2,
   "id": "c9d9aab8",
   "metadata": {},
   "outputs": [],
   "source": [
    "from tool import *"
   ]
  },
  {
   "attachments": {},
   "cell_type": "markdown",
   "id": "74fcae6e",
   "metadata": {},
   "source": [
    "We use the class PortWordLength to represent the word length.\n",
    "It also contains the known error of the number for propagating the error."
   ]
  },
  {
   "cell_type": "code",
   "execution_count": null,
   "id": "be4a1820",
   "metadata": {},
   "outputs": [],
   "source": []
  },
  {
   "attachments": {},
   "cell_type": "markdown",
   "id": "9756b6c2",
   "metadata": {},
   "source": [
    "#### Example 1\n",
    "Consider the following system with only two adder.\n",
    "TODO: put figure"
   ]
  },
  {
   "attachments": {},
   "cell_type": "markdown",
   "id": "bdf80553",
   "metadata": {},
   "source": [
    "The following function is used to generate contracts, considering all error types."
   ]
  },
  {
   "cell_type": "code",
   "execution_count": 3,
   "id": "4430213e",
   "metadata": {},
   "outputs": [],
   "source": [
    "def form_contract(in_port1, in_port2, out_port, operation):\n",
    "    ret_contract = {}\n",
    "    ret_contract[\"InputVars\"] = [f\"{in_port1.name}_a\", f\"{in_port1.name}_e\",\n",
    "                                 f\"{in_port2.name}_a\", f\"{in_port2.name}_e\"]\n",
    "    ret_contract[\"OutputVars\"] = [f\"{out_port.name}_a\", f\"{out_port.name}_e\"]\n",
    "    a_bound = get_assumption_bound(in_port_1=in_port1, in_port_2=in_port2, out_port=out_port, operation_length_fn=operation)\n",
    "    ret_contract[\"assumptions\"] =  [{\"coefficients\":{f\"{in_port1.name}_a\":1, f\"{in_port2.name}_a\":1},\n",
    "                                   \"constant\":a_bound}]\n",
    "    if operation == \"add\":\n",
    "        error_bound = get_guarantee_bound(in_port_1=in_port1, in_port_2=in_port2, out_port=out_port, operation_length_fn=operation)\n",
    "        actual_val_bound = get_actual_possible_value(in_port=out_port)\n",
    "        ret_contract[\"guarantees\"] =  [{\"coefficients\":{f\"{in_port1.name}_e\":-1, f\"{in_port2.name}_e\":-1, f\"{out_port.name}_e\": 1},\n",
    "                                    \"constant\":error_bound},\n",
    "                                    {\"coefficients\":{f\"{out_port.name}_a\": 1}, \"constant\":actual_val_bound},\n",
    "                                    ]\n",
    "    elif operation == \"mult\":\n",
    "        pass\n",
    "\n",
    "    return ret_contract"
   ]
  },
  {
   "cell_type": "code",
   "execution_count": 4,
   "id": "690cd39b",
   "metadata": {},
   "outputs": [
    {
     "name": "stdout",
     "output_type": "stream",
     "text": [
      "Find add length\n",
      "in1:  Port: p1, (n, p) = (5, 2), e = None, a = None\n",
      "in2:  Port: p2, (n, p) = (5, 3), e = None, a = None\n",
      "(n*, p*) = (7, 4)\n",
      "Find add length\n",
      "in1:  Port: p1, (n, p) = (5, 2), e = None, a = None\n",
      "in2:  Port: p2, (n, p) = (5, 3), e = None, a = None\n",
      "(n*, p*) = (7, 4)\n",
      "Theoretical out:  Port: , (n, p) = (7, 4), e = None, a = None\n",
      "Find add length\n",
      "in1:  Port: p3, (n, p) = (5, 3), e = None, a = None\n",
      "in2:  Port: p4, (n, p) = (7, 3), e = None, a = None\n",
      "(n*, p*) = (8, 4)\n",
      "Find add length\n",
      "in1:  Port: p3, (n, p) = (5, 3), e = None, a = None\n",
      "in2:  Port: p4, (n, p) = (7, 3), e = None, a = None\n",
      "(n*, p*) = (8, 4)\n",
      "Theoretical out:  Port: , (n, p) = (8, 4), e = None, a = None\n"
     ]
    }
   ],
   "source": [
    "    contracts = []\n",
    "    p1 = PortWordLength(n=5, p=2, name = \"p1\")\n",
    "    p2 = PortWordLength(n=5, p=3, name = \"p2\")\n",
    "    p3 = PortWordLength(n=5, p=3, name = \"p3\")\n",
    "    c1 = form_contract(in_port1=p1, in_port2=p2, out_port=p3, operation=\"add\")\n",
    "    contracts.append(c1)\n",
    "    p4 = PortWordLength(n=7, p=3, name = \"p4\")\n",
    "    p5 = PortWordLength(n=6, p=3, name = \"p5\")\n",
    "    c2 = form_contract(in_port1=p3, in_port2=p4, out_port=p5, operation=\"add\")"
   ]
  },
  {
   "cell_type": "code",
   "execution_count": 5,
   "id": "c7e3c06a",
   "metadata": {},
   "outputs": [],
   "source": [
    "contract1 = readContract(c1)\n",
    "contract2 = readContract(c2)\n"
   ]
  },
  {
   "cell_type": "code",
   "execution_count": 6,
   "id": "77f069b1",
   "metadata": {},
   "outputs": [
    {
     "name": "stdout",
     "output_type": "stream",
     "text": [
      "Contract 1:\n",
      "InVars: [<Var p1_a>, <Var p1_e>, <Var p2_a>, <Var p2_e>]\n",
      "OutVars:[<Var p3_a>, <Var p3_e>]\n",
      "A: 1*p1_a + 1*p2_a <= 8\n",
      "G: -1*p1_e + -1*p2_e + 1*p3_e <= 0.125, 1*p3_a <= 7.75\n",
      "Contract 2:\n",
      "InVars: [<Var p3_a>, <Var p3_e>, <Var p4_a>, <Var p4_e>]\n",
      "OutVars:[<Var p5_a>, <Var p5_e>]\n",
      "A: 1*p3_a + 1*p4_a <= 8\n",
      "G: -1*p3_e + -1*p4_e + 1*p5_e <= 0.0625, 1*p5_a <= 7.875\n"
     ]
    }
   ],
   "source": [
    "print(\"Contract 1:\\n\" + str(contract1))\n",
    "print(\"Contract 2:\\n\" + str(contract2))"
   ]
  },
  {
   "cell_type": "code",
   "execution_count": 7,
   "id": "bd19b796",
   "metadata": {},
   "outputs": [
    {
     "name": "stdout",
     "output_type": "stream",
     "text": [
      "Contract Sys:\n",
      "InVars: [<Var p1_a>, <Var p1_e>, <Var p2_a>, <Var p2_e>, <Var p4_a>, <Var p4_e>]\n",
      "OutVars:[<Var p5_a>, <Var p5_e>]\n",
      "A: 1*p4_a <= 0.250000000000000, 1*p1_a + 1*p2_a <= 8\n",
      "G: -1*p1_e + -1*p2_e + -1*p4_e + 1*p5_e <= 0.187500000000000, 1*p5_a <= 7.875\n"
     ]
    }
   ],
   "source": [
    "contract_sys = contract1.compose(contract2)\n",
    "print(\"Contract Sys:\\n\" + str(contract_sys))"
   ]
  }
 ],
 "metadata": {
  "kernelspec": {
   "display_name": ".venv",
   "language": "python",
   "name": "python3"
  },
  "language_info": {
   "codemirror_mode": {
    "name": "ipython",
    "version": 3
   },
   "file_extension": ".py",
   "mimetype": "text/x-python",
   "name": "python",
   "nbconvert_exporter": "python",
   "pygments_lexer": "ipython3",
   "version": "3.10.8"
  },
  "vscode": {
   "interpreter": {
    "hash": "22c87ad3ec53eb9b276e0813a9dca175e0f1c6992b6f6007d9c6365c38e3654b"
   }
  }
 },
 "nbformat": 4,
 "nbformat_minor": 5
}
