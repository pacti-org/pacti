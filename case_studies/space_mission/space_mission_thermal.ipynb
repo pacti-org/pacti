{
 "cells": [
  {
   "cell_type": "code",
   "execution_count": 1,
   "metadata": {},
   "outputs": [],
   "source": [
    "%matplotlib widget\n",
    "\n",
    "#from IPython import display\n",
    "from base64 import b64decode\n",
    "from pacti import write_contracts_to_file\n",
    "from pacti.terms.polyhedra import *\n",
    "from pacti.iocontract import IoContract, Var\n",
    "from PIL import Image\n",
    "import matplotlib.pyplot as plt\n",
    "import os\n",
    "import numpy as np\n",
    "from matplotlib import patches\n",
    "import pdb\n",
    "from matplotlib.collections import PatchCollection\n",
    "from contract_utils import *"
   ]
  },
  {
   "attachments": {},
   "cell_type": "markdown",
   "metadata": {},
   "source": [
    "## Thermal viewpoint modeling\n",
    "\n",
    "Except for TCM, all other tasks have the same qualitative thermal impact: the spacecraft's thrusters quickly reach their coldest temperature since they are off and have no thermal insulation or significant thermal capacity. Consequently, we define a common contract template for modeling the cooling impact in a way that is independent of the scheduled task duration.\n"
   ]
  },
  {
   "cell_type": "code",
   "execution_count": 2,
   "metadata": {},
   "outputs": [],
   "source": [
    "def COOLING_thermal(s: int) -> PolyhedralContract:\n",
    "    spec = PolyhedralContract.from_string(\n",
    "        input_vars=[\n",
    "            f\"temp{s}_entry\",   # initial thrusters temperature\n",
    "        ],\n",
    "        output_vars=[\n",
    "            f\"temp{s}_exit\",    # final thrusters temperature\n",
    "        ],\n",
    "        assumptions=[\n",
    "            # Upper-bound thruster temperature\n",
    "            f\"temp{s}_entry <= 100\",\n",
    "            # lower-bound thruster temperature\n",
    "            f\"-temp{s}_entry <= 0\",\n",
    "        ],\n",
    "        guarantees=[\n",
    "            # thrusters quickly cool down to their lowest temperature\n",
    "            f\" temp{s}_exit = 0\",\n",
    "        ],\n",
    "    )\n",
    "    return spec"
   ]
  },
  {
   "attachments": {},
   "cell_type": "markdown",
   "metadata": {},
   "source": [
    "### CHARGING Task\n",
    "\n",
    "Objective: charge the spacecraft battery\n",
    "\n",
    "As summarized in [the qualitative impacts table](#qualitative-impacts), this function affects this viewpoint according to the cooling impact defined above.\n"
   ]
  },
  {
   "cell_type": "code",
   "execution_count": 3,
   "metadata": {},
   "outputs": [
    {
     "name": "stdout",
     "output_type": "stream",
     "text": [
      "Contract charging1_thermal:\n",
      "\n",
      "InVars: [temp2_entry]\n",
      "OutVars:[temp2_exit]\n",
      "A: [\n",
      "  temp2_entry <= 100.0\n",
      "  -temp2_entry <= 0.0\n",
      "]\n",
      "G: [\n",
      "  temp2_exit = 0.0\n",
      "]\n"
     ]
    }
   ],
   "source": [
    "charging1_thermal = COOLING_thermal(s=2)\n",
    "print(f\"Contract charging1_thermal:\\n\\n{charging1_thermal}\")"
   ]
  },
  {
   "attachments": {},
   "cell_type": "markdown",
   "metadata": {},
   "source": [
    "### DSN Task\n",
    "\n",
    "Objective: downlink science data to Earth.\n",
    "\n",
    "As summarized in [the qualitative impacts table](#qualitative-impacts), this function affects this viewpoint according to the cooling impact defined above.\n"
   ]
  },
  {
   "cell_type": "code",
   "execution_count": 4,
   "metadata": {},
   "outputs": [
    {
     "name": "stdout",
     "output_type": "stream",
     "text": [
      "Contract dsn1_thermal:\n",
      "\n",
      "InVars: [temp1_entry]\n",
      "OutVars:[temp1_exit]\n",
      "A: [\n",
      "  temp1_entry <= 100.0\n",
      "  -temp1_entry <= 0.0\n",
      "]\n",
      "G: [\n",
      "  temp1_exit = 0.0\n",
      "]\n"
     ]
    }
   ],
   "source": [
    "dsn1_thermal = COOLING_thermal(s=1)\n",
    "print(f\"Contract dsn1_thermal:\\n\\n{dsn1_thermal}\")"
   ]
  },
  {
   "attachments": {},
   "cell_type": "markdown",
   "metadata": {},
   "source": [
    "### SBO Task (Small body observations)\n",
    "\n",
    "Objective: Acquire small body observations (science data & navigation)\n",
    "\n",
    "As summarized in [the qualitative impacts table](#qualitative-impacts), this function affects this viewpoint according to the cooling impact defined above.\n"
   ]
  },
  {
   "cell_type": "code",
   "execution_count": 5,
   "metadata": {},
   "outputs": [
    {
     "name": "stdout",
     "output_type": "stream",
     "text": [
      "Contract sbo1_thermal:\n",
      "\n",
      "InVars: [temp3_entry]\n",
      "OutVars:[temp3_exit]\n",
      "A: [\n",
      "  temp3_entry <= 100.0\n",
      "  -temp3_entry <= 0.0\n",
      "]\n",
      "G: [\n",
      "  temp3_exit = 0.0\n",
      "]\n"
     ]
    }
   ],
   "source": [
    "sbo1_thermal = COOLING_thermal(s=3)\n",
    "print(f\"Contract sbo1_thermal:\\n\\n{sbo1_thermal}\")"
   ]
  },
  {
   "attachments": {},
   "cell_type": "markdown",
   "metadata": {},
   "source": [
    "### TCM Task (Perform a Trajectory Correction Maneuver)\n",
    "\n",
    "Objective: Perform a delta-V maneuver to bring the spacecraft trajectory closer to that of the small body.\n",
    "\n",
    "As summarized in [the qualitative impacts table](#qualitative-impacts), this function affects this viewpoint with impacts that are linear with the duration of the task:\n",
    "\n",
    "- Thermal:\n",
    "  - the thrusters must be heated before firing them, thereby discharging the battery proportionally to a consumption rate.\n",
    "  - the deltaV maneuver fires the spacecraft thrusters, keeping them from cooling.\n",
    "\n",
    "#### TCM Heating SubTask\n"
   ]
  },
  {
   "cell_type": "code",
   "execution_count": 6,
   "metadata": {},
   "outputs": [
    {
     "name": "stdout",
     "output_type": "stream",
     "text": [
      "Contract tcm1_heating_thermal:\n",
      "\n",
      "InVars: [temp4_entry, duration_tcm_heating4]\n",
      "OutVars:[temp4_exit]\n",
      "A: [\n",
      "  -duration_tcm_heating4 <= 0.0\n",
      "  4.7 duration_tcm_heating4 + temp4_entry <= 100.0\n",
      "  -temp4_entry <= 0.0\n",
      "]\n",
      "G: [\n",
      "  -4.7 duration_tcm_heating4 - temp4_entry + temp4_exit <= 0.0\n",
      "  4.5 duration_tcm_heating4 + temp4_entry - temp4_exit <= 0.0\n",
      "]\n"
     ]
    },
    {
     "data": {
      "application/vnd.jupyter.widget-view+json": {
       "model_id": "991b626b0e63413d94348b8747c2d836",
       "version_major": 2,
       "version_minor": 0
      },
      "image/png": "[encoded data removed]",
      "text/html": [
       "\n",
       "            <div style=\"display: inline-block;\">\n",
       "                <div class=\"jupyter-widgets widget-label\" style=\"text-align: center;\">\n",
       "                    Figure\n",
       "                </div>\n",
       "                <img src='data:image/png;base64,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' width=640.0/>\n",
       "            </div>\n",
       "        "
      ],
      "text/plain": [
       "Canvas(toolbar=Toolbar(toolitems=[('Home', 'Reset original view', 'home', 'home'), ('Back', 'Back to previous …"
      ]
     },
     "metadata": {},
     "output_type": "display_data"
    }
   ],
   "source": [
    "def TCM_heating_thermal(s: int, heating_rate: tuple[float, float]) -> PolyhedralContract:\n",
    "    spec = PolyhedralContract.from_string(\n",
    "        input_vars=[\n",
    "            f\"temp{s}_entry\",           # initial thrusters temperature\n",
    "            f\"duration_tcm_heating{s}\", # allocation variable for TCM heating duration\n",
    "        ],\n",
    "        output_vars=[\n",
    "            f\"temp{s}_exit\",            # final thrusters temperature\n",
    "        ],\n",
    "        assumptions=[\n",
    "            # Task has a positive scheduled duration\n",
    "            f\"-duration_tcm_heating{s} <= 0\",\n",
    "            # thursters should not overheat\n",
    "            f\"temp{s}_entry + {heating_rate[1]}*duration_tcm_heating{s} <= 100\",\n",
    "            # lower-bound thruster temperature\n",
    "            f\"-temp{s}_entry <= 0\",\n",
    "        ],\n",
    "        guarantees=[\n",
    "            # duration*heating_rate(min) <= temp{exit} - temp{entry} <= duration*heating_rate(max)\n",
    "            f\" temp{s}_exit - temp{s}_entry - {heating_rate[1]}*duration_tcm_heating{s} <= 0\",\n",
    "            f\"-temp{s}_exit + temp{s}_entry + {heating_rate[0]}*duration_tcm_heating{s} <= 0\",\n",
    "            # Upper-bound thruster temperature\n",
    "            f\"temp{s}_exit <= 100\",\n",
    "        ],\n",
    "    )\n",
    "    return spec\n",
    "\n",
    "tcm1_heating_thermal = TCM_heating_thermal(s=4, heating_rate=(4.5, 4.7))\n",
    "print(f\"Contract tcm1_heating_thermal:\\n\\n{tcm1_heating_thermal}\")\n",
    "\n",
    "_ = plot_guarantees(\n",
    "    contract=tcm1_heating_thermal,\n",
    "    x_var=Var(\"duration_tcm_heating4\"),\n",
    "    y_var=Var(\"temp4_exit\"),\n",
    "    var_values={\n",
    "        Var(\"temp4_entry\"): 0,\n",
    "    },\n",
    "    x_lims=(0, 30),\n",
    "    y_lims=(0, 100),\n",
    ")"
   ]
  },
  {
   "cell_type": "markdown",
   "metadata": {},
   "source": [
    "#### TCM DeltaV SubTask\n"
   ]
  },
  {
   "cell_type": "code",
   "execution_count": 7,
   "metadata": {},
   "outputs": [
    {
     "name": "stdout",
     "output_type": "stream",
     "text": [
      "Contract tcm1_deltav_thermal:\n",
      "\n",
      "InVars: [temp5_entry, duration_tcm_deltav5]\n",
      "OutVars:[temp5_exit]\n",
      "A: [\n",
      "  -temp5_entry <= -80.0\n",
      "]\n",
      "G: [\n",
      "  -0.2 duration_tcm_deltav5 + temp5_entry - temp5_exit <= 0.0\n",
      "  0.1 duration_tcm_deltav5 - temp5_entry + temp5_exit <= 0.0\n",
      "  -temp5_exit <= 0.0\n",
      "]\n"
     ]
    },
    {
     "data": {
      "application/vnd.jupyter.widget-view+json": {
       "model_id": "39a7e08e9ab645c1bcf2c230ec1c0c09",
       "version_major": 2,
       "version_minor": 0
      },
      "image/png": "[encoded data removed]",
      "text/html": [
       "\n",
       "            <div style=\"display: inline-block;\">\n",
       "                <div class=\"jupyter-widgets widget-label\" style=\"text-align: center;\">\n",
       "                    Figure\n",
       "                </div>\n",
       "                <img src='data:image/png;base64,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' width=640.0/>\n",
       "            </div>\n",
       "        "
      ],
      "text/plain": [
       "Canvas(toolbar=Toolbar(toolitems=[('Home', 'Reset original view', 'home', 'home'), ('Back', 'Back to previous …"
      ]
     },
     "metadata": {},
     "output_type": "display_data"
    }
   ],
   "source": [
    "def TCM_deltav_thermal(s: int, cooling_rate: tuple[float, float], warm_temp: float) -> PolyhedralContract:\n",
    "    spec = PolyhedralContract.from_string(\n",
    "        input_vars=[\n",
    "            f\"temp{s}_entry\",           # initial thrusters temperature\n",
    "            f\"duration_tcm_deltav{s}\",  # allocation variable for TCM deltav duration\n",
    "        ],\n",
    "        output_vars=[\n",
    "            f\"temp{s}_exit\",            # final thrusters temperature\n",
    "        ],\n",
    "        assumptions=[\n",
    "            # thrusters are warm\n",
    "            f\"-temp{s}_entry <= -{warm_temp}\",\n",
    "        ],\n",
    "        guarantees=[\n",
    "            # duration*cooling_rate(min) <= temp{entry} - temp{exit} <= duration*cooling_rate(max)\n",
    "            f\" temp{s}_entry - temp{s}_exit - {cooling_rate[1]}*duration_tcm_deltav{s} <= 0\",\n",
    "            f\"-temp{s}_entry + temp{s}_exit + {cooling_rate[0]}*duration_tcm_deltav{s} <= 0\",\n",
    "            # lower-bound thruster temperature\n",
    "            f\"-temp{s}_exit <= 0\",\n",
    "        ],\n",
    "    )\n",
    "    return spec\n",
    "\n",
    "tcm1_deltav_thermal = TCM_deltav_thermal(s=5, cooling_rate=(0.1, 0.2), warm_temp=80.0)\n",
    "print(f\"Contract tcm1_deltav_thermal:\\n\\n{tcm1_deltav_thermal}\")\n",
    "\n",
    "_ = plot_guarantees(\n",
    "    contract=tcm1_deltav_thermal,\n",
    "    x_var=Var(\"duration_tcm_deltav5\"),\n",
    "    y_var=Var(\"temp5_exit\"),\n",
    "    var_values={\n",
    "        Var(\"temp5_entry\"): 90,\n",
    "    },\n",
    "    x_lims=(0, 100),\n",
    "    y_lims=(0, 100),\n",
    ")"
   ]
  },
  {
   "attachments": {},
   "cell_type": "markdown",
   "metadata": {},
   "source": [
    "#### Composing TCM SubTasks\n",
    "\n",
    "Algebraic composition allows us to capture the requirement that a TCM Heating subtask must always precede a TCM DeltaV subtask by composing them.\n"
   ]
  },
  {
   "cell_type": "code",
   "execution_count": 8,
   "metadata": {},
   "outputs": [
    {
     "name": "stdout",
     "output_type": "stream",
     "text": [
      "========= tcm1_thermal\n",
      "InVars: [temp4_entry, duration_tcm_heating4, duration_tcm_deltav5]\n",
      "OutVars:[temp5_exit, output_temp4]\n",
      "A: [\n",
      "  -4.5 duration_tcm_heating4 - temp4_entry <= -80.0\n",
      "  -duration_tcm_heating4 <= 0.0\n",
      "  4.7 duration_tcm_heating4 + temp4_entry <= 100.0\n",
      "  -temp4_entry <= 0.0\n",
      "]\n",
      "G: [\n",
      "  -4.7 duration_tcm_heating4 + output_temp4 - temp4_entry <= 0.0\n",
      "  4.5 duration_tcm_heating4 - output_temp4 + temp4_entry <= 0.0\n",
      "  -0.2 duration_tcm_deltav5 + output_temp4 - temp5_exit <= 0.0\n",
      "  0.1 duration_tcm_deltav5 - output_temp4 + temp5_exit <= 0.0\n",
      "  -temp5_exit <= 0.0\n",
      "]\n"
     ]
    }
   ],
   "source": [
    "tcm1_thermal = scenario_sequence(c1=tcm1_heating_thermal, c2=tcm1_deltav_thermal, variables=[\"temp\"], c1index=4)\n",
    "print(f\"========= tcm1_thermal\\n{tcm1_thermal}\")"
   ]
  },
  {
   "attachments": {},
   "cell_type": "markdown",
   "metadata": {},
   "source": [
    "### Thermal Schedule Analysis\n",
    "\n",
    "Let's consider a simple 4-step schedule of the following sequence of task instances, which we compose:\n",
    "\n",
    "- DSN\n",
    "- CHARGING\n",
    "- SBO\n",
    "- TCM\n"
   ]
  },
  {
   "cell_type": "code",
   "execution_count": 9,
   "metadata": {},
   "outputs": [
    {
     "name": "stdout",
     "output_type": "stream",
     "text": [
      "---- Steps 1,2\n",
      "InVars: [temp1_entry]\n",
      "OutVars:[temp2_exit, output_temp1]\n",
      "A: [\n",
      "  temp1_entry <= 100.0\n",
      "  -temp1_entry <= 0.0\n",
      "]\n",
      "G: [\n",
      "  output_temp1 = 0.0\n",
      "  temp2_exit = 0.0\n",
      "]\n"
     ]
    },
    {
     "data": {
      "text/plain": [
       "(0.0, -0.0)"
      ]
     },
     "execution_count": 9,
     "metadata": {},
     "output_type": "execute_result"
    }
   ],
   "source": [
    "steps12 = scenario_sequence(c1=dsn1_thermal, c2=charging1_thermal, variables=[\"temp\"], c1index=1)\n",
    "print(f\"---- Steps 1,2\\n{steps12}\")\n",
    "steps12.get_variable_bounds(\"output_temp1\")"
   ]
  },
  {
   "cell_type": "code",
   "execution_count": 10,
   "metadata": {},
   "outputs": [
    {
     "name": "stdout",
     "output_type": "stream",
     "text": [
      "---- Steps 1,2,3\n",
      "InVars: [temp1_entry]\n",
      "OutVars:[output_temp1, temp3_exit, output_temp2]\n",
      "A: [\n",
      "  temp1_entry <= 100.0\n",
      "  -temp1_entry <= 0.0\n",
      "]\n",
      "G: [\n",
      "  output_temp1 = 0.0\n",
      "  output_temp2 = 0.0\n",
      "  temp3_exit = 0.0\n",
      "]\n",
      "(0.0, -0.0)\n"
     ]
    }
   ],
   "source": [
    "steps123 = scenario_sequence(c1=steps12, c2=sbo1_thermal, variables=[\"temp\"], c1index=2)\n",
    "print(f\"---- Steps 1,2,3\\n{steps123}\")\n",
    "print(steps123.get_variable_bounds(\"output_temp2\"))"
   ]
  },
  {
   "cell_type": "code",
   "execution_count": 11,
   "metadata": {},
   "outputs": [
    {
     "name": "stdout",
     "output_type": "stream",
     "text": [
      "---- Steps 1,2,3,4\n",
      "InVars: [temp1_entry, duration_tcm_heating4, duration_tcm_deltav5]\n",
      "OutVars:[output_temp1, output_temp2, temp5_exit, output_temp4, output_temp3]\n",
      "A: [\n",
      "  -4.5 duration_tcm_heating4 <= -80.0\n",
      "  4.7 duration_tcm_heating4 <= 100.0\n",
      "  temp1_entry <= 100.0\n",
      "  -temp1_entry <= 0.0\n",
      "]\n",
      "G: [\n",
      "  output_temp1 = 0.0\n",
      "  output_temp2 = 0.0\n",
      "  output_temp3 = 0.0\n",
      "  -4.7 duration_tcm_heating4 - output_temp3 + output_temp4 <= 0.0\n",
      "  4.5 duration_tcm_heating4 + output_temp3 - output_temp4 <= 0.0\n",
      "  -0.2 duration_tcm_deltav5 + output_temp4 - temp5_exit <= 0.0\n",
      "  0.1 duration_tcm_deltav5 - output_temp4 + temp5_exit <= 0.0\n",
      "  -temp5_exit <= 0.0\n",
      "]\n",
      "(0.0, -0.0)\n",
      "(80.0, 100.0)\n"
     ]
    }
   ],
   "source": [
    "steps1234 = scenario_sequence(c1=steps123, c2=tcm1_thermal, variables=[\"temp\"], c1index=3)\n",
    "print(f\"---- Steps 1,2,3,4\\n{steps1234}\")\n",
    "print(steps1234.get_variable_bounds(\"output_temp3\"))\n",
    "print(steps1234.get_variable_bounds(\"output_temp4\"))"
   ]
  },
  {
   "cell_type": "code",
   "execution_count": 12,
   "metadata": {},
   "outputs": [
    {
     "name": "stdout",
     "output_type": "stream",
     "text": [
      "scenario_power=InVars: [temp1_entry, duration_tcm_heating4, duration_tcm_deltav5]\n",
      "OutVars:[output_temp1, output_temp2, output_temp4, output_temp3, output_temp5]\n",
      "A: [\n",
      "  -4.5 duration_tcm_heating4 <= -80.0\n",
      "  4.7 duration_tcm_heating4 <= 100.0\n",
      "  temp1_entry <= 100.0\n",
      "  -temp1_entry <= 0.0\n",
      "]\n",
      "G: [\n",
      "  output_temp1 = 0.0\n",
      "  output_temp2 = 0.0\n",
      "  output_temp3 = 0.0\n",
      "  -4.7 duration_tcm_heating4 - output_temp3 + output_temp4 <= 0.0\n",
      "  4.5 duration_tcm_heating4 + output_temp3 - output_temp4 <= 0.0\n",
      "  -0.2 duration_tcm_deltav5 + output_temp4 - output_temp5 <= 0.0\n",
      "  0.1 duration_tcm_deltav5 - output_temp4 + output_temp5 <= 0.0\n",
      "  -output_temp5 <= 0.0\n",
      "]\n"
     ]
    }
   ],
   "source": [
    "scenario_thermal = steps1234.rename_variables([(\"temp5_exit\", \"output_temp5\")])\n",
    "print(f\"scenario_power={scenario_thermal}\")"
   ]
  },
  {
   "cell_type": "code",
   "execution_count": 13,
   "metadata": {
    "tags": [
     "remove_cell"
    ]
   },
   "outputs": [],
   "source": [
    "write_contracts_to_file(contracts=[scenario_thermal], names=[\"scenario_thermal\"], file_name=\"json/scenario_thermal.json\")"
   ]
  }
 ],
 "metadata": {
  "kernelspec": {
   "display_name": ".venv",
   "language": "python",
   "name": "python3"
  },
  "language_info": {
   "codemirror_mode": {
    "name": "ipython",
    "version": 3
   },
   "file_extension": ".py",
   "mimetype": "text/x-python",
   "name": "python",
   "nbconvert_exporter": "python",
   "pygments_lexer": "ipython3",
   "version": "3.9.16"
  },
  "orig_nbformat": 4,
  "vscode": {
   "interpreter": {
    "hash": "ce03960f10b489fec96a3dcc1c1ea5720541297ff0f91bb8136b413ca54ddaad"
   }
  }
 },
 "nbformat": 4,
 "nbformat_minor": 2
}
