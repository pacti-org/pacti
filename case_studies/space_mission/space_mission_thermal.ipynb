{
 "cells": [
  {
   "cell_type": "code",
   "execution_count": 2,
   "metadata": {},
   "outputs": [],
   "source": [
    "%matplotlib widget\n",
    "\n",
    "#from IPython import display\n",
    "from base64 import b64decode\n",
    "from pacti.terms.polyhedra import *\n",
    "from pacti.iocontract import IoContract, Var\n",
    "from PIL import Image\n",
    "import matplotlib.pyplot as plt\n",
    "import os\n",
    "import numpy as np\n",
    "from matplotlib import patches\n",
    "import pdb\n",
    "from matplotlib.collections import PatchCollection\n",
    "from contract_utils import *\n",
    "\n",
    "varPrefixes=[\"t\", \"soc\", \"d\", \"c\", \"u\", \"r\", \"temp\"]\n",
    "epsilon = 1e-3"
   ]
  },
  {
   "attachments": {},
   "cell_type": "markdown",
   "metadata": {},
   "source": [
    "## Thermal viewpoint modeling\n",
    "\n",
    "Except for TCM, all other tasks have the same qualitative thermal impact: the spacecraft's thrusters quickly reach their coldest temperature since they are off and have no thermal insulation or significant thermal capacity. Consequently, we define a common contract template for modeling the cooling impact in a way that is independent of the scheduled task duration."
   ]
  },
  {
   "cell_type": "code",
   "execution_count": null,
   "metadata": {},
   "outputs": [],
   "source": [
    "def COOLING_thermal(s: int) -> PolyhedralContract:\n",
    "  spec = PolyhedralContract.from_string(\n",
    "    InputVars = [\n",
    "      f\"temp{s}_entry\",           # initial thrusters temperature\n",
    "    ],\n",
    "    OutputVars = [\n",
    "      f\"temp{s}_exit\",            # final thrusters temperature\n",
    "    ],\n",
    "    assumptions = [\n",
    "      # Upper-bound thruster temperature\n",
    "      f\"-temp{s}_entry <= -100\",\n",
    "\n",
    "      # lower-bound thruster temperature\n",
    "      f\"-temp{s}_entry <= 0\",\n",
    "    ],\n",
    "    guarantees = [\n",
    "      # thrusters quickly cool down to their lowest temperature \n",
    "      f\" temp{s}_exit = 0\",\n",
    "    ])\n",
    "  return spec"
   ]
  },
  {
   "attachments": {},
   "cell_type": "markdown",
   "metadata": {},
   "source": [
    "\n",
    "### CHARGING Task\n",
    "\n",
    "Objective: charge the spacecraft battery\n",
    "\n",
    "As summarized in [the qualitative impacts table](#qualitative-impacts), this function affects this viewpoint according to the cooling impact defined above."
   ]
  },
  {
   "cell_type": "code",
   "execution_count": 3,
   "metadata": {},
   "outputs": [
    {
     "name": "stdout",
     "output_type": "stream",
     "text": [
      "Contract charging1_thermal:\n",
      "\n",
      "InVars: [temp2_entry]\n",
      "OutVars:[temp2_exit]\n",
      "A: [\n",
      "  -temp2_entry <= -100.0\n",
      "  -temp2_entry <= 0.0\n",
      "]\n",
      "G: [\n",
      "  temp2_exit = 0.0\n",
      "]\n"
     ]
    }
   ],
   "source": [
    "charging1_thermal = COOLING_thermal(s=2)\n",
    "print(f\"Contract charging1_thermal:\\n\\n{charging1_thermal}\")"
   ]
  },
  {
   "attachments": {},
   "cell_type": "markdown",
   "metadata": {},
   "source": [
    "### DSN Task\n",
    "\n",
    "Objective: downlink science data to Earth.\n",
    "\n",
    "As summarized in [the qualitative impacts table](#qualitative-impacts), this function affects this viewpoint according to the cooling impact defined above."
   ]
  },
  {
   "cell_type": "code",
   "execution_count": null,
   "metadata": {},
   "outputs": [
    {
     "name": "stdout",
     "output_type": "stream",
     "text": [
      "Contract charging1_thermal:\n",
      "\n",
      "InVars: [temp2_entry]\n",
      "OutVars:[temp2_exit]\n",
      "A: [\n",
      "  -temp2_entry <= -100.0\n",
      "  -temp2_entry <= 0.0\n",
      "]\n",
      "G: [\n",
      "  temp2_exit = 0.0\n",
      "]\n"
     ]
    }
   ],
   "source": [
    "charging1_thermal = COOLING_thermal(s=2)\n",
    "print(f\"Contract charging1_thermal:\\n\\n{charging1_thermal}\")"
   ]
  }
 ],
 "metadata": {
  "kernelspec": {
   "display_name": ".venv",
   "language": "python",
   "name": "python3"
  },
  "language_info": {
   "codemirror_mode": {
    "name": "ipython",
    "version": 3
   },
   "file_extension": ".py",
   "mimetype": "text/x-python",
   "name": "python",
   "nbconvert_exporter": "python",
   "pygments_lexer": "ipython3",
   "version": "3.9.16"
  },
  "orig_nbformat": 4,
  "vscode": {
   "interpreter": {
    "hash": "ce03960f10b489fec96a3dcc1c1ea5720541297ff0f91bb8136b413ca54ddaad"
   }
  }
 },
 "nbformat": 4,
 "nbformat_minor": 2
}
