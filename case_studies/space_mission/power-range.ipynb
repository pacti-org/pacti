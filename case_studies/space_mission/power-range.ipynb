{
 "cells": [
  {
   "cell_type": "code",
   "execution_count": 21,
   "metadata": {},
   "outputs": [
    {
     "name": "stdout",
     "output_type": "stream",
     "text": [
      "i=1\n",
      "i=2\n",
      "i=3\n",
      "i=4\n",
      "i=5\n",
      "[(66.64382776771633, 66.64382776771633), (12.252562489685042, 29.978606351446068), (69.17806253990263, 100.0), (55.84264444626013, 86.66458190635751), (55.571588457745406, 86.3935259178428), (48.917783905955304, 79.73972136605269), (12.252562489685042, None)]\n"
     ]
    }
   ],
   "source": [
    "import pickle\n",
    "from pacti.terms.polyhedra import *\n",
    "from pacti.utils import read_contracts_from_file\n",
    "from generators import *\n",
    "from plot_utils import *\n",
    "\n",
    "def show_bounds(c: PolyhedralContract, var:str):\n",
    "    b = c.get_variable_bounds(var=var)\n",
    "    print(f\"{var} bounds={b}\")\n",
    "    \n",
    "f20 = open('data/results20.data', 'rb')\n",
    "results20 = pickle.load(f20)\n",
    "f20.close()\n",
    "\n",
    "index=0\n",
    "var=\"soc\"\n",
    "scenario_op = results20[index][2].merge(results20[index][3])\n",
    "bounds=[scenario_op.get_variable_bounds(f\"{var}1_entry\")]\n",
    "labels=[\"initial\"]\n",
    "n=20\n",
    "# with range(1,n), we will get an error...\n",
    "for i in range(1,6):\n",
    "    print(f\"i={i}\")\n",
    "    bounds+=[scenario_op.get_variable_bounds(f\"output_{var}{i}\")]\n",
    "    labels+=[f\"{i}\"]\n",
    "bounds+=[scenario_op.get_variable_bounds(f\"output_{var}{n}\")]\n",
    "#plot_steps(bounds, labels, ylabel=var, title=f\"Possible values of {var} over the sequence\")\n",
    "print(bounds)"
   ]
  },
  {
   "cell_type": "code",
   "execution_count": 22,
   "metadata": {},
   "outputs": [
    {
     "name": "stdout",
     "output_type": "stream",
     "text": [
      "InVars: [soc1_entry, duration_dsn1, duration_charging2, duration_sbo3, duration_tcm_h4, duration_tcm_dv5, d1_entry, c1_entry, u1_entry, r1_entry, duration_dsn6, duration_charging7, duration_sbo8, duration_tcm_h9, duration_tcm_dv10, duration_dsn11, duration_charging12, duration_sbo13, duration_tcm_h14, duration_tcm_dv15, duration_dsn16, duration_charging17, duration_sbo18, duration_tcm_h19, duration_tcm_dv20]\n",
      "OutVars:[output_soc1, output_soc2, output_soc3, output_soc4, output_d1, output_c1, output_d2, output_c2, output_d3, output_c3, output_d4, output_c4, output_u1, output_r1, output_u2, output_r2, output_u3, output_r3, output_u4, output_r4, output_soc6, output_soc7, output_soc8, output_soc9, output_d6, output_c6, output_d7, output_c7, output_d8, output_c8, output_d9, output_c9, output_u6, output_r6, output_u7, output_r7, output_u8, output_r8, output_u9, output_r9, output_soc5, output_d5, output_c5, output_u5, output_r5, output_soc11, output_soc12, output_soc13, output_soc14, output_d11, output_c11, output_d12, output_c12, output_d13, output_c13, output_d14, output_c14, output_u11, output_r11, output_u12, output_r12, output_u13, output_r13, output_u14, output_r14, output_soc10, output_d10, output_c10, output_u10, output_r10, output_soc16, output_soc17, output_soc18, output_soc19, output_soc20, output_d16, output_c16, output_d17, output_c17, output_d18, output_c18, output_d19, output_c19, output_d20, output_c20, output_u16, output_r16, output_u17, output_r17, output_u18, output_r18, output_u19, output_r19, output_u20, output_r20, output_soc15, output_d15, output_c15, output_u15, output_r15]\n",
      "A: [\n",
      "  -duration_tcm_dv20 <= 0.0\n",
      "  -duration_tcm_h19 <= 0.0\n",
      "  -duration_sbo18 <= 0.0\n",
      "  -duration_charging17 <= 0.0\n",
      "  4.831569942656414 duration_charging17 - 3.2931842587071 duration_dsn16 <= 0.0\n",
      "  -duration_tcm_dv15 <= 0.0\n",
      "  -duration_tcm_h14 <= 0.0\n",
      "  -duration_sbo13 <= 0.0\n",
      "  -duration_charging12 <= 0.0\n",
      "  4.831569942656414 duration_charging12 - 3.2931842587071 duration_dsn11 <= 0.0\n",
      "  -duration_tcm_dv10 <= 0.0\n",
      "  -duration_tcm_h9 <= 0.0\n",
      "  -duration_sbo8 <= 0.0\n",
      "  -duration_charging7 <= 0.0\n",
      "  -duration_dsn6 <= 0.0\n",
      "  -duration_tcm_dv5 <= 0.0\n",
      "  -duration_tcm_h4 <= 0.0\n",
      "  -duration_sbo3 <= 0.0\n",
      "  -duration_charging2 <= 0.0\n",
      "  4.831569942656414 duration_charging2 - 3.2931842587071 duration_dsn1 + soc1_entry <= 100.0\n",
      "  -duration_dsn1 <= 0.0\n",
      "  soc1_entry <= 100.0\n",
      "  4.570540435822802 duration_dsn1 - soc1_entry <= 0.0\n",
      "  d1_entry <= 100.0\n",
      "  -d1_entry <= 0.0\n",
      "  -u1_entry <= 0.0\n",
      "  u1_entry <= 100.0\n",
      "  -r1_entry <= 0.0\n",
      "  r1_entry = 100.0\n",
      "  -duration_dsn1 <= -11.13366836955093\n",
      "  -duration_charging2 <= -11.13366836955093\n",
      "  -duration_sbo3 <= -11.13366836955093\n",
      "  -duration_tcm_h4 <= -11.13366836955093\n",
      "  -duration_tcm_dv5 <= -11.13366836955093\n",
      "  -duration_dsn6 <= -11.13366836955093\n",
      "  -duration_charging7 <= -11.13366836955093\n",
      "  -duration_sbo8 <= -11.13366836955093\n",
      "  -duration_tcm_h9 <= -11.13366836955093\n",
      "  -duration_tcm_dv10 <= -11.13366836955093\n",
      "  -duration_dsn11 <= -11.13366836955093\n",
      "  -duration_charging12 <= -11.13366836955093\n",
      "  -duration_sbo13 <= -11.13366836955093\n",
      "  -duration_tcm_h14 <= -11.13366836955093\n",
      "  -duration_tcm_dv15 <= -11.13366836955093\n",
      "  -duration_dsn16 <= -11.13366836955093\n",
      "  -duration_charging17 <= -11.13366836955093\n",
      "  -duration_sbo18 <= -11.13366836955093\n",
      "  -duration_tcm_h19 <= -11.13366836955093\n",
      "  -duration_tcm_dv20 <= -11.13366836955093\n",
      "  soc1_entry = 66.64382776771633\n",
      "  c1_entry = 0.0\n",
      "  d1_entry = 11.13366836955093\n",
      "  u1_entry = 84.70839371577951\n",
      "]\n",
      "G: [\n",
      "  -4.570540435822802 duration_dsn1 - output_soc1 + soc1_entry <= 0.0\n",
      "  3.2931842587070994 duration_dsn1 + output_soc1 - soc1_entry <= 0.0\n",
      "  -4.831569942656414 duration_charging2 - output_soc1 + output_soc2 <= 0.0\n",
      "  -1.212011054039959 duration_sbo3 + output_soc2 - output_soc3 <= 0.0\n",
      "  1.1977560001798733 duration_sbo3 - output_soc2 + output_soc3 <= 0.0\n",
      "  -1.3330971623821792 duration_tcm_h4 + output_soc3 - output_soc4 <= 0.0\n",
      "  0.024345613639438546 duration_tcm_h4 - output_soc3 + output_soc4 <= 0.0\n",
      "  -2.087467096928737 duration_tcm_dv5 + output_soc4 - output_soc5 <= 0.0\n",
      "  0.5976291309329235 duration_tcm_dv5 - output_soc4 + output_soc5 <= 0.0\n",
      "  -d1_entry + 0.7014237850916949 duration_dsn1 + output_d1 <= 0.0\n",
      "  -output_d1 <= 0.0\n",
      "  -c1_entry + output_c1 = 0.0\n",
      "  -output_d1 + output_d2 = 0.0\n",
      "  -output_c1 + output_c2 = 0.0\n",
      "  -5.395452381068399 duration_sbo3 - output_d2 + output_d3 <= 0.0\n",
      "  1.4370944385330657 duration_sbo3 + output_d2 - output_d3 <= 0.0\n",
      "  -5.395452381068399 duration_sbo3 - output_c2 + output_c3 <= 0.0\n",
      "  1.4370944385330657 duration_sbo3 + output_c2 - output_c3 <= 0.0\n",
      "  -output_d3 + output_d4 = 0.0\n",
      "  -output_c3 + output_c4 = 0.0\n",
      "  -output_d4 + output_d5 = 0.0\n",
      "  -output_c4 + output_c5 = 0.0\n",
      "  output_u1 - u1_entry <= 2.4780318540496906\n",
      "  -output_u1 + u1_entry <= -0.060725979866960156\n",
      "  output_r1 - r1_entry = 0.0\n",
      "  -output_u1 + output_u2 <= 1.9153814787044743\n",
      "  output_u1 - output_u2 <= -1.3503590837376187\n",
      "  -output_r1 + output_r2 = 0.0\n",
      "  -0.8068054865896424 duration_sbo3 + output_u2 - output_u3 <= 0.0\n",
      "  0.3340933058143636 duration_sbo3 - output_u2 + output_u3 <= 0.0\n",
      "  -output_r2 + output_r3 = 0.0\n",
      "  -output_u3 + output_u4 = 0.0\n",
      "  -output_r3 + output_r4 = 0.0\n",
      "  -2.5614091573789106 duration_tcm_dv5 - output_u4 + output_u5 <= 0.0\n",
      "  0.3996018076279557 duration_tcm_dv5 + output_u4 - output_u5 <= 0.0\n",
      "  -0.8359364748331835 duration_tcm_dv5 + output_r4 - output_r5 <= 0.0\n",
      "  0.6806740514302507 duration_tcm_dv5 - output_r4 + output_r5 <= 0.0\n",
      "  -4.570540435822802 duration_dsn6 + output_soc5 - output_soc6 <= 0.0\n",
      "  3.2931842587070994 duration_dsn6 - output_soc5 + output_soc6 <= 0.0\n",
      "  -4.831569942656414 duration_charging7 - output_soc6 + output_soc7 <= 0.0\n",
      "  1.8172867652287437 duration_charging7 + output_soc6 - output_soc7 <= 0.0\n",
      "  -1.212011054039959 duration_sbo8 + output_soc7 - output_soc8 <= 0.0\n",
      "  1.1977560001798733 duration_sbo8 - output_soc7 + output_soc8 <= 0.0\n",
      "  -1.3330971623821792 duration_tcm_h9 + output_soc8 - output_soc9 <= 0.0\n",
      "  0.024345613639438546 duration_tcm_h9 - output_soc8 + output_soc9 <= 0.0\n",
      "  -2.087467096928737 duration_tcm_dv10 - output_soc10 + output_soc9 <= 0.0\n",
      "  0.5976291309329235 duration_tcm_dv10 + output_soc10 - output_soc9 <= 0.0\n",
      "  -9.631143289393199 duration_dsn6 + output_d5 - output_d6 <= 0.0\n",
      "  0.7014237850916949 duration_dsn6 - output_d5 + output_d6 <= 0.0\n",
      "  -output_d6 <= 0.0\n",
      "  -output_c5 + output_c6 = 0.0\n",
      "  -output_d6 + output_d7 = 0.0\n",
      "  -output_c6 + output_c7 = 0.0\n",
      "  -5.395452381068399 duration_sbo8 - output_d7 + output_d8 <= 0.0\n",
      "  1.4370944385330657 duration_sbo8 + output_d7 - output_d8 <= 0.0\n",
      "  -5.395452381068399 duration_sbo8 - output_c7 + output_c8 <= 0.0\n",
      "  1.4370944385330657 duration_sbo8 + output_c7 - output_c8 <= 0.0\n",
      "  -output_d8 + output_d9 = 0.0\n",
      "  -output_c8 + output_c9 = 0.0\n",
      "  output_d10 - output_d9 = 0.0\n",
      "  output_c10 - output_c9 = 0.0\n",
      "  -output_u5 + output_u6 <= 2.4780318540496906\n",
      "  output_u5 - output_u6 <= -0.060725979866960156\n",
      "  -output_r5 + output_r6 = 0.0\n",
      "  output_u7 <= 100.0\n",
      "  -output_u6 + output_u7 <= 1.9153814787044743\n",
      "  output_u6 - output_u7 <= -1.3503590837376187\n",
      "  -output_r6 + output_r7 = 0.0\n",
      "  -0.8068054865896424 duration_sbo8 + output_u7 - output_u8 <= 0.0\n",
      "  0.3340933058143636 duration_sbo8 - output_u7 + output_u8 <= 0.0\n",
      "  -output_u8 <= 0.0\n",
      "  -output_r7 + output_r8 = 0.0\n",
      "  -output_u8 + output_u9 = 0.0\n",
      "  -output_r8 + output_r9 = 0.0\n",
      "  -2.5614091573789106 duration_tcm_dv10 + output_u10 - output_u9 <= 0.0\n",
      "  0.3996018076279557 duration_tcm_dv10 - output_u10 + output_u9 <= 0.0\n",
      "  -0.8359364748331835 duration_tcm_dv10 - output_r10 + output_r9 <= 0.0\n",
      "  0.6806740514302507 duration_tcm_dv10 + output_r10 - output_r9 <= 0.0\n",
      "  -4.570540435822802 duration_dsn11 + output_soc10 - output_soc11 <= 0.0\n",
      "  3.2931842587070994 duration_dsn11 - output_soc10 + output_soc11 <= 0.0\n",
      "  -4.831569942656414 duration_charging12 - output_soc11 + output_soc12 <= 0.0\n",
      "  1.8172867652287437 duration_charging12 + output_soc11 - output_soc12 <= 0.0\n",
      "  -1.212011054039959 duration_sbo13 + output_soc12 - output_soc13 <= 0.0\n",
      "  1.1977560001798733 duration_sbo13 - output_soc12 + output_soc13 <= 0.0\n",
      "  -1.3330971623821792 duration_tcm_h14 + output_soc13 - output_soc14 <= 0.0\n",
      "  0.024345613639438546 duration_tcm_h14 - output_soc13 + output_soc14 <= 0.0\n",
      "  -2.087467096928737 duration_tcm_dv15 + output_soc14 - output_soc15 <= 0.0\n",
      "  0.5976291309329235 duration_tcm_dv15 - output_soc14 + output_soc15 <= 0.0\n",
      "  -9.631143289393199 duration_dsn11 + output_d10 - output_d11 <= 0.0\n",
      "  0.7014237850916949 duration_dsn11 - output_d10 + output_d11 <= 0.0\n",
      "  -output_d11 <= 0.0\n",
      "  -output_c10 + output_c11 = 0.0\n",
      "  -output_d11 + output_d12 = 0.0\n",
      "  -output_c11 + output_c12 = 0.0\n",
      "  -5.395452381068399 duration_sbo13 - output_d12 + output_d13 <= 0.0\n",
      "  1.4370944385330657 duration_sbo13 + output_d12 - output_d13 <= 0.0\n",
      "  -5.395452381068399 duration_sbo13 - output_c12 + output_c13 <= 0.0\n",
      "  1.4370944385330657 duration_sbo13 + output_c12 - output_c13 <= 0.0\n",
      "  -output_d13 + output_d14 = 0.0\n",
      "  -output_c13 + output_c14 = 0.0\n",
      "  -output_d14 + output_d15 = 0.0\n",
      "  -output_c14 + output_c15 = 0.0\n",
      "  -output_u10 + output_u11 <= 2.4780318540496906\n",
      "  output_u10 - output_u11 <= -0.060725979866960156\n",
      "  -output_r10 + output_r11 = 0.0\n",
      "  output_u12 <= 100.0\n",
      "  -output_u11 + output_u12 <= 1.9153814787044743\n",
      "  output_u11 - output_u12 <= -1.3503590837376187\n",
      "  -output_r11 + output_r12 = 0.0\n",
      "  -0.8068054865896424 duration_sbo13 + output_u12 - output_u13 <= 0.0\n",
      "  0.3340933058143636 duration_sbo13 - output_u12 + output_u13 <= 0.0\n",
      "  -output_u13 <= 0.0\n",
      "  -output_r12 + output_r13 = 0.0\n",
      "  -output_u13 + output_u14 = 0.0\n",
      "  -output_r13 + output_r14 = 0.0\n",
      "  -2.5614091573789106 duration_tcm_dv15 - output_u14 + output_u15 <= 0.0\n",
      "  0.3996018076279557 duration_tcm_dv15 + output_u14 - output_u15 <= 0.0\n",
      "  -0.8359364748331835 duration_tcm_dv15 + output_r14 - output_r15 <= 0.0\n",
      "  0.6806740514302507 duration_tcm_dv15 - output_r14 + output_r15 <= 0.0\n",
      "  -4.570540435822802 duration_dsn16 + output_soc15 - output_soc16 <= 0.0\n",
      "  3.2931842587070994 duration_dsn16 - output_soc15 + output_soc16 <= 0.0\n",
      "  -4.831569942656414 duration_charging17 - output_soc16 + output_soc17 <= 0.0\n",
      "  1.8172867652287437 duration_charging17 + output_soc16 - output_soc17 <= 0.0\n",
      "  -1.212011054039959 duration_sbo18 + output_soc17 - output_soc18 <= 0.0\n",
      "  1.1977560001798733 duration_sbo18 - output_soc17 + output_soc18 <= 0.0\n",
      "  -1.3330971623821792 duration_tcm_h19 + output_soc18 - output_soc19 <= 0.0\n",
      "  0.024345613639438546 duration_tcm_h19 - output_soc18 + output_soc19 <= 0.0\n",
      "  -2.087467096928737 duration_tcm_dv20 + output_soc19 - output_soc20 <= 0.0\n",
      "  0.5976291309329235 duration_tcm_dv20 - output_soc19 + output_soc20 <= 0.0\n",
      "  -9.631143289393199 duration_dsn16 + output_d15 - output_d16 <= 0.0\n",
      "  0.7014237850916949 duration_dsn16 - output_d15 + output_d16 <= 0.0\n",
      "  -output_d16 <= 0.0\n",
      "  -output_c15 + output_c16 = 0.0\n",
      "  -output_d16 + output_d17 = 0.0\n",
      "  -output_c16 + output_c17 = 0.0\n",
      "  -5.395452381068399 duration_sbo18 - output_d17 + output_d18 <= 0.0\n",
      "  1.4370944385330657 duration_sbo18 + output_d17 - output_d18 <= 0.0\n",
      "  -5.395452381068399 duration_sbo18 - output_c17 + output_c18 <= 0.0\n",
      "  1.4370944385330657 duration_sbo18 + output_c17 - output_c18 <= 0.0\n",
      "  -output_d18 + output_d19 = 0.0\n",
      "  -output_c18 + output_c19 = 0.0\n",
      "  -output_d19 + output_d20 = 0.0\n",
      "  -output_c19 + output_c20 = 0.0\n",
      "  -output_u15 + output_u16 <= 2.4780318540496906\n",
      "  output_u15 - output_u16 <= -0.060725979866960156\n",
      "  -output_r15 + output_r16 = 0.0\n",
      "  output_u17 <= 100.0\n",
      "  -output_u16 + output_u17 <= 1.9153814787044743\n",
      "  output_u16 - output_u17 <= -1.3503590837376187\n",
      "  -output_r16 + output_r17 = 0.0\n",
      "  -0.8068054865896424 duration_sbo18 + output_u17 - output_u18 <= 0.0\n",
      "  0.3340933058143636 duration_sbo18 - output_u17 + output_u18 <= 0.0\n",
      "  -output_u18 <= 0.0\n",
      "  -output_r17 + output_r18 = 0.0\n",
      "  -output_u18 + output_u19 = 0.0\n",
      "  -output_r18 + output_r19 = 0.0\n",
      "  output_u20 <= 100.0\n",
      "  -2.5614091573789106 duration_tcm_dv20 - output_u19 + output_u20 <= 0.0\n",
      "  0.3996018076279557 duration_tcm_dv20 + output_u19 - output_u20 <= 0.0\n",
      "  -0.8359364748331835 duration_tcm_dv20 + output_r19 - output_r20 <= 0.0\n",
      "  0.6806740514302507 duration_tcm_dv20 - output_r19 + output_r20 <= 0.0\n",
      "  -output_r20 <= 0.0\n",
      "  -output_soc1 <= -12.252562489685042\n",
      "  -output_soc6 <= -12.252562489685042\n",
      "  -output_soc11 <= -12.252562489685042\n",
      "  -output_soc16 <= -12.252562489685042\n",
      "  -output_soc20 <= -12.252562489685042\n",
      "]\n"
     ]
    }
   ],
   "source": [
    "print(scenario_op)"
   ]
  },
  {
   "cell_type": "code",
   "execution_count": 23,
   "metadata": {},
   "outputs": [
    {
     "name": "stdout",
     "output_type": "stream",
     "text": [
      "(12.252562489685042, 43.07449994978243)\n",
      "(93.23079910976388, None)\n",
      "(18.906367041475143, None)\n"
     ]
    }
   ],
   "source": [
    "print(scenario_op.get_variable_bounds(f\"output_soc6\"))\n",
    "\n",
    "# This errors...\n",
    "#print(scenario_op.get_variable_bounds(f\"output_soc7\"))\n",
    "\n",
    "print(scenario_op.get_variable_bounds(f\"output_soc8\"))\n",
    "\n",
    "print(scenario_op.get_variable_bounds(f\"output_soc19\"))"
   ]
  },
  {
   "cell_type": "code",
   "execution_count": 24,
   "metadata": {},
   "outputs": [
    {
     "name": "stdout",
     "output_type": "stream",
     "text": [
      "(11.13366836955093, 20.49297991690967)\n"
     ]
    }
   ],
   "source": [
    "print(scenario_op.get_variable_bounds(f\"duration_dsn6\"))"
   ]
  },
  {
   "cell_type": "code",
   "execution_count": 25,
   "metadata": {},
   "outputs": [
    {
     "name": "stdout",
     "output_type": "stream",
     "text": [
      "(11.13366836955093, 36.866737087610936)\n",
      "(None, None)\n",
      "(None, None)\n",
      "(None, None)\n",
      "(None, None)\n"
     ]
    }
   ],
   "source": [
    "print(scenario_op.get_variable_bounds(f\"duration_sbo3\"))\n",
    "print(scenario_op.get_variable_bounds(f\"duration_sbo4\"))\n",
    "print(scenario_op.get_variable_bounds(f\"duration_sbo5\"))\n",
    "print(scenario_op.get_variable_bounds(f\"duration_sbo6\"))\n",
    "print(scenario_op.get_variable_bounds(f\"duration_sbo7\"))"
   ]
  },
  {
   "cell_type": "code",
   "execution_count": 26,
   "metadata": {},
   "outputs": [
    {
     "name": "stdout",
     "output_type": "stream",
     "text": [
      "(11.13366836955093, 1277.1497120221763)\n",
      "(None, None)\n",
      "(None, None)\n",
      "(None, None)\n"
     ]
    }
   ],
   "source": [
    "print(scenario_op.get_variable_bounds(f\"duration_tcm_h4\"))\n",
    "print(scenario_op.get_variable_bounds(f\"duration_tcm_h5\"))\n",
    "print(scenario_op.get_variable_bounds(f\"duration_tcm_h6\"))\n",
    "print(scenario_op.get_variable_bounds(f\"duration_tcm_h7\"))"
   ]
  },
  {
   "cell_type": "code",
   "execution_count": 27,
   "metadata": {},
   "outputs": [
    {
     "name": "stdout",
     "output_type": "stream",
     "text": [
      "(11.13366836955093, 58.212221034502704)\n",
      "(None, None)\n",
      "(None, None)\n"
     ]
    }
   ],
   "source": [
    "print(scenario_op.get_variable_bounds(f\"duration_tcm_dv5\"))\n",
    "print(scenario_op.get_variable_bounds(f\"duration_tcm_dv6\"))\n",
    "print(scenario_op.get_variable_bounds(f\"duration_tcm_dv7\"))"
   ]
  },
  {
   "cell_type": "code",
   "execution_count": 29,
   "metadata": {},
   "outputs": [],
   "source": [
    "# This causes an error.\n",
    "#print(scenario_op.get_variable_bounds(f\"duration_charging7\"))"
   ]
  }
 ],
 "metadata": {
  "kernelspec": {
   "display_name": ".venv",
   "language": "python",
   "name": "python3"
  },
  "language_info": {
   "codemirror_mode": {
    "name": "ipython",
    "version": 3
   },
   "file_extension": ".py",
   "mimetype": "text/x-python",
   "name": "python",
   "nbconvert_exporter": "python",
   "pygments_lexer": "ipython3",
   "version": "3.9.16"
  },
  "orig_nbformat": 4
 },
 "nbformat": 4,
 "nbformat_minor": 2
}
