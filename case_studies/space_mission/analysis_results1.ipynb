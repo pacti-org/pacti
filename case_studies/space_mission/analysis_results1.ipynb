{
 "cells": [
  {
   "cell_type": "code",
   "execution_count": 1,
   "metadata": {},
   "outputs": [],
   "source": [
    "%matplotlib widget\n",
    "\n",
    "import pickle\n",
    "from IPython import display\n",
    "from base64 import b64decode\n",
    "from pacti.terms.polyhedra import *\n",
    "from pacti.utils import read_contracts_from_file\n",
    "from contract_utils import *\n",
    "import numpy as np\n",
    "from matplotlib.figure import Figure\n",
    "from matplotlib.backends.backend_pdf import PdfPages\n",
    "import matplotlib.pyplot as plt\n",
    "\n",
    "tuple2float = tuple[float, float]\n",
    "\n",
    "from generators import *\n",
    "from plot_utils import *"
   ]
  },
  {
   "cell_type": "code",
   "execution_count": 2,
   "metadata": {},
   "outputs": [],
   "source": [
    "\n",
    "f5 = open('data/results5.data', 'rb')\n",
    "results5 = pickle.load(f5)\n",
    "f5.close()\n",
    "\n",
    "f20 = open('data/results20.data', 'rb')\n",
    "results20 = pickle.load(f20)\n",
    "f20.close()\n"
   ]
  },
  {
   "cell_type": "code",
   "execution_count": 3,
   "metadata": {},
   "outputs": [],
   "source": [
    "def plot_results20(index:int, var:str) -> Figure:\n",
    "    scenario_op = results20[index][2].merge(results20[index][3])\n",
    "    bounds=[scenario_op.get_variable_bounds(f\"{var}1_entry\")]\n",
    "    labels=[\"initial\"]\n",
    "    n=20\n",
    "    for i in range(1,n):\n",
    "        bounds+=[scenario_op.get_variable_bounds(f\"output_{var}{i}\")]\n",
    "        labels+=[f\"{i}\"]\n",
    "    bounds+=[scenario_op.get_variable_bounds(f\"output_{var}{n}\")]\n",
    "    labels+=[f\"final\"]\n",
    "    return plot_steps(bounds, labels, ylabel=var, title=f\"Possible values of {var} over the sequence\")\n",
    "\n"
   ]
  },
  {
   "cell_type": "code",
   "execution_count": 4,
   "metadata": {},
   "outputs": [
    {
     "ename": "ValueError",
     "evalue": "Constraints are unfeasible",
     "output_type": "error",
     "traceback": [
      "\u001b[0;31m---------------------------------------------------------------------------\u001b[0m",
      "\u001b[0;31mValueError\u001b[0m                                Traceback (most recent call last)",
      "Cell \u001b[0;32mIn[4], line 3\u001b[0m\n\u001b[1;32m      1\u001b[0m \u001b[39mfor\u001b[39;00m i \u001b[39min\u001b[39;00m \u001b[39mrange\u001b[39m(\u001b[39m0\u001b[39m, \u001b[39mlen\u001b[39m(results20)):\n\u001b[1;32m      2\u001b[0m     pp \u001b[39m=\u001b[39m PdfPages(\u001b[39mf\u001b[39m\u001b[39m\"\u001b[39m\u001b[39mfigures/results20-\u001b[39m\u001b[39m{\u001b[39;00mi\u001b[39m}\u001b[39;00m\u001b[39m-soc.pdf\u001b[39m\u001b[39m\"\u001b[39m)\n\u001b[0;32m----> 3\u001b[0m     fig\u001b[39m=\u001b[39mplot_results20(index\u001b[39m=\u001b[39;49mi, var\u001b[39m=\u001b[39;49m\u001b[39m\"\u001b[39;49m\u001b[39msoc\u001b[39;49m\u001b[39m\"\u001b[39;49m)\n\u001b[1;32m      4\u001b[0m     pp\u001b[39m.\u001b[39msavefig()\n\u001b[1;32m      5\u001b[0m     pp\u001b[39m.\u001b[39mclose()\n",
      "Cell \u001b[0;32mIn[3], line 7\u001b[0m, in \u001b[0;36mplot_results20\u001b[0;34m(index, var)\u001b[0m\n\u001b[1;32m      5\u001b[0m n\u001b[39m=\u001b[39m\u001b[39m20\u001b[39m\n\u001b[1;32m      6\u001b[0m \u001b[39mfor\u001b[39;00m i \u001b[39min\u001b[39;00m \u001b[39mrange\u001b[39m(\u001b[39m1\u001b[39m,n):\n\u001b[0;32m----> 7\u001b[0m     bounds\u001b[39m+\u001b[39m\u001b[39m=\u001b[39m[scenario_op\u001b[39m.\u001b[39;49mget_variable_bounds(\u001b[39mf\u001b[39;49m\u001b[39m\"\u001b[39;49m\u001b[39moutput_\u001b[39;49m\u001b[39m{\u001b[39;49;00mvar\u001b[39m}\u001b[39;49;00m\u001b[39m{\u001b[39;49;00mi\u001b[39m}\u001b[39;49;00m\u001b[39m\"\u001b[39;49m)]\n\u001b[1;32m      8\u001b[0m     labels\u001b[39m+\u001b[39m\u001b[39m=\u001b[39m[\u001b[39mf\u001b[39m\u001b[39m\"\u001b[39m\u001b[39m{\u001b[39;00mi\u001b[39m}\u001b[39;00m\u001b[39m\"\u001b[39m]\n\u001b[1;32m      9\u001b[0m bounds\u001b[39m+\u001b[39m\u001b[39m=\u001b[39m[scenario_op\u001b[39m.\u001b[39mget_variable_bounds(\u001b[39mf\u001b[39m\u001b[39m\"\u001b[39m\u001b[39moutput_\u001b[39m\u001b[39m{\u001b[39;00mvar\u001b[39m}\u001b[39;00m\u001b[39m{\u001b[39;00mn\u001b[39m}\u001b[39;00m\u001b[39m\"\u001b[39m)]\n",
      "File \u001b[0;32m/opt/local/github.formalsystems/pacti/src/pacti/terms/polyhedra/polyhedral_contract.py:216\u001b[0m, in \u001b[0;36mPolyhedralContract.get_variable_bounds\u001b[0;34m(self, var)\u001b[0m\n\u001b[1;32m    204\u001b[0m \u001b[39mdef\u001b[39;00m \u001b[39mget_variable_bounds\u001b[39m(\n\u001b[1;32m    205\u001b[0m     \u001b[39mself\u001b[39m, var: \u001b[39mstr\u001b[39m\n\u001b[1;32m    206\u001b[0m ) \u001b[39m-\u001b[39m\u001b[39m>\u001b[39m Tuple[Optional[numeric], Optional[numeric]]:  \u001b[39m# noqa: VNE002 variable 'var' should be clarified\u001b[39;00m\n\u001b[1;32m    207\u001b[0m \u001b[39m    \u001b[39m\u001b[39m\"\"\"Obtain bounds for a variable in the context of a contract.\u001b[39;00m\n\u001b[1;32m    208\u001b[0m \n\u001b[1;32m    209\u001b[0m \u001b[39m    Args:\u001b[39;00m\n\u001b[0;32m   (...)\u001b[0m\n\u001b[1;32m    214\u001b[0m \u001b[39m        The minimum and maximum values for the variable in the context of the contract.\u001b[39;00m\n\u001b[1;32m    215\u001b[0m \u001b[39m    \"\"\"\u001b[39;00m\n\u001b[0;32m--> 216\u001b[0m     maximum \u001b[39m=\u001b[39m \u001b[39mself\u001b[39;49m\u001b[39m.\u001b[39;49moptimize(var, maximize\u001b[39m=\u001b[39;49m\u001b[39mTrue\u001b[39;49;00m)\n\u001b[1;32m    217\u001b[0m     minimum \u001b[39m=\u001b[39m \u001b[39mself\u001b[39m\u001b[39m.\u001b[39moptimize(var, maximize\u001b[39m=\u001b[39m\u001b[39mFalse\u001b[39;00m)\n\u001b[1;32m    218\u001b[0m     \u001b[39mreturn\u001b[39;00m minimum, maximum\n",
      "File \u001b[0;32m/opt/local/github.formalsystems/pacti/src/pacti/terms/polyhedra/polyhedral_contract.py:202\u001b[0m, in \u001b[0;36mPolyhedralContract.optimize\u001b[0;34m(self, expr, maximize)\u001b[0m\n\u001b[1;32m    200\u001b[0m variables \u001b[39m=\u001b[39m serializer\u001b[39m.\u001b[39mpolyhedral_termlist_from_string(new_expr)[\u001b[39m0\u001b[39m]\u001b[39m.\u001b[39mvariables\n\u001b[1;32m    201\u001b[0m constraints: PolyhedralTermList \u001b[39m=\u001b[39m \u001b[39mself\u001b[39m\u001b[39m.\u001b[39ma \u001b[39m|\u001b[39m \u001b[39mself\u001b[39m\u001b[39m.\u001b[39mg\n\u001b[0;32m--> 202\u001b[0m \u001b[39mreturn\u001b[39;00m constraints\u001b[39m.\u001b[39;49moptimize(objective\u001b[39m=\u001b[39;49mvariables, maximize\u001b[39m=\u001b[39;49mmaximize)\n",
      "File \u001b[0;32m/opt/local/github.formalsystems/pacti/src/pacti/terms/polyhedra/polyhedra.py:792\u001b[0m, in \u001b[0;36mPolyhedralTermList.optimize\u001b[0;34m(self, objective, maximize)\u001b[0m\n\u001b[1;32m    790\u001b[0m     fun_val: \u001b[39mfloat\u001b[39m \u001b[39m=\u001b[39m res[\u001b[39m\"\u001b[39m\u001b[39mfun\u001b[39m\u001b[39m\"\u001b[39m]\n\u001b[1;32m    791\u001b[0m     \u001b[39mreturn\u001b[39;00m polarity \u001b[39m*\u001b[39m fun_val\n\u001b[0;32m--> 792\u001b[0m \u001b[39mraise\u001b[39;00m \u001b[39mValueError\u001b[39;00m(\u001b[39m\"\u001b[39m\u001b[39mConstraints are unfeasible\u001b[39m\u001b[39m\"\u001b[39m)\n",
      "\u001b[0;31mValueError\u001b[0m: Constraints are unfeasible"
     ]
    }
   ],
   "source": [
    "for i in range(0, len(results20)):\n",
    "    pp = PdfPages(f\"figures/results20-{i}-soc.pdf\")\n",
    "    fig=plot_results20(index=i, var=\"soc\")\n",
    "    pp.savefig()\n",
    "    pp.close()\n"
   ]
  }
 ],
 "metadata": {
  "kernelspec": {
   "display_name": ".venv",
   "language": "python",
   "name": "python3"
  },
  "language_info": {
   "codemirror_mode": {
    "name": "ipython",
    "version": 3
   },
   "file_extension": ".py",
   "mimetype": "text/x-python",
   "name": "python",
   "nbconvert_exporter": "python",
   "pygments_lexer": "ipython3",
   "version": "3.9.16"
  },
  "orig_nbformat": 4
 },
 "nbformat": 4,
 "nbformat_minor": 2
}
