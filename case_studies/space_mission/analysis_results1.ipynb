{
 "cells": [
  {
   "cell_type": "code",
   "execution_count": null,
   "metadata": {},
   "outputs": [],
   "source": [
    "%matplotlib widget\n",
    "\n",
    "import pickle\n",
    "from IPython import display\n",
    "from base64 import b64decode\n",
    "from pacti.terms.polyhedra import *\n",
    "from pacti.utils import read_contracts_from_file\n",
    "from contract_utils import *\n",
    "import numpy as np\n",
    "from matplotlib.figure import Figure\n",
    "from matplotlib.backends.backend_pdf import PdfPages\n",
    "import matplotlib.pyplot as plt\n",
    "from typing import Tuple\n",
    "\n",
    "tuple2float = tuple[float, float]\n",
    "\n",
    "from generators import *\n",
    "from plot_utils import *"
   ]
  },
  {
   "cell_type": "code",
   "execution_count": null,
   "metadata": {},
   "outputs": [],
   "source": [
    "\n",
    "f5 = open('data/results5.data', 'rb')\n",
    "results5 = pickle.load(f5)\n",
    "f5.close()\n",
    "\n",
    "f20 = open('data/results20.data', 'rb')\n",
    "results20 = pickle.load(f20)\n",
    "f20.close()\n"
   ]
  },
  {
   "cell_type": "code",
   "execution_count": null,
   "metadata": {},
   "outputs": [],
   "source": [
    "def filter_bounds(bound: Tuple, var_name:str, min_val:float = 0, max_val:float=100):\n",
    "    \"\"\"\n",
    "    If a bound is None, set it to a min or max value, accordingly.\n",
    "    \"\"\"\n",
    "    print(f\"   Computing bounds for {var_name}\")\n",
    "    minimum, maximum = bound\n",
    "    if minimum is None:\n",
    "        minimum = min_val\n",
    "    if maximum is None:\n",
    "        maximum = max_val\n",
    "    if minimum < min_val or minimum > max_val:\n",
    "        print(\"     Found min variable bound {0} outside range({1},{2})\".format(minimum, min_val, max_val))\n",
    "    if maximum < min_val or maximum > max_val:\n",
    "        print(\"     Found max variable bound {0} outside range({1},{2})\".format(maximum, min_val, max_val))\n",
    "    return (minimum, maximum)\n",
    "\n",
    "\n",
    "def plot_results20(index:int, var:str) -> Figure:\n",
    "    scenario_op = results20[index][2].merge(results20[index][3])\n",
    "    var_name = f\"{var}1_entry\"\n",
    "    bounds=[filter_bounds(scenario_op.get_variable_bounds(var_name), var_name)]\n",
    "    labels=[\"initial\"]\n",
    "    n=20\n",
    "    for i in range(1,n):\n",
    "        var_name = f\"output_{var}{i}\"\n",
    "        bounds+=[filter_bounds(scenario_op.get_variable_bounds(var_name),var_name)]\n",
    "        labels+=[f\"{i}\"]\n",
    "    var_name = f\"output_{var}{n}\"\n",
    "    bounds+=[filter_bounds(scenario_op.get_variable_bounds(var_name),var_name)]\n",
    "    labels+=[f\"final\"]\n",
    "    return plot_steps(bounds, labels, ylabel=var, title=f\"Possible values of {var} over the sequence\")\n",
    "\n"
   ]
  },
  {
   "cell_type": "code",
   "execution_count": null,
   "metadata": {},
   "outputs": [],
   "source": [
    "for i in range(0, len(results20)):\n",
    "    print(\"** Analyzing dataset {0}\".format(i))\n",
    "    try:\n",
    "        pp = PdfPages(f\"figures/results20-{i}-soc.pdf\")\n",
    "        fig=plot_results20(index=i, var=\"soc\")\n",
    "        pp.savefig()\n",
    "        pp.close()\n",
    "        print(\"   Success\")\n",
    "    except:\n",
    "        print(\"   Encoutered unfeasible optimization\")\n"
   ]
  }
 ],
 "metadata": {
  "kernelspec": {
   "display_name": ".venv",
   "language": "python",
   "name": "python3"
  },
  "language_info": {
   "codemirror_mode": {
    "name": "ipython",
    "version": 3
   },
   "file_extension": ".py",
   "mimetype": "text/x-python",
   "name": "python",
   "nbconvert_exporter": "python",
   "pygments_lexer": "ipython3",
   "version": "3.9.16"
  },
  "orig_nbformat": 4
 },
 "nbformat": 4,
 "nbformat_minor": 2
}
