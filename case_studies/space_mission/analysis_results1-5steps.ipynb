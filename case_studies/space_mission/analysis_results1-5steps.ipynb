{
 "cells": [
  {
   "cell_type": "code",
   "execution_count": null,
   "metadata": {},
   "outputs": [],
   "source": [
    "%matplotlib widget\n",
    "\n",
    "import pickle\n",
    "from IPython import display\n",
    "from base64 import b64decode\n",
    "from pacti.terms.polyhedra import *\n",
    "from pacti.utils import read_contracts_from_file\n",
    "from contract_utils import *\n",
    "import numpy as np\n",
    "from matplotlib.figure import Figure\n",
    "from matplotlib.backends.backend_pdf import PdfPages\n",
    "import matplotlib.pyplot as plt\n",
    "\n",
    "tuple2float = tuple[float, float]\n",
    "\n",
    "from generators import *\n",
    "from plot_utils import *"
   ]
  },
  {
   "cell_type": "code",
   "execution_count": null,
   "metadata": {},
   "outputs": [],
   "source": [
    "f5 = open('data/results5.data', 'rb')\n",
    "results5 = pickle.load(f5)\n",
    "f5.close()"
   ]
  },
  {
   "cell_type": "code",
   "execution_count": null,
   "metadata": {},
   "outputs": [],
   "source": [
    "def plot_results5(index:int, var:str) -> Figure:\n",
    "    scenario_op = results5[index][2].merge(results5[index][3])\n",
    "    bounds=[scenario_op.get_variable_bounds(f\"{var}1_entry\")]\n",
    "    labels=[\"initial\"]\n",
    "    n=5\n",
    "    for i in range(1,n):\n",
    "        bounds+=[scenario_op.get_variable_bounds(f\"output_{var}{i}\")]\n",
    "        labels+=[f\"{i}\"]\n",
    "    bounds+=[scenario_op.get_variable_bounds(f\"output_{var}{n}\")]\n",
    "    labels+=[f\"final\"]\n",
    "    return plot_steps(bounds, labels, ylabel=var, title=f\"Possible values of {var} over the sequence\")\n",
    "\n"
   ]
  },
  {
   "cell_type": "code",
   "execution_count": null,
   "metadata": {},
   "outputs": [],
   "source": [
    "for i in range(0, len(results5)):\n",
    "    pp = PdfPages(f\"figures/results5-{i}-soc.pdf\")\n",
    "    fig=plot_results5(index=i, var=\"soc\")\n",
    "    pp.savefig()\n",
    "    pp.close()\n"
   ]
  }
 ],
 "metadata": {
  "kernelspec": {
   "display_name": ".venv",
   "language": "python",
   "name": "python3"
  },
  "language_info": {
   "codemirror_mode": {
    "name": "ipython",
    "version": 3
   },
   "file_extension": ".py",
   "mimetype": "text/x-python",
   "name": "python",
   "nbconvert_exporter": "python",
   "pygments_lexer": "ipython3",
   "version": "3.9.16"
  },
  "orig_nbformat": 4
 },
 "nbformat": 4,
 "nbformat_minor": 2
}
