{
 "cells": [
  {
   "cell_type": "code",
   "execution_count": 70,
   "metadata": {},
   "outputs": [],
   "source": [
    "%matplotlib widget\n",
    "\n",
    "import pickle\n",
    "from IPython import display\n",
    "from base64 import b64decode\n",
    "from pacti.terms.polyhedra import *\n",
    "from pacti.utils import read_contracts_from_file\n",
    "from contract_utils import *\n",
    "import numpy as np"
   ]
  },
  {
   "cell_type": "code",
   "execution_count": 71,
   "metadata": {},
   "outputs": [],
   "source": [
    "def show_bounds(c: PolyhedralContract, n: int):\n",
    "    fsoc = \" + \".join([f\"{1/n} output_soc{i}\" for i in range(1, n+1)])\n",
    "\n",
    "    print(\"Task duration bounds:\")\n",
    "    print(f\"    step{n-4} dsn: \"+str(c.get_variable_bounds(f\"duration_dsn{n-4}\")))\n",
    "    print(f\"    step{n-3} charging: \"+str(c.get_variable_bounds(f\"duration_charging{n-3}\")))\n",
    "    print(f\"    step{n-2} sbo: \"+str(c.get_variable_bounds(f\"duration_sbo{n-2}\")))\n",
    "    print(f\"    step{n-1} tcm_h: \"+str(c.get_variable_bounds(f\"duration_tcm_h{n-1}\")))\n",
    "    print(f\"    step{n} tcm_dv: \"+str(c.get_variable_bounds(f\"duration_tcm_dv{n}\")))\n",
    "\n",
    "    print(\"Power bounds:\")\n",
    "    for i in range(1,n+1):\n",
    "        print(f\"    soc{i}: \"+str(c.get_variable_bounds(f\"output_soc{i}\")))\n",
    "    print(\"Science bounds:\")\n",
    "    print(f\"    d{n}: \"+str(c.get_variable_bounds(f\"output_d{n}\")))\n",
    "    print(f\"    c{n}: \"+str(c.get_variable_bounds(f\"output_c{n}\")))\n",
    "    print(\"Navigation bounds:\")\n",
    "    print(f\"    u{n}: \"+str(c.get_variable_bounds(f\"output_u{n}\")))\n",
    "    print(f\"    r{n}: \"+str(c.get_variable_bounds(f\"output_r{n}\")))\n",
    "\n",
    "    max_soc = c.optimize(fsoc, maximize=True)\n",
    "    min_soc = c.optimize(fsoc, maximize=False)\n",
    "    print(f\"[min, max] average SOC=[{min_soc}, {max_soc}]\")\n",
    "\n",
    "def show_result(results: np.ndarray, i: int, n: int):\n",
    "    scenario: PolyhedralContract = results[i][2]\n",
    "    op_req: PolyhedralContract = results[i][3]\n",
    "    schedule = scenario.merge(op_req)\n",
    "    show_bounds(schedule, n)"
   ]
  },
  {
   "cell_type": "code",
   "execution_count": 72,
   "metadata": {},
   "outputs": [],
   "source": [
    "\n",
    "f5 = open('data/results5.data', 'rb')\n",
    "results5 = pickle.load(f5)\n",
    "f5.close()\n",
    "\n",
    "f20 = open('data/results20.data', 'rb')\n",
    "results20 = pickle.load(f20)\n",
    "f20.close()\n"
   ]
  },
  {
   "cell_type": "code",
   "execution_count": 73,
   "metadata": {},
   "outputs": [
    {
     "name": "stdout",
     "output_type": "stream",
     "text": [
      "\n",
      "======= sequence:\n",
      "InVars: [soc1_entry, duration_dsn1, duration_charging2, duration_sbo3, duration_tcm_h4, duration_tcm_dv5, d1_entry, c1_entry, u1_entry, r1_entry]\n",
      "OutVars:[output_soc1, output_soc2, output_soc3, output_soc4, output_soc5, output_d1, output_c1, output_d2, output_c2, output_d3, output_c3, output_d4, output_c4, output_d5, output_c5, output_u1, output_r1, output_u2, output_r2, output_u3, output_r3, output_u4, output_r4, output_u5, output_r5]\n",
      "A: [\n",
      "  -duration_tcm_dv5 <= 0.0\n",
      "  -duration_tcm_h4 <= 0.0\n",
      "  -duration_sbo3 <= 0.0\n",
      "  -duration_charging2 <= 0.0\n",
      "  -duration_dsn1 <= 0.0\n",
      "  5.793632341776757 duration_dsn1 - soc1_entry <= 0.0\n",
      "  d1_entry <= 100.0\n",
      "  -d1_entry <= 0.0\n",
      "  -u1_entry <= 0.0\n",
      "  u1_entry <= 100.0\n",
      "  -r1_entry <= 0.0\n",
      "  r1_entry <= 100.0\n",
      "]\n",
      "G: [\n",
      "  -5.793632341776757 duration_dsn1 - output_soc1 + soc1_entry <= 0.0\n",
      "  1.0049553911770563 duration_dsn1 + output_soc1 - soc1_entry <= 0.0\n",
      "  -5.422815841061995 duration_charging2 - output_soc1 + output_soc2 <= 0.0\n",
      "  4.2358050802039955 duration_charging2 + output_soc1 - output_soc2 <= 0.0\n",
      "  output_soc2 <= 100.0\n",
      "  -0.928007528674923 duration_sbo3 + output_soc2 - output_soc3 <= 0.0\n",
      "  0.15663722961468912 duration_sbo3 - output_soc2 + output_soc3 <= 0.0\n",
      "  -1.9404058282358991 duration_tcm_h4 + output_soc3 - output_soc4 <= 0.0\n",
      "  0.11466751025813549 duration_tcm_h4 - output_soc3 + output_soc4 <= 0.0\n",
      "  -1.346239099944501 duration_tcm_dv5 + output_soc4 - output_soc5 <= 0.0\n",
      "  0.01875583258237823 duration_tcm_dv5 - output_soc4 + output_soc5 <= 0.0\n",
      "  d1_entry - 8.52790121341695 duration_dsn1 - output_d1 <= 0.0\n",
      "  -d1_entry + 1.9946783941124768 duration_dsn1 + output_d1 <= 0.0\n",
      "  -output_d1 <= 0.0\n",
      "  -c1_entry + output_c1 = 0.0\n",
      "  -output_d1 + output_d2 = 0.0\n",
      "  -output_c1 + output_c2 = 0.0\n",
      "  -4.308520720260524 duration_sbo3 - output_d2 + output_d3 <= 0.0\n",
      "  2.8686469166268838 duration_sbo3 + output_d2 - output_d3 <= 0.0\n",
      "  -4.308520720260524 duration_sbo3 - output_c2 + output_c3 <= 0.0\n",
      "  2.8686469166268838 duration_sbo3 + output_c2 - output_c3 <= 0.0\n",
      "  -output_d3 + output_d4 = 0.0\n",
      "  -output_c3 + output_c4 = 0.0\n",
      "  -output_d4 + output_d5 = 0.0\n",
      "  -output_c4 + output_c5 = 0.0\n",
      "  output_u1 - u1_entry <= 2.522910968289521\n",
      "  -output_u1 + u1_entry <= -0.7211457063465445\n",
      "  output_r1 - r1_entry = 0.0\n",
      "  output_u2 <= 100.0\n",
      "  -output_u1 + output_u2 <= 2.100701104060899\n",
      "  output_u1 - output_u2 <= -1.5283675328392996\n",
      "  -output_r1 + output_r2 = 0.0\n",
      "  -1.1624970490707645 duration_sbo3 + output_u2 - output_u3 <= 0.0\n",
      "  0.35449528785652396 duration_sbo3 - output_u2 + output_u3 <= 0.0\n",
      "  -output_u3 <= 0.0\n",
      "  -output_r2 + output_r3 = 0.0\n",
      "  -output_u3 + output_u4 = 0.0\n",
      "  -output_r3 + output_r4 = 0.0\n",
      "  output_u5 <= 100.0\n",
      "  -2.822344332867268 duration_tcm_dv5 - output_u4 + output_u5 <= 0.0\n",
      "  0.7299172001624599 duration_tcm_dv5 + output_u4 - output_u5 <= 0.0\n",
      "  -0.7211837569714719 duration_tcm_dv5 + output_r4 - output_r5 <= 0.0\n",
      "  0.05250606011864162 duration_tcm_dv5 - output_r4 + output_r5 <= 0.0\n",
      "  -output_r5 <= 0.0\n",
      "]\n",
      "\n",
      "======= op req:\n",
      "InVars: [duration_dsn1, duration_charging2, duration_sbo3, duration_tcm_h4, duration_tcm_dv5, soc1_entry, c1_entry, d1_entry, u1_entry, r1_entry]\n",
      "OutVars:[output_soc1, output_soc2, output_soc3, output_soc4, output_soc5]\n",
      "A: [\n",
      "  soc1_entry = 81.26044372117948\n",
      "  -duration_dsn1 <= -13.7726918375572\n",
      "  -duration_charging2 <= -13.7726918375572\n",
      "  -duration_sbo3 <= -13.7726918375572\n",
      "  -duration_tcm_h4 <= -13.7726918375572\n",
      "  -duration_tcm_dv5 <= -13.7726918375572\n",
      "  c1_entry = 0.0\n",
      "  d1_entry = 73.50939186026241\n",
      "  u1_entry = 42.009801513113\n",
      "  r1_entry = 100.0\n",
      "]\n",
      "G: [\n",
      "  -output_soc1 <= -29.034404995183362\n",
      "  -output_soc2 <= -29.034404995183362\n",
      "  -output_soc3 <= -29.034404995183362\n",
      "  -output_soc4 <= -29.034404995183362\n",
      "  -output_soc5 <= -29.034404995183362\n",
      "]\n"
     ]
    }
   ],
   "source": [
    "c5 = results5[0][2]\n",
    "print(f\"\\n======= sequence:\\n{c5}\")\n",
    "o5 = results5[0][3]\n",
    "print(f\"\\n======= op req:\\n{o5}\")\n",
    "\n"
   ]
  },
  {
   "cell_type": "code",
   "execution_count": 74,
   "metadata": {},
   "outputs": [
    {
     "name": "stdout",
     "output_type": "stream",
     "text": [
      "Task duration bounds:\n",
      "    step1 dsn: (13.7726918375572, 14.02581988767672)\n",
      "    step2 charging: (13.7726918375572, 16.753744249581697)\n",
      "    step3 sbo: (13.7726918375572, 131.54875447692132)\n",
      "    step4 tcm_h: (13.7726918375572, 597.8150241024127)\n",
      "    step5 tcm_dv: (13.7726918375572, 137.0018407262395)\n",
      "Power bounds:\n",
      "    soc1: (29.034404995183362, 41.66156194639111)\n",
      "    soc2: (87.37284304879225, 100.0)\n",
      "    soc3: (30.8720035800625, 97.8426837062282)\n",
      "    soc4: (29.29272329749727, 96.26340342366296)\n",
      "    soc5: (29.034404995183362, 96.00508512134905)\n",
      "Science bounds:\n",
      "    d5: (39.508989973460714, 612.8178354113977)\n",
      "    c5: (39.508989973460714, 566.7805343882799)\n",
      "Navigation bounds:\n",
      "    u5: (10.052924664770117, 100.0)\n",
      "    r5: (1.196497793043406, 99.2768502143817)\n",
      "[min, max] average SOC=[41.12127598334375, 86.35454683952628]\n"
     ]
    }
   ],
   "source": [
    "show_result(results=results5, i=0, n=5)"
   ]
  },
  {
   "cell_type": "code",
   "execution_count": 75,
   "metadata": {},
   "outputs": [
    {
     "name": "stdout",
     "output_type": "stream",
     "text": [
      "Task duration bounds:\n",
      "    step1 dsn: (11.815944423296047, 14.264923814795862)\n",
      "    step2 charging: (11.815944423296047, 19.89873676823963)\n",
      "    step3 sbo: (11.815944423296047, 213.94617129666875)\n",
      "    step4 tcm_h: (11.815944423296047, 716.9836986284977)\n",
      "    step5 tcm_dv: (11.815944423296047, 137.0018407262395)\n",
      "Power bounds:\n",
      "    soc1: (15.712829707448554, 49.949962584394534)\n",
      "    soc2: (65.76286712305402, 100.0)\n",
      "    soc3: (17.28935251122244, 98.14918320025377)\n",
      "    soc4: (15.934447582854581, 96.79427827188591)\n",
      "    soc5: (15.712829707448554, 96.57266039647989)\n",
      "Science bounds:\n",
      "    d5: (33.89577253692283, 984.7751506927231)\n",
      "    c5: (33.89577253692283, 921.7915120521047)\n",
      "Navigation bounds:\n",
      "    u5: (8.624661070727482, 100.0)\n",
      "    r5: (1.196497793043406, 99.3795913117519)\n",
      "[min, max] average SOC=[26.082465326405632, 88.29321689060282]\n"
     ]
    }
   ],
   "source": [
    "show_result(results=results5, i=1, n=5)"
   ]
  },
  {
   "cell_type": "code",
   "execution_count": 76,
   "metadata": {},
   "outputs": [
    {
     "name": "stdout",
     "output_type": "stream",
     "text": [
      "Task duration bounds:\n",
      "    step1 dsn: (10.199343871671097, 12.665415378387214)\n",
      "    step2 charging: (10.199343871671097, 13.553136675224042)\n",
      "    step3 sbo: (10.199343871671097, 262.57743525918266)\n",
      "    step4 tcm_h: (10.199343871671097, 485.05065560725103)\n",
      "    step5 tcm_dv: (10.199343871671097, 137.0018407262395)\n",
      "Power bounds:\n",
      "    soc1: (42.59155481838691, 56.79756741362808)\n",
      "    soc2: (85.79398740475884, 100.0)\n",
      "    soc3: (43.95238537252518, 98.40240303205388)\n",
      "    soc4: (42.78285200449408, 97.23286966402279)\n",
      "    soc5: (42.59155481838691, 97.04157247791562)\n",
      "Science bounds:\n",
      "    d5: (29.258316349086595, 1202.576216741446)\n",
      "    c5: (29.258316349086595, 1131.320320487055)\n",
      "Navigation bounds:\n",
      "    u5: (7.44467652230431, 100.0)\n",
      "    r5: (1.196497793043406, 99.46447263750333)\n",
      "[min, max] average SOC=[51.542466883710375, 89.89488251752408]\n"
     ]
    }
   ],
   "source": [
    "show_result(results=results5, i=2, n=5)"
   ]
  },
  {
   "cell_type": "code",
   "execution_count": 77,
   "metadata": {},
   "outputs": [
    {
     "name": "stdout",
     "output_type": "stream",
     "text": [
      "Task duration bounds:\n",
      "    step16 dsn: (11.815944423296047, 16.63497347052662)\n",
      "    step17 charging: (11.815944423296047, 43.66928361084114)\n",
      "    step18 sbo: (11.815944423296047, 104.76055305802463)\n",
      "    step19 tcm_h: (11.815944423296047, 96.84928030248768)\n",
      "    step20 tcm_dv: (11.815944423296047, 92.60801831001369)\n",
      "Power bounds:\n",
      "    soc1: (17.676674399826013, 38.10641907731123)\n",
      "    soc2: (81.83503609066383, 100.0)\n",
      "    soc3: (73.86351234002682, 92.02847624936298)\n",
      "    soc4: (65.15033947005936, 83.31530337939553)\n",
      "    soc5: (60.2521345965201, 78.41709850585626)\n",
      "    soc6: (15.712829707448554, 33.877793616784714)\n",
      "    soc7: (81.83503609066383, 100.0)\n",
      "    soc8: (73.86351234002682, 92.02847624936298)\n",
      "    soc9: (65.15033947005936, 83.31530337939553)\n",
      "    soc10: (60.2521345965201, 78.41709850585626)\n",
      "    soc11: (15.712829707448554, 33.877793616784714)\n",
      "    soc12: (81.83503609066383, 100.0)\n",
      "    soc13: (73.86351234002682, 92.02847624936298)\n",
      "    soc14: (65.15033947005936, 83.31530337939553)\n",
      "    soc15: (60.2521345965201, 78.41709850585626)\n",
      "    soc16: (15.712829707448554, 33.877793616784714)\n",
      "    soc17: (38.51907788520506, 100.0)\n",
      "    soc18: (29.324207450955264, 92.02847624936298)\n",
      "    soc19: (20.61103458098782, 83.31530337939553)\n",
      "    soc20: (15.712829707448554, 78.41709850585626)\n",
      "Science bounds:\n",
      "    d20: (37.61521290336621, 850.1691541379596)\n",
      "    c20: (150.46085161346485, 871.8335649904836)\n",
      "Navigation bounds:\n",
      "    u20: (12.759094340774151, 100.0)\n",
      "    r20: (0.0, 67.93592106342084)\n",
      "[min, max] average SOC=[50.61426903192894, 77.73916562330623]\n"
     ]
    }
   ],
   "source": [
    "show_result(results=results20, i=2, n=20)"
   ]
  }
 ],
 "metadata": {
  "kernelspec": {
   "display_name": ".venv",
   "language": "python",
   "name": "python3"
  },
  "language_info": {
   "codemirror_mode": {
    "name": "ipython",
    "version": 3
   },
   "file_extension": ".py",
   "mimetype": "text/x-python",
   "name": "python",
   "nbconvert_exporter": "python",
   "pygments_lexer": "ipython3",
   "version": "3.9.16"
  },
  "orig_nbformat": 4
 },
 "nbformat": 4,
 "nbformat_minor": 2
}
