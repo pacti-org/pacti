{
 "cells": [
  {
   "cell_type": "code",
   "execution_count": 56,
   "metadata": {},
   "outputs": [],
   "source": [
    "%matplotlib widget\n",
    "\n",
    "import pickle\n",
    "from IPython import display\n",
    "from base64 import b64decode\n",
    "from pacti.terms.polyhedra import *\n",
    "from pacti.utils import read_contracts_from_file\n",
    "from contract_utils import *\n",
    "import numpy as np"
   ]
  },
  {
   "cell_type": "code",
   "execution_count": 57,
   "metadata": {},
   "outputs": [],
   "source": [
    "def show_bounds(c: PolyhedralContract, n: int):\n",
    "    fsoc = \" + \".join([f\"{1/n} output_soc{i}\" for i in range(1, n+1)])\n",
    "\n",
    "    print(\"Task duration bounds:\")\n",
    "    print(f\"    step{n-4} dsn: \"+str(c.get_variable_bounds(f\"duration_dsn{n-4}\")))\n",
    "    print(f\"    step{n-3} charging: \"+str(c.get_variable_bounds(f\"duration_charging{n-3}\")))\n",
    "    print(f\"    step{n-2} sbo: \"+str(c.get_variable_bounds(f\"duration_sbo{n-2}\")))\n",
    "    print(f\"    step{n-1} tcm_h: \"+str(c.get_variable_bounds(f\"duration_tcm_h{n-1}\")))\n",
    "    print(f\"    step{n} tcm_dv: \"+str(c.get_variable_bounds(f\"duration_tcm_dv{n}\")))\n",
    "\n",
    "    print(\"Power bounds:\")\n",
    "    for i in range(1,n+1):\n",
    "        print(f\"    soc{i}: \"+str(c.get_variable_bounds(f\"output_soc{i}\")))\n",
    "    print(\"Science bounds:\")\n",
    "    print(f\"    d{n}: \"+str(c.get_variable_bounds(f\"output_d{n}\")))\n",
    "    print(f\"    c{n}: \"+str(c.get_variable_bounds(f\"output_c{n}\")))\n",
    "    print(\"Navigation bounds:\")\n",
    "    print(f\"    u{n}: \"+str(c.get_variable_bounds(f\"output_u{n}\")))\n",
    "    print(f\"    r{n}: \"+str(c.get_variable_bounds(f\"output_r{n}\")))\n",
    "\n",
    "    max_soc = c.optimize(fsoc, maximize=True)\n",
    "    min_soc = c.optimize(fsoc, maximize=False)\n",
    "    print(f\"[min, max] average SOC=[{min_soc}, {max_soc}]\")\n",
    "\n",
    "def show_result(results: np.ndarray, i: int, n: int):\n",
    "    scenario: PolyhedralContract = results[i][2]\n",
    "    op_req: PolyhedralContract = results[i][3]\n",
    "    schedule = scenario.merge(op_req)\n",
    "    show_bounds(schedule, n)"
   ]
  },
  {
   "cell_type": "code",
   "execution_count": 58,
   "metadata": {},
   "outputs": [],
   "source": [
    "\n",
    "f5 = open('data/results5.data', 'rb')\n",
    "results5 = pickle.load(f5)\n",
    "f5.close()\n",
    "\n",
    "f20 = open('data/results20.data', 'rb')\n",
    "results20 = pickle.load(f20)\n",
    "f20.close()\n"
   ]
  },
  {
   "cell_type": "code",
   "execution_count": 59,
   "metadata": {},
   "outputs": [
    {
     "name": "stdout",
     "output_type": "stream",
     "text": [
      "\n",
      "======= sequence:\n",
      "InVars: [soc1_entry, duration_dsn1, duration_charging2, duration_sbo3, duration_tcm_h4, duration_tcm_dv5, d1_entry, c1_entry, u1_entry, r1_entry]\n",
      "OutVars:[output_soc1, output_soc2, output_soc3, output_soc4, output_soc5, output_d1, output_c1, output_d2, output_c2, output_d3, output_c3, output_d4, output_c4, output_d5, output_c5, output_u1, output_r1, output_u2, output_r2, output_u3, output_r3, output_u4, output_r4, output_u5, output_r5]\n",
      "A: [\n",
      "  -duration_tcm_dv5 <= 0.0\n",
      "  -duration_tcm_h4 <= 0.0\n",
      "  -duration_sbo3 <= 0.0\n",
      "  -duration_charging2 <= 0.0\n",
      "  -duration_dsn1 <= 0.0\n",
      "  5.085952977623105 duration_dsn1 - soc1_entry <= 0.0\n",
      "  d1_entry <= 100.0\n",
      "  -d1_entry <= 0.0\n",
      "  -u1_entry <= 0.0\n",
      "  u1_entry <= 100.0\n",
      "  -r1_entry <= 0.0\n",
      "  r1_entry <= 100.0\n",
      "]\n",
      "G: [\n",
      "  -5.085952977623105 duration_dsn1 - output_soc1 + soc1_entry <= 0.0\n",
      "  2.8649273964728517 duration_dsn1 + output_soc1 - soc1_entry <= 0.0\n",
      "  -6.162897027083964 duration_charging2 - output_soc1 + output_soc2 <= 0.0\n",
      "  1.6891237376699353 duration_charging2 + output_soc1 - output_soc2 <= 0.0\n",
      "  output_soc2 <= 100.0\n",
      "  -1.2685288311608678 duration_sbo3 + output_soc2 - output_soc3 <= 0.0\n",
      "  1.2389417543882113 duration_sbo3 - output_soc2 + output_soc3 <= 0.0\n",
      "  -1.1782145640187647 duration_tcm_h4 + output_soc3 - output_soc4 <= 0.0\n",
      "  0.4847857560906876 duration_tcm_h4 - output_soc3 + output_soc4 <= 0.0\n",
      "  -2.8447574296094427 duration_tcm_dv5 + output_soc4 - output_soc5 <= 0.0\n",
      "  0.13526809634771841 duration_tcm_dv5 - output_soc4 + output_soc5 <= 0.0\n",
      "  d1_entry - 8.10944437812952 duration_dsn1 - output_d1 <= 0.0\n",
      "  -d1_entry + 2.554818871834449 duration_dsn1 + output_d1 <= 0.0\n",
      "  -output_d1 <= 0.0\n",
      "  -c1_entry + output_c1 = 0.0\n",
      "  -output_d1 + output_d2 = 0.0\n",
      "  -output_c1 + output_c2 = 0.0\n",
      "  -3.5153563561214507 duration_sbo3 - output_d2 + output_d3 <= 0.0\n",
      "  2.572135498411305 duration_sbo3 + output_d2 - output_d3 <= 0.0\n",
      "  -3.5153563561214507 duration_sbo3 - output_c2 + output_c3 <= 0.0\n",
      "  2.572135498411305 duration_sbo3 + output_c2 - output_c3 <= 0.0\n",
      "  -output_d3 + output_d4 = 0.0\n",
      "  -output_c3 + output_c4 = 0.0\n",
      "  -output_d4 + output_d5 = 0.0\n",
      "  -output_c4 + output_c5 = 0.0\n",
      "  output_u1 - u1_entry <= 1.8504681198161737\n",
      "  -output_u1 + u1_entry <= -1.21511662797475\n",
      "  output_r1 - r1_entry = 0.0\n",
      "  output_u2 <= 100.0\n",
      "  -output_u1 + output_u2 <= 2.283638950031633\n",
      "  output_u1 - output_u2 <= -1.0047357639292391\n",
      "  -output_r1 + output_r2 = 0.0\n",
      "  -0.3457083349170154 duration_sbo3 + output_u2 - output_u3 <= 0.0\n",
      "  0.2901221035489831 duration_sbo3 - output_u2 + output_u3 <= 0.0\n",
      "  -output_u3 <= 0.0\n",
      "  -output_r2 + output_r3 = 0.0\n",
      "  -output_u3 + output_u4 = 0.0\n",
      "  -output_r3 + output_r4 = 0.0\n",
      "  output_u5 <= 100.0\n",
      "  -2.091651757755148 duration_tcm_dv5 - output_u4 + output_u5 <= 0.0\n",
      "  1.3966337817213585 duration_tcm_dv5 + output_u4 - output_u5 <= 0.0\n",
      "  -0.8485578313310255 duration_tcm_dv5 + output_r4 - output_r5 <= 0.0\n",
      "  0.051321023569455004 duration_tcm_dv5 - output_r4 + output_r5 <= 0.0\n",
      "  -output_r5 <= 0.0\n",
      "]\n",
      "\n",
      "======= op req:\n",
      "InVars: [duration_dsn1, duration_charging2, duration_sbo3, duration_tcm_h4, duration_tcm_dv5, soc1_entry, c1_entry, d1_entry, u1_entry, r1_entry]\n",
      "OutVars:[]\n",
      "A: [\n",
      "  soc1_entry = 68.22897508045786\n",
      "  -duration_dsn1 <= -10.272931281763444\n",
      "  -duration_charging2 <= -10.272931281763444\n",
      "  -duration_sbo3 <= -10.272931281763444\n",
      "  -duration_tcm_h4 <= -10.272931281763444\n",
      "  -duration_tcm_dv5 <= -10.272931281763444\n",
      "  c1_entry = 0.0\n",
      "  d1_entry = 64.14152058621698\n",
      "  u1_entry = 51.07115280781008\n",
      "  r1_entry = 100.0\n",
      "]\n",
      "G: [\n",
      "  \n",
      "]\n"
     ]
    }
   ],
   "source": [
    "c5 = results5[0][2]\n",
    "print(f\"\\n======= sequence:\\n{c5}\")\n",
    "o5 = results5[0][3]\n",
    "print(f\"\\n======= op req:\\n{o5}\")\n",
    "\n"
   ]
  },
  {
   "cell_type": "code",
   "execution_count": 60,
   "metadata": {},
   "outputs": [
    {
     "name": "stdout",
     "output_type": "stream",
     "text": [
      "Task duration bounds:\n",
      "    step1 dsn: (10.272931281763444, 13.415180081421896)\n",
      "    step2 charging: (10.272931281763444, 59.202293929007936)\n",
      "    step3 sbo: (10.272931281763444, 190.28284712659695)\n",
      "    step4 tcm_h: (10.272931281763444, None)\n",
      "    step5 tcm_dv: (10.272931281763444, 71.60073120725282)\n",
      "Power bounds:\n",
      "    soc1: (0.0, 38.7977728092508)\n",
      "    soc2: (17.352252083478668, 100.0)\n",
      "    soc3: (-224.0270255719854, 87.27243649506246)\n",
      "    soc4: (None, 82.2922657363651)\n",
      "    soc5: (None, 80.90266587797002)\n",
      "Science bounds:\n",
      "    d5: (26.423371222563702, 706.8080579858781)\n",
      "    c5: (26.423371222563702, 668.9120161073688)\n",
      "Navigation bounds:\n",
      "    u5: (14.347522865412923, 100.0)\n",
      "    r5: (39.24263880505787, 99.47278265156123)\n",
      "[min, max] average SOC=[None, 77.85302818372968]\n"
     ]
    }
   ],
   "source": [
    "show_result(results=results5, i=0, n=5)"
   ]
  },
  {
   "cell_type": "code",
   "execution_count": 61,
   "metadata": {},
   "outputs": [
    {
     "name": "stdout",
     "output_type": "stream",
     "text": [
      "Task duration bounds:\n",
      "    step1 dsn: (13.383254193476013, 15.094915361157943)\n",
      "    step2 charging: (13.383254193476013, 59.202293929007936)\n",
      "    step3 sbo: (13.383254193476013, 152.3339218897957)\n",
      "    step4 tcm_h: (13.383254193476013, None)\n",
      "    step5 tcm_dv: (13.383254193476013, 71.60073120725282)\n",
      "Power bounds:\n",
      "    soc1: (0.0, 38.42997813520038)\n",
      "    soc2: (22.605972345471038, 100.0)\n",
      "    soc3: (-170.63399953554244, 83.41892757011144)\n",
      "    soc4: (None, 76.9309165669733)\n",
      "    soc5: (None, 75.12058924928418)\n",
      "Science bounds:\n",
      "    d5: (34.42354319530161, 600.7052954431451)\n",
      "    c5: (34.42354319530161, 535.5080205682019)\n",
      "Navigation bounds:\n",
      "    u5: (18.691504915972633, 100.0)\n",
      "    r5: (39.24263880505787, 99.3131576961006)\n",
      "[min, max] average SOC=[None, 74.78008230431385]\n"
     ]
    }
   ],
   "source": [
    "show_result(results=results5, i=1, n=5)"
   ]
  },
  {
   "cell_type": "code",
   "execution_count": 62,
   "metadata": {},
   "outputs": [
    {
     "name": "stdout",
     "output_type": "stream",
     "text": [
      "Task duration bounds:\n",
      "    step1 dsn: (12.246852660123748, 12.46967798778391)\n",
      "    step2 charging: (12.246852660123748, 59.202293929007936)\n",
      "    step3 sbo: (25.62780010625676, 322.8627860116016)\n",
      "    step4 tcm_h: (12.246852660123748, None)\n",
      "    step5 tcm_dv: (12.246852660123748, 71.60073120725282)\n",
      "Power bounds:\n",
      "    soc1: (0.0, 28.33385218541592)\n",
      "    soc2: (20.686449539961217, 100.0)\n",
      "    soc3: (-388.87430302467703, 68.24864837524386)\n",
      "    soc4: (None, 62.31154864867452)\n",
      "    soc5: (None, 60.654940203088586)\n",
      "Science bounds:\n",
      "    d5: (65.91817439949203, 1182.4026710847065)\n",
      "    c5: (65.91817439949203, 1134.9777469609635)\n",
      "Navigation bounds:\n",
      "    u5: (17.10436814489291, 100.0)\n",
      "    r5: (39.24263880505787, 99.37147898597814)\n",
      "[min, max] average SOC=[None, 63.909797882484575]\n"
     ]
    }
   ],
   "source": [
    "show_result(results=results5, i=2, n=5)"
   ]
  }
 ],
 "metadata": {
  "kernelspec": {
   "display_name": ".venv",
   "language": "python",
   "name": "python3"
  },
  "language_info": {
   "codemirror_mode": {
    "name": "ipython",
    "version": 3
   },
   "file_extension": ".py",
   "mimetype": "text/x-python",
   "name": "python",
   "nbconvert_exporter": "python",
   "pygments_lexer": "ipython3",
   "version": "3.9.16"
  },
  "orig_nbformat": 4
 },
 "nbformat": 4,
 "nbformat_minor": 2
}
