{
 "cells": [
  {
   "cell_type": "code",
   "execution_count": 7,
   "metadata": {},
   "outputs": [],
   "source": [
    "%matplotlib widget\n",
    "\n",
    "import pickle\n",
    "from IPython import display\n",
    "from base64 import b64decode\n",
    "from pacti.terms.polyhedra import *\n",
    "from pacti.utils import read_contracts_from_file\n",
    "from contract_utils import *"
   ]
  },
  {
   "cell_type": "code",
   "execution_count": 8,
   "metadata": {},
   "outputs": [],
   "source": [
    "\n",
    "f5 = open('data/results5.data', 'rb')\n",
    "results5 = pickle.load(f5)\n",
    "f5.close()\n",
    "\n",
    "f20 = open('data/results20.data', 'rb')\n",
    "results20 = pickle.load(f20)\n",
    "f20.close()\n"
   ]
  },
  {
   "cell_type": "code",
   "execution_count": 11,
   "metadata": {},
   "outputs": [
    {
     "name": "stdout",
     "output_type": "stream",
     "text": [
      "InVars: [soc1_entry, duration_dsn1, duration_charging2, duration_sbo3, duration_tcm_h4, duration_tcm_dv5, d1_entry, c1_entry, u1_entry, r1_entry, duration_tcm_deltav5]\n",
      "OutVars:[output_soc1, output_soc2, output_soc3, soc5_exit, output_soc4, output_d1, output_c1, output_d2, output_c2, output_d3, output_c3, d5_exit, c5_exit, output_d4, output_c4, output_u1, output_r1, output_u2, output_r2, output_u3, output_r3, u5_exit, r5_exit, output_u4, output_r4]\n",
      "A: [\n",
      "  -duration_tcm_dv5 <= 0.0\n",
      "  -duration_tcm_h4 <= 0.0\n",
      "  -duration_sbo3 <= 0.0\n",
      "  -duration_charging2 <= 0.0\n",
      "  -duration_dsn1 <= 0.0\n",
      "  7.961559973447125 duration_dsn1 - soc1_entry <= 0.0\n",
      "  d1_entry <= 100.0\n",
      "  -d1_entry <= 0.0\n",
      "  -duration_tcm_deltav5 <= 0.0\n",
      "  -u1_entry <= 0.0\n",
      "  u1_entry <= 100.0\n",
      "  -r1_entry <= 0.0\n",
      "  r1_entry <= 100.0\n",
      "]\n",
      "G: [\n",
      "  -7.961559973447125 duration_dsn1 - output_soc1 + soc1_entry <= 0.0\n",
      "  1.861131225354216 duration_dsn1 + output_soc1 - soc1_entry <= 0.0\n",
      "  -3.3573745596426097 duration_charging2 - output_soc1 + output_soc2 <= 0.0\n",
      "  3.1887400037583022 duration_charging2 + output_soc1 - output_soc2 <= 0.0\n",
      "  output_soc2 <= 100.0\n",
      "  -2.3942264489270393 duration_sbo3 + output_soc2 - output_soc3 <= 0.0\n",
      "  0.09512458726349005 duration_sbo3 - output_soc2 + output_soc3 <= 0.0\n",
      "  -1.4707238939940885 duration_tcm_h4 + output_soc3 - output_soc4 <= 0.0\n",
      "  0.9595404244080602 duration_tcm_h4 - output_soc3 + output_soc4 <= 0.0\n",
      "  -1.1879912070679035 duration_tcm_dv5 + output_soc4 - soc5_exit <= 0.0\n",
      "  0.2367262519164703 duration_tcm_dv5 - output_soc4 + soc5_exit <= 0.0\n",
      "  d1_entry - 7.1978088734610495 duration_dsn1 - output_d1 <= 0.0\n",
      "  -d1_entry + 4.270791268971978 duration_dsn1 + output_d1 <= 0.0\n",
      "  -output_d1 <= 0.0\n",
      "  -c1_entry + output_c1 = 0.0\n",
      "  -output_d1 + output_d2 = 0.0\n",
      "  -output_c1 + output_c2 = 0.0\n",
      "  -4.2396571742589675 duration_sbo3 - output_d2 + output_d3 <= 0.0\n",
      "  3.373259495323779 duration_sbo3 + output_d2 - output_d3 <= 0.0\n",
      "  -4.2396571742589675 duration_sbo3 - output_c2 + output_c3 <= 0.0\n",
      "  3.373259495323779 duration_sbo3 + output_c2 - output_c3 <= 0.0\n",
      "  -output_d3 + output_d4 = 0.0\n",
      "  -output_c3 + output_c4 = 0.0\n",
      "  d5_exit - output_d4 = 0.0\n",
      "  c5_exit - output_c4 = 0.0\n",
      "  output_u1 - u1_entry <= 2.1414361246028473\n",
      "  -output_u1 + u1_entry <= -0.8489870738401097\n",
      "  output_r1 - r1_entry = 0.0\n",
      "  output_u2 <= 100.0\n",
      "  -output_u1 + output_u2 <= 1.4454156625987595\n",
      "  output_u1 - output_u2 <= -1.337153628205948\n",
      "  -output_r1 + output_r2 = 0.0\n",
      "  -1.335465855810888 duration_sbo3 + output_u2 - output_u3 <= 0.0\n",
      "  0.22468484193718818 duration_sbo3 - output_u2 + output_u3 <= 0.0\n",
      "  -output_u3 <= 0.0\n",
      "  -output_r2 + output_r3 = 0.0\n",
      "  -output_u3 + output_u4 = 0.0\n",
      "  -output_r3 + output_r4 = 0.0\n",
      "  u5_exit <= 100.0\n",
      "  -2.2354311415843022 duration_tcm_deltav5 - output_u4 + u5_exit <= 0.0\n",
      "  0.8297698505601946 duration_tcm_deltav5 + output_u4 - u5_exit <= 0.0\n",
      "  -0.47609215593649845 duration_tcm_deltav5 + output_r4 - r5_exit <= 0.0\n",
      "  0.39790188097314116 duration_tcm_deltav5 - output_r4 + r5_exit <= 0.0\n",
      "  -r5_exit <= 0.0\n",
      "]\n"
     ]
    }
   ],
   "source": [
    "print(results5[0][2])"
   ]
  }
 ],
 "metadata": {
  "kernelspec": {
   "display_name": ".venv",
   "language": "python",
   "name": "python3"
  },
  "language_info": {
   "codemirror_mode": {
    "name": "ipython",
    "version": 3
   },
   "file_extension": ".py",
   "mimetype": "text/x-python",
   "name": "python",
   "nbconvert_exporter": "python",
   "pygments_lexer": "ipython3",
   "version": "3.9.16"
  },
  "orig_nbformat": 4
 },
 "nbformat": 4,
 "nbformat_minor": 2
}
