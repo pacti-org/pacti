{
 "cells": [
  {
   "cell_type": "code",
   "execution_count": 1,
   "metadata": {},
   "outputs": [
    {
     "name": "stdout",
     "output_type": "stream",
     "text": [
      "\n",
      "===== dsn_charging:\n",
      "InVars: [soc1_entry, duration_dsn1, duration_charging2]\n",
      "OutVars:[soc2_exit, output_soc1]\n",
      "A: [\n",
      "  -duration_charging2 <= 0.0\n",
      "  -duration_dsn1 <= 0.0\n",
      "  soc1_entry <= 100.0\n",
      "  5.808285532989586 duration_dsn1 - soc1_entry <= 0.0\n",
      "]\n",
      "G: [\n",
      "  -5.808285532989586 duration_dsn1 - output_soc1 + soc1_entry <= 0.0\n",
      "  1.2742651338791644 duration_dsn1 + output_soc1 - soc1_entry <= 0.0\n",
      "  -4.886601301425715 duration_charging2 - output_soc1 + soc2_exit <= 0.0\n",
      "  3.632759912124513 duration_charging2 + output_soc1 - soc2_exit <= 0.0\n",
      "  soc2_exit <= 100.0\n",
      "]\n",
      "\n",
      "===== sbo:\n",
      "InVars: [soc3_entry, duration_sbo3]\n",
      "OutVars:[soc3_exit]\n",
      "A: [\n",
      "  -duration_sbo3 <= 0.0\n",
      "  soc3_entry <= 100.0\n",
      "  -soc3_entry <= 0.0\n",
      "  0.8613682292052487 duration_sbo3 - soc3_entry <= 0.0\n",
      "]\n",
      "G: [\n",
      "  -0.8613682292052487 duration_sbo3 + soc3_entry - soc3_exit <= 0.0\n",
      "  0.7031397526693182 duration_sbo3 - soc3_entry + soc3_exit <= 0.0\n",
      "]\n",
      "\n",
      "===== dsn_charging_sbo:\n",
      "InVars: [soc1_entry, duration_dsn1, duration_charging2, duration_sbo3]\n",
      "OutVars:[output_soc1, soc3_exit, output_soc2]\n",
      "A: [\n",
      "  -duration_sbo3 <= 0.0\n",
      "  -duration_charging2 <= 0.0\n",
      "  -duration_dsn1 <= 0.0\n",
      "  soc1_entry <= 100.0\n",
      "  5.808285532989586 duration_dsn1 - soc1_entry <= 0.0\n",
      "]\n",
      "G: [\n",
      "  -5.808285532989586 duration_dsn1 - output_soc1 + soc1_entry <= 0.0\n",
      "  1.2742651338791644 duration_dsn1 + output_soc1 - soc1_entry <= 0.0\n",
      "  -4.886601301425715 duration_charging2 - output_soc1 + output_soc2 <= 0.0\n",
      "  3.632759912124513 duration_charging2 + output_soc1 - output_soc2 <= 0.0\n",
      "  output_soc2 <= 100.0\n",
      "  -0.8613682292052487 duration_sbo3 + output_soc2 - soc3_exit <= 0.0\n",
      "  0.7031397526693182 duration_sbo3 - output_soc2 + soc3_exit <= 0.0\n",
      "]\n"
     ]
    }
   ],
   "source": [
    "from pacti.terms.polyhedra import *\n",
    "from pacti.utils import read_contracts_from_file\n",
    "\n",
    "contracts = read_contracts_from_file(file_name=\"power_composition_problem.json\")\n",
    "\n",
    "\n",
    "dsn_charging = contracts[0][0]\n",
    "sbo = contracts[0][1]\n",
    "dsn_charging_sbo = contracts[0][2]\n",
    "\n",
    "print(f\"\\n===== dsn_charging:\\n{dsn_charging}\")\n",
    "print(f\"\\n===== sbo:\\n{sbo}\")\n",
    "print(f\"\\n===== dsn_charging_sbo:\\n{dsn_charging_sbo}\")"
   ]
  },
  {
   "cell_type": "code",
   "execution_count": 2,
   "metadata": {},
   "outputs": [
    {
     "name": "stdout",
     "output_type": "stream",
     "text": [
      "(0.0, 100.0)\n"
     ]
    }
   ],
   "source": [
    "\n",
    "print(sbo.get_variable_bounds(f\"soc3_exit\"))"
   ]
  },
  {
   "cell_type": "code",
   "execution_count": 3,
   "metadata": {},
   "outputs": [
    {
     "name": "stdout",
     "output_type": "stream",
     "text": [
      "(None, 100.0)\n"
     ]
    }
   ],
   "source": [
    "print(dsn_charging_sbo.get_variable_bounds(f\"soc3_exit\"))"
   ]
  }
 ],
 "metadata": {
  "kernelspec": {
   "display_name": ".venv",
   "language": "python",
   "name": "python3"
  },
  "language_info": {
   "codemirror_mode": {
    "name": "ipython",
    "version": 3
   },
   "file_extension": ".py",
   "mimetype": "text/x-python",
   "name": "python",
   "nbconvert_exporter": "python",
   "pygments_lexer": "ipython3",
   "version": "3.9.16"
  },
  "orig_nbformat": 4
 },
 "nbformat": 4,
 "nbformat_minor": 2
}
