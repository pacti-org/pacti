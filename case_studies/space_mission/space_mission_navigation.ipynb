{
 "cells": [
  {
   "cell_type": "code",
   "execution_count": 2,
   "metadata": {},
   "outputs": [],
   "source": [
    "%matplotlib widget\n",
    "\n",
    "#from IPython import display\n",
    "from base64 import b64decode\n",
    "from pacti.terms.polyhedra import *\n",
    "from pacti.iocontract import IoContract, Var\n",
    "from PIL import Image\n",
    "import matplotlib.pyplot as plt\n",
    "import os\n",
    "import numpy as np\n",
    "from matplotlib import patches\n",
    "import pdb\n",
    "from matplotlib.collections import PatchCollection\n",
    "from contract_utils import *\n",
    "\n",
    "varPrefixes=[\"t\", \"soc\", \"d\", \"c\", \"u\", \"r\", \"temp\"]\n",
    "epsilon = 1e-3"
   ]
  },
  {
   "attachments": {},
   "cell_type": "markdown",
   "metadata": {},
   "source": [
    "## Navigation viewpoint modeling\n",
    "\n",
    "### CHARGING Task\n",
    "\n",
    "Objective: charge the spacecraft battery\n",
    "\n",
    "As summarized in [the qualitative impacts table](#qualitative-impacts), this function affects this viewpoint with a fixed impact:\n",
    "- the spacecraft's attitude change to the Sun injects a small disturbance that increases the trajectory estimation uncertainty.\n"
   ]
  },
  {
   "cell_type": "code",
   "execution_count": 15,
   "metadata": {},
   "outputs": [
    {
     "name": "stdout",
     "output_type": "stream",
     "text": [
      "Contract charging1_nav:\n",
      "\n",
      "InVars: [u2_entry, r2_entry]\n",
      "OutVars:[u2_exit, r2_exit]\n",
      "A: [\n",
      "  -u2_entry <= 0.0\n",
      "  u2_entry <= 100.0\n",
      "  -r2_entry <= 0.0\n",
      "  r2_entry <= 100.0\n",
      "]\n",
      "G: [\n",
      "  -u2_entry + u2_exit <= 2.0\n",
      "  u2_entry - u2_exit <= -1.0\n",
      "  -r2_entry + r2_exit = 0.0\n",
      "]\n"
     ]
    }
   ],
   "source": [
    "# Parameters:\n",
    "# - s: start index of the timeline variables\n",
    "# - disturbance: (min, max) rate of navigation trajectory disturbance\n",
    "#                due to the change in spacecraft attitude for pointing to the Sun.\n",
    "# - epsilon: approximately zero\n",
    "def CHARGING_nav(s: int, disturbance: tuple[float, float]) -> PolyhedralContract:\n",
    "  spec = PolyhedralContract.from_string(\n",
    "    InputVars = [\n",
    "      f\"u{s}_entry\",    # initial trajectory estimation uncertainty\n",
    "      f\"r{s}_entry\",    # initial relative trajectory distance\n",
    "    ],\n",
    "    OutputVars = [\n",
    "      f\"u{s}_exit\",     # final trajectory estimation uncertainty\n",
    "      f\"r{s}_exit\",     # final relative trajectory distance\n",
    "    ],\n",
    "    assumptions = [\n",
    "      # 0 <= u{s}_entry <= 100\n",
    "      f\"-u{s}_entry <= 0\",\n",
    "      f\" u{s}_entry <= 100\",\n",
    "\n",
    "      # 0 <= r{s}_entry <= 100\n",
    "      f\"-r{s}_entry <= 0\",\n",
    "      f\" r{s}_entry <= 100\",\n",
    "    ],\n",
    "    guarantees = [\n",
    "      # disturbance(min) <= u{exit} - u{entry} <= disturbance(max)\n",
    "      f\" u{s}_exit - u{s}_entry <=  {disturbance[1]}\",\n",
    "      f\"-u{s}_exit + u{s}_entry <= -{disturbance[0]}\",\n",
    "\n",
    "      # no change to relative trajectory distance\n",
    "      f\"r{s}_exit - r{s}_entry = 0\",\n",
    "    ])\n",
    "  return spec\n",
    "\n",
    "charging1_nav = CHARGING_nav(s=2, disturbance=(1.0, 2.0))\n",
    "print(f\"Contract charging1_nav:\\n\\n{charging1_nav}\")"
   ]
  },
  {
   "attachments": {},
   "cell_type": "markdown",
   "metadata": {},
   "source": [
    "### DSN Task\n",
    "\n",
    "Objective: downlink science data to Earth.\n",
    "\n",
    "As summarized in [the qualitative impacts table](#qualitative-impacts), this function affects this viewpoint with a fixed impact:\n",
    "- the spacecraft's attitude change to Earth injects a small disturbance that increases the trajectory estimation uncertainty."
   ]
  },
  {
   "cell_type": "code",
   "execution_count": 16,
   "metadata": {},
   "outputs": [
    {
     "name": "stdout",
     "output_type": "stream",
     "text": [
      "Contract dsn1_nav:\n",
      "\n",
      "InVars: [u1_entry, r1_entry]\n",
      "OutVars:[u1_exit, r1_exit]\n",
      "A: [\n",
      "  -u1_entry <= 0.0\n",
      "  u1_entry <= 100.0\n",
      "  -r1_entry <= 0.0\n",
      "  r1_entry <= 100.0\n",
      "]\n",
      "G: [\n",
      "  -u1_entry + u1_exit <= 2.0\n",
      "  u1_entry - u1_exit <= -1.0\n",
      "  -r1_entry + r1_exit = 0.0\n",
      "]\n"
     ]
    }
   ],
   "source": [
    "# Parameters:\n",
    "# - s: start index of the timeline variables\n",
    "# - disturbance: (min, max) rate of navigation trajectory disturbance\n",
    "#                due to the change in spacecraft attitude for pointing to Earth.\n",
    "# - epsilon: approximately zero\n",
    "def DSN_nav(s: int, disturbance: tuple[float, float]) -> PolyhedralContract:\n",
    "  spec = PolyhedralContract.from_string(\n",
    "    InputVars = [\n",
    "      f\"u{s}_entry\",    # initial trajectory estimation uncertainty\n",
    "      f\"r{s}_entry\",    # initial relative trajectory distance\n",
    "    ],\n",
    "    OutputVars = [\n",
    "      f\"u{s}_exit\",     # final trajectory estimation uncertainty\n",
    "      f\"r{s}_exit\",     # final relative trajectory distance\n",
    "    ],\n",
    "    assumptions = [\n",
    "      # 0 <= u{s}_entry <= 100\n",
    "      f\"-u{s}_entry <= 0\",\n",
    "      f\" u{s}_entry <= 100\",\n",
    "\n",
    "      # 0 <= r{s}_entry <= 100\n",
    "      f\"-r{s}_entry <= 0\",\n",
    "      f\" r{s}_entry <= 100\",\n",
    "    ],\n",
    "    guarantees = [\n",
    "      # disturbance(min) <= u{exit} - u{entry} <= disturbance(max)\n",
    "      f\" u{s}_exit - u{s}_entry <=  {disturbance[1]}\",\n",
    "      f\"-u{s}_exit + u{s}_entry <= -{disturbance[0]}\",\n",
    "\n",
    "      # no change to relative trajectory distance\n",
    "      f\"r{s}_exit - r{s}_entry = 0\",\n",
    "    ])\n",
    "  return spec\n",
    "\n",
    "dsn1_nav = DSN_nav(s=1, disturbance=(1.0, 2.0))\n",
    "print(f\"Contract dsn1_nav:\\n\\n{dsn1_nav}\")"
   ]
  },
  {
   "attachments": {},
   "cell_type": "markdown",
   "metadata": {},
   "source": [
    "### SBO Task\n",
    "\n",
    "Objective: Acquire small body observations (science data & navigation)\n",
    "\n",
    "As summarized in [the qualitative impacts table](#qualitative-impacts), this function affects this viewpoint with impacts that are linear with the duration of the task:\n",
    "- the trajectory estimation error decreases proportionally to an improvement rate.\n",
    "\n",
    "Note that this task has no impact on the relative trajectory progress."
   ]
  },
  {
   "cell_type": "code",
   "execution_count": 17,
   "metadata": {},
   "outputs": [
    {
     "name": "stdout",
     "output_type": "stream",
     "text": [
      "Contract sbo1_nav:\n",
      "\n",
      "InVars: [u3_entry, duration_sbo3]\n",
      "OutVars:[u3_exit]\n",
      "A: [\n",
      "  -duration_sbo3 <= 0.0\n",
      "  u3_entry <= 100.0\n",
      "]\n",
      "G: [\n",
      "  -0.6 duration_sbo3 + u3_entry - u3_exit <= 0.0\n",
      "  0.4 duration_sbo3 - u3_entry + u3_exit <= 0.0\n",
      "  -u3_exit <= 0.0\n",
      "]\n"
     ]
    },
    {
     "data": {
      "application/vnd.jupyter.widget-view+json": {
       "model_id": "a59b6bd0867d49bc90cee055269b0c64",
       "version_major": 2,
       "version_minor": 0
      },
      "image/png": "[encoded data removed]",
      "text/html": [
       "\n",
       "            <div style=\"display: inline-block;\">\n",
       "                <div class=\"jupyter-widgets widget-label\" style=\"text-align: center;\">\n",
       "                    Figure\n",
       "                </div>\n",
       "                <img src='data:image/png;base64,iVBORw0KGgoAAAANSUhEUgAAAoAAAAHgCAYAAAA10dzkAAAAOXRFWHRTb2Z0d2FyZQBNYXRwbG90bGliIHZlcnNpb24zLjYuMywgaHR0cHM6Ly9tYXRwbG90bGliLm9yZy/P9b71AAAACXBIWXMAAA9hAAAPYQGoP6dpAAA4tklEQVR4nO3deXhU9dn/8c9kD1kBzaYsEaOsskVpAMVCWkRqi9ACNlpQHqksyiZW6g9cEKOoVHGBahX6KLigYCutigaEihCQRVHZ1CBUSYJAEogSaOb7+4Mn0wwJEiCZMzPf9+u65rqYc86cueeoxw/3fc6MyxhjBAAAAGuEOF0AAAAAfIsACAAAYBkCIAAAgGUIgAAAAJYhAAIAAFiGAAgAAGAZAiAAAIBlCIAAAACWIQACAABYhgAIAABgGQIgAACAZQiAAAAAliEAAgAAWIYACAAAYBkCIAAAgGUIgAAAAJYhAAIAAFiGAAgAAGAZAiAAAIBlCIAAAACWIQACAABYhgAIAABgGQIgAACAZQiAAAAAliEAAgAAWIYACAAAYBkCIAAAgGUIgAAAAJYhAAIAAFiGAAgAAGAZAiAAAIBlCIAAAACWIQACAABYhgAIAABgGQIgAACAZQiAAHyioKBAY8eO1UUXXaRGjRqpUaNGatu2rcaMGaNPPvnE6fLqzYcffqh77rlHJSUlTpcCACflMsYYp4sAENyWLl2qIUOGKCwsTDk5OerYsaNCQkK0bds2LV68WF9//bUKCgrUokULp0s9a4888ogmT56sgoICtWzZ0ulyAKBWYU4XACC4ffnllxo6dKhatGihvLw8paameq1/6KGH9PTTTyskxHcDCbfbraNHjyoqKspn7wkA/oQRMIAGNXPmTJWXl2vevHk1wp8khYWF6bbbblOzZs0kSVdeeaWuvPLKGtsNHz68RkftkUceUffu3dW0aVNFR0era9eueu2112q81uVyaezYsVqwYIHatWunyMhIvf3222e0jzfeeEPt27dXZGSk2rVr59mPJN1zzz2aPHmyJCk9PV0ul0sul0u7du3ybPPiiy+qa9euio6OVpMmTTR06FDt2bOnxvvl5+frqquuUkJCgho1aqRevXpp9erVXtscOnRI48ePV8uWLRUZGamkpCT97Gc/08aNG2vsDwCqYwQMoEGdd955atSokXbu3Fmn7avC3/vvv++1fPjw4Xr//fe9wlSzZs30y1/+Um3bttXRo0f18ssva926dVq6dKn69+/v2c7lcqlNmzb67rvvNHbsWJ1zzjnq3r27OnXqdFr76Nixo4qLizV69GjFxcVp9uzZKiws1O7du9W0aVN98sknevDBB/XSSy/pT3/6k8455xxJ0rXXXquYmBjNmDFDU6dO1eDBg9WrVy/t27dPTzzxhGJjY7Vp0yYlJiZKkpYvX65+/fqpa9eu+vWvf62QkBDNmzdP27Zt07/+9S9ddtllkqScnBy99tprGjt2rNq2bav9+/frgw8+0JAhQ5STk3Oa/6QAWMUAQAMpLS01ksyAAQNqrDt48KDZt2+f5/H9998bY4zp1auX6dWrV43thw0bZlq0aOG1rOo1VY4ePWrat29vevfu7bVckgkJCTGfffZZjf2ezj4iIiLMF1984Vn28ccfG0nmiSee8Cx7+OGHjSRTUFDg9fpdu3aZ0NBQM2PGDK/lW7ZsMWFhYZ7lbrfbZGRkmL59+xq32+1VZ3p6uvnZz37mWZaQkGDGjBlT4zMBwKkwAgbQYMrKyiRJsbGxNdZdeeWVOvfccz2Pp5566rT3Hx0d7fnzwYMHVVpaqssvv7zWEWivXr3Utm3bs9pHdna2WrVq5Xl+ySWXKD4+Xl999dUpa128eLHcbrcGDx6s7777zvNISUlRRkaGVqxYIUnavHmzdu7cqd/+9rfav3+/Z7vy8nL16dNHq1atktvtliQlJiYqPz9f33777SnfHwCq4yYQAA0mLi5OknT48OEa6/785z/r0KFDKioq0vXXX39G+1+6dKnuv/9+bd68WRUVFZ7lLperxrbp6elnvY/mzZvXWNa4cWMdPHjwlLXu3LlTxhhlZGTUuj48PNyznSQNGzbspPsqLS1V48aNNXPmTA0bNkzNmjVT165ddfXVV+t3v/udLrjgglPWA8BuBEAADSYhIUGpqan69NNPa6zr1q2bJHld0ycdD16mlkuTKysrvZ7/61//0i9/+UtdccUVevrpp5Wamqrw8HDNmzdPCxcurPH66p2+M91HaGhorZ+ztnpP5Ha75XK59NZbb9W6n6ouaVV37+GHH1anTp1q3VfVtoMHD9bll1+uJUuWaNmyZXr44Yf10EMPafHixerXr98pawJgLwIggAbVv39//eUvf9G6des8Ny/8mMaNG9c6Uv3666+9nr/++uuKiorSO++8o8jISM/yefPm1bm2+tjHiWrrHEpSq1atZIxRenq6LrroopO+vmrEHB8fr+zs7FO+X2pqqkaPHq3Ro0eruLhYXbp00YwZMwiAAH4U1wACaFB33HGHGjVqpJtuuklFRUU11p/YPWvVqpW2bdumffv2eZZ9/PHHNb4CJTQ0VC6Xy6szuGvXLr3xxht1rq0+9nGimJgYSarxSyADBw5UaGio7r333hqf2Rij/fv3S5K6du2qVq1a6ZFHHql1dF51XCorK1VaWuq1LikpSWlpaV6jbACoDR1AAA0qIyNDCxcu1HXXXaeLL77Y80sgxhgVFBRo4cKFCgkJ0fnnny9JuummmzRr1iz17dtXI0aMUHFxsebOnat27dp5biqRjncWZ82apauuukq//e1vVVxcrKeeekoXXnhhnX9arj72caKuXbtKku666y4NHTpU4eHhuuaaa9SqVSvdf//9mjJlinbt2qUBAwYoLi5OBQUFWrJkiUaOHKnbb79dISEh+stf/qJ+/fqpXbt2uvHGG3Xeeefpm2++0YoVKxQfH68333xThw4d0vnnn69f//rX6tixo2JjY/Xee+9p/fr1evTRR8+odgAWce4GZAA2+eKLL8yoUaPMhRdeaKKiokx0dLRp3bq1ueWWW8zmzZu9tn3xxRfNBRdcYCIiIkynTp3MO++8U+vXwDz33HMmIyPDREZGmtatW5t58+aZu+++25x4apN00q9LOdt9tGjRwgwbNsxr2fTp0815551nQkJCanwlzOuvv2569uxpYmJiTExMjGndurUZM2aM2b59u9c+Nm3aZAYOHGiaNm1qIiMjTYsWLczgwYNNXl6eMcaYiooKM3nyZNOxY0cTFxdnYmJiTMeOHc3TTz9d6+cEgOr4ImgAAADLcA0gAACAZQiAAAAAliEAAgAAWIYAGIBWrVqla665RmlpaXK5XDW+ssIYo2nTpik1NVXR0dHKzs72/LpAlQMHDignJ0fx8fFKTEzUiBEjav3KCQAAEHwIgAGovLxcHTt2POlvp86cOVOzZ8/W3LlzlZ+fr5iYGPXt21dHjhzxbJOTk6PPPvtM7777rpYuXapVq1Zp5MiRvvoIAADAQdwFHOBcLpeWLFmiAQMGSDre/UtLS9OkSZN0++23Szr+u6HJycmaP3++hg4dqq1bt6pt27Zav369MjMzJUlvv/22rr76av373/9WWlqaUx8HAAD4AB3AIFNQUKDCwkKvn5BKSEhQt27dtGbNGknSmjVrlJiY6Al/kpSdna2QkBDl5+f7vGYAAOBb/BJIkCksLJQkJScney1PTk72rCssLFRSUpLX+rCwMDVp0sSzzYkqKiq8fl7K7XbrwIEDatq06Ul/+xQA4L+MMTp06JDS0tIUEkI/yDYEQNRJbm6u7r33XqfLAADUsz179nh+ihH2IAAGmZSUFElSUVGRUlNTPcuLiorUqVMnzzbFxcVer/vPf/6jAwcOeF5/oilTpmjixIme56WlpWrevLn27Nmj+Pj4ev4UAICGVlZWpmbNmikuLs7pUuAAAmCQSU9PV0pKivLy8jyBr6ysTPn5+Ro1apQkKSsrSyUlJdqwYYPnh+uXL18ut9utbt261brfyMhIRUZG1lgeHx9PAASAAMZlPHYiAAagw4cP64svvvA8Lygo0ObNm9WkSRM1b95c48eP1/3336+MjAylp6dr6tSpSktL89wp3KZNG1111VW6+eabNXfuXB07dkxjx47V0KFDuQMYAAALEAAD0EcffaSf/vSnnudVo9lhw4Zp/vz5uuOOO1ReXq6RI0eqpKREPXv21Ntvv62oqCjPaxYsWKCxY8eqT58+CgkJ0aBBgzR79myffxYAAOB7fA8gzkhZWZkSEhJUWlrKCBgAAhDncbtx3zcAAIBlCIAAAACWIQACAABYhgAIAABgGQIgAACAZQiAAAAAliEAAgAAWIYACAAAYBkCIAAAgGUIgAAAAJYhAAIAAFiGAAgAAGAZAiAAAIBlCIAAAACWIQACAABYhgAIAABgGQIgAACAZQiAAAAAliEAAgAAWIYACAAAYBkCIAAAgGUIgAAAAJYhAAIAAFiGAAgAAGAZAiAAAIBlCIAAAACWIQACAABYhgAIAABgGQIgAACAZQiAAAAAliEAAgAAWIYACAAAYBkCIAAAgGUIgAAAAJYhAAIAAFiGAAgAAGAZAiAAAIBlCIAAAACWIQACAABYhgAIAABgGQIgAACAZQiAAAAAliEAAgAAWIYACAAAYBkCIAAAgGUIgAAAAJYhAAIAAFiGAAgAAGAZAiAAAIBlCIAAAACWIQACAABYhgAIAABgGQIgAACAZQiAAAAAliEAAgAAWIYACAAAYBkCIAAAgGUIgAAAAJYhAAIAAFiGAAgAAGAZAiAAAIBlCIAAAACWIQACAABYhgAYhCorKzV16lSlp6crOjparVq10vTp02WM8WxjjNG0adOUmpqq6OhoZWdna+fOnQ5WDQAAfIUAGIQeeughzZkzR08++aS2bt2qhx56SDNnztQTTzzh2WbmzJmaPXu25s6dq/z8fMXExKhv3746cuSIg5UDAABfcJnqbSEEhV/84hdKTk7Wc88951k2aNAgRUdH68UXX5QxRmlpaZo0aZJuv/12SVJpaamSk5M1f/58DR069JTvUVZWpoSEBJWWlio+Pr7BPgsAoGFwHrcbHcAg1L17d+Xl5WnHjh2SpI8//lgffPCB+vXrJ0kqKChQYWGhsrOzPa9JSEhQt27dtGbNGkdqBgAAvhPmdAGof3feeafKysrUunVrhYaGqrKyUjNmzFBOTo4kqbCwUJKUnJzs9brk5GTPuhNVVFSooqLC87ysrKyBqgcAAA2NDmAQevXVV7VgwQItXLhQGzdu1F//+lc98sgj+utf/3rG+8zNzVVCQoLn0axZs3qsGAAA+BIBMAhNnjxZd955p4YOHaoOHTrohhtu0IQJE5SbmytJSklJkSQVFRV5va6oqMiz7kRTpkxRaWmp57Fnz56G/RAAAKDBEACD0Pfff6+QEO9/tKGhoXK73ZKk9PR0paSkKC8vz7O+rKxM+fn5ysrKqnWfkZGRio+P93oAAIDAxDWAQeiaa67RjBkz1Lx5c7Vr106bNm3SrFmzdNNNN0mSXC6Xxo8fr/vvv18ZGRlKT0/X1KlTlZaWpgEDBjhbPAAAaHAEwCD0xBNPaOrUqRo9erSKi4uVlpam3//+95o2bZpnmzvuuEPl5eUaOXKkSkpK1LNnT7399tuKiopysHIAAOALfA8gzgjfHwUAgY3zuN24BhAAAMAyBEAAAADLEAABAAAsQwAEAACwDAEQAADAMgRAAAAAyxAAAQAALEMABAAAsAwBEAAAwDIEQAAAAMsQAAEAACxDAAQAALAMARAAAMAyBEAAAADLEAABAAAsQwAEAACwDAEQAADAMgRAAAAAyxAAAQAALEMABAAAsAwBEAAAwDIEQAAAAMsQAAEAACxDAAQAALAMARAAAMAyBEAAAADLEAABAAAsQwAEAACwDAEQAADAMgRAAAAAyxAAAQAALEMABAAAsAwBEAAAwDIEQAAAAMsQAAEAACxDAAQAALAMARAAAMAyBEAAAADLEAABAAAsQwAEAACwDAEQAADAMgRAAAAAyxAAAQAALEMABAAAsAwBEAAAwDIEQAAAAMsQAAEAACxDAAQAALAMARAAAMAyBEAAAADLEAABAAAsQwAEAACwDAEQAADAMgRAAAAAyxAAAQAALEMABAAAsAwBEAAAwDIEQAAAAMsQAAEAACxDAAQAALAMARAAAMAyBEAAAADLEAABAAAsQwAMUt98842uv/56NW3aVNHR0erQoYM++ugjz3pjjKZNm6bU1FRFR0crOztbO3fudLBiAADgKwTAIHTw4EH16NFD4eHheuutt/T555/r0UcfVePGjT3bzJw5U7Nnz9bcuXOVn5+vmJgY9e3bV0eOHHGwcgAA4AsuY4xxugjUrzvvvFOrV6/Wv/71r1rXG2OUlpamSZMm6fbbb5cklZaWKjk5WfPnz9fQoUNP+R5lZWVKSEhQaWmp4uPj67V+AEDD4zxuNzqAQejvf/+7MjMz9Zvf/EZJSUnq3Lmznn32Wc/6goICFRYWKjs727MsISFB3bp105o1a2rdZ0VFhcrKyrweAAAgMBEAg9BXX32lOXPmKCMjQ++8845GjRql2267TX/9618lSYWFhZKk5ORkr9clJyd71p0oNzdXCQkJnkezZs0a9kMAAIAGQwAMQm63W126dNEDDzygzp07a+TIkbr55ps1d+7cM97nlClTVFpa6nns2bOnHisGAAC+RAAMQqmpqWrbtq3XsjZt2mj37t2SpJSUFElSUVGR1zZFRUWedSeKjIxUfHy81wMAAAQmAmAQ6tGjh7Zv3+61bMeOHWrRooUkKT09XSkpKcrLy/OsLysrU35+vrKysnxaKwAA8L0wpwtA/ZswYYK6d++uBx54QIMHD9a6dev0zDPP6JlnnpEkuVwujR8/Xvfff78yMjKUnp6uqVOnKi0tTQMGDHC2eAAA0OAIgEHo0ksv1ZIlSzRlyhTdd999Sk9P12OPPaacnBzPNnfccYfKy8s1cuRIlZSUqGfPnnr77bcVFRXlYOUAAMAX+B5AnBG+PwoAAhvncbtxDSAAAIBlCIAAAACWIQACAABYhgAIAABgGQIgAACAZQiAAAAAliEAAgAAWIYACAAAYBkCIAAAgGUIgD4UGhqq4uLiGsv379+v0NBQByoCAAA2IgD60Ml+da+iokIRERE+rgYAANgqzOkCbDB79mxJksvl0l/+8hfFxsZ61lVWVmrVqlVq3bq1U+UBAADLEAB94E9/+pOk4x3AuXPneo17IyIi1LJlS82dO9ep8gAAgGUIgD5QUFAgSfrpT3+qxYsXq3Hjxg5XBAAAbEYA9KEVK1Y4XQIAAAABsKFNnDhR06dPV0xMjCZOnPij286aNctHVQEAAJsRABvYpk2bdOzYMc+fT8blcvmqJAAAYDmXOdl3kwA/oqysTAkJCSotLVV8fLzT5QAAThPncbvxPYA+tG/fvpOu27Jliw8rAQAANiMA+lCHDh30j3/8o8byRx55RJdddpkDFQEAABsRAH1o4sSJGjRokEaNGqUffvhB33zzjfr06aOZM2dq4cKFTpcHAAAswTWAPrZp0ybdcMMNqqio0IEDB9StWzc9//zzSklJcbq008K1IwAQ2DiP240OoI9deOGFat++vXbt2qWysjINGTIk4MIfAAAIbARAH1q9erUuueQS7dy5U5988onmzJmjW2+9VUOGDNHBgwedLg8AAFiCAOhDvXv31pAhQ7R27Vq1adNG//M//6NNmzZp9+7d6tChg9PlAQAAS/BF0D60bNky9erVy2tZq1attHr1as2YMcOhqgAAgG24CcQBX3zxhb788ktdccUVio6OljEm4H4JhIuHASCwcR63GyNgH9q/f7/69Omjiy66SFdffbX27t0rSRoxYoRuv/12h6sDAAC2IAD60IQJExQeHq7du3erUaNGnuVDhgzRW2+95WBlAADAJlwD6EPLli3TO++8o/PPP99reUZGhr7++muHqjo7XEAAAEDgoQPoQ+Xl5V6dvyoHDhxQZGSkAxWdvcwN0ux/SwePOV0JAACoKwKgD11++eX63//9X89zl8slt9utmTNn6qc//amDlZ25fcekcV9IKR9Kv9sqrS6lKwgAgL/jLmAf+vTTT9WnTx916dJFy5cv1y9/+Ut99tlnOnDggFavXq1WrVo5XWKdVd09VvBdqR78Ll7P7JWq/kW6OFoafZ50Q7LUONzRMgEAJ8FdwHajA+hD7du3144dO9SzZ0/96le/Unl5uQYOHKhNmzYFVPirrkm4NPdiaV0XqWvs8WXbf6ArCACAP6MD6IdGjx6t++67T+ecc47TpZxUbX9zdBvp+b3S5C+lksrj24VKqhRdQQDwN3QA7UYH0A+9+OKLKisrc7qM0xbikv4nTfryJ9LvU6XqX2294wdpPF1BAAD8AgHQDwV6U7b6WLhT7H+XG0lHjfRSsdRzk9RmHXcQAwDgBAIgGkxmvLSuq/TsRVJC6PFxsCT95//yLV1BAACcQQBEg6o+Fv6f/xsLVwVBI7qCAAA4gQAIn6htLFz9GkG6ggAA+A4BED51srFwFbqCAAA0PAKgH7r++uuD+pb8HxsLV0dXEACAhsH3APqIMUa7du1Ss2bNFBYWpqNHj2rJkiWqqKjQ1Vdf7dff+Veb+vz+qI/KpFt2SBsOHw+DP/YvZJjreDDkewUB4OzwPYB2owPoA9u3b1d6erouvPBCtWnTRgUFBerevbtGjBihUaNGqU2bNtq5c6fTZTrmVGPh6ugKAgBw9giAPvCHP/xBHTt21ObNm/WLX/xC/fv31/nnn6+DBw/qwIEDysrK0n333ed0mY6q61i4CtcKAgBw5hgB+0BSUpKWLVumTp06qby8XHFxcVq1apV69uwpSfrwww913XXX6euvv3a40rpr6NHB6YyFq1TdVRzukoYkSb9Pk7rHSy7Xj74MAKzECNhudAB94PDhw2rSpIkkKSYmRjExMUpNTfWsb9asmYqKipwqzy+dzli4Cl1BAADqhgDoA2lpadq9e7fn+cyZM5WUlOR5vm/fPjVu3NiJ0vza6Y6Fq+NaQQAATo4A6APZ2dnatm2b5/moUaMUFxfneb5s2TJ16dLFidICwqm+RPrH0BUEAKAmrgH0AwUFBYqKivIaC/s7p64dcRvp+b3S5C+lQ5VS5Rnsg2sFAYBrAG1HAPShU93pO23aNB9VcvacPnEcOCb98Svpmb3H29hnEgQlvlcQgL2cPo/DWQRAH+rcubPX82PHjqmgoEBhYWFq1aqVNm7c6FBlp89fThxncrdwbegKArCNv5zH4YwwpwuwyaZNm2osKysr0/Dhw3Xttdc6UFHgq7pb+GzHwlXBsepawReK6AoCAIIXHUA/sGXLFl1zzTXatWuX06XUmT/+zbG+xsJV6AoCCGb+eB6H73AXsB8oLS1VaWmp02UEvLO5W7g23EEMAAhWjIB9aPbs2V7PjTHau3evXnjhBfXr18+hqoJPfY2FqzvxewUnf0lXEAAQuBgB+1B6errX85CQEJ177rnq3bu3pkyZ4vXdgP4uUEYH9T0Wro47iAEEskA5j6NhEABxRgLtxFFfdwvXhmsFAQSiQDuPo35xDSCscCa/LVxXXCsIAAg0BEBY42x+W7iu+A1iAEAgIADCOvV9t3Bt6AoCAPwZARDWasixcHV0BQEA/oYACKv5Yixcha4gAMBfEAAt8OCDD8rlcmn8+PGeZUeOHNGYMWPUtGlTxcbGatCgQSoqKnKuSIf5YixcHV1BAICTCIBBbv369frzn/+sSy65xGv5hAkT9Oabb2rRokVauXKlvv32Ww0cONChKv2Hr8bCVegKAgCcQAAMYocPH1ZOTo6effZZNW7c2LO8tLRUzz33nGbNmqXevXura9eumjdvnj788EOtXbvWwYr9gy/HwtXRFQQA+AoBMIiNGTNG/fv3V3Z2ttfyDRs26NixY17LW7durebNm2vNmjW17quiokJlZWVej2Dn67FwFbqCAICGRgAMUi+//LI2btyo3NzcGusKCwsVERGhxMREr+XJyckqLCysdX+5ublKSEjwPJo1a9YQZfslX4+Fq6MrCABoCATAILRnzx6NGzdOCxYsUFRUVL3sc8qUKSotLfU89uzZUy/7DRROjYWr0BUEANQnAmAQ2rBhg4qLi9WlSxeFhYUpLCxMK1eu1OzZsxUWFqbk5GQdPXpUJSUlXq8rKipSSkpKrfuMjIxUfHy818NGTo2Fq6MrCAA4WwTAINSnTx9t2bJFmzdv9jwyMzOVk5Pj+XN4eLjy8vI8r9m+fbt2796trKwsBysPHE6OhavQFQQAnKkwpwtA/YuLi1P79u29lsXExKhp06ae5SNGjNDEiRPVpEkTxcfH69Zbb1VWVpZ+8pOfOFFyQKoaCw88V/rjV9Ize4//jarSgVpO7ApO/lIakiT9Pk3qHi+5fN2mBAD4NTqAlvrTn/6kX/ziFxo0aJCuuOIKpaSkaPHixU6XFZD8YSxcha4gAKAuXMZw1RBOX1lZmRISElRaWmrt9YC1cRvp+b3HO3CHKp3pBp6oKoyGu+gKAvgvzuN2owMI1COn7xauDV1BAMCJCIBAA/CnsXB13EEMAJAIgECD8oe7hWtDVxAA7EYABBqYP46Fq6MrCAD2IQACPuKvY+EqdAUBwB4EQMDH/HUsXB1dQQAIbgRAwAH+PhauQlcQAIITARBwkL+PhaujKwgAwYMACPiBQBgLV6ErCACBjwAI+IlAGQtXR1cQAAITARDwM4E0Fq5CVxAAAgsBEPBTgTQWro6uIAD4PwIg4McCcSxcha4gAPgvAiAQAAJxLFwdXUEA8C8EQCCABOpYuApdQQDwDwRAIMAE8li4OrqCAOAcAiAQoAJ9LFyFriAA+B4BEAhwgT4Wro6uIAD4BgEQCALBMhauQlcQABoWARAIIsEyFq6OriAA1D8CIBCEgmksXIWuIADUHwIgEKSCbSxcHV1BADg7BEAgyAXjWLgKXUEAODMEQMASwTgWro6uIADUHQEQsEgwj4Wr0BUEgFMjAAIWCuaxcHV0BQGgdgRAwGLBPhauQlcQALwRAAHL2TAWro6uIAAQAAH8H1vGwlXoCgKwGQEQgBdbxsLV0RUEYBsCIIAabBsLV6ErCMAWBEAAJ2XbWLg6uoIAghkBEMAp2TgWrkJXEEAwIgACqBNbx8LV0RUEECwIgABOi81j4Sp0BQEEOgIggDNi81i4OrqCAAIRARDAGWMs/F90BQEEEgIggLPGWNgbXUEA/o4ACKDeMBb2RlcQgL8iAAKoV4yFa0dXEIA/IQACaBCMhWtHVxCAPyAAAmhQjIVPjq4gAKcQAAE0OMbCP46uIABfIwAC8BnGwqdGVxCALxAAAfgcY+FToysIoCERAAE4grFw3dEVBFDfCIAAHMVYuO7oCgKoLwRAAH6BsfDpoSsI4GwQAAH4DcbCp4+uIIAzQQAE4HcYC58ZuoIA6ooACMBvMRY+M3QFAZwKARCAX2MsfHboCgKoDQEQQEBgLHx26AoCqI4ACCCgMBY+e3QFARAAAQQcxsL1g64gYC8CIICAxVi4/tAVBOxCAAQQ8BgL1x+6goAdCIAAggJj4fpHVxAIXgRAAEGFsXD9oysIBB8CIICgxFi4YdAVBIIDARBA0GIs3HDoCgKBjQAIIOgxFm5YdAWBwEMABGANxsINi64gEDgIgEEoNzdXl156qeLi4pSUlKQBAwZo+/btXtscOXJEY8aMUdOmTRUbG6tBgwapqKjIoYoB32Es7Bt0BQH/RgAMQitXrtSYMWO0du1avfvuuzp27Jh+/vOfq7y83LPNhAkT9Oabb2rRokVauXKlvv32Ww0cONDBqgHfYizsG3QFAf/kMoa/iwW7ffv2KSkpSStXrtQVV1yh0tJSnXvuuVq4cKF+/etfS5K2bdumNm3aaM2aNfrJT35yyn2WlZUpISFBpaWlio+Pb+iPADQot5Ge3ytN/lI6VClVOl1QkKsK2uEuaUiS9Ps0qXu85CKB+xTncbvRAbRAaWmpJKlJkyaSpA0bNujYsWPKzs72bNO6dWs1b95ca9asqXUfFRUVKisr83oAwYKxsG/RFQScRwAMcm63W+PHj1ePHj3Uvn17SVJhYaEiIiKUmJjotW1ycrIKCwtr3U9ubq4SEhI8j2bNmjV06YDPMRb2Pa4VBJxBAAxyY8aM0aeffqqXX375rPYzZcoUlZaWeh579uyppwoB/8Pdwr5HVxDwLQJgEBs7dqyWLl2qFStW6Pzzz/csT0lJ0dGjR1VSUuK1fVFRkVJSUmrdV2RkpOLj470eQDBjLOwcuoJAwyMABiFjjMaOHaslS5Zo+fLlSk9P91rftWtXhYeHKy8vz7Ns+/bt2r17t7KysnxdLuDXGAs7h64g0HC4CzgIjR49WgsXLtTf/vY3XXzxxZ7lCQkJio6OliSNGjVK//znPzV//nzFx8fr1ltvlSR9+OGHdXoP7h6Djbhb2HncQVx/OI/bjQAYhFwnORPOmzdPw4cPl3T8i6AnTZqkl156SRUVFerbt6+efvrpk46AT8SJAzY7cEz641fSM3uPj1EIgs4Icx0fF18cLY0+T7ohWWoc7nRVgYPzuN0IgDgjnDgA6aMy6ZYd0obDxztTnEydQVfwzHAetxvXAALAGeJuYf/AtYLA6SMAAsBZ4G5h/8IdxEDdEAABoB5wt7B/oSsI/DgCIADUI8bC/oeuIFATARAA6hljYf9EVxD4LwIgADQQxsL+i64gbEcABIAGxljYf9EVhK0IgADgA4yF/R9dQdiEAAgAPsRY2P/RFYQNCIAA4ADGwoGBriCCFQEQABzCWDhw0BVEsCEAAoDDGAsHFrqCCAYEQADwE4yFAwtdQQQyAiAA+BHGwoGJriACDQEQAPwQY+HARFcQgYIACAB+jLFw4KIrCH9GAAQAP8dYOLDRFYQ/IgACQIBgLBz46ArCXxAAASDAMBYOfHQF4TQCIAAEIMbCwYOuIJxAAASAAMZYOHjQFYQvEQABIAgwFg4udAXR0AiAABAkGAsHH7qCaCgEQAAIMoyFgxNdQdQnAiAABCnGwsGJriDqAwEQAIIYY+HgRlcQZ4oACAAWYCwc3OgK4nQRAAHAIoyFgx9dQdQFARAALMNY2A50BfFjCIAAYCnGwvaorSt483Zna4KzCIAAYDnGwvao3hVcVOx0NXASARAAwFjYQqG0e61GAAQAeDAWBuxAAAQA1MBYGAhuBEAAQK0YCwPBiwAIAPhRjIWB4EMABADUCWNhIHgQAAEAdcZYGAgOBEAAwGljLAwENgIgAOCMMRYGAhMBEABwVhgLA4GHAAgAqBeMhYHAQQAEANQrxsKA/yMAAgDqHWNhwL8RAAEADYaxMOCfCIAAgAbHWBjwLwRAAIBPMBYG/AcBEADgU4yFAecRAAEAjmAsDDiHAAgAcAxjYcAZBEAAgOMYCwO+RQAEAPgNxsKAbxAAAQB+hbEw0PAIgAAAv8RYGGg4BEAAgF9jLAzUPwIgAMDvMRYG6hcBEAAQMBgLA/WDAAgACDiMhYGzQwAEAAQkxsLAmSMAAgACGmNh4PQRAAEAQYGxMFB3BEAAQNBgLAzUDQEQABB0GAsDP44AaLmnnnpKLVu2VFRUlLp166Z169Y5XRIA1BvGwkDtCIAWe+WVVzRx4kTdfffd2rhxozp27Ki+ffuquLjY6dIAoN4wFgZqIgBabNasWbr55pt14403qm3btpo7d64aNWqk559/3unSAKDeMRYG/ivM6QLgjKNHj2rDhg2aMmWKZ1lISIiys7O1Zs2aGttXVFSooqLC87y0tFSSVFZW1vDFAkA9ukjSexnSC4XS1ALpUKXkdrooB/zn++Pnb2OMw5XACQRAS3333XeqrKxUcnKy1/Lk5GRt27atxva5ubm69957ayxv1qxZg9UIAGh4+/fvV0JCgtNlwMcIgKiTKVOmaOLEiZ7nJSUlatGihXbv3s2J40eUlZWpWbNm2rNnj+Lj450ux29xnOqG41Q3HKe6KS0tVfPmzdWkSROnS4EDCICWOueccxQaGqqioiKv5UVFRUpJSamxfWRkpCIjI2ssT0hI4ARbB/Hx8RynOuA41Q3HqW44TnUTEsLtADbin7qlIiIi1LVrV+Xl5XmWud1u5eXlKSsry8HKAABAQ6MDaLGJEydq2LBhyszM1GWXXabHHntM5eXluvHGG50uDQAANCACoMWGDBmiffv2adq0aSosLFSnTp309ttv17gxpDaRkZG6++67ax0L4784TnXDcaobjlPdcJzqhuNkN5fh/m8AAACrcA0gAACAZQiAAAAAliEAAgAAWIYACAAAYBkCIM7IU089pZYtWyoqKkrdunXTunXrnC7JMbm5ubr00ksVFxenpKQkDRgwQNu3b/fa5siRIxozZoyaNm2q2NhYDRo0qMaXcNvmwQcflMvl0vjx4z3LOE7HffPNN7r++uvVtGlTRUdHq0OHDvroo488640xmjZtmlJTUxUdHa3s7Gzt3LnTwYp9r7KyUlOnTlV6erqio6PVqlUrTZ8+3et3bW08TqtWrdI111yjtLQ0uVwuvfHGG17r63JMDhw4oJycHMXHxysxMVEjRozQ4cOHffgp4AsEQJy2V155RRMnTtTdd9+tjRs3qmPHjurbt6+Ki4udLs0RK1eu1JgxY7R27Vq9++67OnbsmH7+85+rvLzcs82ECRP05ptvatGiRVq5cqW+/fZbDRw40MGqnbV+/Xr9+c9/1iWXXOK1nOMkHTx4UD169FB4eLjeeustff7553r00UfVuHFjzzYzZ87U7NmzNXfuXOXn5ysmJkZ9+/bVkSNHHKzctx566CHNmTNHTz75pLZu3aqHHnpIM2fO1BNPPOHZxsbjVF5ero4dO+qpp56qdX1djklOTo4+++wzvfvuu1q6dKlWrVqlkSNH+uojwFcMcJouu+wyM2bMGM/zyspKk5aWZnJzcx2syn8UFxcbSWblypXGGGNKSkpMeHi4WbRokWebrVu3GklmzZo1TpXpmEOHDpmMjAzz7rvvml69eplx48YZYzhOVf7whz+Ynj17nnS92+02KSkp5uGHH/YsKykpMZGRkeall17yRYl+oX///uamm27yWjZw4ECTk5NjjOE4GWOMJLNkyRLP87ock88//9xIMuvXr/ds89ZbbxmXy2W++eYbn9WOhkcHEKfl6NGj2rBhg7Kzsz3LQkJClJ2drTVr1jhYmf8oLS2VJM8PrG/YsEHHjh3zOmatW7dW8+bNrTxmY8aMUf/+/b2Oh8RxqvL3v/9dmZmZ+s1vfqOkpCR17txZzz77rGd9QUGBCgsLvY5TQkKCunXrZtVx6t69u/Ly8rRjxw5J0scff6wPPvhA/fr1k8Rxqk1djsmaNWuUmJiozMxMzzbZ2dkKCQlRfn6+z2tGw+GXQHBavvvuO1VWVtb4tZDk5GRt27bNoar8h9vt1vjx49WjRw+1b99eklRYWKiIiAglJiZ6bZucnKzCwkIHqnTOyy+/rI0bN2r9+vU11nGcjvvqq680Z84cTZw4UX/84x+1fv163XbbbYqIiNCwYcM8x6K2/wZtOk533nmnysrK1Lp1a4WGhqqyslIzZsxQTk6OJHGcalGXY1JYWKikpCSv9WFhYWrSpIm1xy1YEQCBejRmzBh9+umn+uCDD5wuxe/s2bNH48aN07vvvquoqCiny/FbbrdbmZmZeuCBByRJnTt31qeffqq5c+dq2LBhDlfnP1599VUtWLBACxcuVLt27bR582aNHz9eaWlpHCegDhgB47Scc845Cg0NrXFnZlFRkVJSUhyqyj+MHTtWS5cu1YoVK3T++ed7lqekpOjo0aMqKSnx2t62Y7ZhwwYVFxerS5cuCgsLU1hYmFauXKnZs2crLCxMycnJHCdJqampatu2rdeyNm3aaPfu3ZLkORa2/zc4efJk3XnnnRo6dKg6dOigG264QRMmTFBubq4kjlNt6nJMUlJSatzQ95///EcHDhyw9rgFKwIgTktERIS6du2qvLw8zzK32628vDxlZWU5WJlzjDEaO3aslixZouXLlys9Pd1rfdeuXRUeHu51zLZv367du3dbdcz69OmjLVu2aPPmzZ5HZmamcnJyPH/mOEk9evSo8TVCO3bsUIsWLSRJ6enpSklJ8TpOZWVlys/Pt+o4ff/99woJ8f5fWGhoqNxutySOU23qckyysrJUUlKiDRs2eLZZvny53G63unXr5vOa0YCcvgsFgefll182kZGRZv78+ebzzz83I0eONImJiaawsNDp0hwxatQok5CQYN5//32zd+9ez+P777/3bHPLLbeY5s2bm+XLl5uPPvrIZGVlmaysLAer9g/V7wI2huNkjDHr1q0zYWFhZsaMGWbnzp1mwYIFplGjRubFF1/0bPPggw+axMRE87e//c188skn5le/+pVJT083P/zwg4OV+9awYcPMeeedZ5YuXWoKCgrM4sWLzTnnnGPuuOMOzzY2HqdDhw6ZTZs2mU2bNhlJZtasWWbTpk3m66+/NsbU7ZhcddVVpnPnziY/P9988MEHJiMjw1x33XVOfSQ0EAIgzsgTTzxhmjdvbiIiIsxll11m1q5d63RJjpFU62PevHmebX744QczevRo07hxY9OoUSNz7bXXmr179zpXtJ84MQBynI578803Tfv27U1kZKRp3bq1eeaZZ7zWu91uM3XqVJOcnGwiIyNNnz59zPbt2x2q1hllZWVm3Lhxpnnz5iYqKspccMEF5q677jIVFRWebWw8TitWrKj1fDRs2DBjTN2Oyf79+811111nYmNjTXx8vLnxxhvNoUOHHPg0aEguY6p9bToAAACCHtcAAgAAWIYACAAAYBkCIAAAgGUIgAAAAJYhAAIAAFiGAAgAAGAZAiAAAIBlCIAAAACWIQAC8Kkrr7xS48ePd+S933//fblcLpWUlDjy/idyuVx64403nC4DgIUIgACCUm1Bs3v37tq7d68SEhKcKaoBLF68WJmZmUpMTFRMTIw6deqkF154wemyAPi5MKcLAIDTcezYMYWHh5/RayMiIpSSklLPFTmrSZMmuuuuu9S6dWtFRERo6dKluvHGG5WUlKS+ffs6XR4AP0UHEECDKS8v1+9+9zvFxsYqNTVVjz76qNf62kagiYmJmj9/viRp165dcrlceuWVV9SrVy9FRUVpwYIF2r9/v6677jqdd955atSokTp06KCXXnrJs4/hw4dr5cqVevzxx+VyueRyubRr165aR8Cvv/662rVrp8jISLVs2bJGjS1bttQDDzygm266SXFxcWrevLmeeeaZOn3+o0ePauzYsUpNTVVUVJRatGih3Nxcr2327t2rfv36KTo6WhdccIFee+01r/VbtmxR7969FR0draZNm2rkyJE6fPiwZ/2VV16pa6+9Vm3atFGrVq00btw4XXLJJfrggw/qVCMAOxEAATSYyZMna+XKlfrb3/6mZcuW6f3339fGjRtPez933nmnxo0bp61bt6pv3746cuSIunbtqn/84x/69NNPNXLkSN1www1at26dJOnxxx9XVlaWbr75Zu3du1d79+5Vs2bNaux3w4YNGjx4sIYOHaotW7bonnvu0dSpUz0BtMqjjz6qzMxMbdq0SaNHj9aoUaO0ffv2U9Y9e/Zs/f3vf9err76q7du3a8GCBWrZsqXXNlOnTtWgQYP08ccfKycnR0OHDtXWrVslHQ/Qffv2VePGjbV+/XotWrRI7733nsaOHVvr+xljlJeXp+3bt+uKK66ow5EFYC0DAA3g0KFDJiIiwrz66queZfv37zfR0dFm3LhxxhhjJJklS5Z4vS4hIcHMmzfPGGNMQUGBkWQee+yxU75f//79zaRJkzzPe/Xq5XmfKitWrDCSzMGDB40xxvz2t781P/vZz7y2mTx5smnbtq3neYsWLcz111/vee52u01SUpKZM2fOKWu69dZbTe/evY3b7a51vSRzyy23eC3r1q2bGTVqlDHGmGeeecY0btzYHD582LP+H//4hwkJCTGFhYWeZSUlJSYmJsaEhYWZyMhI89xzz52yNgB2owMIoEF8+eWXOnr0qLp16+ZZ1qRJE1188cWnva/MzEyv55WVlZo+fbo6dOigJk2aKDY2Vu+884527959WvvdunWrevTo4bWsR48e2rlzpyorKz3LLrnkEs+fXS6XUlJSVFxcfMr9Dx8+XJs3b9bFF1+s2267TcuWLauxTVZWVo3nVR3ArVu3qmPHjoqJifGqz+12e3Ug4+LitHnzZq1fv14zZszQxIkT9f7775+yPgD24iYQAI5xuVwyxngtO3bsWI3tqgcgSXr44Yf1+OOP67HHHlOHDh0UExOj8ePH6+jRow1S54k3nbhcLrnd7lO+rkuXLiooKNBbb72l9957T4MHD1Z2dnaN6/zOVkhIiC688EJJUqdOnbR161bl5ubqyiuvrNf3ARA86AACaBCtWrVSeHi48vPzPcsOHjyoHTt2eJ6fe+652rt3r+f5zp079f33359y36tXr9avfvUrXX/99erYsaMuuOACr/1Kx+/4rd7Fq02bNm20evXqGvu+6KKLFBoaeso66iI+Pl5DhgzRs88+q1deeUWvv/66Dhw44Fm/du1ar+3Xrl2rNm3aeOr7+OOPVV5e7lVfSEjIj3ZS3W63Kioq6qV+AMGJDiCABhEbG6sRI0Zo8uTJatq0qZKSknTXXXcpJOS/f+/s3bu3nnzySWVlZamyslJ/+MMf6vQVLxkZGXrttdf04YcfqnHjxpo1a5aKiorUtm1bzzYtW7ZUfn6+du3apdjYWDVp0qTGfiZNmqRLL71U06dP15AhQ7RmzRo9+eSTevrpp+vlGMyaNUupqanq3LmzQkJCtGjRIqWkpCgxMdGzzaJFi5SZmamePXtqwYIFWrdunZ577jlJUk5Oju6++24NGzZM99xzj/bt26dbb71VN9xwg5KTkyVJubm5yszMVKtWrVRRUaF//vOfeuGFFzRnzpx6+QwAghMBEECDefjhh3X48GFdc801iouL06RJk1RaWupZ/+ijj+rGG2/U5ZdfrrS0ND3++OPasGHDKff7//7f/9NXX32lvn37qlGjRho5cqQGDBjgte/bb79dw4YNU9u2bfXDDz+ooKCgxn66dOmiV199VdOmTdP06dOVmpqq++67T8OHD6+Xzx8XF6eZM2dq586dCg0N1aWXXqp//vOfXiH43nvv1csvv6zRo0crNTVVL730kifINmrUSO+8847GjRunSy+9VI0aNdKgQYM0a9Ysz+vLy8s1evRo/fvf/1Z0dLRat26tF198UUOGDKmXzwAgOLnMiRfgAAAAIKhxDSAAAIBlCIAAcIYeeOABxcbG1vro16+f0+UBwEkxAgaAM3TgwAGvO3qri46O1nnnnefjigCgbgiAAAAAlmEEDAAAYBkCIAAAgGUIgAAAAJYhAAIAAFiGAAgAAGAZAiAAAIBlCIAAAACW+f/qEuMpFH1ysQAAAABJRU5ErkJggg==' width=640.0/>\n",
       "            </div>\n",
       "        "
      ],
      "text/plain": [
       "Canvas(toolbar=Toolbar(toolitems=[('Home', 'Reset original view', 'home', 'home'), ('Back', 'Back to previous …"
      ]
     },
     "metadata": {},
     "output_type": "display_data"
    }
   ],
   "source": [
    "# Parameters:\n",
    "# - s: start index of the timeline variables\n",
    "# - improvement: rate of trajectory estimation uncertainty improvement during the task instance\n",
    "# - epsilon: approximately zero\n",
    "def SBO_nav_uncertainty(s: int, improvement: tuple[float, float]) -> PolyhedralContract:\n",
    "  spec = PolyhedralContract.from_string(\n",
    "    InputVars = [\n",
    "      f\"u{s}_entry\",      # initial trajectory uncertainty\n",
    "      f\"duration_sbo{s}\", # knob variable for SBO duration\n",
    "    ],\n",
    "    OutputVars = [\n",
    "      f\"u{s}_exit\",       # final trajectory uncertainty\n",
    "    ],\n",
    "    assumptions = [\n",
    "      # Task has a positive scheduled duration\n",
    "      f\"-duration_sbo{s} <= 0\",\n",
    "\n",
    "      # Upper-bound on the trajectory estimation uncertainty\n",
    "      f\"u{s}_entry <= 100\",\n",
    "    ],\n",
    "    guarantees = [\n",
    "      # duration*improvement(min) <= u{entry} - u{exit} <= duration*improvement(max)\n",
    "      f\" u{s}_entry - u{s}_exit - {improvement[1]}*duration_sbo{s} <= 0\",\n",
    "      f\"-u{s}_entry + u{s}_exit + {improvement[0]}*duration_sbo{s} <= 0\",\n",
    "\n",
    "      # Lower-bound on the trajectory estimation uncertainty\n",
    "      f\"-u{s}_exit <= 0\",\n",
    "    ])\n",
    "  return spec\n",
    "\n",
    "sbo1_nav_uncertainty = SBO_nav_uncertainty(s=3, improvement=(0.4, 0.6))\n",
    "print(f\"Contract sbo1_nav:\\n\\n{sbo1_nav_uncertainty}\")\n",
    "\n",
    "_ = plot_guarantees(contract=sbo1_nav_uncertainty,\n",
    "                x_var=Var(\"duration_sbo3\"),\n",
    "                y_var=Var(\"u3_exit\"),\n",
    "                var_values={\n",
    "                  Var(\"u3_entry\"):50,\n",
    "                },\n",
    "                x_lims=(0,100),\n",
    "                y_lims=(0,100))"
   ]
  },
  {
   "cell_type": "code",
   "execution_count": 19,
   "metadata": {},
   "outputs": [
    {
     "name": "stdout",
     "output_type": "stream",
     "text": [
      "sbo_nav_progress:\n",
      "InVars: [r3_entry]\n",
      "OutVars:[r3_exit]\n",
      "A: [\n",
      "]\n",
      "G: [\n",
      "  -r3_entry + r3_exit = 0.0\n",
      "]\n"
     ]
    }
   ],
   "source": [
    "sbo1_nav_progress = nochangeContract(s=3, name=\"r\")\n",
    "print(f\"sbo_nav_progress:\\n{sbo1_nav_progress}\")"
   ]
  },
  {
   "cell_type": "code",
   "execution_count": 20,
   "metadata": {},
   "outputs": [
    {
     "name": "stdout",
     "output_type": "stream",
     "text": [
      "sbo1_nav:\n",
      "InVars: [u3_entry, duration_sbo3, r3_entry]\n",
      "OutVars:[u3_exit, r3_exit]\n",
      "A: [\n",
      "  -duration_sbo3 <= 0.0\n",
      "  u3_entry <= 100.0\n",
      "]\n",
      "G: [\n",
      "  -0.6 duration_sbo3 + u3_entry - u3_exit <= 0.0\n",
      "  0.4 duration_sbo3 - u3_entry + u3_exit <= 0.0\n",
      "  -u3_exit <= 0.0\n",
      "  -r3_entry + r3_exit = 0.0\n",
      "]\n"
     ]
    }
   ],
   "source": [
    "sbo1_nav = sbo1_nav_uncertainty.merge(sbo1_nav_progress)\n",
    "print(f\"sbo1_nav:\\n{sbo1_nav}\")"
   ]
  }
 ],
 "metadata": {
  "kernelspec": {
   "display_name": ".venv",
   "language": "python",
   "name": "python3"
  },
  "language_info": {
   "codemirror_mode": {
    "name": "ipython",
    "version": 3
   },
   "file_extension": ".py",
   "mimetype": "text/x-python",
   "name": "python",
   "nbconvert_exporter": "python",
   "pygments_lexer": "ipython3",
   "version": "3.9.16"
  },
  "orig_nbformat": 4,
  "vscode": {
   "interpreter": {
    "hash": "ce03960f10b489fec96a3dcc1c1ea5720541297ff0f91bb8136b413ca54ddaad"
   }
  }
 },
 "nbformat": 4,
 "nbformat_minor": 2
}
