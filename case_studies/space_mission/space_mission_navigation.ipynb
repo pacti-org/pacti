{
 "cells": [
  {
   "cell_type": "code",
   "execution_count": 1,
   "metadata": {},
   "outputs": [],
   "source": [
    "%matplotlib widget\n",
    "\n",
    "#from IPython import display\n",
    "from base64 import b64decode\n",
    "from pacti.terms.polyhedra import *\n",
    "from pacti.iocontract import IoContract, Var\n",
    "from PIL import Image\n",
    "import matplotlib.pyplot as plt\n",
    "import os\n",
    "import numpy as np\n",
    "from matplotlib import patches\n",
    "import pdb\n",
    "from matplotlib.collections import PatchCollection\n",
    "from contract_utils import *\n",
    "\n",
    "varPrefixes=[\"t\", \"soc\", \"d\", \"c\", \"u\", \"r\", \"temp\"]\n",
    "epsilon = 1e-3"
   ]
  },
  {
   "attachments": {},
   "cell_type": "markdown",
   "metadata": {},
   "source": [
    "## Navigation viewpoint modeling\n",
    "\n",
    "### CHARGING Task\n",
    "\n",
    "Objective: charge the spacecraft battery\n",
    "\n",
    "As summarized in [the qualitative impacts table](#qualitative-impacts), this function affects this viewpoint with a fixed impact:\n",
    "- the spacecraft's attitude change to the Sun injects a small disturbance that increases the trajectory estimation uncertainty.\n"
   ]
  },
  {
   "cell_type": "code",
   "execution_count": 2,
   "metadata": {},
   "outputs": [
    {
     "name": "stdout",
     "output_type": "stream",
     "text": [
      "Contract charging1_nav:\n",
      "\n",
      "InVars: [u2_entry, r2_entry]\n",
      "OutVars:[u2_exit, r2_exit]\n",
      "A: [\n",
      "  -u2_entry <= 0.0\n",
      "  u2_entry <= 100.0\n",
      "  -r2_entry <= 0.0\n",
      "  r2_entry <= 100.0\n",
      "]\n",
      "G: [\n",
      "  u2_exit <= 100.0\n",
      "  -u2_entry + u2_exit <= 2.0\n",
      "  u2_entry - u2_exit <= -1.0\n",
      "  -r2_entry + r2_exit = 0.0\n",
      "]\n"
     ]
    }
   ],
   "source": [
    "# Parameters:\n",
    "# - s: start index of the timeline variables\n",
    "# - disturbance: (min, max) rate of navigation trajectory disturbance\n",
    "#                due to the change in spacecraft attitude for pointing to the Sun.\n",
    "# - epsilon: approximately zero\n",
    "def CHARGING_nav(s: int, disturbance: tuple[float, float]) -> PolyhedralContract:\n",
    "  spec = PolyhedralContract.from_string(\n",
    "    InputVars = [\n",
    "      f\"u{s}_entry\",    # initial trajectory estimation uncertainty\n",
    "      f\"r{s}_entry\",    # initial relative trajectory distance\n",
    "    ],\n",
    "    OutputVars = [\n",
    "      f\"u{s}_exit\",     # final trajectory estimation uncertainty\n",
    "      f\"r{s}_exit\",     # final relative trajectory distance\n",
    "    ],\n",
    "    assumptions = [\n",
    "      # 0 <= u{s}_entry <= 100\n",
    "      f\"-u{s}_entry <= 0\",\n",
    "      f\" u{s}_entry <= 100\",\n",
    "\n",
    "      # 0 <= r{s}_entry <= 100\n",
    "      f\"-r{s}_entry <= 0\",\n",
    "      f\" r{s}_entry <= 100\",\n",
    "    ],\n",
    "    guarantees = [\n",
    "      # upper bound u{s}_exit <= 100\n",
    "      f\"u{s}_exit <= 100\",\n",
    "      \n",
    "      # disturbance(min) <= u{exit} - u{entry} <= disturbance(max)\n",
    "      f\" u{s}_exit - u{s}_entry <=  {disturbance[1]}\",\n",
    "      f\"-u{s}_exit + u{s}_entry <= -{disturbance[0]}\",\n",
    "\n",
    "      # no change to relative trajectory distance\n",
    "      f\"r{s}_exit - r{s}_entry = 0\",\n",
    "    ])\n",
    "  return spec\n",
    "\n",
    "charging1_nav = CHARGING_nav(s=2, disturbance=(1.0, 2.0))\n",
    "print(f\"Contract charging1_nav:\\n\\n{charging1_nav}\")"
   ]
  },
  {
   "attachments": {},
   "cell_type": "markdown",
   "metadata": {},
   "source": [
    "### DSN Task\n",
    "\n",
    "Objective: downlink science data to Earth.\n",
    "\n",
    "As summarized in [the qualitative impacts table](#qualitative-impacts), this function affects this viewpoint with a fixed impact:\n",
    "- the spacecraft's attitude change to Earth injects a small disturbance that increases the trajectory estimation uncertainty."
   ]
  },
  {
   "cell_type": "code",
   "execution_count": 3,
   "metadata": {},
   "outputs": [
    {
     "name": "stdout",
     "output_type": "stream",
     "text": [
      "Contract dsn1_nav:\n",
      "\n",
      "InVars: [u1_entry, r1_entry]\n",
      "OutVars:[u1_exit, r1_exit]\n",
      "A: [\n",
      "  -u1_entry <= 0.0\n",
      "  u1_entry <= 100.0\n",
      "  -r1_entry <= 0.0\n",
      "  r1_entry <= 100.0\n",
      "]\n",
      "G: [\n",
      "  u1_exit <= 100.0\n",
      "  -u1_entry + u1_exit <= 2.0\n",
      "  u1_entry - u1_exit <= -1.0\n",
      "  -r1_entry + r1_exit = 0.0\n",
      "]\n"
     ]
    }
   ],
   "source": [
    "# Parameters:\n",
    "# - s: start index of the timeline variables\n",
    "# - disturbance: (min, max) rate of navigation trajectory disturbance\n",
    "#                due to the change in spacecraft attitude for pointing to Earth.\n",
    "# - epsilon: approximately zero\n",
    "def DSN_nav(s: int, disturbance: tuple[float, float]) -> PolyhedralContract:\n",
    "  spec = PolyhedralContract.from_string(\n",
    "    InputVars = [\n",
    "      f\"u{s}_entry\",    # initial trajectory estimation uncertainty\n",
    "      f\"r{s}_entry\",    # initial relative trajectory distance\n",
    "    ],\n",
    "    OutputVars = [\n",
    "      f\"u{s}_exit\",     # final trajectory estimation uncertainty\n",
    "      f\"r{s}_exit\",     # final relative trajectory distance\n",
    "    ],\n",
    "    assumptions = [\n",
    "      # 0 <= u{s}_entry <= 100\n",
    "      f\"-u{s}_entry <= 0\",\n",
    "      f\" u{s}_entry <= 100\",\n",
    "\n",
    "      # 0 <= r{s}_entry <= 100\n",
    "      f\"-r{s}_entry <= 0\",\n",
    "      f\" r{s}_entry <= 100\",\n",
    "    ],\n",
    "    guarantees = [\n",
    "      # upper bound u{s}_exit <= 100\n",
    "      f\"u{s}_exit <= 100\",\n",
    "      \n",
    "      # disturbance(min) <= u{exit} - u{entry} <= disturbance(max)\n",
    "      f\" u{s}_exit - u{s}_entry <=  {disturbance[1]}\",\n",
    "      f\"-u{s}_exit + u{s}_entry <= -{disturbance[0]}\",\n",
    "\n",
    "      # no change to relative trajectory distance\n",
    "      f\"r{s}_exit - r{s}_entry = 0\",\n",
    "    ])\n",
    "  return spec\n",
    "\n",
    "dsn1_nav = DSN_nav(s=1, disturbance=(1.0, 2.0))\n",
    "print(f\"Contract dsn1_nav:\\n\\n{dsn1_nav}\")"
   ]
  },
  {
   "attachments": {},
   "cell_type": "markdown",
   "metadata": {},
   "source": [
    "### SBO Task\n",
    "\n",
    "Objective: Acquire small body observations (science data & navigation)\n",
    "\n",
    "As summarized in [the qualitative impacts table](#qualitative-impacts), this function affects this viewpoint with impacts that are linear with the duration of the task:\n",
    "- the trajectory estimation error decreases proportionally to an improvement rate.\n",
    "\n",
    "Note that this task has no impact on the relative trajectory progress."
   ]
  },
  {
   "cell_type": "code",
   "execution_count": 4,
   "metadata": {},
   "outputs": [
    {
     "name": "stdout",
     "output_type": "stream",
     "text": [
      "Contract sbo1_nav:\n",
      "\n",
      "InVars: [u3_entry, duration_sbo3]\n",
      "OutVars:[u3_exit]\n",
      "A: [\n",
      "  -duration_sbo3 <= 0.0\n",
      "  u3_entry <= 100.0\n",
      "]\n",
      "G: [\n",
      "  -0.6 duration_sbo3 + u3_entry - u3_exit <= 0.0\n",
      "  0.4 duration_sbo3 - u3_entry + u3_exit <= 0.0\n",
      "  -u3_exit <= 0.0\n",
      "]\n"
     ]
    },
    {
     "data": {
      "application/vnd.jupyter.widget-view+json": {
       "model_id": "7ad01225dc9248b6b1ea0e62b489e390",
       "version_major": 2,
       "version_minor": 0
      },
      "image/png": "[encoded data removed]",
      "text/html": [
       "\n",
       "            <div style=\"display: inline-block;\">\n",
       "                <div class=\"jupyter-widgets widget-label\" style=\"text-align: center;\">\n",
       "                    Figure\n",
       "                </div>\n",
       "                <img src='data:image/png;base64,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' width=640.0/>\n",
       "            </div>\n",
       "        "
      ],
      "text/plain": [
       "Canvas(toolbar=Toolbar(toolitems=[('Home', 'Reset original view', 'home', 'home'), ('Back', 'Back to previous …"
      ]
     },
     "metadata": {},
     "output_type": "display_data"
    }
   ],
   "source": [
    "# Parameters:\n",
    "# - s: start index of the timeline variables\n",
    "# - improvement: rate of trajectory estimation uncertainty improvement during the task instance\n",
    "# - epsilon: approximately zero\n",
    "def SBO_nav_uncertainty(s: int, improvement: tuple[float, float]) -> PolyhedralContract:\n",
    "  spec = PolyhedralContract.from_string(\n",
    "    InputVars = [\n",
    "      f\"u{s}_entry\",      # initial trajectory uncertainty\n",
    "      f\"duration_sbo{s}\", # knob variable for SBO duration\n",
    "    ],\n",
    "    OutputVars = [\n",
    "      f\"u{s}_exit\",       # final trajectory uncertainty\n",
    "    ],\n",
    "    assumptions = [\n",
    "      # Task has a positive scheduled duration\n",
    "      f\"-duration_sbo{s} <= 0\",\n",
    "\n",
    "      # Upper-bound on the trajectory estimation uncertainty\n",
    "      f\"u{s}_entry <= 100\",\n",
    "    ],\n",
    "    guarantees = [\n",
    "      # upper bound u{s}_exit <= 100\n",
    "      f\"u{s}_exit <= 100\",\n",
    "      \n",
    "      # duration*improvement(min) <= u{entry} - u{exit} <= duration*improvement(max)\n",
    "      f\" u{s}_entry - u{s}_exit - {improvement[1]}*duration_sbo{s} <= 0\",\n",
    "      f\"-u{s}_entry + u{s}_exit + {improvement[0]}*duration_sbo{s} <= 0\",\n",
    "\n",
    "      # Lower-bound on the trajectory estimation uncertainty\n",
    "      f\"-u{s}_exit <= 0\",\n",
    "    ])\n",
    "  return spec\n",
    "\n",
    "sbo1_nav_uncertainty = SBO_nav_uncertainty(s=3, improvement=(0.4, 0.6))\n",
    "print(f\"Contract sbo1_nav:\\n\\n{sbo1_nav_uncertainty}\")\n",
    "\n",
    "_ = plot_guarantees(contract=sbo1_nav_uncertainty,\n",
    "                x_var=Var(\"duration_sbo3\"),\n",
    "                y_var=Var(\"u3_exit\"),\n",
    "                var_values={\n",
    "                  Var(\"u3_entry\"):50,\n",
    "                },\n",
    "                x_lims=(0,100),\n",
    "                y_lims=(0,100))"
   ]
  },
  {
   "cell_type": "code",
   "execution_count": 5,
   "metadata": {},
   "outputs": [
    {
     "name": "stdout",
     "output_type": "stream",
     "text": [
      "sbo_nav_progress:\n",
      "InVars: [r3_entry]\n",
      "OutVars:[r3_exit]\n",
      "A: [\n",
      "]\n",
      "G: [\n",
      "  -r3_entry + r3_exit = 0.0\n",
      "]\n"
     ]
    }
   ],
   "source": [
    "sbo1_nav_progress = nochangeContract(s=3, name=\"r\")\n",
    "print(f\"sbo_nav_progress:\\n{sbo1_nav_progress}\")"
   ]
  },
  {
   "cell_type": "code",
   "execution_count": 6,
   "metadata": {},
   "outputs": [
    {
     "name": "stdout",
     "output_type": "stream",
     "text": [
      "sbo1_nav:\n",
      "InVars: [u3_entry, duration_sbo3, r3_entry]\n",
      "OutVars:[u3_exit, r3_exit]\n",
      "A: [\n",
      "  -duration_sbo3 <= 0.0\n",
      "  u3_entry <= 100.0\n",
      "]\n",
      "G: [\n",
      "  -0.6 duration_sbo3 + u3_entry - u3_exit <= 0.0\n",
      "  0.4 duration_sbo3 - u3_entry + u3_exit <= 0.0\n",
      "  -u3_exit <= 0.0\n",
      "  -r3_entry + r3_exit = 0.0\n",
      "]\n"
     ]
    }
   ],
   "source": [
    "sbo1_nav = sbo1_nav_uncertainty.merge(sbo1_nav_progress)\n",
    "print(f\"sbo1_nav:\\n{sbo1_nav}\")"
   ]
  },
  {
   "attachments": {},
   "cell_type": "markdown",
   "metadata": {},
   "source": [
    "#### TCM Task (Perform a Trajectory Correction Maneuver)\n",
    "\n",
    "Objective: Perform a delta-V maneuver to bring the spacecraft trajectory closer to that of the small body.\n",
    "\n",
    "As described in [the qualitative impacts table](#qualitative-impacts), this function affects three viewpoints, each with impacts that are linear with the duration of the task:\n",
    "- The navigation trajectory improves by a delta during the delta-V subtask.\n",
    "\n",
    "Note: the heating subtask has no impact on navigation.\n",
    "\n",
    "##### TCM Heating SubTask\n",
    "\n",
    "Since TCM Heating has no impact on navigation, we use the no-change contract utility to specify this property for the two navigation viewpoint state variables: `u` and `r`."
   ]
  },
  {
   "cell_type": "code",
   "execution_count": 7,
   "metadata": {},
   "outputs": [
    {
     "name": "stdout",
     "output_type": "stream",
     "text": [
      "sbo_nav_progress:\n",
      "InVars: [u4_entry, r4_entry]\n",
      "OutVars:[u4_exit, r4_exit]\n",
      "A: [\n",
      "]\n",
      "G: [\n",
      "  -u4_entry + u4_exit = 0.0\n",
      "  -r4_entry + r4_exit = 0.0\n",
      "]\n"
     ]
    }
   ],
   "source": [
    "tcm1_nav_heating = nochangeContract(s=4, name=\"u\").merge(nochangeContract(s=4, name=\"r\"))\n",
    "print(f\"sbo_nav_progress:\\n{tcm1_nav_heating}\")"
   ]
  },
  {
   "attachments": {},
   "cell_type": "markdown",
   "metadata": {},
   "source": [
    "##### TCM DeltaV SubTask"
   ]
  },
  {
   "cell_type": "code",
   "execution_count": 8,
   "metadata": {},
   "outputs": [
    {
     "name": "stdout",
     "output_type": "stream",
     "text": [
      "Contract tcm1_nav_deltav_uncertainty:\n",
      "\n",
      "InVars: [u5_entry, duration_tcm_deltav5]\n",
      "OutVars:[u5_exit]\n",
      "A: [\n",
      "  u5_entry <= 100.0\n",
      "]\n",
      "G: [\n",
      "  -0.6 duration_tcm_deltav5 + u5_entry - u5_exit <= 0.0\n",
      "  0.5 duration_tcm_deltav5 - u5_entry + u5_exit <= 0.0\n",
      "  -u5_exit <= 0.0\n",
      "]\n"
     ]
    },
    {
     "data": {
      "application/vnd.jupyter.widget-view+json": {
       "model_id": "6551fa103e314262a46a45722b070a19",
       "version_major": 2,
       "version_minor": 0
      },
      "image/png": "[encoded data removed]",
      "text/html": [
       "\n",
       "            <div style=\"display: inline-block;\">\n",
       "                <div class=\"jupyter-widgets widget-label\" style=\"text-align: center;\">\n",
       "                    Figure\n",
       "                </div>\n",
       "                <img src='data:image/png;base64,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' width=640.0/>\n",
       "            </div>\n",
       "        "
      ],
      "text/plain": [
       "Canvas(toolbar=Toolbar(toolitems=[('Home', 'Reset original view', 'home', 'home'), ('Back', 'Back to previous …"
      ]
     },
     "metadata": {},
     "output_type": "display_data"
    }
   ],
   "source": [
    "def TCM_navigation_deltav_uncertainty(s: int, improvement: tuple[float, float]) -> PolyhedralContract:\n",
    "  spec = PolyhedralContract.from_string(\n",
    "    InputVars = [\n",
    "      f\"u{s}_entry\",              # initial trajectory estimation uncertainty\n",
    "      f\"duration_tcm_deltav{s}\",  # knob variable for TCM deltav duration\n",
    "    ],\n",
    "    OutputVars = [\n",
    "      f\"u{s}_exit\",               # final trajectory estimation uncertainty\n",
    "    ],\n",
    "    assumptions = [\n",
    "      # upper bound on trajectory estimation uncertainty\n",
    "      f\"u{s}_entry <= 100\",\n",
    "    ],\n",
    "    guarantees = [\n",
    "      # upper bound u{s}_exit <= 100\n",
    "      f\"u{s}_exit <= 100\",\n",
    "      \n",
    "      # duration*improvement(min) <= u{entry} - u{exit} <= duration*improvement(max)\n",
    "      f\" u{s}_entry - u{s}_exit - {improvement[1]}*duration_tcm_deltav{s} <= 0\",\n",
    "      f\"-u{s}_entry + u{s}_exit + {improvement[0]}*duration_tcm_deltav{s} <= 0\",\n",
    "\n",
    "      # lower bound on trajectory estimation uncertainty\n",
    "      f\"-u{s}_exit <= 0\",\n",
    "    ])\n",
    "  return spec\n",
    "\n",
    "tcm1_nav_deltav_uncertainty = TCM_navigation_deltav_uncertainty(s=5, improvement=(0.5, 0.6))\n",
    "print(f\"Contract tcm1_nav_deltav_uncertainty:\\n\\n{tcm1_nav_deltav_uncertainty}\")\n",
    "\n",
    "_ = plot_guarantees(contract=tcm1_nav_deltav_uncertainty,\n",
    "                x_var=Var(\"duration_tcm_deltav5\"),\n",
    "                y_var=Var(\"u5_exit\"),\n",
    "                var_values={\n",
    "                  Var(\"u5_entry\"):20,\n",
    "                },\n",
    "                x_lims=(0,100),\n",
    "                y_lims=(0,20))"
   ]
  },
  {
   "cell_type": "code",
   "execution_count": 9,
   "metadata": {},
   "outputs": [
    {
     "name": "stdout",
     "output_type": "stream",
     "text": [
      "Contract tcm1_navigation_deltav_progress:\n",
      "\n",
      "InVars: [r5_entry, duration_tcm_deltav5]\n",
      "OutVars:[r5_exit]\n",
      "A: [\n",
      "  r5_entry <= 100.0\n",
      "]\n",
      "G: [\n",
      "  -0.5 duration_tcm_deltav5 + r5_entry - r5_exit <= 0.0\n",
      "  0.4 duration_tcm_deltav5 - r5_entry + r5_exit <= 0.0\n",
      "  -r5_exit <= 0.0\n",
      "]\n"
     ]
    },
    {
     "data": {
      "application/vnd.jupyter.widget-view+json": {
       "model_id": "87c75849478c4116b7fc34ba08dfac1a",
       "version_major": 2,
       "version_minor": 0
      },
      "image/png": "[encoded data removed]",
      "text/html": [
       "\n",
       "            <div style=\"display: inline-block;\">\n",
       "                <div class=\"jupyter-widgets widget-label\" style=\"text-align: center;\">\n",
       "                    Figure\n",
       "                </div>\n",
       "                <img src='data:image/png;base64,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' width=640.0/>\n",
       "            </div>\n",
       "        "
      ],
      "text/plain": [
       "Canvas(toolbar=Toolbar(toolitems=[('Home', 'Reset original view', 'home', 'home'), ('Back', 'Back to previous …"
      ]
     },
     "metadata": {},
     "output_type": "display_data"
    }
   ],
   "source": [
    "def TCM_navigation_deltav_progress(s: int, progress: tuple[float, float]) -> PolyhedralContract:\n",
    "  spec = PolyhedralContract.from_string(\n",
    "    InputVars = [\n",
    "      f\"r{s}_entry\",              # initial trajectory relative distance\n",
    "      f\"duration_tcm_deltav{s}\",  # knob variable for TCM deltav duration\n",
    "    ],\n",
    "    OutputVars = [\n",
    "      f\"r{s}_exit\",               # final trajectory relative distance\n",
    "    ],\n",
    "    assumptions = [\n",
    "      # upper bound on trajectory relative distance\n",
    "      f\"r{s}_entry <= 100\",\n",
    "    ],\n",
    "    guarantees = [\n",
    "      # duration*improvement(min) <= r{entry} - r{exit} <= duration*improvement(max)\n",
    "      f\" r{s}_entry - r{s}_exit - {progress[1]}*duration_tcm_deltav{s} <= 0\",\n",
    "      f\"-r{s}_entry + r{s}_exit + {progress[0]}*duration_tcm_deltav{s} <= 0\",\n",
    "\n",
    "      # lower bound on trajectory relative distance\n",
    "      f\"-r{s}_exit <= 0\",\n",
    "    ])\n",
    "  return spec\n",
    "\n",
    "tcm1_nav_deltav_progress = TCM_navigation_deltav_progress(s=5, progress=(0.4, 0.5))\n",
    "print(f\"Contract tcm1_navigation_deltav_progress:\\n\\n{tcm1_nav_deltav_progress}\")\n",
    "\n",
    "_ = plot_guarantees(contract=tcm1_nav_deltav_progress,\n",
    "                x_var=Var(\"duration_tcm_deltav5\"),\n",
    "                y_var=Var(\"r5_exit\"),\n",
    "                var_values={\n",
    "                  Var(\"r5_entry\"):100,\n",
    "                },\n",
    "                x_lims=(0,100),\n",
    "                y_lims=(0,100))"
   ]
  },
  {
   "cell_type": "code",
   "execution_count": 10,
   "metadata": {},
   "outputs": [
    {
     "name": "stdout",
     "output_type": "stream",
     "text": [
      "Contract tcm1_nav_deltav:\n",
      "\n",
      "InVars: [u5_entry, duration_tcm_deltav5, r5_entry]\n",
      "OutVars:[u5_exit, r5_exit]\n",
      "A: [\n",
      "  u5_entry <= 100.0\n",
      "  r5_entry <= 100.0\n",
      "]\n",
      "G: [\n",
      "  -0.6 duration_tcm_deltav5 + u5_entry - u5_exit <= 0.0\n",
      "  0.5 duration_tcm_deltav5 - u5_entry + u5_exit <= 0.0\n",
      "  -u5_exit <= 0.0\n",
      "  -0.5 duration_tcm_deltav5 + r5_entry - r5_exit <= 0.0\n",
      "  0.4 duration_tcm_deltav5 - r5_entry + r5_exit <= 0.0\n",
      "  -r5_exit <= 0.0\n",
      "]\n"
     ]
    }
   ],
   "source": [
    "tcm1_nav_deltav = tcm1_nav_deltav_uncertainty.merge(tcm1_nav_deltav_progress)\n",
    "print(f\"Contract tcm1_nav_deltav:\\n\\n{tcm1_nav_deltav}\")"
   ]
  },
  {
   "cell_type": "code",
   "execution_count": 11,
   "metadata": {},
   "outputs": [
    {
     "name": "stdout",
     "output_type": "stream",
     "text": [
      "Contract tcm1_nav:\n",
      "\n",
      "InVars: [u4_entry, r4_entry, u5_entry, duration_tcm_deltav5, r5_entry]\n",
      "OutVars:[u4_exit, r4_exit, u5_exit, r5_exit]\n",
      "A: [\n",
      "  u5_entry <= 100.0\n",
      "  r5_entry <= 100.0\n",
      "]\n",
      "G: [\n",
      "  -u4_entry + u4_exit = 0.0\n",
      "  -r4_entry + r4_exit = 0.0\n",
      "  -0.6 duration_tcm_deltav5 + u5_entry - u5_exit <= 0.0\n",
      "  0.5 duration_tcm_deltav5 - u5_entry + u5_exit <= 0.0\n",
      "  -u5_exit <= 0.0\n",
      "  -0.5 duration_tcm_deltav5 + r5_entry - r5_exit <= 0.0\n",
      "  0.4 duration_tcm_deltav5 - r5_entry + r5_exit <= 0.0\n",
      "  -r5_exit <= 0.0\n",
      "]\n"
     ]
    }
   ],
   "source": [
    "tcm1_nav = tcm1_nav_heating.merge(tcm1_nav_deltav)\n",
    "print(f\"Contract tcm1_nav:\\n\\n{tcm1_nav}\")"
   ]
  },
  {
   "attachments": {},
   "cell_type": "markdown",
   "metadata": {},
   "source": [
    "### Navigation Schedule Analysis\n",
    "\n",
    "Let's consider a simple 4-step schedule of the following sequence of task instances, which we compose:\n",
    "- DSN\n",
    "- CHARGING\n",
    "- SBO\n",
    "- TCM"
   ]
  },
  {
   "cell_type": "code",
   "execution_count": 12,
   "metadata": {},
   "outputs": [
    {
     "name": "stdout",
     "output_type": "stream",
     "text": [
      "---- Steps 1,2\n",
      "InVars: [u1_entry, r1_entry]\n",
      "OutVars:[u2_exit, r2_exit, output_u1, output_r1]\n",
      "A: [\n",
      "  -u1_entry <= 0.0\n",
      "  u1_entry <= 100.0\n",
      "  -r1_entry <= 0.0\n",
      "  r1_entry <= 100.0\n",
      "]\n",
      "G: [\n",
      "  output_u1 - u1_entry <= 2.0\n",
      "  -output_u1 + u1_entry <= -1.0\n",
      "  output_r1 - r1_entry = 0.0\n",
      "  u2_exit <= 100.0\n",
      "  -output_u1 + u2_exit <= 2.0\n",
      "  output_u1 - u2_exit <= -1.0\n",
      "  -output_r1 + r2_exit = 0.0\n",
      "]\n",
      "(1.0, 99.0)\n",
      "(0.0, 100.0)\n"
     ]
    }
   ],
   "source": [
    "steps12=scenario_sequence(dsn1_nav, charging1_nav, variables=[\"u\", \"r\"], index=1)\n",
    "print(f\"---- Steps 1,2\\n{steps12}\")\n",
    "print(steps12.get_variable_bounds(\"output_u1\"))\n",
    "print(steps12.get_variable_bounds(\"output_r1\"))"
   ]
  },
  {
   "cell_type": "code",
   "execution_count": 13,
   "metadata": {},
   "outputs": [
    {
     "name": "stdout",
     "output_type": "stream",
     "text": [
      "---- Steps 1,2,3\n",
      "InVars: [u1_entry, r1_entry, duration_sbo3]\n",
      "OutVars:[output_u1, output_r1, u3_exit, r3_exit, output_u2, output_r2]\n",
      "A: [\n",
      "  -duration_sbo3 <= 0.0\n",
      "  -u1_entry <= 0.0\n",
      "  u1_entry <= 100.0\n",
      "  -r1_entry <= 0.0\n",
      "  r1_entry <= 100.0\n",
      "]\n",
      "G: [\n",
      "  output_u1 - u1_entry <= 2.0\n",
      "  -output_u1 + u1_entry <= -1.0\n",
      "  output_r1 - r1_entry = 0.0\n",
      "  output_u2 <= 100.0\n",
      "  -output_u1 + output_u2 <= 2.0\n",
      "  output_u1 - output_u2 <= -1.0\n",
      "  -output_r1 + output_r2 = 0.0\n",
      "  -0.6 duration_sbo3 + output_u2 - u3_exit <= 0.0\n",
      "  0.4 duration_sbo3 - output_u2 + u3_exit <= 0.0\n",
      "  -u3_exit <= 0.0\n",
      "  -output_r2 + r3_exit = 0.0\n",
      "]\n",
      "(2.0, 100.0)\n",
      "(0.0, 100.0)\n"
     ]
    }
   ],
   "source": [
    "steps123=scenario_sequence(steps12, sbo1_nav, variables=[\"u\", \"r\"], index=2)\n",
    "print(f\"---- Steps 1,2,3\\n{steps123}\")\n",
    "print(steps123.get_variable_bounds(\"output_u2\"))\n",
    "print(steps123.get_variable_bounds(\"output_r2\"))"
   ]
  },
  {
   "cell_type": "code",
   "execution_count": 15,
   "metadata": {},
   "outputs": [
    {
     "name": "stdout",
     "output_type": "stream",
     "text": [
      "---- Steps 1,2,3,4\n",
      "InVars: [u1_entry, r1_entry, duration_sbo3, u5_entry, duration_tcm_deltav5, r5_entry]\n",
      "OutVars:[output_u1, output_r1, output_u2, output_r2, u4_exit, r4_exit, u5_exit, r5_exit, output_u3, output_r3]\n",
      "A: [\n",
      "  u5_entry <= 100.0\n",
      "  r5_entry <= 100.0\n",
      "  -duration_sbo3 <= 0.0\n",
      "  -u1_entry <= 0.0\n",
      "  u1_entry <= 100.0\n",
      "  -r1_entry <= 0.0\n",
      "  r1_entry <= 100.0\n",
      "]\n",
      "G: [\n",
      "  output_u1 - u1_entry <= 2.0\n",
      "  -output_u1 + u1_entry <= -1.0\n",
      "  output_r1 - r1_entry = 0.0\n",
      "  output_u2 <= 100.0\n",
      "  -output_u1 + output_u2 <= 2.0\n",
      "  output_u1 - output_u2 <= -1.0\n",
      "  -output_r1 + output_r2 = 0.0\n",
      "  -0.6 duration_sbo3 + output_u2 - output_u3 <= 0.0\n",
      "  0.4 duration_sbo3 - output_u2 + output_u3 <= 0.0\n",
      "  -output_u3 <= 0.0\n",
      "  -output_r2 + output_r3 = 0.0\n",
      "  -output_u3 + u4_exit = 0.0\n",
      "  -output_r3 + r4_exit = 0.0\n",
      "  -0.6 duration_tcm_deltav5 + u5_entry - u5_exit <= 0.0\n",
      "  0.5 duration_tcm_deltav5 - u5_entry + u5_exit <= 0.0\n",
      "  -u5_exit <= 0.0\n",
      "  -0.5 duration_tcm_deltav5 + r5_entry - r5_exit <= 0.0\n",
      "  0.4 duration_tcm_deltav5 - r5_entry + r5_exit <= 0.0\n",
      "  -r5_exit <= 0.0\n",
      "]\n",
      "(0.0, 100.0)\n",
      "(0.0, 100.0)\n",
      "(0.0, 200.0)\n"
     ]
    }
   ],
   "source": [
    "steps1234=scenario_sequence(steps123, tcm1_nav, variables=[\"u\", \"r\"], index=3)\n",
    "print(f\"---- Steps 1,2,3,4\\n{steps1234}\")\n",
    "print(steps1234.get_variable_bounds(\"output_u3\"))\n",
    "print(steps1234.get_variable_bounds(\"output_r3\"))\n",
    "print(steps1234.get_variable_bounds(\"duration_tcm_deltav5\"))"
   ]
  },
  {
   "cell_type": "code",
   "execution_count": 16,
   "metadata": {},
   "outputs": [
    {
     "name": "stdout",
     "output_type": "stream",
     "text": [
      "scenario_nav=InVars: [u1_entry, r1_entry, duration_sbo3, u5_entry, duration_tcm_deltav5, r5_entry]\n",
      "OutVars:[output_u1, output_r1, output_u2, output_r2, output_u3, output_r3, output_u4, output_r4, output_u5, output_r5]\n",
      "A: [\n",
      "  u5_entry <= 100.0\n",
      "  r5_entry <= 100.0\n",
      "  -duration_sbo3 <= 0.0\n",
      "  -u1_entry <= 0.0\n",
      "  u1_entry <= 100.0\n",
      "  -r1_entry <= 0.0\n",
      "  r1_entry <= 100.0\n",
      "]\n",
      "G: [\n",
      "  output_u1 - u1_entry <= 2.0\n",
      "  -output_u1 + u1_entry <= -1.0\n",
      "  output_r1 - r1_entry = 0.0\n",
      "  output_u2 <= 100.0\n",
      "  -output_u1 + output_u2 <= 2.0\n",
      "  output_u1 - output_u2 <= -1.0\n",
      "  -output_r1 + output_r2 = 0.0\n",
      "  -0.6 duration_sbo3 + output_u2 - output_u3 <= 0.0\n",
      "  0.4 duration_sbo3 - output_u2 + output_u3 <= 0.0\n",
      "  -output_u3 <= 0.0\n",
      "  -output_r2 + output_r3 = 0.0\n",
      "  -output_u3 + output_u4 = 0.0\n",
      "  -output_r3 + output_r4 = 0.0\n",
      "  -0.6 duration_tcm_deltav5 - output_u5 + u5_entry <= 0.0\n",
      "  0.5 duration_tcm_deltav5 + output_u5 - u5_entry <= 0.0\n",
      "  -output_u5 <= 0.0\n",
      "  -0.5 duration_tcm_deltav5 - output_r5 + r5_entry <= 0.0\n",
      "  0.4 duration_tcm_deltav5 + output_r5 - r5_entry <= 0.0\n",
      "  -output_r5 <= 0.0\n",
      "]\n"
     ]
    }
   ],
   "source": [
    "scenario_nav=steps1234.rename_variables([\n",
    "    (\"u4_exit\", \"output_u4\"), \n",
    "    (\"r4_exit\", \"output_r4\"),\n",
    "    (\"u5_exit\", \"output_u5\"), \n",
    "    (\"r5_exit\", \"output_r5\")])\n",
    "print(f\"scenario_nav={scenario_nav}\")"
   ]
  },
  {
   "cell_type": "code",
   "execution_count": null,
   "metadata": {},
   "outputs": [],
   "source": [
    "serializer.write_contract(contract=scenario_nav, filename=\"json/scenario_nav.json\");"
   ]
  }
 ],
 "metadata": {
  "kernelspec": {
   "display_name": ".venv",
   "language": "python",
   "name": "python3"
  },
  "language_info": {
   "codemirror_mode": {
    "name": "ipython",
    "version": 3
   },
   "file_extension": ".py",
   "mimetype": "text/x-python",
   "name": "python",
   "nbconvert_exporter": "python",
   "pygments_lexer": "ipython3",
   "version": "3.9.16"
  },
  "orig_nbformat": 4,
  "vscode": {
   "interpreter": {
    "hash": "2f5da82f444395a965dc8d9dc54c3ec495ed5151b87cb58d30f54cba2d854891"
   }
  }
 },
 "nbformat": 4,
 "nbformat_minor": 2
}
