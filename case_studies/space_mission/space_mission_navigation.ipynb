{
 "cells": [
  {
   "cell_type": "code",
   "execution_count": 2,
   "metadata": {},
   "outputs": [],
   "source": [
    "%matplotlib widget\n",
    "\n",
    "#from IPython import display\n",
    "from base64 import b64decode\n",
    "from pacti.terms.polyhedra import *\n",
    "from pacti.iocontract import IoContract, Var\n",
    "from PIL import Image\n",
    "import matplotlib.pyplot as plt\n",
    "import os\n",
    "import numpy as np\n",
    "from matplotlib import patches\n",
    "import pdb\n",
    "from matplotlib.collections import PatchCollection\n",
    "from contract_utils import *\n",
    "\n",
    "varPrefixes=[\"t\", \"soc\", \"d\", \"c\", \"u\", \"r\", \"temp\"]\n",
    "epsilon = 1e-3"
   ]
  },
  {
   "attachments": {},
   "cell_type": "markdown",
   "metadata": {},
   "source": [
    "## Navigation viewpoint modeling\n",
    "\n",
    "### CHARGING Task\n",
    "\n",
    "Objective: charge the spacecraft battery\n",
    "\n",
    "As summarized in [the qualitative impacts table](#qualitative-impacts), this function affects this viewpoint with a fixed impact:\n",
    "- the spacecraft's attitude change to the Sun injects a small disturbance that increases the trajectory estimation uncertainty.\n"
   ]
  },
  {
   "cell_type": "code",
   "execution_count": 15,
   "metadata": {},
   "outputs": [
    {
     "name": "stdout",
     "output_type": "stream",
     "text": [
      "Contract charging1_nav:\n",
      "\n",
      "InVars: [u2_entry, r2_entry]\n",
      "OutVars:[u2_exit, r2_exit]\n",
      "A: [\n",
      "  -u2_entry <= 0.0\n",
      "  u2_entry <= 100.0\n",
      "  -r2_entry <= 0.0\n",
      "  r2_entry <= 100.0\n",
      "]\n",
      "G: [\n",
      "  -u2_entry + u2_exit <= 2.0\n",
      "  u2_entry - u2_exit <= -1.0\n",
      "  -r2_entry + r2_exit = 0.0\n",
      "]\n"
     ]
    }
   ],
   "source": [
    "# Parameters:\n",
    "# - s: start index of the timeline variables\n",
    "# - disturbance: (min, max) rate of navigation trajectory disturbance\n",
    "#                due to the change in spacecraft attitude for pointing to the Sun.\n",
    "# - epsilon: approximately zero\n",
    "def CHARGING_nav(s: int, disturbance: tuple[float, float]) -> PolyhedralContract:\n",
    "  spec = PolyhedralContract.from_string(\n",
    "    InputVars = [\n",
    "      f\"u{s}_entry\",    # initial trajectory estimation uncertainty\n",
    "      f\"r{s}_entry\",    # initial relative trajectory distance\n",
    "    ],\n",
    "    OutputVars = [\n",
    "      f\"u{s}_exit\",     # final trajectory estimation uncertainty\n",
    "      f\"r{s}_exit\",     # final relative trajectory distance\n",
    "    ],\n",
    "    assumptions = [\n",
    "      # 0 <= u{s}_entry <= 100\n",
    "      f\"-u{s}_entry <= 0\",\n",
    "      f\" u{s}_entry <= 100\",\n",
    "\n",
    "      # 0 <= r{s}_entry <= 100\n",
    "      f\"-r{s}_entry <= 0\",\n",
    "      f\" r{s}_entry <= 100\",\n",
    "    ],\n",
    "    guarantees = [\n",
    "      # disturbance(min) <= u{exit} - u{entry} <= disturbance(max)\n",
    "      f\" u{s}_exit - u{s}_entry <=  {disturbance[1]}\",\n",
    "      f\"-u{s}_exit + u{s}_entry <= -{disturbance[0]}\",\n",
    "\n",
    "      # no change to relative trajectory distance\n",
    "      f\"r{s}_exit - r{s}_entry = 0\",\n",
    "    ])\n",
    "  return spec\n",
    "\n",
    "charging1_nav = CHARGING_nav(s=2, disturbance=(1.0, 2.0))\n",
    "print(f\"Contract charging1_nav:\\n\\n{charging1_nav}\")"
   ]
  },
  {
   "attachments": {},
   "cell_type": "markdown",
   "metadata": {},
   "source": [
    "### DSN Task\n",
    "\n",
    "Objective: downlink science data to Earth.\n",
    "\n",
    "As summarized in [the qualitative impacts table](#qualitative-impacts), this function affects this viewpoint with a fixed impact:\n",
    "- the spacecraft's attitude change to Earth injects a small disturbance that increases the trajectory estimation uncertainty."
   ]
  },
  {
   "cell_type": "code",
   "execution_count": 16,
   "metadata": {},
   "outputs": [
    {
     "name": "stdout",
     "output_type": "stream",
     "text": [
      "Contract dsn1_nav:\n",
      "\n",
      "InVars: [u1_entry, r1_entry]\n",
      "OutVars:[u1_exit, r1_exit]\n",
      "A: [\n",
      "  -u1_entry <= 0.0\n",
      "  u1_entry <= 100.0\n",
      "  -r1_entry <= 0.0\n",
      "  r1_entry <= 100.0\n",
      "]\n",
      "G: [\n",
      "  -u1_entry + u1_exit <= 2.0\n",
      "  u1_entry - u1_exit <= -1.0\n",
      "  -r1_entry + r1_exit = 0.0\n",
      "]\n"
     ]
    }
   ],
   "source": [
    "# Parameters:\n",
    "# - s: start index of the timeline variables\n",
    "# - disturbance: (min, max) rate of navigation trajectory disturbance\n",
    "#                due to the change in spacecraft attitude for pointing to Earth.\n",
    "# - epsilon: approximately zero\n",
    "def DSN_nav(s: int, disturbance: tuple[float, float]) -> PolyhedralContract:\n",
    "  spec = PolyhedralContract.from_string(\n",
    "    InputVars = [\n",
    "      f\"u{s}_entry\",    # initial trajectory estimation uncertainty\n",
    "      f\"r{s}_entry\",    # initial relative trajectory distance\n",
    "    ],\n",
    "    OutputVars = [\n",
    "      f\"u{s}_exit\",     # final trajectory estimation uncertainty\n",
    "      f\"r{s}_exit\",     # final relative trajectory distance\n",
    "    ],\n",
    "    assumptions = [\n",
    "      # 0 <= u{s}_entry <= 100\n",
    "      f\"-u{s}_entry <= 0\",\n",
    "      f\" u{s}_entry <= 100\",\n",
    "\n",
    "      # 0 <= r{s}_entry <= 100\n",
    "      f\"-r{s}_entry <= 0\",\n",
    "      f\" r{s}_entry <= 100\",\n",
    "    ],\n",
    "    guarantees = [\n",
    "      # disturbance(min) <= u{exit} - u{entry} <= disturbance(max)\n",
    "      f\" u{s}_exit - u{s}_entry <=  {disturbance[1]}\",\n",
    "      f\"-u{s}_exit + u{s}_entry <= -{disturbance[0]}\",\n",
    "\n",
    "      # no change to relative trajectory distance\n",
    "      f\"r{s}_exit - r{s}_entry = 0\",\n",
    "    ])\n",
    "  return spec\n",
    "\n",
    "dsn1_nav = DSN_nav(s=1, disturbance=(1.0, 2.0))\n",
    "print(f\"Contract dsn1_nav:\\n\\n{dsn1_nav}\")"
   ]
  }
 ],
 "metadata": {
  "kernelspec": {
   "display_name": ".venv",
   "language": "python",
   "name": "python3"
  },
  "language_info": {
   "codemirror_mode": {
    "name": "ipython",
    "version": 3
   },
   "file_extension": ".py",
   "mimetype": "text/x-python",
   "name": "python",
   "nbconvert_exporter": "python",
   "pygments_lexer": "ipython3",
   "version": "3.9.16"
  },
  "orig_nbformat": 4,
  "vscode": {
   "interpreter": {
    "hash": "ce03960f10b489fec96a3dcc1c1ea5720541297ff0f91bb8136b413ca54ddaad"
   }
  }
 },
 "nbformat": 4,
 "nbformat_minor": 2
}
