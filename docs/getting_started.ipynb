{
 "cells": [
  {
   "attachments": {},
   "cell_type": "markdown",
   "metadata": {},
   "source": [
    "Pacti helps designers to reason about specifications and to manipulate them. These specifications are given to Pacti as assume-guarantee contracts, which are requirements of the form (assumptions, guarantees).\n",
    "\n",
    "For Pacti, every contract has four elements:\n",
    "- Input variables\n",
    "- Output variables\n",
    "- Assumptions: constraints whose satisfaction requires the object under specification to deliver the contract's guarantees. In Pacti, assumptions can only refer to the input variables of the contract.\n",
    "- Guarantees: constraints that the object under specification can be expected to deliver when the contract's assumptions are met. In Pacti, guarantees can only refer to the input or output variables of the contract.\n",
    "\n",
    "The *interface* of a contract is the set of its input and output variables.\n",
    "\n",
    "The algebra of contracts has been extensively researched and peer-reviewed by experts—see [Benveniste et al. 2012](#ref1), [Incer 2022](#ref2), and references therein.\n",
    "Contracts provide mathematical rigor to several tasks of relevance to system design. The algebra of contracts contains operations that generate new contracts from existing ones, i.e., the algebra is closed under these operations. We can use the algebra of contracts to address the following tasks:\n",
    "- **Building systems.** Suppose that we have specified contracts for a set of subsystems. We can define a system as the assembly of such subsystems. The operation of *composition* allows us to compute the contract of such a system from the contracts of the assembled subsystems. In other words, composition provides a mechanism for computing system contracts from subsystem contracts.\n",
    "- **Patching systems.** The operation of *quotient* allows us to compute the contract of a subsystem that needs to be composed with an existing subsystem so that the resulting system composition meets a top-level contract. In other words, the quotient finds contracts of missing subsystems from contracts for the system and a partial implementation.\n",
    "- **Validity of decompositions.** *Refinement* allows us to tell when a contract is more relaxed, or less demanding than another. When a subsystem satisfies a contract, it is guaranteed to satisfy a more relaxed contract. When a system contract is broken into an assembly of subsystem contracts, refinement allows us to tell whether this decomposition is a valid refinement of the system-level contract.\n",
    "- **Fusing viewpoints.** The operation of *merging* allows us to generate a single contract whose assumptions and guarantees require the satisfaction of the assumptions and guarantees of the merged contracts, respectively. In other words, merging fuses multiple contract viewpoints, a common operation in concurrent design.\n",
    "\n",
    "\n",
    "\n",
    "\n",
    "## Computing system specifications\n",
    "\n",
    "\n",
    "Consider the following system:\n",
    "\n",
    "<img src=\"https://raw.githubusercontent.com/FormalSystems/media/main/doc/source/static/exports/circuit_series_composition_background.svg\" alt=\"Employee data\" title=\"Employee Data title\">\n",
    "\n",
    "\n",
    "| Component | Contract | Inputs | Outputs | Assumptions | Guarantees |\n",
    "| - | - | - | - | - | - |\n",
    "| $M$ | `contract1` | `i` | `o` | `\\|i\\| <= 2` | `o <= i <= 2o + 2` |\n",
    "| $M'$ | `contract2` | `o` | `o_p` | `-1 <= o <= 1/5` | `o_p <= o` |\n",
    "\n",
    "We can use Pacti to obtain the contract of the system that assembles these two components as follows: "
   ]
  },
  {
   "cell_type": "code",
   "execution_count": 1,
   "metadata": {},
   "outputs": [
    {
     "name": "stdout",
     "output_type": "stream",
     "text": [
      "InVars: [i]\n",
      "OutVars:[o_p]\n",
      "A: [\n",
      "  i <= 0.19999999999999996\n",
      "  -0.5 i <= 0.0\n",
      "]\n",
      "G: [\n",
      "  -i + o_p <= 0.0\n",
      "]\n"
     ]
    }
   ],
   "source": [
    "from pacti.terms.polyhedra import PolyhedralContract\n",
    "\n",
    "contract1 = PolyhedralContract.from_string(\n",
    "    input_vars=[\"i\"],\n",
    "    output_vars=[\"o\"],\n",
    "    assumptions=[\"|i| <= 2\"],\n",
    "    guarantees=[\"o - i <= 0\", \"i - 2o <= 2\"]\n",
    ")\n",
    "\n",
    "contract2 = PolyhedralContract.from_string(\n",
    "    input_vars=[\"o\"],\n",
    "    output_vars=[\"o_p\"],\n",
    "    assumptions=[\"o <= 0.2\", \"-o <= 1\"],\n",
    "    guarantees=[\"o_p - o <= 0\"]\n",
    ")\n",
    "\n",
    "system_contract = contract1.compose(contract2)\n",
    "print(system_contract)"
   ]
  },
  {
   "attachments": {},
   "cell_type": "markdown",
   "metadata": {},
   "source": [
    "Pacti gives us the specification of the system. Note that the resulting contract only involves the top-level input and output variables, having eliminated the intermediate variable, `o`.\n",
    "\n",
    "\n",
    "## System diagnostics\n",
    "\n",
    "Suppose that we want to build a system as shown in the figure above, with subsystem $M_1$ replacing $M$, as specified below:\n",
    "\n",
    "| Component | Contract | Inputs | Outputs | Assumptions | Guarantees |\n",
    "| - | - | - | - | - | - |\n",
    "| $M_1$ | `contract1_n` | `i` | `o` | `\\|i\\| <= 2` | `\\|o\\| <= 3` |\n",
    "| $M'$ | `contract2` | `o` | `o_p` | `-1 <= o <= 1/5` | `o_p <= o` |\n",
    "\n",
    "The Pacti specification then becomes the following:"
   ]
  },
  {
   "cell_type": "code",
   "execution_count": 2,
   "metadata": {},
   "outputs": [
    {
     "name": "stdout",
     "output_type": "stream",
     "text": [
      "Composition error: Could not eliminate variables ['o']\n",
      "by refining the assumptions \n",
      "[\n",
      "  o <= 0.19999999999999996\n",
      "  -o <= 1.0\n",
      "]\n",
      "using guarantees \n",
      "[\n",
      "  |o| <= 3.0\n",
      "]\n",
      "\n"
     ]
    }
   ],
   "source": [
    "contract1_n = PolyhedralContract.from_string(\n",
    "    input_vars=[\"i\"],\n",
    "    output_vars=[\"o\"],\n",
    "    assumptions=[\"|i| <= 2\"],\n",
    "    guarantees=[\"|o| <= 3\"]\n",
    ")\n",
    "\n",
    "\n",
    "try:\n",
    "    new_system_contract = contract1_n.compose(contract2)\n",
    "except ValueError as e:\n",
    "    print(\"Composition error: {0}\".format(e))"
   ]
  },
  {
   "attachments": {},
   "cell_type": "markdown",
   "metadata": {},
   "source": [
    "Pacti is unable to compute a system specification. In this case, this is due to the fact that our guarantee `\\|o\\| <= 3` for $M_1$ does not satisfy the assumptions of `contract2`."
   ]
  },
  {
   "attachments": {},
   "cell_type": "markdown",
   "metadata": {},
   "source": [
    "## Specifications of missing subsystems\n",
    "\n",
    "Now consider the situation shown in the following diagram:\n",
    "\n",
    "<img src=\"https://raw.githubusercontent.com/FormalSystems/media/main/doc/source/static/exports/circuit_series_quotient_background.svg\" alt=\"Employee data\" title=\"Employee Data title\">"
   ]
  },
  {
   "attachments": {},
   "cell_type": "markdown",
   "metadata": {},
   "source": [
    "We wish to implement a system $M$ given an available subsystem $M'$ as described below.\n",
    "\n",
    "| Component | Contract | Inputs | Outputs | Assumptions | Guarantees |\n",
    "| - | - | - | - | - | - |\n",
    "| $M$ | `contract_top_level` | `i` | `o_p` | `\\|i\\| <= 1` | `o_p = 2i + 1` |\n",
    "| $M'$ | `contract_existing_subsystem` | `i` | `o` | `\\|i\\| <= 2` | `o = 2i` |\n",
    "\n",
    "We use Pacti's quotient operation to obtain the specification of the missing subsystem corresponding to the question mark above so that the resulting object meets the specification `contract_top_level`. The following codifies this missing subsystem problem:"
   ]
  },
  {
   "cell_type": "code",
   "execution_count": 3,
   "metadata": {},
   "outputs": [
    {
     "name": "stdout",
     "output_type": "stream",
     "text": [
      "InVars: [o]\n",
      "OutVars:[o_p]\n",
      "A: [\n",
      "  |o| <= 2.0\n",
      "]\n",
      "G: [\n",
      "  -o + o_p = 1.0\n",
      "]\n"
     ]
    }
   ],
   "source": [
    "contract_top_level = PolyhedralContract.from_string(\n",
    "    input_vars=[\"i\"],\n",
    "    output_vars=[\"o_p\"],\n",
    "    assumptions=[\"|i| <= 1\"],\n",
    "    guarantees=[\"o_p - 2i = 1\"]\n",
    ")\n",
    "\n",
    "contract_existing_subsystem = PolyhedralContract.from_string(\n",
    "    input_vars=[\"i\"],\n",
    "    output_vars=[\"o\"],\n",
    "    assumptions=[\"|i| <= 2\"],\n",
    "    guarantees=[\"o - 2i = 0\"]\n",
    ")\n",
    "\n",
    "contract_missing_subsystem = contract_top_level.quotient(contract_existing_subsystem)\n",
    "print(contract_missing_subsystem)"
   ]
  },
  {
   "attachments": {},
   "cell_type": "markdown",
   "metadata": {},
   "source": [
    "Observe that Pacti tells us that the missing subsystem's specification has input `o` and output `o_p`. The resulting specification is guaranteed to implement the top-level system when composed with the contract of the existing subsystem. We can verify this:"
   ]
  },
  {
   "cell_type": "code",
   "execution_count": 4,
   "metadata": {},
   "outputs": [
    {
     "name": "stdout",
     "output_type": "stream",
     "text": [
      "True\n"
     ]
    }
   ],
   "source": [
    "# compose quotient\n",
    "new_system = contract_missing_subsystem.compose(contract_existing_subsystem)\n",
    "print(new_system.refines(contract_top_level))"
   ]
  },
  {
   "attachments": {},
   "cell_type": "markdown",
   "metadata": {},
   "source": [
    "## Fusing viewpoints\n",
    "\n",
    "Suppose that we have two specifications for a subsystem, corresponding to different viewpoints, as shown in the following table:\n",
    "\n",
    "| Viewpoint | Contract | Inputs | Outputs | Assumptions | Guarantees |\n",
    "| - | - | - | - | - | - |\n",
    "| Functionality | `functionality_viewpoint` | `i` | `o` | `\\|i\\| <= 2` | `o = 2i + 1` |\n",
    "| Power | `power_viewpoint` | `temp` | `P` | `temp <= 90` | `P <= 2.1` |\n",
    "\n",
    "We can use contract merging to obtain a single specification for the subsystem:"
   ]
  },
  {
   "cell_type": "code",
   "execution_count": 5,
   "metadata": {},
   "outputs": [
    {
     "name": "stdout",
     "output_type": "stream",
     "text": [
      "InVars: [i, temp]\n",
      "OutVars:[o, P]\n",
      "A: [\n",
      "  |i| <= 2.0\n",
      "  temp <= 90.0\n",
      "]\n",
      "G: [\n",
      "  -2.0 i + o = 1.0\n",
      "  P <= 2.1\n",
      "]\n"
     ]
    }
   ],
   "source": [
    "functionality_viewpoint = PolyhedralContract.from_string(\n",
    "    input_vars=[\"i\"],\n",
    "    output_vars=[\"o\"],\n",
    "    assumptions=[\"|i| <= 2\"],\n",
    "    guarantees=[\"o - 2i = 1\"]\n",
    ")\n",
    "\n",
    "power_viewpoint = PolyhedralContract.from_string(\n",
    "    input_vars=[\"temp\"],\n",
    "    output_vars=[\"P\"],\n",
    "    assumptions=[\"temp <= 90\"],\n",
    "    guarantees=[\"P <= 2.1\"]\n",
    ")\n",
    "\n",
    "subsystem_contract = functionality_viewpoint.compose(power_viewpoint)\n",
    "print(subsystem_contract)"
   ]
  },
  {
   "attachments": {},
   "cell_type": "markdown",
   "metadata": {},
   "source": [
    "## To learn more\n",
    "\n",
    "These examples illustrate some analysis tasks we can carry out with Pacti. The `case_studies` folder contains discussions of the application of Pacti in various design disciplines.\n",
    "\n",
    "## References\n",
    "\n",
    "<a id=\"ref1\"></a> __[Benveniste et al. 2012](https://ieeexplore.ieee.org/document/8620676)__\n",
    "\n",
    "Benveniste, A., Caillaud, B., Nickovic, D., Passerone, R., Raclet, J-B., Reinkemeier, P., Sangiovanni-Vincentelli, A., Damm, W., Henzinger, T. A., and Larsen, K. G. **Contracts for system design.** Foundations and Trends® in Electronic Design Automation 12, no. 2-3 (2018): 124-400.\n",
    "\n",
    "<a id=\"ref2\"></a> __[Incer 2022](https://escholarship.org/uc/item/1ts239xv)__\n",
    "\n",
    "Incer, I. **The Algebra of Contracts**. PhD Thesis. University of California, Berkeley, 2022."
   ]
  },
  {
   "cell_type": "markdown",
   "metadata": {},
   "source": []
  }
 ],
 "metadata": {
  "kernelspec": {
   "display_name": ".venv",
   "language": "python",
   "name": "python3"
  },
  "language_info": {
   "codemirror_mode": {
    "name": "ipython",
    "version": 3
   },
   "file_extension": ".py",
   "mimetype": "text/x-python",
   "name": "python",
   "nbconvert_exporter": "python",
   "pygments_lexer": "ipython3",
   "version": "3.11.0"
  },
  "orig_nbformat": 4,
  "vscode": {
   "interpreter": {
    "hash": "b282b3e35ff361393169c4f355db145ffcb63e574f57c9818c827b7c99ca9fc3"
   }
  }
 },
 "nbformat": 4,
 "nbformat_minor": 2
}
