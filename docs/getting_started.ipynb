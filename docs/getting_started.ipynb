{
 "cells": [
  {
   "attachments": {},
   "cell_type": "markdown",
   "metadata": {},
   "source": [
    "# Introduction\n",
    "\n",
    "Pacti helps designers to reason about specifications and to manipulate them. These specifications are given to Pacti as assume-guarantee contracts, which are requirements of the form (assumptions, guarantees).\n",
    "\n",
    "For Pacti, every contract has four elements:\n",
    "- Input variables\n",
    "- Output variables\n",
    "- Assumptions\n",
    "- Guarantees\n",
    "\n",
    "The assumptions of a contract are only allowed to refer to the input variables. Guarantees are only allowed to refer to the input and output variables of the contract, i.e., no variables outside the interface of the contract may appear in the assumptions or guarantees.\n",
    "\n",
    "The algebra of contracts has been extensively researched. This algebra allows us to compute new specifications from existing contracts. For example,\n",
    "- The operation of composition allows us to compute the specification of the system formed by composing subsystems obeying the specifications being composed. In other words, composition is the system-building operation.\n",
    "- The operation of quotient allows us to compute the specification of a component that needs to be composed with an existing subsystem so that the resulting system meets a top-level specification. Quotient is used to find missing-component specifications.\n",
    "- The operation of merging is used to generate a single contract that simultaneously enforces the assumptions and guarantees of the contracts being merged. This is used to fuse contract viewpoints in concurrent design.\n",
    "\n",
    "### Computing system specifications\n",
    "\n",
    "\n",
    "Consider the following system:\n",
    "\n",
    "\n",
    "![image](source/_static/exports/circuit_series_composition_background.svg)\n",
    "\n",
    "Components $M$ and $M'$ obey, respectively, contracts $C = (|i| \\le 2, o \\le i \\le 2o + 2)$ and $C' = (-1 \\le o \\le 1/5, o' \\le o)$. We can use Pacti to obtain the specification of the system that comprises these two components as follows: "
   ]
  },
  {
   "cell_type": "code",
   "execution_count": null,
   "metadata": {},
   "outputs": [],
   "source": [
    "from pacti.terms.polyhedra import PolyhedralContract\n",
    "\n",
    "contract1 = PolyhedralContract.from_string(\n",
    "    InputVars=[\"i\"],\n",
    "    OutputVars=[\"o\"],\n",
    "    assumptions=[\"|i| <= 2\"],\n",
    "    guarantees=[\"o - i <= 0\", \"i - 2o <= 2\"])\n",
    "\n",
    "contract2 = PolyhedralContract.from_string(\n",
    "    InputVars=[\"o\"],\n",
    "    OutputVars=[\"o_p\"],\n",
    "    assumptions=[\"o <= 0.2\", \"-o <= 1\"],\n",
    "    guarantees=[\"o_p - o <= 0\"])\n",
    "\n",
    "system_contract = contract1.compose(contract2)\n",
    "print(system_contract)"
   ]
  },
  {
   "attachments": {},
   "cell_type": "markdown",
   "metadata": {},
   "source": [
    "Pacti gives us the specification of the system. Note that the resulting contract only involves the top-level inputs and outputs.\n",
    "\n",
    "\n",
    "### System diagnostics\n",
    "\n",
    "Suppose that we are trying to build a system as shown in the figure above with the same specification $C'$ for $M'$. Suppose that now the specification $C_n$ for $M$ is $(|i| <= 2, |o| <= 3)$."
   ]
  },
  {
   "cell_type": "code",
   "execution_count": null,
   "metadata": {},
   "outputs": [],
   "source": [
    "contract1_n = PolyhedralContract.from_string(\n",
    "    InputVars=[\"i\"],\n",
    "    OutputVars=[\"o\"],\n",
    "    assumptions=[\"|i| <= 2\"],\n",
    "    guarantees=[\"|o| <= 3\"])\n",
    "\n",
    "contract_system = contract1_n.compose(contract2)"
   ]
  },
  {
   "attachments": {},
   "cell_type": "markdown",
   "metadata": {},
   "source": [
    "Pacti is unable to compute a system specification. In this case, this is due to the fact that our guarantee $|o| \\le 3$ for $M$ does not satisfy the assumptions of $C'$."
   ]
  },
  {
   "attachments": {},
   "cell_type": "markdown",
   "metadata": {},
   "source": [
    "### Quotient\n",
    "\n",
    "Now consider the situation shown in the following diagram:\n",
    "\n",
    "![image](source/_static/exports/circuit_series_quotient_background.png)"
   ]
  },
  {
   "attachments": {},
   "cell_type": "markdown",
   "metadata": {},
   "source": [
    "We wish to implement a system $M$ with specification $C = (|i| \\le 1, o' = 2i + 1)$, and to do this we have available a component $M'$ with specification $C' = (|i| \\le 2, o = 2i)$. We use the quotient operation in Pacti to obtain the specification of the component that we are missing--that would fill the question mark--so that the resulting object meets the specification $C$."
   ]
  },
  {
   "cell_type": "code",
   "execution_count": null,
   "metadata": {},
   "outputs": [],
   "source": [
    "contract_top_level = PolyhedralContract.from_string(\n",
    "    InputVars=[\"i\"],\n",
    "    OutputVars=[\"o_p\"],\n",
    "    assumptions=[\"|i| <= 1\"],\n",
    "    guarantees=[\"o_p - 2i = 1\"])\n",
    "\n",
    "contract_existing_component = PolyhedralContract.from_string(\n",
    "    InputVars=[\"i\"],\n",
    "    OutputVars=[\"o\"],\n",
    "    assumptions=[\"|i| <= 2\"],\n",
    "    guarantees=[\"o - 2i = 0\"])\n",
    "\n",
    "contract_missing_object = contract_top_level.quotient(contract_existing_component)\n",
    "print(contract_missing_object)"
   ]
  },
  {
   "attachments": {},
   "cell_type": "markdown",
   "metadata": {},
   "source": [
    "Observe that Pacti tells us that the missing component's specification has input $o$ and output $o'$. The resulting specification is guaranteed to implement the top-level system when composed with the contract of the existing component. We can verify this:"
   ]
  },
  {
   "cell_type": "code",
   "execution_count": null,
   "metadata": {},
   "outputs": [],
   "source": [
    "# compose quotient \n",
    "new_system_object = contract_missing_object.compose(contract_existing_component)\n",
    "print(new_system_object.refines(contract_top_level))"
   ]
  },
  {
   "attachments": {},
   "cell_type": "markdown",
   "metadata": {},
   "source": [
    "### To learn more\n",
    "\n",
    "This introductory examples show some of the analysis tasks we can carry out with Pacti. We have developed several case studies that discuss the application of Pacti in various design disciplines."
   ]
  },
  {
   "cell_type": "markdown",
   "metadata": {},
   "source": []
  }
 ],
 "metadata": {
  "kernelspec": {
   "display_name": ".venv",
   "language": "python",
   "name": "python3"
  },
  "language_info": {
   "codemirror_mode": {
    "name": "ipython",
    "version": 3
   },
   "file_extension": ".py",
   "mimetype": "text/x-python",
   "name": "python",
   "nbconvert_exporter": "python",
   "pygments_lexer": "ipython3",
   "version": "3.10.7"
  },
  "orig_nbformat": 4,
  "vscode": {
   "interpreter": {
    "hash": "b282b3e35ff361393169c4f355db145ffcb63e574f57c9818c827b7c99ca9fc3"
   }
  }
 },
 "nbformat": 4,
 "nbformat_minor": 2
}
