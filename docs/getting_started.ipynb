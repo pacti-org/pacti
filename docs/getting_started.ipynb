{
 "cells": [
  {
   "attachments": {},
   "cell_type": "markdown",
   "metadata": {},
   "source": [
    "# Getting started\n",
    "\n",
    "Pacti helps designers to reason about specifications and to manipulate them. These specifications are given to Pacti as assume-guarantee contracts, which are requirements of the form (assumptions, guarantees).\n",
    "\n",
    "For Pacti, every contract has four elements:\n",
    "- Input variables\n",
    "- Output variables\n",
    "- Assumptions: constraints whose satisfaction requires the object under specification to deliver the contract's guarantees. In Pacti, assumptions can only refer to the input variables of the contract.\n",
    "- Guarantees: constraints that the object under specification can be expected to deliver when the contract's assumptions are met. In Pacti, guarantees can only refer to the input or output variables of the contract.\n",
    "\n",
    "The *interface* of a contract is the set of its input and output variables.\n",
    "\n",
    "The algebra of contracts has been extensively researched and peer-reviewed by experts—see [Benveniste et al. 2012](#ref1), [Incer 2022](#ref2), and references therein.\n",
    "Contracts provide mathematical rigor to several tasks of relevance to system design. The algebra of contracts contains operations that generate new contracts from existing ones, i.e., the algebra is closed under these operations. We can use the algebra of contracts to address the following tasks:\n",
    "- **Building systems.** Suppose that we have specified contracts for a set of subsystems. We can define a system as the assembly of such subsystems. The operation of *composition* allows us to compute the contract of such a system from the contracts of the assembled subsystems. In other words, composition provides a mechanism for computing system contracts from subsystem contracts.\n",
    "- **Patching systems.** The operation of *quotient* allows us to compute the contract of a subsystem that needs to be composed with an existing subsystem so that the resulting system composition meets a top-level contract. In other words, the quotient finds contracts of missing subsystems from contracts for the system and a partial implementation.\n",
    "- **Validity of decompositions.** *Refinement* allows us to tell when a contract is more relaxed, or less demanding than another. When a subsystem satisfies a contract, it is guaranteed to satisfy a more relaxed contract. When a system contract is broken into an assembly of subsystem contracts, refinement allows us to tell whether this decomposition is a valid refinement of the system-level contract.\n",
    "- **Fusing viewpoints.** The operation of *merging* allows us to generate a single contract whose assumptions and guarantees require the satisfaction of the assumptions and guarantees of the merged contracts, respectively. In other words, merging fuses multiple contract viewpoints, a common operation in concurrent design.\n",
    "\n",
    "\n",
    "\n",
    "\n",
    "## Computing system specifications\n",
    "\n",
    "\n",
    "Consider the following system:\n",
    "\n",
    "![image](data:image/png;base64,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)\n",
    "\n",
    "| Component | Contract | Inputs | Outputs | Assumptions | Guarantees |\n",
    "| - | - | - | - | - | - |\n",
    "| $M$ | `contract1` | `i` | `o` | `\\|i\\| <= 2` | `o <= i <= 2o + 2` |\n",
    "| $M'$ | `contract2` | `o` | `o_p` | `-1 <= o <= 1/5` | `o_p <= o` |\n",
    "\n",
    "We can use Pacti to obtain the contract of the system that assembles these two components as follows: "
   ]
  },
  {
   "cell_type": "code",
   "execution_count": 1,
   "metadata": {},
   "outputs": [
    {
     "name": "stdout",
     "output_type": "stream",
     "text": [
      "InVars: [i]\n",
      "OutVars:[o_p]\n",
      "A: [\n",
      "  i <= 0.19999999999999996\n",
      "  -0.5 i <= 0.0\n",
      "]\n",
      "G: [\n",
      "  -i + o_p <= 0.0\n",
      "]\n"
     ]
    }
   ],
   "source": [
    "from pacti.terms.polyhedra import PolyhedralContract\n",
    "\n",
    "contract1 = PolyhedralContract.from_string(\n",
    "    InputVars=[\"i\"],\n",
    "    OutputVars=[\"o\"],\n",
    "    assumptions=[\"|i| <= 2\"],\n",
    "    guarantees=[\"o - i <= 0\", \"i - 2o <= 2\"])\n",
    "\n",
    "contract2 = PolyhedralContract.from_string(\n",
    "    InputVars=[\"o\"],\n",
    "    OutputVars=[\"o_p\"],\n",
    "    assumptions=[\"o <= 0.2\", \"-o <= 1\"],\n",
    "    guarantees=[\"o_p - o <= 0\"])\n",
    "\n",
    "system_contract = contract1.compose(contract2)\n",
    "print(system_contract)"
   ]
  },
  {
   "attachments": {},
   "cell_type": "markdown",
   "metadata": {},
   "source": [
    "Pacti gives us the specification of the system. Note that the resulting contract only involves the top-level input and output variables, having eliminated the intermediate variable, `o`.\n",
    "\n",
    "\n",
    "## System diagnostics\n",
    "\n",
    "Suppose that we want to build a system as shown in the figure above, with subsystem $M_1$ replacing $M$, as specified below:\n",
    "\n",
    "| Component | Contract | Inputs | Outputs | Assumptions | Guarantees |\n",
    "| - | - | - | - | - | - |\n",
    "| $M_1$ | `contract1_n` | `i` | `o` | `\\|i\\| <= 2` | `\\|o\\| <= 3` |\n",
    "| $M'$ | `contract2` | `o` | `o_p` | `-1 <= o <= 1/5` | `o_p <= o` |\n",
    "\n",
    "The Pacti specification then becomes the following:"
   ]
  },
  {
   "cell_type": "code",
   "execution_count": 2,
   "metadata": {},
   "outputs": [
    {
     "ename": "ValueError",
     "evalue": "The guarantees \n[\n  |o| <= 3.0\n]\nwere insufficient to abduce the assumptions \n[\n  o <= 0.2\n  -o <= 1.0\n]\nby eliminating the variables \n[<Var o>, <Var o_p>]",
     "output_type": "error",
     "traceback": [
      "\u001b[1;31m---------------------------------------------------------------------------\u001b[0m",
      "\u001b[1;31mValueError\u001b[0m                                Traceback (most recent call last)",
      "Cell \u001b[1;32mIn[2], line 7\u001b[0m\n\u001b[0;32m      1\u001b[0m contract1_n \u001b[39m=\u001b[39m PolyhedralContract\u001b[39m.\u001b[39mfrom_string(\n\u001b[0;32m      2\u001b[0m     InputVars\u001b[39m=\u001b[39m[\u001b[39m\"\u001b[39m\u001b[39mi\u001b[39m\u001b[39m\"\u001b[39m],\n\u001b[0;32m      3\u001b[0m     OutputVars\u001b[39m=\u001b[39m[\u001b[39m\"\u001b[39m\u001b[39mo\u001b[39m\u001b[39m\"\u001b[39m],\n\u001b[0;32m      4\u001b[0m     assumptions\u001b[39m=\u001b[39m[\u001b[39m\"\u001b[39m\u001b[39m|i| <= 2\u001b[39m\u001b[39m\"\u001b[39m],\n\u001b[0;32m      5\u001b[0m     guarantees\u001b[39m=\u001b[39m[\u001b[39m\"\u001b[39m\u001b[39m|o| <= 3\u001b[39m\u001b[39m\"\u001b[39m])\n\u001b[1;32m----> 7\u001b[0m new_system_contract \u001b[39m=\u001b[39m contract1_n\u001b[39m.\u001b[39;49mcompose(contract2)\n",
      "File \u001b[1;32m~\\iir_repo\\pacti\\src\\pacti\\iocontract\\iocontract.py:458\u001b[0m, in \u001b[0;36mIoContract.compose\u001b[1;34m(self, other)\u001b[0m\n\u001b[0;32m    456\u001b[0m     new_a \u001b[39m=\u001b[39m other\u001b[39m.\u001b[39ma\u001b[39m.\u001b[39mabduce_with_context(\u001b[39mself\u001b[39m\u001b[39m.\u001b[39ma \u001b[39m|\u001b[39m \u001b[39mself\u001b[39m\u001b[39m.\u001b[39mg, assumptions_forbidden_vars)\n\u001b[0;32m    457\u001b[0m     \u001b[39mif\u001b[39;00m list_intersection(new_a\u001b[39m.\u001b[39mvars, assumptions_forbidden_vars):\n\u001b[1;32m--> 458\u001b[0m         \u001b[39mraise\u001b[39;00m \u001b[39mValueError\u001b[39;00m(\n\u001b[0;32m    459\u001b[0m             \u001b[39m\"\u001b[39m\u001b[39mThe guarantees \u001b[39m\u001b[39m\\n\u001b[39;00m\u001b[39m{}\u001b[39;00m\u001b[39m\\n\u001b[39;00m\u001b[39m\"\u001b[39m\u001b[39m.\u001b[39mformat(\u001b[39mself\u001b[39m\u001b[39m.\u001b[39mg)\n\u001b[0;32m    460\u001b[0m             \u001b[39m+\u001b[39m \u001b[39m\"\u001b[39m\u001b[39mwere insufficient to abduce the assumptions \u001b[39m\u001b[39m\\n\u001b[39;00m\u001b[39m{}\u001b[39;00m\u001b[39m\\n\u001b[39;00m\u001b[39m\"\u001b[39m\u001b[39m.\u001b[39mformat(other\u001b[39m.\u001b[39ma)\n\u001b[0;32m    461\u001b[0m             \u001b[39m+\u001b[39m \u001b[39m\"\u001b[39m\u001b[39mby eliminating the variables \u001b[39m\u001b[39m\\n\u001b[39;00m\u001b[39m{}\u001b[39;00m\u001b[39m\"\u001b[39m\u001b[39m.\u001b[39mformat(assumptions_forbidden_vars)\n\u001b[0;32m    462\u001b[0m         )\n\u001b[0;32m    463\u001b[0m     assumptions \u001b[39m=\u001b[39m new_a \u001b[39m|\u001b[39m \u001b[39mself\u001b[39m\u001b[39m.\u001b[39ma\n\u001b[0;32m    464\u001b[0m \u001b[39melif\u001b[39;00m other_helps_self \u001b[39mand\u001b[39;00m \u001b[39mnot\u001b[39;00m self_helps_other:\n",
      "\u001b[1;31mValueError\u001b[0m: The guarantees \n[\n  |o| <= 3.0\n]\nwere insufficient to abduce the assumptions \n[\n  o <= 0.2\n  -o <= 1.0\n]\nby eliminating the variables \n[<Var o>, <Var o_p>]"
     ]
    }
   ],
   "source": [
    "contract1_n = PolyhedralContract.from_string(\n",
    "    InputVars=[\"i\"],\n",
    "    OutputVars=[\"o\"],\n",
    "    assumptions=[\"|i| <= 2\"],\n",
    "    guarantees=[\"|o| <= 3\"])\n",
    "\n",
    "new_system_contract = contract1_n.compose(contract2)"
   ]
  },
  {
   "attachments": {},
   "cell_type": "markdown",
   "metadata": {},
   "source": [
    "Pacti is unable to compute a system specification. In this case, this is due to the fact that our guarantee `\\|o\\| <= 3` for $M_1$ does not satisfy the assumptions of `contract2`."
   ]
  },
  {
   "attachments": {},
   "cell_type": "markdown",
   "metadata": {},
   "source": [
    "## Specifications of missing subsystems\n",
    "\n",
    "Now consider the situation shown in the following diagram:\n",
    "\n",
    "![image](data:image/png;base64,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)"
   ]
  },
  {
   "attachments": {},
   "cell_type": "markdown",
   "metadata": {},
   "source": [
    "We wish to implement a system $M$ given an available subsystem $M'$ as described below.\n",
    "\n",
    "| Component | Contract | Inputs | Outputs | Assumptions | Guarantees |\n",
    "| - | - | - | - | - | - |\n",
    "| $M$ | `contract_top_level` | `i` | `o_p` | `\\|i\\| <= 1` | `o_p = 2i + 1` |\n",
    "| $M'$ | `contract_existing_subsystem` | `i` | `o` | `\\|i\\| <= 2` | `o = 2i` |\n",
    "\n",
    "We use Pacti's quotient operation to obtain the specification of the missing subsystem corresponding to the question mark above so that the resulting object meets the specification `contract_top_level`. The following codifies this missing subsystem problem:"
   ]
  },
  {
   "cell_type": "code",
   "execution_count": 3,
   "metadata": {},
   "outputs": [
    {
     "name": "stdout",
     "output_type": "stream",
     "text": [
      "InVars: [o]\n",
      "OutVars:[o_p]\n",
      "A: [\n",
      "  |o| <= 2.0\n",
      "]\n",
      "G: [\n",
      "  -o + o_p = 1.0\n",
      "]\n"
     ]
    }
   ],
   "source": [
    "contract_top_level = PolyhedralContract.from_string(\n",
    "    InputVars=[\"i\"],\n",
    "    OutputVars=[\"o_p\"],\n",
    "    assumptions=[\"|i| <= 1\"],\n",
    "    guarantees=[\"o_p - 2i = 1\"])\n",
    "\n",
    "contract_existing_subsystem = PolyhedralContract.from_string(\n",
    "    InputVars=[\"i\"],\n",
    "    OutputVars=[\"o\"],\n",
    "    assumptions=[\"|i| <= 2\"],\n",
    "    guarantees=[\"o - 2i = 0\"])\n",
    "\n",
    "contract_missing_subsystem = contract_top_level.quotient(contract_existing_subsystem)\n",
    "print(contract_missing_subsystem)"
   ]
  },
  {
   "attachments": {},
   "cell_type": "markdown",
   "metadata": {},
   "source": [
    "Observe that Pacti tells us that the missing subsystem's specification has input `o` and output `o_p`. The resulting specification is guaranteed to implement the top-level system when composed with the contract of the existing subsystem. We can verify this:"
   ]
  },
  {
   "cell_type": "code",
   "execution_count": 4,
   "metadata": {},
   "outputs": [
    {
     "name": "stdout",
     "output_type": "stream",
     "text": [
      "True\n"
     ]
    }
   ],
   "source": [
    "# compose quotient \n",
    "new_system = contract_missing_subsystem.compose(contract_existing_subsystem)\n",
    "print(new_system.refines(contract_top_level))"
   ]
  },
  {
   "attachments": {},
   "cell_type": "markdown",
   "metadata": {},
   "source": [
    "## Fusing viewpoints\n",
    "\n",
    "Suppose that we have to specifications for a subsystem, corresponding to different viewpoints, as shown in the following table:\n",
    "\n",
    "| Viewpoint | Contract | Inputs | Outputs | Assumptions | Guarantees |\n",
    "| - | - | - | - | - | - |\n",
    "| Functionality | `functionality_viewpoint` | `i` | `o` | `\\|i\\| <= 1` | `o = 2i + 1` |\n",
    "| Power | `power_viewpoint` | `temp` | `P` | `temp <= 90` | `P <= 2.1` |\n",
    "\n",
    "We can use contract merging to obtain a single specification for the subsystem:"
   ]
  },
  {
   "cell_type": "code",
   "execution_count": 5,
   "metadata": {},
   "outputs": [
    {
     "name": "stdout",
     "output_type": "stream",
     "text": [
      "InVars: [i, temp]\n",
      "OutVars:[o, P]\n",
      "A: [\n",
      "  |i| <= 2.0\n",
      "  temp <= 90.0\n",
      "]\n",
      "G: [\n",
      "  -2.0 i + o = 1.0\n",
      "  P <= 2.1\n",
      "]\n"
     ]
    }
   ],
   "source": [
    "functionality_viewpoint = PolyhedralContract.from_string(\n",
    "    InputVars=[\"i\"],\n",
    "    OutputVars=[\"o\"],\n",
    "    assumptions=[\"|i| <= 2\"],\n",
    "    guarantees=[\"o - 2i = 1\"])\n",
    "\n",
    "power_viewpoint = PolyhedralContract.from_string(\n",
    "    InputVars=[\"temp\"],\n",
    "    OutputVars=[\"P\"],\n",
    "    assumptions=[\"temp <= 90\"],\n",
    "    guarantees=[\"P <= 2.1\"])\n",
    "\n",
    "subsystem_contract = functionality_viewpoint.compose(power_viewpoint)\n",
    "print(subsystem_contract)"
   ]
  },
  {
   "attachments": {},
   "cell_type": "markdown",
   "metadata": {},
   "source": [
    "## To learn more\n",
    "\n",
    "These examples illustrate some analysis tasks we can carry out with Pacti. The `case_studies` folder contains discussions of the application of Pacti in various design disciplines.\n",
    "\n",
    "## References\n",
    "\n",
    "<a id=\"ref1\"></a> __[Benveniste et al. 2012](https://ieeexplore.ieee.org/document/8620676)__\n",
    "\n",
    "Benveniste, A., Caillaud, B., Nickovic, D., Passerone, R., Raclet, J-B., Reinkemeier, P., Sangiovanni-Vincentelli, A., Damm, W., Henzinger, T. A., and Larsen, K. G. **Contracts for system design.** Foundations and Trends® in Electronic Design Automation 12, no. 2-3 (2018): 124-400.\n",
    "\n",
    "<a id=\"ref2\"></a> __[Incer 2022](https://escholarship.org/uc/item/1ts239xv)__\n",
    "\n",
    "Incer, I. **The Algebra of Contracts**. PhD Thesis. University of California, Berkeley, 2022."
   ]
  },
  {
   "cell_type": "markdown",
   "metadata": {},
   "source": []
  }
 ],
 "metadata": {
  "kernelspec": {
   "display_name": ".venv",
   "language": "python",
   "name": "python3"
  },
  "language_info": {
   "codemirror_mode": {
    "name": "ipython",
    "version": 3
   },
   "file_extension": ".py",
   "mimetype": "text/x-python",
   "name": "python",
   "nbconvert_exporter": "python",
   "pygments_lexer": "ipython3",
   "version": "3.10.7"
  },
  "orig_nbformat": 4,
  "vscode": {
   "interpreter": {
    "hash": "b282b3e35ff361393169c4f355db145ffcb63e574f57c9818c827b7c99ca9fc3"
   }
  }
 },
 "nbformat": 4,
 "nbformat_minor": 2
}
