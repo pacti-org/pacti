{
 "cells": [
  {
   "attachments": {},
   "cell_type": "markdown",
   "metadata": {},
   "source": [
    "Pacti helps designers to manipulate and reason about specifications. These specifications are given as assume-guarantee contracts. Every contract is a pair of requirements of the form (assumptions, guarantees). "
   ]
  }
 ],
 "metadata": {
  "kernelspec": {
   "display_name": ".venv",
   "language": "python",
   "name": "python3"
  },
  "language_info": {
   "name": "python",
   "version": "3.10.7"
  },
  "orig_nbformat": 4,
  "vscode": {
   "interpreter": {
    "hash": "b282b3e35ff361393169c4f355db145ffcb63e574f57c9818c827b7c99ca9fc3"
   }
  }
 },
 "nbformat": 4,
 "nbformat_minor": 2
}
