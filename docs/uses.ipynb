{
 "cells": [
  {
   "attachments": {},
   "cell_type": "markdown",
   "metadata": {},
   "source": [
    "Pacti helps designers to manipulate and reason about specifications. These specifications are given as assume-guarantee contracts. Every contract is a pair of requiremems of the form (assumptions, guarantees). "
   ]
  }
 ],
 "metadata": {
  "language_info": {
   "name": "python"
  },
  "orig_nbformat": 4
 },
 "nbformat": 4,
 "nbformat_minor": 2
}
