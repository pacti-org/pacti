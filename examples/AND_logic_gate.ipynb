{
 "cells": [
  {
   "attachments": {},
   "cell_type": "markdown",
   "metadata": {},
   "source": [
    "## Contracts for an AND logic gate composed of three subsystems using Pacti\n",
    "\n",
    "Import the libraries:"
   ]
  },
  {
   "cell_type": "code",
   "execution_count": 1,
   "metadata": {},
   "outputs": [],
   "source": [
    "from pacti.terms.polyhedra import *"
   ]
  },
  {
   "cell_type": "markdown",
   "metadata": {},
   "source": [
    "Write contracts for subsystem 1 and subsystem 2:"
   ]
  },
  {
   "cell_type": "code",
   "execution_count": 2,
   "metadata": {},
   "outputs": [],
   "source": [
    "contract1 = {\n",
    "        \"_comment1\": \"contract for subsystem 1, the assumption is that if input (u_1)\"\n",
    "        \"is greater than u_1_min = 1, then it guarantees that the output (x_1) is greater than x_1_min = 1.5\",\n",
    "        \"input_vars\":[\n",
    "            \"u_1\"\n",
    "        ],\n",
    "        \"output_vars\":[\n",
    "            \"x_1\"\n",
    "        ],\n",
    "        \"assumptions\":\n",
    "        [\n",
    "            {\"coefficients\":{\"u_1\":-1},\n",
    "            \"constant\":-1}\n",
    "        ],\n",
    "        \"guarantees\":\n",
    "        [\n",
    "            {\"coefficients\":{\"x_1\":-1},\n",
    "            \"constant\":-1.5}\n",
    "        ]\n",
    "    }\n",
    "contract2 = {\n",
    "        \"_comment2\": \"contract for subsystem 2, the assumption is that if input (u_2)\"\n",
    "        \"is greater than u_2_min = 1 then it guarantees that the output (x_2) is greater than x_2_min = 0.3\",\n",
    "        \"input_vars\":[\n",
    "            \"u_2\"\n",
    "        ],\n",
    "        \"output_vars\":[\n",
    "            \"x_2\"\n",
    "        ],\n",
    "        \"assumptions\":\n",
    "        [\n",
    "            {\"coefficients\":{\"u_2\":-1},\n",
    "            \"constant\":-1}\n",
    "        ],\n",
    "        \"guarantees\":\n",
    "        [\n",
    "            {\"coefficients\":{\"x_2\":-1},\n",
    "            \"constant\":-0.3}\n",
    "        ]\n",
    "    }"
   ]
  },
  {
   "attachments": {},
   "cell_type": "markdown",
   "metadata": {},
   "source": [
    "Use `Pacti` to compute the composition of contract1 and contract2"
   ]
  },
  {
   "cell_type": "code",
   "execution_count": 3,
   "metadata": {},
   "outputs": [
    {
     "name": "stdout",
     "output_type": "stream",
     "text": [
      "Contract1:\n",
      "InVars: [<Var u_1>]\n",
      "OutVars:[<Var x_1>]\n",
      "A: -1*u_1 <= -1.0\n",
      "G: -1*x_1 <= -1.5\n",
      "Contract2:\n",
      "InVars: [<Var u_2>]\n",
      "OutVars:[<Var x_2>]\n",
      "A: -1*u_2 <= -1.0\n",
      "G: -1*x_2 <= -0.30000000000000004\n"
     ]
    }
   ],
   "source": [
    "c1 = PolyhedralContract.from_dict(contract1)\n",
    "c2 = PolyhedralContract.from_dict(contract2)\n",
    "\n",
    "print(\"Contract1:\\n\" + str(c1))\n",
    "print(\"Contract2:\\n\" + str(c2))"
   ]
  },
  {
   "cell_type": "markdown",
   "metadata": {},
   "source": [
    "## Composition"
   ]
  },
  {
   "cell_type": "code",
   "execution_count": 4,
   "metadata": {},
   "outputs": [],
   "source": [
    "contract_comp = c1.compose(c2)"
   ]
  },
  {
   "cell_type": "code",
   "execution_count": 5,
   "metadata": {},
   "outputs": [
    {
     "name": "stdout",
     "output_type": "stream",
     "text": [
      "InVars: [<Var u_1>, <Var u_2>]\n",
      "OutVars:[<Var x_1>, <Var x_2>]\n",
      "A: -1*u_1 <= -1.0, -1*u_2 <= -1.0\n",
      "G: -1*x_1 <= -1.5, -1*x_2 <= -0.30000000000000004\n"
     ]
    }
   ],
   "source": [
    "print(contract_comp)"
   ]
  },
  {
   "cell_type": "markdown",
   "metadata": {},
   "source": [
    "Post-process `contract_comp` (the composition of contract1 and contract2) (if needed as json)"
   ]
  },
  {
   "cell_type": "code",
   "execution_count": 8,
   "metadata": {},
   "outputs": [],
   "source": [
    "contract12 = write_contract(contract_comp)"
   ]
  },
  {
   "cell_type": "code",
   "execution_count": 9,
   "metadata": {},
   "outputs": [
    {
     "data": {
      "text/plain": [
       "{'input_vars': ['u_1', 'u_2'],\n",
       " 'output_vars': ['x_1', 'x_2'],\n",
       " 'assumptions': [{'constant': -1.0, 'coefficients': {'u_1': -1.0}},\n",
       "  {'constant': -1.0, 'coefficients': {'u_2': -1.0}}],\n",
       " 'guarantees': [{'constant': -1.5, 'coefficients': {'x_1': -1.0}},\n",
       "  {'constant': -0.30000000000000004, 'coefficients': {'x_2': -1.0}}]}"
      ]
     },
     "execution_count": 9,
     "metadata": {},
     "output_type": "execute_result"
    }
   ],
   "source": [
    "contract12"
   ]
  },
  {
   "cell_type": "markdown",
   "metadata": {},
   "source": [
    "Write contract for third subsystem"
   ]
  },
  {
   "cell_type": "code",
   "execution_count": 10,
   "metadata": {},
   "outputs": [],
   "source": [
    "contract3 = {\n",
    "        \"_comment3\": \"contract for subsystem 3, the assumption is that if input (x_1 and x_2) are greater than x_1_min = 1.5 and x_2_min = 0.3 then it guarantees that the output (y) is greater than y_eps = 1.5\",\n",
    "        \"input_vars\":[\n",
    "            \"x_1\", \"x_2\"\n",
    "        ],\n",
    "        \"output_vars\":[\n",
    "            \"y\"\n",
    "        ],\n",
    "        \"assumptions\":\n",
    "        [\n",
    "            {\"coefficients\":{\"x_1\":-1},\n",
    "            \"constant\":-1.5},\n",
    "            {\"coefficients\":{\"x_2\":-1},\n",
    "            \"constant\":-0.3}\n",
    "        ],\n",
    "        \"guarantees\":\n",
    "        [\n",
    "            {\"coefficients\":{\"y\":-1},\n",
    "            \"constant\":-1.5}\n",
    "        ]\n",
    "    }"
   ]
  },
  {
   "cell_type": "code",
   "execution_count": 11,
   "metadata": {},
   "outputs": [
    {
     "name": "stdout",
     "output_type": "stream",
     "text": [
      "Contract3:\n",
      "InVars: [<Var x_1>, <Var x_2>]\n",
      "OutVars:[<Var y>]\n",
      "A: -1*x_1 <= -1.5, -1*x_2 <= -0.3\n",
      "G: -1*y <= -1.5\n"
     ]
    }
   ],
   "source": [
    "c3 = PolyhedralContract.from_dict(contract3)\n",
    "print(\"Contract3:\\n\" + str(c3))"
   ]
  },
  {
   "cell_type": "markdown",
   "metadata": {},
   "source": [
    "Compose contract12 with contract3:"
   ]
  },
  {
   "cell_type": "code",
   "execution_count": 12,
   "metadata": {},
   "outputs": [],
   "source": [
    "and_gate_contract = contract_comp.compose(c3)"
   ]
  },
  {
   "cell_type": "code",
   "execution_count": 13,
   "metadata": {},
   "outputs": [
    {
     "name": "stdout",
     "output_type": "stream",
     "text": [
      "InVars: [<Var u_1>, <Var u_2>]\n",
      "OutVars:[<Var y>]\n",
      "A: -1*u_1 <= -1.0, -1*u_2 <= -1.0\n",
      "G: -1*y <= -1.5\n"
     ]
    }
   ],
   "source": [
    "print(and_gate_contract)"
   ]
  },
  {
   "cell_type": "markdown",
   "metadata": {},
   "source": [
    "## Quotient\n",
    "\n",
    "Assume that we have `contract_comp` (the composition of `contract1` and `contract2`) and the `and_gate_contract` available. Synthesize the contract of subsystem 3 using quotient."
   ]
  },
  {
   "cell_type": "code",
   "execution_count": 14,
   "metadata": {},
   "outputs": [],
   "source": [
    "synthesized_c3 = and_gate_contract.quotient(contract_comp)"
   ]
  },
  {
   "cell_type": "code",
   "execution_count": 15,
   "metadata": {},
   "outputs": [
    {
     "name": "stdout",
     "output_type": "stream",
     "text": [
      "InVars: [<Var x_1>, <Var x_2>]\n",
      "OutVars:[<Var y>]\n",
      "A: -1*x_1 <= -1.5, -1*x_2 <= -0.30000000000000004\n",
      "G: -1*y <= -1.5\n"
     ]
    }
   ],
   "source": [
    "print(synthesized_c3)"
   ]
  },
  {
   "cell_type": "markdown",
   "metadata": {},
   "source": [
    "### Other quotient examples\n",
    "\n",
    "Assume that we have the contracts of subsystem 2 and 3, and the top-level `and_gate_contract` available. To synthesize the contract of subsystem 1, we first compute the composition of subsystems 2 and 3 and then quotient it from the top-level contract.\n"
   ]
  },
  {
   "cell_type": "code",
   "execution_count": 16,
   "metadata": {},
   "outputs": [],
   "source": [
    "synthesize_c1 = and_gate_contract.quotient(c2.compose(c3))"
   ]
  },
  {
   "cell_type": "code",
   "execution_count": 17,
   "metadata": {},
   "outputs": [
    {
     "name": "stdout",
     "output_type": "stream",
     "text": [
      "InVars: [<Var u_1>]\n",
      "OutVars:[<Var x_1>]\n",
      "A: -1*u_1 <= -1.0\n",
      "G: -1*x_1 <= -1.5\n"
     ]
    }
   ],
   "source": [
    "print(synthesize_c1)"
   ]
  },
  {
   "cell_type": "markdown",
   "metadata": {},
   "source": [
    "Assume that we have the contracts of subsystem 1 and 3, and the top-level `and_gate_contract` available. To synthesize the contract of subsystem 2, we first compute the composition of subsystems 1 and 3 and then quotient it from the top-level contract.\n"
   ]
  },
  {
   "cell_type": "code",
   "execution_count": 18,
   "metadata": {},
   "outputs": [],
   "source": [
    "synthesize_c2 = and_gate_contract.quotient(c1.compose(c3))"
   ]
  },
  {
   "cell_type": "code",
   "execution_count": 19,
   "metadata": {},
   "outputs": [
    {
     "name": "stdout",
     "output_type": "stream",
     "text": [
      "InVars: [<Var u_2>]\n",
      "OutVars:[<Var x_2>]\n",
      "A: -1*u_2 <= -1.0\n",
      "G: -1*x_2 <= -0.30000000000000004\n"
     ]
    }
   ],
   "source": [
    "print(synthesize_c2)"
   ]
  },
  {
   "cell_type": "markdown",
   "metadata": {},
   "source": [
    "Assume that we have the contracts of subsystem 1 and the top-level `and_gate_contract` available. To synthesize the contracts of all other subsystems, we first compute the quotient of subsystem 3 from the top-level contract. This contract may be further decomposed if there are other subsystem contracts available."
   ]
  },
  {
   "cell_type": "code",
   "execution_count": 20,
   "metadata": {},
   "outputs": [],
   "source": [
    "synthesize_c12 = and_gate_contract.quotient(c3)"
   ]
  },
  {
   "cell_type": "code",
   "execution_count": 21,
   "metadata": {},
   "outputs": [
    {
     "name": "stdout",
     "output_type": "stream",
     "text": [
      "InVars: [<Var u_1>, <Var u_2>]\n",
      "OutVars:[<Var x_1>, <Var x_2>]\n",
      "A: -1*u_1 <= -1.0, -1*u_2 <= -1.0\n",
      "G: -1*x_1 <= -1.5, -1*x_2 <= -0.30000000000000004\n"
     ]
    }
   ],
   "source": [
    "print(synthesize_c12)"
   ]
  },
  {
   "cell_type": "code",
   "execution_count": 22,
   "metadata": {},
   "outputs": [],
   "source": [
    "synthesize_c1 = synthesize_c12.quotient(c2)"
   ]
  },
  {
   "cell_type": "code",
   "execution_count": 23,
   "metadata": {},
   "outputs": [
    {
     "name": "stdout",
     "output_type": "stream",
     "text": [
      "InVars: [<Var u_1>]\n",
      "OutVars:[<Var x_1>]\n",
      "A: -1*u_1 <= -1.0\n",
      "G: -1*x_1 <= -1.5\n"
     ]
    }
   ],
   "source": [
    "print(synthesize_c1)"
   ]
  },
  {
   "cell_type": "code",
   "execution_count": 24,
   "metadata": {},
   "outputs": [
    {
     "name": "stdout",
     "output_type": "stream",
     "text": [
      "Success\n"
     ]
    }
   ],
   "source": [
    "print('Success')"
   ]
  }
 ],
 "metadata": {
  "kernelspec": {
   "display_name": ".venv",
   "language": "python",
   "name": "python3"
  },
  "language_info": {
   "codemirror_mode": {
    "name": "ipython",
    "version": 3
   },
   "file_extension": ".py",
   "mimetype": "text/x-python",
   "name": "python",
   "nbconvert_exporter": "python",
   "pygments_lexer": "ipython3",
   "version": "3.11.0"
  },
  "vscode": {
   "interpreter": {
    "hash": "b282b3e35ff361393169c4f355db145ffcb63e574f57c9818c827b7c99ca9fc3"
   }
  }
 },
 "nbformat": 4,
 "nbformat_minor": 2
}
