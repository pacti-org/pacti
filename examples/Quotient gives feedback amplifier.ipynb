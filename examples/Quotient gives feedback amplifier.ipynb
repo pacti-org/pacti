{
 "cells": [
  {
   "cell_type": "code",
   "execution_count": 1,
   "id": "a05e9c2a",
   "metadata": {},
   "outputs": [],
   "source": [
    "from pacti.terms.polyhedra import *"
   ]
  },
  {
   "attachments": {
    "image-2.png": {
     "image/png": "[encoded data removed]"
    }
   },
   "cell_type": "markdown",
   "id": "c31497a3",
   "metadata": {},
   "source": [
    "![image-2.png](attachment:image-2.png)"
   ]
  },
  {
   "cell_type": "code",
   "execution_count": 55,
   "id": "b6b9c77d",
   "metadata": {},
   "outputs": [],
   "source": [
    "L = 10000\n",
    "system_contract = {\n",
    "        \"InputVars\":[\n",
    "            \"u1\"\n",
    "        ],\n",
    "        \"OutputVars\":[\n",
    "            \"y\"\n",
    "        ],\n",
    "        \"assumptions\":\n",
    "        [\n",
    "            {\"coefficients\":{\"u1\":1},\n",
    "            \"constant\":5},\n",
    "#             {\"coefficients\":{\"u1\":-1},\n",
    "#             \"constant\":-5}\n",
    "        ],\n",
    "        \"guarantees\":\n",
    "        [\n",
    "            {\"coefficients\":{\"y\":1, \"u1\":-2},\n",
    "            \"constant\":0},\n",
    "            {\"coefficients\":{\"y\":-1, \"u1\":2},\n",
    "            \"constant\":0}\n",
    "        ]\n",
    "    }\n",
    "C1 = {\n",
    "        \"InputVars\":[\n",
    "            \"u1\", \"u2\"\n",
    "        ],\n",
    "        \"OutputVars\":[\n",
    "            \"y\"\n",
    "        ],\n",
    "        \"assumptions\":\n",
    "        [\n",
    "            {\"coefficients\":{\"u1\":1},\n",
    "            \"constant\":10},\n",
    "#              {\"coefficients\":{\"u1\":-1},\n",
    "#             \"constant\":-10},\n",
    "        ],\n",
    "        \"guarantees\":\n",
    "        [\n",
    "            {\"coefficients\":{\"y\":1, \"u1\":-L, \"u2\":L},\n",
    "            \"constant\":0}\n",
    "        ]\n",
    "    }"
   ]
  },
  {
   "cell_type": "code",
   "execution_count": 56,
   "id": "e13743fd",
   "metadata": {},
   "outputs": [],
   "source": [
    "c_s, c1 = read_contract([system_contract, C1])"
   ]
  },
  {
   "cell_type": "code",
   "execution_count": 57,
   "id": "3d852763",
   "metadata": {},
   "outputs": [
    {
     "name": "stdout",
     "output_type": "stream",
     "text": [
      "InVars: [<Var u1>]\n",
      "OutVars:[<Var y>]\n",
      "A: 1*u1 <= 5.0\n",
      "G: -2*u1 + 1*y <= 0.0, 2*u1 + -1*y <= 0.0\n"
     ]
    }
   ],
   "source": [
    "print(c_s)"
   ]
  },
  {
   "cell_type": "code",
   "execution_count": 58,
   "id": "f2e8f134",
   "metadata": {},
   "outputs": [
    {
     "name": "stdout",
     "output_type": "stream",
     "text": [
      "InVars: [<Var u1>, <Var u2>]\n",
      "OutVars:[<Var y>]\n",
      "A: 1*u1 <= 10.0\n",
      "G: -10000*u1 + 10000*u2 + 1*y <= 0.0\n"
     ]
    }
   ],
   "source": [
    "print(c1)"
   ]
  },
  {
   "cell_type": "markdown",
   "id": "5d226d28",
   "metadata": {},
   "source": [
    "## Quotient"
   ]
  },
  {
   "cell_type": "code",
   "execution_count": 59,
   "id": "367408ee",
   "metadata": {},
   "outputs": [],
   "source": [
    "c2 = c_s.quotient(c1, additional_inputs=c1.outputvars)"
   ]
  },
  {
   "cell_type": "code",
   "execution_count": 60,
   "id": "c5d654dd",
   "metadata": {},
   "outputs": [
    {
     "name": "stdout",
     "output_type": "stream",
     "text": [
      "InVars: [<Var y>]\n",
      "OutVars:[<Var u2>]\n",
      "A: true\n",
      "G: -2*u2 + 4999/5000*y <= 0.0, -1*y <= -20.0000000000000\n"
     ]
    }
   ],
   "source": [
    "print(c2)"
   ]
  },
  {
   "cell_type": "code",
   "execution_count": 54,
   "id": "46936e5f",
   "metadata": {},
   "outputs": [
    {
     "data": {
      "text/plain": [
       "0.4999"
      ]
     },
     "execution_count": 54,
     "metadata": {},
     "output_type": "execute_result"
    }
   ],
   "source": [
    "4999/10000"
   ]
  },
  {
   "cell_type": "code",
   "execution_count": null,
   "id": "913f55f8",
   "metadata": {},
   "outputs": [],
   "source": []
  }
 ],
 "metadata": {
  "kernelspec": {
   "display_name": "Python 3 (ipykernel)",
   "language": "python",
   "name": "python3"
  },
  "language_info": {
   "codemirror_mode": {
    "name": "ipython",
    "version": 3
   },
   "file_extension": ".py",
   "mimetype": "text/x-python",
   "name": "python",
   "nbconvert_exporter": "python",
   "pygments_lexer": "ipython3",
   "version": "3.10.8"
  }
 },
 "nbformat": 4,
 "nbformat_minor": 5
}
