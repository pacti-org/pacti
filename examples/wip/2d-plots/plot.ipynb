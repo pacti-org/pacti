{
 "cells": [
  {
   "cell_type": "code",
   "execution_count": 4,
   "metadata": {},
   "outputs": [
    {
     "name": "stdout",
     "output_type": "stream",
     "text": [
      "Contract Sys:\n",
      "InVars: [<Var p1_a>, <Var p1_e>, <Var p2_a>, <Var p2_e>, <Var p4_a>, <Var p4_e>]\n",
      "OutVars:[<Var p5_a>, <Var p5_e>]\n",
      "A: 1*p4_a <= 0.25, 1*p1_a + 1*p2_a <= 8.0\n",
      "G: -1*p1_e + -1*p2_e + -1*p4_e + 1*p5_e <= 0.1875, -1*p4_a + 1*p5_a <= 7.75, -1*p1_a + -1*p2_a + -1*p4_a + 1*p5_a <= 0.0, 1*p5_a <= 7.875\n"
     ]
    }
   ],
   "source": [
    "from numpy import array, eye, ones, vstack, zeros\n",
    "from pypoman import plot_polygon, project_polytope\n",
    "from pacti.terms.polyhedra import PolyhedralContract\n",
    "\n",
    "\n",
    "# From digital_signal_processing/dsp_wl.ipynb\n",
    "# contract_sys = contract1.compose(contract2)\n",
    "# print(\"Contract Sys:\\n\" + str(contract_sys))\n",
    "# Contract Sys:\n",
    "# InVars: [<Var p1_a>, <Var p1_e>, <Var p2_a>, <Var p2_e>, <Var p4_a>, <Var p4_e>]\n",
    "# OutVars:[<Var p5_a>, <Var p5_e>]\n",
    "# A: 1*p4_a <= 0.250000000000000, 1*p1_a + 1*p2_a <= 8.0\n",
    "# G: -1*p1_e + -1*p2_e + -1*p4_e + 1*p5_e <= 0.187500000000000, -1*p4_a + 1*p5_a <= 7.75, -1*p1_a + -1*p2_a + -1*p4_a + 1*p5_a <= 0.0, 1*p5_a <= 7.875\n",
    "contract_sys = PolyhedralContract.from_dict({\n",
    "    \"input_vars\": [\"p1_a\", \"p1_e\", \"p2_a\", \"p2_e\", \"p4_a\", \"p4_e\"],\n",
    "    \"output_vars\": [\"p5_a\", \"p5_e\"],\n",
    "    \"assumptions\": [\n",
    "      {\"coefficients\":{\"p4_a\":1}, \"constant\":0.25},\n",
    "      {\"coefficients\":{\"p1_a\":1, \"p2_a\":1}, \"constant\":8.0}],\n",
    "    \"guarantees\": [\n",
    "      {\"coefficients\":{\"p1_e\":-1, \"p2_e\":-1, \"p4_e\":-1, \"p5_e\":1}, \"constant\":0.1875},\n",
    "      {\"coefficients\":{\"p4_a\":-1, \"p5_a\":1}, \"constant\":7.75},\n",
    "      {\"coefficients\":{\"p1_a\":-1, \"p2_a\":-1, \"p4_a\":-1, \"p5_a\":1}, \"constant\":0.0},\n",
    "      {\"coefficients\":{\"p5_a\":1}, \"constant\":7.875}\n",
    "    ]\n",
    "})\n",
    "print(\"Contract Sys:\\n\" + str(contract_sys))\n"
   ]
  },
  {
   "attachments": {},
   "cell_type": "markdown",
   "metadata": {},
   "source": [
    "Q: How do we derive the pypoman inputs for such a contract?\n",
    "\n",
    "1) do we plot assumptions only or assumptions & constraints?\n",
    "\n",
    "suppose its both.\n",
    "\n",
    "2) the `x` vector corresponds to the input variables or the union of input and output variables.\n",
    "\n",
    "`x = [p1_a, p1_e, p2_a, p2_e, p4_a, p4_e, p5_a, p5_e]`\n",
    "\n",
    "3) Choose `y` as a component of this `x` vector.\n",
    "\n",
    "`y=p5_a`\n",
    "\n",
    "4) apply rewrites for constraints coresponding to equalities\n",
    "\n",
    "None; i.e., no inputs `C,d` for pypoman\n",
    "\n",
    "5) for pypoman, the inputs `A,b` correspond to the matrix of coefficients and the vector of constants respectively.\n",
    "\n",
    "6) Choose `E,f`\n",
    "\n",
    "TODO...\n",
    "\n"
   ]
  },
  {
   "cell_type": "code",
   "execution_count": null,
   "metadata": {},
   "outputs": [],
   "source": [
    "\n",
    "n = 10  # dimension of the original polytope\n",
    "p = 2   # dimension of the projected polytope\n",
    "\n",
    "# Original polytope:\n",
    "# - inequality constraints: \\forall i, |x_i| <= 1\n",
    "# - equality constraint: sum_i x_i = 0\n",
    "A = vstack([+eye(n), -eye(n)])\n",
    "b = ones(2 * n)\n",
    "C = ones(n).reshape((1, n))\n",
    "d = array([0])\n",
    "ineq = (A, b)  # A * x <= b\n",
    "eq = (C, d)    # C * x == d\n",
    "\n",
    "# Projection is proj(x) = [x_0 x_1]\n",
    "E = zeros((p, n))\n",
    "E[0, 0] = 1.\n",
    "E[1, 1] = 1.\n",
    "f = zeros(p)\n",
    "proj = (E, f)  # proj(x) = E * x + f\n",
    "\n",
    "vertices = project_polytope(proj, ineq, eq, method='bretl')"
   ]
  },
  {
   "cell_type": "code",
   "execution_count": 2,
   "metadata": {},
   "outputs": [
    {
     "data": {
      "image/png": "[encoded data removed]",
      "text/plain": [
       "<Figure size 640x480 with 1 Axes>"
      ]
     },
     "metadata": {},
     "output_type": "display_data"
    }
   ],
   "source": [
    "import pylab\n",
    "pylab.ion()\n",
    "pylab.figure()\n",
    "plot_polygon(vertices)"
   ]
  }
 ],
 "metadata": {
  "kernelspec": {
   "display_name": ".venv",
   "language": "python",
   "name": "python3"
  },
  "language_info": {
   "codemirror_mode": {
    "name": "ipython",
    "version": 3
   },
   "file_extension": ".py",
   "mimetype": "text/x-python",
   "name": "python",
   "nbconvert_exporter": "python",
   "pygments_lexer": "ipython3",
   "version": "3.11.0"
  },
  "orig_nbformat": 4,
  "vscode": {
   "interpreter": {
    "hash": "b282b3e35ff361393169c4f355db145ffcb63e574f57c9818c827b7c99ca9fc3"
   }
  }
 },
 "nbformat": 4,
 "nbformat_minor": 2
}
